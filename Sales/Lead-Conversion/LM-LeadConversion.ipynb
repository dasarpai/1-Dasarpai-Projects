{
 "cells": [
  {
   "cell_type": "code",
   "execution_count": 1,
   "metadata": {},
   "outputs": [],
   "source": [
    "# Supress Warnings\n",
    "import warnings\n",
    "warnings.filterwarnings('ignore')"
   ]
  },
  {
   "cell_type": "markdown",
   "metadata": {},
   "source": [
    "### Loading All Required Libraries"
   ]
  },
  {
   "cell_type": "code",
   "execution_count": 2,
   "metadata": {},
   "outputs": [],
   "source": [
    "import numpy as np\n",
    "import pandas as pd\n",
    "from random import sample\n",
    "from numpy.random import uniform\n",
    "from math import isnan\n",
    "\n",
    "#for hopkins statistics\n",
    "from sklearn.neighbors import NearestNeighbors\n",
    "\n",
    "# Library for Visualization\n",
    "import matplotlib.pyplot as plt\n",
    "import seaborn as sns\n",
    "\n",
    "#Library for Scaling\n",
    "from sklearn.preprocessing import StandardScaler\n",
    "\n",
    "#Library for Modeling\n",
    "from sklearn.decomposition import PCA\n",
    "from sklearn.cluster import KMeans\n",
    "\n",
    "#Library for creating Hierarchical Clustering\n",
    "from scipy.cluster.hierarchy import linkage\n",
    "from scipy.cluster.hierarchy import dendrogram\n",
    "from scipy.cluster.hierarchy import cut_tree\n",
    "\n",
    "#for split the dataset for training purpose\n",
    "from sklearn.model_selection import train_test_split\n",
    "\n",
    "# For evaluation purpose\n",
    "from sklearn import metrics\n",
    "from sklearn.metrics import silhouette_score\n",
    "\n",
    "#For prediction purpose\n",
    "from sklearn.linear_model import LogisticRegression"
   ]
  },
  {
   "cell_type": "code",
   "execution_count": 3,
   "metadata": {},
   "outputs": [],
   "source": [
    "sns.set_style(\"white\")\n",
    "%matplotlib inline"
   ]
  },
  {
   "cell_type": "markdown",
   "metadata": {},
   "source": [
    "### Some Important Functions"
   ]
  },
  {
   "cell_type": "code",
   "execution_count": 4,
   "metadata": {},
   "outputs": [],
   "source": [
    "#get hopkins score\n",
    "def hopkins(X):\n",
    "    d = X.shape[1]\n",
    "\n",
    "    n = len(X) # rows\n",
    "    m = int(0.1 * n) \n",
    "    nbrs = NearestNeighbors(n_neighbors=1).fit(X.values)\n",
    " \n",
    "    rand_X = sample(range(0, n, 1), m)\n",
    " \n",
    "    ujd = []\n",
    "    wjd = []\n",
    "    for j in range(0, m):\n",
    "        u_dist, _ = nbrs.kneighbors(uniform(np.amin(X,axis=0),\n",
    "                                            np.amax(X,axis=0),d).reshape(1, -1), 2, return_distance=True)\n",
    "        ujd.append(u_dist[0][1])\n",
    "        w_dist, _ = nbrs.kneighbors(X.iloc[rand_X[j]].values.reshape(1, -1), 2, return_distance=True)\n",
    "        wjd.append(w_dist[0][1])\n",
    " \n",
    "    H = sum(ujd) / (sum(ujd) + sum(wjd))\n",
    "    if isnan(H):\n",
    "        print(ujd, wjd)\n",
    "        H = 0\n",
    " \n",
    "    return H"
   ]
  },
  {
   "cell_type": "code",
   "execution_count": 5,
   "metadata": {},
   "outputs": [],
   "source": [
    "#get hotencoded list of all categories for a given field. \n",
    "#If there is Nan in the field then it is listed first\n",
    "#df name of dataframe, fld- name of cat field for which cat need to be extracted, \n",
    "#hasNull- whether field can have null value or no\n",
    "\n",
    "def getValuesForCat(df, fld, hasNull=True):\n",
    "    lst = list(df[fld].unique())\n",
    "\n",
    "    if hasNull:\n",
    "        lst.remove(np.nan)\n",
    "        lst.insert(0,np.nan)\n",
    "    print (lst,\"\\n\")\n",
    "    print ( np.array(range(len(lst))), \"\\n\")\n",
    "    return df[fld].apply(lambda x: lst.index(x))"
   ]
  },
  {
   "cell_type": "code",
   "execution_count": 6,
   "metadata": {},
   "outputs": [],
   "source": [
    "#List of All Numerical Fields\n",
    "def getNumFields(df):\n",
    "    return df.columns [ ~ (df.dtypes=='object') ]"
   ]
  },
  {
   "cell_type": "markdown",
   "metadata": {},
   "source": [
    "### Understanding Dataset"
   ]
  },
  {
   "cell_type": "code",
   "execution_count": 7,
   "metadata": {},
   "outputs": [],
   "source": [
    "df_lead = pd.read_csv(\"Leads.csv\")"
   ]
  },
  {
   "cell_type": "code",
   "execution_count": 8,
   "metadata": {},
   "outputs": [
    {
     "data": {
      "text/plain": [
       "(9240, 37)"
      ]
     },
     "execution_count": 8,
     "metadata": {},
     "output_type": "execute_result"
    }
   ],
   "source": [
    "df_lead.shape"
   ]
  },
  {
   "cell_type": "code",
   "execution_count": 9,
   "metadata": {},
   "outputs": [
    {
     "data": {
      "text/html": [
       "<div>\n",
       "<style scoped>\n",
       "    .dataframe tbody tr th:only-of-type {\n",
       "        vertical-align: middle;\n",
       "    }\n",
       "\n",
       "    .dataframe tbody tr th {\n",
       "        vertical-align: top;\n",
       "    }\n",
       "\n",
       "    .dataframe thead th {\n",
       "        text-align: right;\n",
       "    }\n",
       "</style>\n",
       "<table border=\"1\" class=\"dataframe\">\n",
       "  <thead>\n",
       "    <tr style=\"text-align: right;\">\n",
       "      <th></th>\n",
       "      <th>Prospect ID</th>\n",
       "      <th>Lead Number</th>\n",
       "      <th>Lead Origin</th>\n",
       "      <th>Lead Source</th>\n",
       "      <th>Do Not Email</th>\n",
       "      <th>Do Not Call</th>\n",
       "      <th>Converted</th>\n",
       "      <th>TotalVisits</th>\n",
       "      <th>Total Time Spent on Website</th>\n",
       "      <th>Page Views Per Visit</th>\n",
       "      <th>...</th>\n",
       "      <th>Get updates on DM Content</th>\n",
       "      <th>Lead Profile</th>\n",
       "      <th>City</th>\n",
       "      <th>Asymmetrique Activity Index</th>\n",
       "      <th>Asymmetrique Profile Index</th>\n",
       "      <th>Asymmetrique Activity Score</th>\n",
       "      <th>Asymmetrique Profile Score</th>\n",
       "      <th>I agree to pay the amount through cheque</th>\n",
       "      <th>A free copy of Mastering The Interview</th>\n",
       "      <th>Last Notable Activity</th>\n",
       "    </tr>\n",
       "  </thead>\n",
       "  <tbody>\n",
       "    <tr>\n",
       "      <th>0</th>\n",
       "      <td>7927b2df-8bba-4d29-b9a2-b6e0beafe620</td>\n",
       "      <td>660737</td>\n",
       "      <td>API</td>\n",
       "      <td>Olark Chat</td>\n",
       "      <td>No</td>\n",
       "      <td>No</td>\n",
       "      <td>0</td>\n",
       "      <td>0.0</td>\n",
       "      <td>0</td>\n",
       "      <td>0.0</td>\n",
       "      <td>...</td>\n",
       "      <td>No</td>\n",
       "      <td>Select</td>\n",
       "      <td>Select</td>\n",
       "      <td>02.Medium</td>\n",
       "      <td>02.Medium</td>\n",
       "      <td>15.0</td>\n",
       "      <td>15.0</td>\n",
       "      <td>No</td>\n",
       "      <td>No</td>\n",
       "      <td>Modified</td>\n",
       "    </tr>\n",
       "  </tbody>\n",
       "</table>\n",
       "<p>1 rows × 37 columns</p>\n",
       "</div>"
      ],
      "text/plain": [
       "                            Prospect ID  Lead Number Lead Origin Lead Source  \\\n",
       "0  7927b2df-8bba-4d29-b9a2-b6e0beafe620       660737         API  Olark Chat   \n",
       "\n",
       "  Do Not Email Do Not Call  Converted  TotalVisits  \\\n",
       "0           No          No          0          0.0   \n",
       "\n",
       "   Total Time Spent on Website  Page Views Per Visit          ...           \\\n",
       "0                            0                   0.0          ...            \n",
       "\n",
       "  Get updates on DM Content Lead Profile    City Asymmetrique Activity Index  \\\n",
       "0                        No       Select  Select                   02.Medium   \n",
       "\n",
       "  Asymmetrique Profile Index Asymmetrique Activity Score  \\\n",
       "0                  02.Medium                        15.0   \n",
       "\n",
       "  Asymmetrique Profile Score I agree to pay the amount through cheque  \\\n",
       "0                       15.0                                       No   \n",
       "\n",
       "  A free copy of Mastering The Interview Last Notable Activity  \n",
       "0                                     No              Modified  \n",
       "\n",
       "[1 rows x 37 columns]"
      ]
     },
     "execution_count": 9,
     "metadata": {},
     "output_type": "execute_result"
    }
   ],
   "source": [
    "df_lead.head(1)"
   ]
  },
  {
   "cell_type": "raw",
   "metadata": {},
   "source": [
    "#If need read the dictionary terms from this place\n",
    "dd = pd.read_csv(\"Leads-Data-Dictionary.csv\")\n",
    "i=0\n",
    "while i < dd.shape[0]:\n",
    "    print (dd.Variables[i],\": \", dd.Description[i], '\\n')\n",
    "    i+=1"
   ]
  },
  {
   "cell_type": "code",
   "execution_count": 10,
   "metadata": {},
   "outputs": [
    {
     "name": "stdout",
     "output_type": "stream",
     "text": [
      "39.0 %\n"
     ]
    }
   ],
   "source": [
    "#Converted Lead %\n",
    "Old_Conversion_Rate = round(len(df_lead.Converted[ df_lead.Converted==1])/len(df_lead)*100,0)\n",
    "print (Old_Conversion_Rate, \"%\")"
   ]
  },
  {
   "cell_type": "code",
   "execution_count": 11,
   "metadata": {},
   "outputs": [
    {
     "data": {
      "text/html": [
       "<div>\n",
       "<style scoped>\n",
       "    .dataframe tbody tr th:only-of-type {\n",
       "        vertical-align: middle;\n",
       "    }\n",
       "\n",
       "    .dataframe tbody tr th {\n",
       "        vertical-align: top;\n",
       "    }\n",
       "\n",
       "    .dataframe thead th {\n",
       "        text-align: right;\n",
       "    }\n",
       "</style>\n",
       "<table border=\"1\" class=\"dataframe\">\n",
       "  <thead>\n",
       "    <tr style=\"text-align: right;\">\n",
       "      <th></th>\n",
       "      <th>Null %</th>\n",
       "      <th>Field Type</th>\n",
       "    </tr>\n",
       "  </thead>\n",
       "  <tbody>\n",
       "    <tr>\n",
       "      <th>Prospect ID</th>\n",
       "      <td>0.00</td>\n",
       "      <td>object</td>\n",
       "    </tr>\n",
       "    <tr>\n",
       "      <th>Lead Number</th>\n",
       "      <td>0.00</td>\n",
       "      <td>int64</td>\n",
       "    </tr>\n",
       "    <tr>\n",
       "      <th>Lead Origin</th>\n",
       "      <td>0.00</td>\n",
       "      <td>object</td>\n",
       "    </tr>\n",
       "    <tr>\n",
       "      <th>Lead Source</th>\n",
       "      <td>0.39</td>\n",
       "      <td>object</td>\n",
       "    </tr>\n",
       "    <tr>\n",
       "      <th>Do Not Email</th>\n",
       "      <td>0.00</td>\n",
       "      <td>object</td>\n",
       "    </tr>\n",
       "    <tr>\n",
       "      <th>Do Not Call</th>\n",
       "      <td>0.00</td>\n",
       "      <td>object</td>\n",
       "    </tr>\n",
       "    <tr>\n",
       "      <th>Converted</th>\n",
       "      <td>0.00</td>\n",
       "      <td>int64</td>\n",
       "    </tr>\n",
       "    <tr>\n",
       "      <th>TotalVisits</th>\n",
       "      <td>1.48</td>\n",
       "      <td>float64</td>\n",
       "    </tr>\n",
       "    <tr>\n",
       "      <th>Total Time Spent on Website</th>\n",
       "      <td>0.00</td>\n",
       "      <td>int64</td>\n",
       "    </tr>\n",
       "    <tr>\n",
       "      <th>Page Views Per Visit</th>\n",
       "      <td>1.48</td>\n",
       "      <td>float64</td>\n",
       "    </tr>\n",
       "    <tr>\n",
       "      <th>Last Activity</th>\n",
       "      <td>1.11</td>\n",
       "      <td>object</td>\n",
       "    </tr>\n",
       "    <tr>\n",
       "      <th>Country</th>\n",
       "      <td>26.63</td>\n",
       "      <td>object</td>\n",
       "    </tr>\n",
       "    <tr>\n",
       "      <th>Specialization</th>\n",
       "      <td>15.56</td>\n",
       "      <td>object</td>\n",
       "    </tr>\n",
       "    <tr>\n",
       "      <th>How did you hear about X Education</th>\n",
       "      <td>23.89</td>\n",
       "      <td>object</td>\n",
       "    </tr>\n",
       "    <tr>\n",
       "      <th>What is your current occupation</th>\n",
       "      <td>29.11</td>\n",
       "      <td>object</td>\n",
       "    </tr>\n",
       "    <tr>\n",
       "      <th>What matters most to you in choosing a course</th>\n",
       "      <td>29.32</td>\n",
       "      <td>object</td>\n",
       "    </tr>\n",
       "    <tr>\n",
       "      <th>Search</th>\n",
       "      <td>0.00</td>\n",
       "      <td>object</td>\n",
       "    </tr>\n",
       "    <tr>\n",
       "      <th>Magazine</th>\n",
       "      <td>0.00</td>\n",
       "      <td>object</td>\n",
       "    </tr>\n",
       "    <tr>\n",
       "      <th>Newspaper Article</th>\n",
       "      <td>0.00</td>\n",
       "      <td>object</td>\n",
       "    </tr>\n",
       "    <tr>\n",
       "      <th>X Education Forums</th>\n",
       "      <td>0.00</td>\n",
       "      <td>object</td>\n",
       "    </tr>\n",
       "    <tr>\n",
       "      <th>Newspaper</th>\n",
       "      <td>0.00</td>\n",
       "      <td>object</td>\n",
       "    </tr>\n",
       "    <tr>\n",
       "      <th>Digital Advertisement</th>\n",
       "      <td>0.00</td>\n",
       "      <td>object</td>\n",
       "    </tr>\n",
       "    <tr>\n",
       "      <th>Through Recommendations</th>\n",
       "      <td>0.00</td>\n",
       "      <td>object</td>\n",
       "    </tr>\n",
       "    <tr>\n",
       "      <th>Receive More Updates About Our Courses</th>\n",
       "      <td>0.00</td>\n",
       "      <td>object</td>\n",
       "    </tr>\n",
       "    <tr>\n",
       "      <th>Tags</th>\n",
       "      <td>36.29</td>\n",
       "      <td>object</td>\n",
       "    </tr>\n",
       "    <tr>\n",
       "      <th>Lead Quality</th>\n",
       "      <td>51.59</td>\n",
       "      <td>object</td>\n",
       "    </tr>\n",
       "    <tr>\n",
       "      <th>Update me on Supply Chain Content</th>\n",
       "      <td>0.00</td>\n",
       "      <td>object</td>\n",
       "    </tr>\n",
       "    <tr>\n",
       "      <th>Get updates on DM Content</th>\n",
       "      <td>0.00</td>\n",
       "      <td>object</td>\n",
       "    </tr>\n",
       "    <tr>\n",
       "      <th>Lead Profile</th>\n",
       "      <td>29.32</td>\n",
       "      <td>object</td>\n",
       "    </tr>\n",
       "    <tr>\n",
       "      <th>City</th>\n",
       "      <td>15.37</td>\n",
       "      <td>object</td>\n",
       "    </tr>\n",
       "    <tr>\n",
       "      <th>Asymmetrique Activity Index</th>\n",
       "      <td>45.65</td>\n",
       "      <td>object</td>\n",
       "    </tr>\n",
       "    <tr>\n",
       "      <th>Asymmetrique Profile Index</th>\n",
       "      <td>45.65</td>\n",
       "      <td>object</td>\n",
       "    </tr>\n",
       "    <tr>\n",
       "      <th>Asymmetrique Activity Score</th>\n",
       "      <td>45.65</td>\n",
       "      <td>float64</td>\n",
       "    </tr>\n",
       "    <tr>\n",
       "      <th>Asymmetrique Profile Score</th>\n",
       "      <td>45.65</td>\n",
       "      <td>float64</td>\n",
       "    </tr>\n",
       "    <tr>\n",
       "      <th>I agree to pay the amount through cheque</th>\n",
       "      <td>0.00</td>\n",
       "      <td>object</td>\n",
       "    </tr>\n",
       "    <tr>\n",
       "      <th>A free copy of Mastering The Interview</th>\n",
       "      <td>0.00</td>\n",
       "      <td>object</td>\n",
       "    </tr>\n",
       "    <tr>\n",
       "      <th>Last Notable Activity</th>\n",
       "      <td>0.00</td>\n",
       "      <td>object</td>\n",
       "    </tr>\n",
       "  </tbody>\n",
       "</table>\n",
       "</div>"
      ],
      "text/plain": [
       "                                               Null % Field Type\n",
       "Prospect ID                                      0.00     object\n",
       "Lead Number                                      0.00      int64\n",
       "Lead Origin                                      0.00     object\n",
       "Lead Source                                      0.39     object\n",
       "Do Not Email                                     0.00     object\n",
       "Do Not Call                                      0.00     object\n",
       "Converted                                        0.00      int64\n",
       "TotalVisits                                      1.48    float64\n",
       "Total Time Spent on Website                      0.00      int64\n",
       "Page Views Per Visit                             1.48    float64\n",
       "Last Activity                                    1.11     object\n",
       "Country                                         26.63     object\n",
       "Specialization                                  15.56     object\n",
       "How did you hear about X Education              23.89     object\n",
       "What is your current occupation                 29.11     object\n",
       "What matters most to you in choosing a course   29.32     object\n",
       "Search                                           0.00     object\n",
       "Magazine                                         0.00     object\n",
       "Newspaper Article                                0.00     object\n",
       "X Education Forums                               0.00     object\n",
       "Newspaper                                        0.00     object\n",
       "Digital Advertisement                            0.00     object\n",
       "Through Recommendations                          0.00     object\n",
       "Receive More Updates About Our Courses           0.00     object\n",
       "Tags                                            36.29     object\n",
       "Lead Quality                                    51.59     object\n",
       "Update me on Supply Chain Content                0.00     object\n",
       "Get updates on DM Content                        0.00     object\n",
       "Lead Profile                                    29.32     object\n",
       "City                                            15.37     object\n",
       "Asymmetrique Activity Index                     45.65     object\n",
       "Asymmetrique Profile Index                      45.65     object\n",
       "Asymmetrique Activity Score                     45.65    float64\n",
       "Asymmetrique Profile Score                      45.65    float64\n",
       "I agree to pay the amount through cheque         0.00     object\n",
       "A free copy of Mastering The Interview           0.00     object\n",
       "Last Notable Activity                            0.00     object"
      ]
     },
     "execution_count": 11,
     "metadata": {},
     "output_type": "execute_result"
    }
   ],
   "source": [
    "# Check Null values in any column, dtype in dataset\n",
    "df=pd.DataFrame( {\"Null %\": round(df_lead.isna().sum(axis=0)/len(df_lead)*100,2),\n",
    "                  \"Field Type\": df_lead.dtypes} ) \n",
    "df"
   ]
  },
  {
   "cell_type": "markdown",
   "metadata": {},
   "source": [
    "#### Idetify Duplicate Information Column"
   ]
  },
  {
   "cell_type": "code",
   "execution_count": 12,
   "metadata": {},
   "outputs": [
    {
     "name": "stdout",
     "output_type": "stream",
     "text": [
      "9240\n",
      "9240\n"
     ]
    }
   ],
   "source": [
    "print (len(df_lead['Prospect ID'].unique()))\n",
    "print (len(df_lead['Lead Number'].unique()))\n",
    "\n",
    "#Drop the \"Prospect ID\" it is duplicate and of no value.\n",
    "df_lead =df_lead.drop(columns=[\"Prospect ID\"], axis=0)"
   ]
  },
  {
   "cell_type": "code",
   "execution_count": 13,
   "metadata": {},
   "outputs": [],
   "source": [
    "#Make a copy of dataset before null value treatment\n",
    "df_lead_org=df_lead.copy()"
   ]
  },
  {
   "cell_type": "code",
   "execution_count": null,
   "metadata": {},
   "outputs": [],
   "source": []
  },
  {
   "cell_type": "markdown",
   "metadata": {},
   "source": [
    "### Null Value Handling for Numerical Fields"
   ]
  },
  {
   "cell_type": "code",
   "execution_count": null,
   "metadata": {},
   "outputs": [],
   "source": []
  },
  {
   "cell_type": "code",
   "execution_count": 14,
   "metadata": {},
   "outputs": [],
   "source": [
    "#num_flds1 containts all numeric fields in out Dataset\n",
    "num_flds1 = list( getNumFields(df_lead) )\n",
    "\n",
    "#num_flds2 containts those fields which need to be scaled\n",
    "num_flds2=num_flds1.copy()\n",
    "num_flds2.remove(\"Lead Number\")\n",
    "num_flds2.remove(\"Converted\")\n",
    "\n",
    "#num_flds containts those fields which need to be scaled in first round\n",
    "num_flds=num_flds2.copy()\n",
    "num_flds.remove(\"Asymmetrique Activity Score\")\n",
    "num_flds.remove(\"Asymmetrique Profile Score\")\n",
    "#Above 2 score fields are not being scaled in first round because they depends upon index\n",
    "#so if we impute corresponding index fields first then then impute score based on the index \n",
    "#that will be the better way."
   ]
  },
  {
   "cell_type": "code",
   "execution_count": 15,
   "metadata": {},
   "outputs": [
    {
     "name": "stdout",
     "output_type": "stream",
     "text": [
      "['Lead Number', 'Converted', 'TotalVisits', 'Total Time Spent on Website', 'Page Views Per Visit', 'Asymmetrique Activity Score', 'Asymmetrique Profile Score']\n",
      "['TotalVisits', 'Total Time Spent on Website', 'Page Views Per Visit', 'Asymmetrique Activity Score', 'Asymmetrique Profile Score']\n",
      "['TotalVisits', 'Total Time Spent on Website', 'Page Views Per Visit']\n"
     ]
    }
   ],
   "source": [
    "print (num_flds1)\n",
    "print (num_flds2)\n",
    "print (num_flds)"
   ]
  },
  {
   "cell_type": "code",
   "execution_count": 16,
   "metadata": {},
   "outputs": [
    {
     "data": {
      "text/html": [
       "<div>\n",
       "<style scoped>\n",
       "    .dataframe tbody tr th:only-of-type {\n",
       "        vertical-align: middle;\n",
       "    }\n",
       "\n",
       "    .dataframe tbody tr th {\n",
       "        vertical-align: top;\n",
       "    }\n",
       "\n",
       "    .dataframe thead th {\n",
       "        text-align: right;\n",
       "    }\n",
       "</style>\n",
       "<table border=\"1\" class=\"dataframe\">\n",
       "  <thead>\n",
       "    <tr style=\"text-align: right;\">\n",
       "      <th></th>\n",
       "      <th>TotalVisits</th>\n",
       "      <th>Total Time Spent on Website</th>\n",
       "      <th>Page Views Per Visit</th>\n",
       "    </tr>\n",
       "  </thead>\n",
       "  <tbody>\n",
       "    <tr>\n",
       "      <th>count</th>\n",
       "      <td>9103.000000</td>\n",
       "      <td>9240.000000</td>\n",
       "      <td>9103.000000</td>\n",
       "    </tr>\n",
       "    <tr>\n",
       "      <th>mean</th>\n",
       "      <td>3.445238</td>\n",
       "      <td>487.698268</td>\n",
       "      <td>2.362820</td>\n",
       "    </tr>\n",
       "    <tr>\n",
       "      <th>std</th>\n",
       "      <td>4.854853</td>\n",
       "      <td>548.021466</td>\n",
       "      <td>2.161418</td>\n",
       "    </tr>\n",
       "    <tr>\n",
       "      <th>min</th>\n",
       "      <td>0.000000</td>\n",
       "      <td>0.000000</td>\n",
       "      <td>0.000000</td>\n",
       "    </tr>\n",
       "    <tr>\n",
       "      <th>25%</th>\n",
       "      <td>1.000000</td>\n",
       "      <td>12.000000</td>\n",
       "      <td>1.000000</td>\n",
       "    </tr>\n",
       "    <tr>\n",
       "      <th>50%</th>\n",
       "      <td>3.000000</td>\n",
       "      <td>248.000000</td>\n",
       "      <td>2.000000</td>\n",
       "    </tr>\n",
       "    <tr>\n",
       "      <th>75%</th>\n",
       "      <td>5.000000</td>\n",
       "      <td>936.000000</td>\n",
       "      <td>3.000000</td>\n",
       "    </tr>\n",
       "    <tr>\n",
       "      <th>max</th>\n",
       "      <td>251.000000</td>\n",
       "      <td>2272.000000</td>\n",
       "      <td>55.000000</td>\n",
       "    </tr>\n",
       "  </tbody>\n",
       "</table>\n",
       "</div>"
      ],
      "text/plain": [
       "       TotalVisits  Total Time Spent on Website  Page Views Per Visit\n",
       "count  9103.000000                  9240.000000           9103.000000\n",
       "mean      3.445238                   487.698268              2.362820\n",
       "std       4.854853                   548.021466              2.161418\n",
       "min       0.000000                     0.000000              0.000000\n",
       "25%       1.000000                    12.000000              1.000000\n",
       "50%       3.000000                   248.000000              2.000000\n",
       "75%       5.000000                   936.000000              3.000000\n",
       "max     251.000000                  2272.000000             55.000000"
      ]
     },
     "execution_count": 16,
     "metadata": {},
     "output_type": "execute_result"
    }
   ],
   "source": [
    "df_lead[num_flds].describe()"
   ]
  },
  {
   "cell_type": "code",
   "execution_count": 17,
   "metadata": {},
   "outputs": [
    {
     "data": {
      "text/plain": [
       "TotalVisits                    1.482684\n",
       "Total Time Spent on Website    0.000000\n",
       "Page Views Per Visit           1.482684\n",
       "dtype: float64"
      ]
     },
     "execution_count": 17,
     "metadata": {},
     "output_type": "execute_result"
    }
   ],
   "source": [
    "#Null values in numeric fields (which we will scaled first)\n",
    "df_lead[num_flds].isna().sum()/len(df_lead[num_flds])*100"
   ]
  },
  {
   "cell_type": "code",
   "execution_count": 18,
   "metadata": {},
   "outputs": [
    {
     "data": {
      "text/plain": [
       "array([  0.,   5.,   2.,   1.,   4.,   8.,  11.,   6.,   3.,   7.,  13.,\n",
       "        17.,  nan,   9.,  12.,  10.,  16.,  14.,  21.,  15.,  22.,  19.,\n",
       "        18.,  20.,  43.,  30.,  23.,  55., 141.,  25.,  27.,  29.,  24.,\n",
       "        28.,  26.,  74.,  41.,  54., 115., 251.,  32.,  42.])"
      ]
     },
     "execution_count": 18,
     "metadata": {},
     "output_type": "execute_result"
    }
   ],
   "source": [
    "f='TotalVisits'\n",
    "df_lead[f].unique()"
   ]
  },
  {
   "cell_type": "code",
   "execution_count": 19,
   "metadata": {},
   "outputs": [
    {
     "name": "stdout",
     "output_type": "stream",
     "text": [
      "Mean value for TotalVisits 3\n"
     ]
    }
   ],
   "source": [
    "#Impute TotalVisits Null Values with Mean\n",
    "print (\"Mean value for\", f, int(df_lead[f].mean()))\n",
    "df_lead[f] [ df_lead[f].isna()] = int(df_lead[f].mean())"
   ]
  },
  {
   "cell_type": "code",
   "execution_count": 20,
   "metadata": {},
   "outputs": [
    {
     "data": {
      "text/plain": [
       "array([ 0.  ,  2.5 ,  2.  ,  1.  ,  4.  ,  8.  ,  2.67, 11.  ,  5.  ,\n",
       "        6.  ,  3.  ,  1.33,  1.5 ,  3.5 ,  7.  ,  2.33, 13.  ,  8.5 ,\n",
       "        5.5 ,  1.67,   nan,  4.5 ,  3.33, 16.  , 12.  ,  1.71,  1.8 ,\n",
       "        6.5 ,  4.33, 14.  ,  3.4 , 10.  ,  1.25,  1.75,  2.63, 15.  ,\n",
       "        2.25,  3.67,  1.43,  9.  ,  2.6 ,  4.75,  1.27,  3.25,  5.33,\n",
       "        2.57,  2.17,  2.75,  2.8 ,  2.2 ,  2.86,  3.91,  1.4 ,  5.67,\n",
       "        3.2 ,  1.38,  2.09,  2.4 , 55.  ,  5.25,  6.71,  3.57,  2.22,\n",
       "        1.83,  3.6 ,  1.2 ,  1.57,  1.56,  5.4 ,  4.25,  1.31,  1.6 ,\n",
       "        2.9 ,  1.23,  1.78,  3.83,  7.5 ,  1.14,  2.71,  1.45,  2.38,\n",
       "        1.86,  2.29,  1.21, 12.33,  3.43,  2.56,  6.33,  1.64,  8.21,\n",
       "        4.4 ,  3.17,  8.33,  1.48,  1.22, 24.  ,  3.75,  6.67,  1.54,\n",
       "        2.13,  2.14,  2.45,  3.29,  4.17,  1.63,  3.38,  1.17, 14.5 ,\n",
       "        3.8 ,  1.19,  3.82,  2.83,  1.93, 11.5 ,  2.08])"
      ]
     },
     "execution_count": 20,
     "metadata": {},
     "output_type": "execute_result"
    }
   ],
   "source": [
    "f='Page Views Per Visit'\n",
    "df_lead[f].unique()"
   ]
  },
  {
   "cell_type": "code",
   "execution_count": 21,
   "metadata": {},
   "outputs": [
    {
     "name": "stdout",
     "output_type": "stream",
     "text": [
      "Mean value for Page Views Per Visit 2.36\n"
     ]
    }
   ],
   "source": [
    "#Impute 'Page Views Per Visit' Null Values with Mean\n",
    "print (\"Mean value for\", f, round(df_lead[f].mean(),2))\n",
    "df_lead[f] [ df_lead[f].isna()] = round(df_lead[f].mean(),2)"
   ]
  },
  {
   "cell_type": "code",
   "execution_count": null,
   "metadata": {},
   "outputs": [],
   "source": []
  },
  {
   "cell_type": "code",
   "execution_count": 22,
   "metadata": {},
   "outputs": [],
   "source": [
    "#df_lead_p1  will be used in future steps to extract the below fields\n",
    "f=['Lead Number','Converted','Asymmetrique Activity Score','Asymmetrique Profile Score']\n",
    "df_lead_p1=df_lead[f]\n",
    "\n",
    "#drop above identified fields from the dataset as they should NOT be scaled\n",
    "df_lead.drop(columns=f,inplace=True)"
   ]
  },
  {
   "cell_type": "code",
   "execution_count": 23,
   "metadata": {},
   "outputs": [
    {
     "data": {
      "text/plain": [
       "TotalVisits                    0.0\n",
       "Total Time Spent on Website    0.0\n",
       "Page Views Per Visit           0.0\n",
       "dtype: float64"
      ]
     },
     "execution_count": 23,
     "metadata": {},
     "output_type": "execute_result"
    }
   ],
   "source": [
    "#Null values in numeric fields. There is no null value in identified numeric fields.\n",
    "df_lead[num_flds].isna().sum()/len(df_lead)*100"
   ]
  },
  {
   "cell_type": "code",
   "execution_count": 24,
   "metadata": {},
   "outputs": [
    {
     "name": "stdout",
     "output_type": "stream",
     "text": [
      "Number of fields in dataset  32\n"
     ]
    }
   ],
   "source": [
    "print (\"Number of fields in dataset \", df_lead.shape[1])"
   ]
  },
  {
   "cell_type": "markdown",
   "metadata": {},
   "source": [
    "### Cleaning Categorical Variables"
   ]
  },
  {
   "cell_type": "code",
   "execution_count": 25,
   "metadata": {},
   "outputs": [],
   "source": [
    "#This function returns the list of All Categorical Fields in dataset format.\n",
    "#df - Name of the dataframe, WithOneValue- If you want those cat fields which has 99+ same information in the field\n",
    "#NullValueFields- If we want only those fields which have null values - pass \"Yes\", \n",
    "#If we want only those fields which has no null values- Pass \"No\",\n",
    "#if we want all the fields then pass \"All\"\n",
    "def getCatFields(df, WithOneValue=False, NullValueFields=\"All\"):\n",
    "    object_flds=df.columns [ df.dtypes=='object']\n",
    "\n",
    "\n",
    "    #Name of Categorical Variable, Mode of Categorical variable, # of Categories, % of Mode Category\n",
    "    flds=[]\n",
    "    for o in object_flds:\n",
    "        flds.append ( [ o,                         \n",
    "                        len(df[o].astype(\"category\").value_counts()),\n",
    "                        df[o].astype(\"category\").value_counts().index[0],\n",
    "                        round(max(df[o].astype(\"category\").value_counts()/len(df))*100,2),\n",
    "                        round(df[o].isna().sum()/len(df)*100,2)\n",
    "                      ] )\n",
    "    flds.sort()\n",
    "\n",
    "    df1 = pd.DataFrame( flds, columns=[\"Categorical_FieldName\",\n",
    "                                       \"# of Categories\",\n",
    "                                       \"Mode_of_Category_Field\",\n",
    "                                       \"Percent_of_Mode\",\n",
    "                                       \"Null%\"] )\n",
    "    if WithOneValue:\n",
    "        df1 = df1[ df1.Percent_of_Mode>99]\n",
    "    \n",
    "    if NullValueFields==\"Yes\":\n",
    "        df1 = df1[ df1[\"Null%\"]>0]\n",
    "    elif NullValueFields==\"No\":\n",
    "        df1 = df1[ df1[\"Null%\"]==0]\n",
    "        \n",
    "    return df1\n"
   ]
  },
  {
   "cell_type": "markdown",
   "metadata": {},
   "source": [
    "#### Handle Columns which has same  information for all the records"
   ]
  },
  {
   "cell_type": "code",
   "execution_count": 26,
   "metadata": {},
   "outputs": [
    {
     "data": {
      "text/html": [
       "<div>\n",
       "<style scoped>\n",
       "    .dataframe tbody tr th:only-of-type {\n",
       "        vertical-align: middle;\n",
       "    }\n",
       "\n",
       "    .dataframe tbody tr th {\n",
       "        vertical-align: top;\n",
       "    }\n",
       "\n",
       "    .dataframe thead th {\n",
       "        text-align: right;\n",
       "    }\n",
       "</style>\n",
       "<table border=\"1\" class=\"dataframe\">\n",
       "  <thead>\n",
       "    <tr style=\"text-align: right;\">\n",
       "      <th></th>\n",
       "      <th>Categorical_FieldName</th>\n",
       "      <th># of Categories</th>\n",
       "      <th>Mode_of_Category_Field</th>\n",
       "      <th>Percent_of_Mode</th>\n",
       "      <th>Null%</th>\n",
       "    </tr>\n",
       "  </thead>\n",
       "  <tbody>\n",
       "    <tr>\n",
       "      <th>5</th>\n",
       "      <td>Digital Advertisement</td>\n",
       "      <td>2</td>\n",
       "      <td>No</td>\n",
       "      <td>99.96</td>\n",
       "      <td>0.0</td>\n",
       "    </tr>\n",
       "    <tr>\n",
       "      <th>6</th>\n",
       "      <td>Do Not Call</td>\n",
       "      <td>2</td>\n",
       "      <td>No</td>\n",
       "      <td>99.98</td>\n",
       "      <td>0.0</td>\n",
       "    </tr>\n",
       "    <tr>\n",
       "      <th>8</th>\n",
       "      <td>Get updates on DM Content</td>\n",
       "      <td>1</td>\n",
       "      <td>No</td>\n",
       "      <td>100.00</td>\n",
       "      <td>0.0</td>\n",
       "    </tr>\n",
       "    <tr>\n",
       "      <th>10</th>\n",
       "      <td>I agree to pay the amount through cheque</td>\n",
       "      <td>1</td>\n",
       "      <td>No</td>\n",
       "      <td>100.00</td>\n",
       "      <td>0.0</td>\n",
       "    </tr>\n",
       "    <tr>\n",
       "      <th>17</th>\n",
       "      <td>Magazine</td>\n",
       "      <td>1</td>\n",
       "      <td>No</td>\n",
       "      <td>100.00</td>\n",
       "      <td>0.0</td>\n",
       "    </tr>\n",
       "    <tr>\n",
       "      <th>18</th>\n",
       "      <td>Newspaper</td>\n",
       "      <td>2</td>\n",
       "      <td>No</td>\n",
       "      <td>99.99</td>\n",
       "      <td>0.0</td>\n",
       "    </tr>\n",
       "    <tr>\n",
       "      <th>19</th>\n",
       "      <td>Newspaper Article</td>\n",
       "      <td>2</td>\n",
       "      <td>No</td>\n",
       "      <td>99.98</td>\n",
       "      <td>0.0</td>\n",
       "    </tr>\n",
       "    <tr>\n",
       "      <th>20</th>\n",
       "      <td>Receive More Updates About Our Courses</td>\n",
       "      <td>1</td>\n",
       "      <td>No</td>\n",
       "      <td>100.00</td>\n",
       "      <td>0.0</td>\n",
       "    </tr>\n",
       "    <tr>\n",
       "      <th>21</th>\n",
       "      <td>Search</td>\n",
       "      <td>2</td>\n",
       "      <td>No</td>\n",
       "      <td>99.85</td>\n",
       "      <td>0.0</td>\n",
       "    </tr>\n",
       "    <tr>\n",
       "      <th>24</th>\n",
       "      <td>Through Recommendations</td>\n",
       "      <td>2</td>\n",
       "      <td>No</td>\n",
       "      <td>99.92</td>\n",
       "      <td>0.0</td>\n",
       "    </tr>\n",
       "    <tr>\n",
       "      <th>25</th>\n",
       "      <td>Update me on Supply Chain Content</td>\n",
       "      <td>1</td>\n",
       "      <td>No</td>\n",
       "      <td>100.00</td>\n",
       "      <td>0.0</td>\n",
       "    </tr>\n",
       "    <tr>\n",
       "      <th>28</th>\n",
       "      <td>X Education Forums</td>\n",
       "      <td>2</td>\n",
       "      <td>No</td>\n",
       "      <td>99.99</td>\n",
       "      <td>0.0</td>\n",
       "    </tr>\n",
       "  </tbody>\n",
       "</table>\n",
       "</div>"
      ],
      "text/plain": [
       "                       Categorical_FieldName  # of Categories  \\\n",
       "5                      Digital Advertisement                2   \n",
       "6                                Do Not Call                2   \n",
       "8                  Get updates on DM Content                1   \n",
       "10  I agree to pay the amount through cheque                1   \n",
       "17                                  Magazine                1   \n",
       "18                                 Newspaper                2   \n",
       "19                         Newspaper Article                2   \n",
       "20    Receive More Updates About Our Courses                1   \n",
       "21                                    Search                2   \n",
       "24                   Through Recommendations                2   \n",
       "25         Update me on Supply Chain Content                1   \n",
       "28                        X Education Forums                2   \n",
       "\n",
       "   Mode_of_Category_Field  Percent_of_Mode  Null%  \n",
       "5                      No            99.96    0.0  \n",
       "6                      No            99.98    0.0  \n",
       "8                      No           100.00    0.0  \n",
       "10                     No           100.00    0.0  \n",
       "17                     No           100.00    0.0  \n",
       "18                     No            99.99    0.0  \n",
       "19                     No            99.98    0.0  \n",
       "20                     No           100.00    0.0  \n",
       "21                     No            99.85    0.0  \n",
       "24                     No            99.92    0.0  \n",
       "25                     No           100.00    0.0  \n",
       "28                     No            99.99    0.0  "
      ]
     },
     "execution_count": 26,
     "metadata": {},
     "output_type": "execute_result"
    }
   ],
   "source": [
    "#Identify all the fields in dataset which has 99+ % same information in the columns\n",
    "df_temp= getCatFields(df_lead, WithOneValue=True)\n",
    "df_temp"
   ]
  },
  {
   "cell_type": "code",
   "execution_count": 27,
   "metadata": {},
   "outputs": [
    {
     "name": "stdout",
     "output_type": "stream",
     "text": [
      "Number of fields dropped 12\n",
      "Number of fields in dataset  20\n"
     ]
    }
   ],
   "source": [
    "#drop these columns which has same information for all the records\n",
    "fld= list(df_temp.Categorical_FieldName)\n",
    "df_lead = df_lead.drop(columns=fld)\n",
    "print (\"Number of fields dropped\", len(fld))\n",
    "print (\"Number of fields in dataset \", df_lead.shape[1])"
   ]
  },
  {
   "cell_type": "code",
   "execution_count": 28,
   "metadata": {},
   "outputs": [
    {
     "data": {
      "text/html": [
       "<div>\n",
       "<style scoped>\n",
       "    .dataframe tbody tr th:only-of-type {\n",
       "        vertical-align: middle;\n",
       "    }\n",
       "\n",
       "    .dataframe tbody tr th {\n",
       "        vertical-align: top;\n",
       "    }\n",
       "\n",
       "    .dataframe thead th {\n",
       "        text-align: right;\n",
       "    }\n",
       "</style>\n",
       "<table border=\"1\" class=\"dataframe\">\n",
       "  <thead>\n",
       "    <tr style=\"text-align: right;\">\n",
       "      <th></th>\n",
       "      <th>Lead Origin</th>\n",
       "      <th>Lead Source</th>\n",
       "      <th>Do Not Email</th>\n",
       "      <th>TotalVisits</th>\n",
       "      <th>Total Time Spent on Website</th>\n",
       "      <th>Page Views Per Visit</th>\n",
       "      <th>Last Activity</th>\n",
       "      <th>Country</th>\n",
       "      <th>Specialization</th>\n",
       "      <th>How did you hear about X Education</th>\n",
       "      <th>What is your current occupation</th>\n",
       "      <th>What matters most to you in choosing a course</th>\n",
       "      <th>Tags</th>\n",
       "      <th>Lead Quality</th>\n",
       "      <th>Lead Profile</th>\n",
       "      <th>City</th>\n",
       "      <th>Asymmetrique Activity Index</th>\n",
       "      <th>Asymmetrique Profile Index</th>\n",
       "      <th>A free copy of Mastering The Interview</th>\n",
       "      <th>Last Notable Activity</th>\n",
       "    </tr>\n",
       "  </thead>\n",
       "  <tbody>\n",
       "    <tr>\n",
       "      <th>0</th>\n",
       "      <td>API</td>\n",
       "      <td>Olark Chat</td>\n",
       "      <td>No</td>\n",
       "      <td>0.0</td>\n",
       "      <td>0</td>\n",
       "      <td>0.0</td>\n",
       "      <td>Page Visited on Website</td>\n",
       "      <td>NaN</td>\n",
       "      <td>Select</td>\n",
       "      <td>Select</td>\n",
       "      <td>Unemployed</td>\n",
       "      <td>Better Career Prospects</td>\n",
       "      <td>Interested in other courses</td>\n",
       "      <td>Low in Relevance</td>\n",
       "      <td>Select</td>\n",
       "      <td>Select</td>\n",
       "      <td>02.Medium</td>\n",
       "      <td>02.Medium</td>\n",
       "      <td>No</td>\n",
       "      <td>Modified</td>\n",
       "    </tr>\n",
       "    <tr>\n",
       "      <th>1</th>\n",
       "      <td>API</td>\n",
       "      <td>Organic Search</td>\n",
       "      <td>No</td>\n",
       "      <td>5.0</td>\n",
       "      <td>674</td>\n",
       "      <td>2.5</td>\n",
       "      <td>Email Opened</td>\n",
       "      <td>India</td>\n",
       "      <td>Select</td>\n",
       "      <td>Select</td>\n",
       "      <td>Unemployed</td>\n",
       "      <td>Better Career Prospects</td>\n",
       "      <td>Ringing</td>\n",
       "      <td>NaN</td>\n",
       "      <td>Select</td>\n",
       "      <td>Select</td>\n",
       "      <td>02.Medium</td>\n",
       "      <td>02.Medium</td>\n",
       "      <td>No</td>\n",
       "      <td>Email Opened</td>\n",
       "    </tr>\n",
       "    <tr>\n",
       "      <th>2</th>\n",
       "      <td>Landing Page Submission</td>\n",
       "      <td>Direct Traffic</td>\n",
       "      <td>No</td>\n",
       "      <td>2.0</td>\n",
       "      <td>1532</td>\n",
       "      <td>2.0</td>\n",
       "      <td>Email Opened</td>\n",
       "      <td>India</td>\n",
       "      <td>Business Administration</td>\n",
       "      <td>Select</td>\n",
       "      <td>Student</td>\n",
       "      <td>Better Career Prospects</td>\n",
       "      <td>Will revert after reading the email</td>\n",
       "      <td>Might be</td>\n",
       "      <td>Potential Lead</td>\n",
       "      <td>Mumbai</td>\n",
       "      <td>02.Medium</td>\n",
       "      <td>01.High</td>\n",
       "      <td>Yes</td>\n",
       "      <td>Email Opened</td>\n",
       "    </tr>\n",
       "    <tr>\n",
       "      <th>3</th>\n",
       "      <td>Landing Page Submission</td>\n",
       "      <td>Direct Traffic</td>\n",
       "      <td>No</td>\n",
       "      <td>1.0</td>\n",
       "      <td>305</td>\n",
       "      <td>1.0</td>\n",
       "      <td>Unreachable</td>\n",
       "      <td>India</td>\n",
       "      <td>Media and Advertising</td>\n",
       "      <td>Word Of Mouth</td>\n",
       "      <td>Unemployed</td>\n",
       "      <td>Better Career Prospects</td>\n",
       "      <td>Ringing</td>\n",
       "      <td>Not Sure</td>\n",
       "      <td>Select</td>\n",
       "      <td>Mumbai</td>\n",
       "      <td>02.Medium</td>\n",
       "      <td>01.High</td>\n",
       "      <td>No</td>\n",
       "      <td>Modified</td>\n",
       "    </tr>\n",
       "    <tr>\n",
       "      <th>4</th>\n",
       "      <td>Landing Page Submission</td>\n",
       "      <td>Google</td>\n",
       "      <td>No</td>\n",
       "      <td>2.0</td>\n",
       "      <td>1428</td>\n",
       "      <td>1.0</td>\n",
       "      <td>Converted to Lead</td>\n",
       "      <td>India</td>\n",
       "      <td>Select</td>\n",
       "      <td>Other</td>\n",
       "      <td>Unemployed</td>\n",
       "      <td>Better Career Prospects</td>\n",
       "      <td>Will revert after reading the email</td>\n",
       "      <td>Might be</td>\n",
       "      <td>Select</td>\n",
       "      <td>Mumbai</td>\n",
       "      <td>02.Medium</td>\n",
       "      <td>01.High</td>\n",
       "      <td>No</td>\n",
       "      <td>Modified</td>\n",
       "    </tr>\n",
       "  </tbody>\n",
       "</table>\n",
       "</div>"
      ],
      "text/plain": [
       "               Lead Origin     Lead Source Do Not Email  TotalVisits  \\\n",
       "0                      API      Olark Chat           No          0.0   \n",
       "1                      API  Organic Search           No          5.0   \n",
       "2  Landing Page Submission  Direct Traffic           No          2.0   \n",
       "3  Landing Page Submission  Direct Traffic           No          1.0   \n",
       "4  Landing Page Submission          Google           No          2.0   \n",
       "\n",
       "   Total Time Spent on Website  Page Views Per Visit            Last Activity  \\\n",
       "0                            0                   0.0  Page Visited on Website   \n",
       "1                          674                   2.5             Email Opened   \n",
       "2                         1532                   2.0             Email Opened   \n",
       "3                          305                   1.0              Unreachable   \n",
       "4                         1428                   1.0        Converted to Lead   \n",
       "\n",
       "  Country           Specialization How did you hear about X Education  \\\n",
       "0     NaN                   Select                             Select   \n",
       "1   India                   Select                             Select   \n",
       "2   India  Business Administration                             Select   \n",
       "3   India    Media and Advertising                      Word Of Mouth   \n",
       "4   India                   Select                              Other   \n",
       "\n",
       "  What is your current occupation  \\\n",
       "0                      Unemployed   \n",
       "1                      Unemployed   \n",
       "2                         Student   \n",
       "3                      Unemployed   \n",
       "4                      Unemployed   \n",
       "\n",
       "  What matters most to you in choosing a course  \\\n",
       "0                       Better Career Prospects   \n",
       "1                       Better Career Prospects   \n",
       "2                       Better Career Prospects   \n",
       "3                       Better Career Prospects   \n",
       "4                       Better Career Prospects   \n",
       "\n",
       "                                  Tags      Lead Quality    Lead Profile  \\\n",
       "0          Interested in other courses  Low in Relevance          Select   \n",
       "1                              Ringing               NaN          Select   \n",
       "2  Will revert after reading the email          Might be  Potential Lead   \n",
       "3                              Ringing          Not Sure          Select   \n",
       "4  Will revert after reading the email          Might be          Select   \n",
       "\n",
       "     City Asymmetrique Activity Index Asymmetrique Profile Index  \\\n",
       "0  Select                   02.Medium                  02.Medium   \n",
       "1  Select                   02.Medium                  02.Medium   \n",
       "2  Mumbai                   02.Medium                    01.High   \n",
       "3  Mumbai                   02.Medium                    01.High   \n",
       "4  Mumbai                   02.Medium                    01.High   \n",
       "\n",
       "  A free copy of Mastering The Interview Last Notable Activity  \n",
       "0                                     No              Modified  \n",
       "1                                     No          Email Opened  \n",
       "2                                    Yes          Email Opened  \n",
       "3                                     No              Modified  \n",
       "4                                     No              Modified  "
      ]
     },
     "execution_count": 28,
     "metadata": {},
     "output_type": "execute_result"
    }
   ],
   "source": [
    "df_lead.head(5)"
   ]
  },
  {
   "cell_type": "code",
   "execution_count": 29,
   "metadata": {},
   "outputs": [
    {
     "data": {
      "text/html": [
       "<div>\n",
       "<style scoped>\n",
       "    .dataframe tbody tr th:only-of-type {\n",
       "        vertical-align: middle;\n",
       "    }\n",
       "\n",
       "    .dataframe tbody tr th {\n",
       "        vertical-align: top;\n",
       "    }\n",
       "\n",
       "    .dataframe thead th {\n",
       "        text-align: right;\n",
       "    }\n",
       "</style>\n",
       "<table border=\"1\" class=\"dataframe\">\n",
       "  <thead>\n",
       "    <tr style=\"text-align: right;\">\n",
       "      <th></th>\n",
       "      <th>Categorical_FieldName</th>\n",
       "      <th># of Categories</th>\n",
       "      <th>Mode_of_Category_Field</th>\n",
       "      <th>Percent_of_Mode</th>\n",
       "      <th>Null%</th>\n",
       "    </tr>\n",
       "  </thead>\n",
       "  <tbody>\n",
       "    <tr>\n",
       "      <th>0</th>\n",
       "      <td>A free copy of Mastering The Interview</td>\n",
       "      <td>2</td>\n",
       "      <td>No</td>\n",
       "      <td>68.74</td>\n",
       "      <td>0.00</td>\n",
       "    </tr>\n",
       "    <tr>\n",
       "      <th>1</th>\n",
       "      <td>Asymmetrique Activity Index</td>\n",
       "      <td>3</td>\n",
       "      <td>02.Medium</td>\n",
       "      <td>41.55</td>\n",
       "      <td>45.65</td>\n",
       "    </tr>\n",
       "    <tr>\n",
       "      <th>2</th>\n",
       "      <td>Asymmetrique Profile Index</td>\n",
       "      <td>3</td>\n",
       "      <td>02.Medium</td>\n",
       "      <td>30.17</td>\n",
       "      <td>45.65</td>\n",
       "    </tr>\n",
       "    <tr>\n",
       "      <th>3</th>\n",
       "      <td>City</td>\n",
       "      <td>7</td>\n",
       "      <td>Mumbai</td>\n",
       "      <td>34.87</td>\n",
       "      <td>15.37</td>\n",
       "    </tr>\n",
       "    <tr>\n",
       "      <th>4</th>\n",
       "      <td>Country</td>\n",
       "      <td>38</td>\n",
       "      <td>India</td>\n",
       "      <td>70.26</td>\n",
       "      <td>26.63</td>\n",
       "    </tr>\n",
       "    <tr>\n",
       "      <th>5</th>\n",
       "      <td>Do Not Email</td>\n",
       "      <td>2</td>\n",
       "      <td>No</td>\n",
       "      <td>92.06</td>\n",
       "      <td>0.00</td>\n",
       "    </tr>\n",
       "    <tr>\n",
       "      <th>6</th>\n",
       "      <td>How did you hear about X Education</td>\n",
       "      <td>10</td>\n",
       "      <td>Select</td>\n",
       "      <td>54.58</td>\n",
       "      <td>23.89</td>\n",
       "    </tr>\n",
       "    <tr>\n",
       "      <th>7</th>\n",
       "      <td>Last Activity</td>\n",
       "      <td>17</td>\n",
       "      <td>Email Opened</td>\n",
       "      <td>37.20</td>\n",
       "      <td>1.11</td>\n",
       "    </tr>\n",
       "    <tr>\n",
       "      <th>8</th>\n",
       "      <td>Last Notable Activity</td>\n",
       "      <td>16</td>\n",
       "      <td>Modified</td>\n",
       "      <td>36.87</td>\n",
       "      <td>0.00</td>\n",
       "    </tr>\n",
       "    <tr>\n",
       "      <th>9</th>\n",
       "      <td>Lead Origin</td>\n",
       "      <td>5</td>\n",
       "      <td>Landing Page Submission</td>\n",
       "      <td>52.88</td>\n",
       "      <td>0.00</td>\n",
       "    </tr>\n",
       "    <tr>\n",
       "      <th>10</th>\n",
       "      <td>Lead Profile</td>\n",
       "      <td>6</td>\n",
       "      <td>Select</td>\n",
       "      <td>44.87</td>\n",
       "      <td>29.32</td>\n",
       "    </tr>\n",
       "    <tr>\n",
       "      <th>11</th>\n",
       "      <td>Lead Quality</td>\n",
       "      <td>5</td>\n",
       "      <td>Might be</td>\n",
       "      <td>16.88</td>\n",
       "      <td>51.59</td>\n",
       "    </tr>\n",
       "    <tr>\n",
       "      <th>12</th>\n",
       "      <td>Lead Source</td>\n",
       "      <td>21</td>\n",
       "      <td>Google</td>\n",
       "      <td>31.04</td>\n",
       "      <td>0.39</td>\n",
       "    </tr>\n",
       "    <tr>\n",
       "      <th>13</th>\n",
       "      <td>Specialization</td>\n",
       "      <td>19</td>\n",
       "      <td>Select</td>\n",
       "      <td>21.02</td>\n",
       "      <td>15.56</td>\n",
       "    </tr>\n",
       "    <tr>\n",
       "      <th>14</th>\n",
       "      <td>Tags</td>\n",
       "      <td>26</td>\n",
       "      <td>Will revert after reading the email</td>\n",
       "      <td>22.42</td>\n",
       "      <td>36.29</td>\n",
       "    </tr>\n",
       "    <tr>\n",
       "      <th>15</th>\n",
       "      <td>What is your current occupation</td>\n",
       "      <td>6</td>\n",
       "      <td>Unemployed</td>\n",
       "      <td>60.61</td>\n",
       "      <td>29.11</td>\n",
       "    </tr>\n",
       "    <tr>\n",
       "      <th>16</th>\n",
       "      <td>What matters most to you in choosing a course</td>\n",
       "      <td>3</td>\n",
       "      <td>Better Career Prospects</td>\n",
       "      <td>70.65</td>\n",
       "      <td>29.32</td>\n",
       "    </tr>\n",
       "  </tbody>\n",
       "</table>\n",
       "</div>"
      ],
      "text/plain": [
       "                            Categorical_FieldName  # of Categories  \\\n",
       "0          A free copy of Mastering The Interview                2   \n",
       "1                     Asymmetrique Activity Index                3   \n",
       "2                      Asymmetrique Profile Index                3   \n",
       "3                                            City                7   \n",
       "4                                         Country               38   \n",
       "5                                    Do Not Email                2   \n",
       "6              How did you hear about X Education               10   \n",
       "7                                   Last Activity               17   \n",
       "8                           Last Notable Activity               16   \n",
       "9                                     Lead Origin                5   \n",
       "10                                   Lead Profile                6   \n",
       "11                                   Lead Quality                5   \n",
       "12                                    Lead Source               21   \n",
       "13                                 Specialization               19   \n",
       "14                                           Tags               26   \n",
       "15                What is your current occupation                6   \n",
       "16  What matters most to you in choosing a course                3   \n",
       "\n",
       "                 Mode_of_Category_Field  Percent_of_Mode  Null%  \n",
       "0                                    No            68.74   0.00  \n",
       "1                             02.Medium            41.55  45.65  \n",
       "2                             02.Medium            30.17  45.65  \n",
       "3                                Mumbai            34.87  15.37  \n",
       "4                                 India            70.26  26.63  \n",
       "5                                    No            92.06   0.00  \n",
       "6                                Select            54.58  23.89  \n",
       "7                          Email Opened            37.20   1.11  \n",
       "8                              Modified            36.87   0.00  \n",
       "9               Landing Page Submission            52.88   0.00  \n",
       "10                               Select            44.87  29.32  \n",
       "11                             Might be            16.88  51.59  \n",
       "12                               Google            31.04   0.39  \n",
       "13                               Select            21.02  15.56  \n",
       "14  Will revert after reading the email            22.42  36.29  \n",
       "15                           Unemployed            60.61  29.11  \n",
       "16              Better Career Prospects            70.65  29.32  "
      ]
     },
     "execution_count": 29,
     "metadata": {},
     "output_type": "execute_result"
    }
   ],
   "source": [
    "#After drop above fields, list of categorical fields, with % of null values, number of categories in each field, \n",
    "#Mode of each categorical field and % of that mode in that column\n",
    "#For example \"City\" fields has 7 cities, 15% null values, Mumbai is Mode of this field and 35% values \n",
    "#in City colum is Mumbai\n",
    "\n",
    "df_temp= getCatFields(df_lead, False)\n",
    "df_temp"
   ]
  },
  {
   "cell_type": "markdown",
   "metadata": {},
   "source": [
    "### Handling \"Select\" value in categorical field"
   ]
  },
  {
   "cell_type": "code",
   "execution_count": 30,
   "metadata": {},
   "outputs": [],
   "source": [
    "#Replace all \"Select\" with np.nan"
   ]
  },
  {
   "cell_type": "code",
   "execution_count": 31,
   "metadata": {},
   "outputs": [
    {
     "name": "stdout",
     "output_type": "stream",
     "text": [
      "['City', 'How did you hear about X Education', 'Lead Profile', 'Specialization']\n"
     ]
    }
   ],
   "source": [
    "#Identify those categorical columns which has \"Select\" as a category\n",
    "sel_val_fields=[]\n",
    "flds = df_lead[ df_temp.Categorical_FieldName]\n",
    "for f in flds:\n",
    "    if len( df_lead[ f ] [df_lead[ f ]==\"Select\" ] )>0:    \n",
    "        sel_val_fields.append(f)\n",
    "        \n",
    "print (sel_val_fields)        \n",
    "\n",
    "#Replace \"Select\" with np.nan in those categorical fields\n",
    "for f in sel_val_fields:\n",
    "    df_lead[f][ df_lead[f]==\"Select\" ]=np.nan"
   ]
  },
  {
   "cell_type": "code",
   "execution_count": 32,
   "metadata": {},
   "outputs": [
    {
     "data": {
      "text/html": [
       "<div>\n",
       "<style scoped>\n",
       "    .dataframe tbody tr th:only-of-type {\n",
       "        vertical-align: middle;\n",
       "    }\n",
       "\n",
       "    .dataframe tbody tr th {\n",
       "        vertical-align: top;\n",
       "    }\n",
       "\n",
       "    .dataframe thead th {\n",
       "        text-align: right;\n",
       "    }\n",
       "</style>\n",
       "<table border=\"1\" class=\"dataframe\">\n",
       "  <thead>\n",
       "    <tr style=\"text-align: right;\">\n",
       "      <th></th>\n",
       "      <th>Categorical_FieldName</th>\n",
       "      <th># of Categories</th>\n",
       "      <th>Mode_of_Category_Field</th>\n",
       "      <th>Percent_of_Mode</th>\n",
       "      <th>Null%</th>\n",
       "    </tr>\n",
       "  </thead>\n",
       "  <tbody>\n",
       "    <tr>\n",
       "      <th>0</th>\n",
       "      <td>A free copy of Mastering The Interview</td>\n",
       "      <td>2</td>\n",
       "      <td>No</td>\n",
       "      <td>68.74</td>\n",
       "      <td>0.00</td>\n",
       "    </tr>\n",
       "    <tr>\n",
       "      <th>1</th>\n",
       "      <td>Asymmetrique Activity Index</td>\n",
       "      <td>3</td>\n",
       "      <td>02.Medium</td>\n",
       "      <td>41.55</td>\n",
       "      <td>45.65</td>\n",
       "    </tr>\n",
       "    <tr>\n",
       "      <th>2</th>\n",
       "      <td>Asymmetrique Profile Index</td>\n",
       "      <td>3</td>\n",
       "      <td>02.Medium</td>\n",
       "      <td>30.17</td>\n",
       "      <td>45.65</td>\n",
       "    </tr>\n",
       "    <tr>\n",
       "      <th>3</th>\n",
       "      <td>City</td>\n",
       "      <td>6</td>\n",
       "      <td>Mumbai</td>\n",
       "      <td>34.87</td>\n",
       "      <td>39.71</td>\n",
       "    </tr>\n",
       "    <tr>\n",
       "      <th>4</th>\n",
       "      <td>Country</td>\n",
       "      <td>38</td>\n",
       "      <td>India</td>\n",
       "      <td>70.26</td>\n",
       "      <td>26.63</td>\n",
       "    </tr>\n",
       "    <tr>\n",
       "      <th>5</th>\n",
       "      <td>Do Not Email</td>\n",
       "      <td>2</td>\n",
       "      <td>No</td>\n",
       "      <td>92.06</td>\n",
       "      <td>0.00</td>\n",
       "    </tr>\n",
       "    <tr>\n",
       "      <th>6</th>\n",
       "      <td>How did you hear about X Education</td>\n",
       "      <td>9</td>\n",
       "      <td>Online Search</td>\n",
       "      <td>8.74</td>\n",
       "      <td>78.46</td>\n",
       "    </tr>\n",
       "    <tr>\n",
       "      <th>7</th>\n",
       "      <td>Last Activity</td>\n",
       "      <td>17</td>\n",
       "      <td>Email Opened</td>\n",
       "      <td>37.20</td>\n",
       "      <td>1.11</td>\n",
       "    </tr>\n",
       "    <tr>\n",
       "      <th>8</th>\n",
       "      <td>Last Notable Activity</td>\n",
       "      <td>16</td>\n",
       "      <td>Modified</td>\n",
       "      <td>36.87</td>\n",
       "      <td>0.00</td>\n",
       "    </tr>\n",
       "    <tr>\n",
       "      <th>9</th>\n",
       "      <td>Lead Origin</td>\n",
       "      <td>5</td>\n",
       "      <td>Landing Page Submission</td>\n",
       "      <td>52.88</td>\n",
       "      <td>0.00</td>\n",
       "    </tr>\n",
       "    <tr>\n",
       "      <th>10</th>\n",
       "      <td>Lead Profile</td>\n",
       "      <td>5</td>\n",
       "      <td>Potential Lead</td>\n",
       "      <td>17.46</td>\n",
       "      <td>74.19</td>\n",
       "    </tr>\n",
       "    <tr>\n",
       "      <th>11</th>\n",
       "      <td>Lead Quality</td>\n",
       "      <td>5</td>\n",
       "      <td>Might be</td>\n",
       "      <td>16.88</td>\n",
       "      <td>51.59</td>\n",
       "    </tr>\n",
       "    <tr>\n",
       "      <th>12</th>\n",
       "      <td>Lead Source</td>\n",
       "      <td>21</td>\n",
       "      <td>Google</td>\n",
       "      <td>31.04</td>\n",
       "      <td>0.39</td>\n",
       "    </tr>\n",
       "    <tr>\n",
       "      <th>13</th>\n",
       "      <td>Specialization</td>\n",
       "      <td>18</td>\n",
       "      <td>Finance Management</td>\n",
       "      <td>10.56</td>\n",
       "      <td>36.58</td>\n",
       "    </tr>\n",
       "    <tr>\n",
       "      <th>14</th>\n",
       "      <td>Tags</td>\n",
       "      <td>26</td>\n",
       "      <td>Will revert after reading the email</td>\n",
       "      <td>22.42</td>\n",
       "      <td>36.29</td>\n",
       "    </tr>\n",
       "    <tr>\n",
       "      <th>15</th>\n",
       "      <td>What is your current occupation</td>\n",
       "      <td>6</td>\n",
       "      <td>Unemployed</td>\n",
       "      <td>60.61</td>\n",
       "      <td>29.11</td>\n",
       "    </tr>\n",
       "    <tr>\n",
       "      <th>16</th>\n",
       "      <td>What matters most to you in choosing a course</td>\n",
       "      <td>3</td>\n",
       "      <td>Better Career Prospects</td>\n",
       "      <td>70.65</td>\n",
       "      <td>29.32</td>\n",
       "    </tr>\n",
       "  </tbody>\n",
       "</table>\n",
       "</div>"
      ],
      "text/plain": [
       "                            Categorical_FieldName  # of Categories  \\\n",
       "0          A free copy of Mastering The Interview                2   \n",
       "1                     Asymmetrique Activity Index                3   \n",
       "2                      Asymmetrique Profile Index                3   \n",
       "3                                            City                6   \n",
       "4                                         Country               38   \n",
       "5                                    Do Not Email                2   \n",
       "6              How did you hear about X Education                9   \n",
       "7                                   Last Activity               17   \n",
       "8                           Last Notable Activity               16   \n",
       "9                                     Lead Origin                5   \n",
       "10                                   Lead Profile                5   \n",
       "11                                   Lead Quality                5   \n",
       "12                                    Lead Source               21   \n",
       "13                                 Specialization               18   \n",
       "14                                           Tags               26   \n",
       "15                What is your current occupation                6   \n",
       "16  What matters most to you in choosing a course                3   \n",
       "\n",
       "                 Mode_of_Category_Field  Percent_of_Mode  Null%  \n",
       "0                                    No            68.74   0.00  \n",
       "1                             02.Medium            41.55  45.65  \n",
       "2                             02.Medium            30.17  45.65  \n",
       "3                                Mumbai            34.87  39.71  \n",
       "4                                 India            70.26  26.63  \n",
       "5                                    No            92.06   0.00  \n",
       "6                         Online Search             8.74  78.46  \n",
       "7                          Email Opened            37.20   1.11  \n",
       "8                              Modified            36.87   0.00  \n",
       "9               Landing Page Submission            52.88   0.00  \n",
       "10                       Potential Lead            17.46  74.19  \n",
       "11                             Might be            16.88  51.59  \n",
       "12                               Google            31.04   0.39  \n",
       "13                   Finance Management            10.56  36.58  \n",
       "14  Will revert after reading the email            22.42  36.29  \n",
       "15                           Unemployed            60.61  29.11  \n",
       "16              Better Career Prospects            70.65  29.32  "
      ]
     },
     "execution_count": 32,
     "metadata": {},
     "output_type": "execute_result"
    }
   ],
   "source": [
    "#After replacing Select with Nan, check again % of Null values in Categorical fields\n",
    "df_temp= getCatFields(df_lead, False)\n",
    "df_temp"
   ]
  },
  {
   "cell_type": "markdown",
   "metadata": {},
   "source": [
    "### Null Value Handling"
   ]
  },
  {
   "cell_type": "code",
   "execution_count": 33,
   "metadata": {},
   "outputs": [
    {
     "data": {
      "text/html": [
       "<div>\n",
       "<style scoped>\n",
       "    .dataframe tbody tr th:only-of-type {\n",
       "        vertical-align: middle;\n",
       "    }\n",
       "\n",
       "    .dataframe tbody tr th {\n",
       "        vertical-align: top;\n",
       "    }\n",
       "\n",
       "    .dataframe thead th {\n",
       "        text-align: right;\n",
       "    }\n",
       "</style>\n",
       "<table border=\"1\" class=\"dataframe\">\n",
       "  <thead>\n",
       "    <tr style=\"text-align: right;\">\n",
       "      <th></th>\n",
       "      <th>Categorical_FieldName</th>\n",
       "      <th># of Categories</th>\n",
       "      <th>Mode_of_Category_Field</th>\n",
       "      <th>Percent_of_Mode</th>\n",
       "      <th>Null%</th>\n",
       "    </tr>\n",
       "  </thead>\n",
       "  <tbody>\n",
       "    <tr>\n",
       "      <th>0</th>\n",
       "      <td>A free copy of Mastering The Interview</td>\n",
       "      <td>2</td>\n",
       "      <td>No</td>\n",
       "      <td>68.74</td>\n",
       "      <td>0.0</td>\n",
       "    </tr>\n",
       "    <tr>\n",
       "      <th>5</th>\n",
       "      <td>Do Not Email</td>\n",
       "      <td>2</td>\n",
       "      <td>No</td>\n",
       "      <td>92.06</td>\n",
       "      <td>0.0</td>\n",
       "    </tr>\n",
       "    <tr>\n",
       "      <th>8</th>\n",
       "      <td>Last Notable Activity</td>\n",
       "      <td>16</td>\n",
       "      <td>Modified</td>\n",
       "      <td>36.87</td>\n",
       "      <td>0.0</td>\n",
       "    </tr>\n",
       "    <tr>\n",
       "      <th>9</th>\n",
       "      <td>Lead Origin</td>\n",
       "      <td>5</td>\n",
       "      <td>Landing Page Submission</td>\n",
       "      <td>52.88</td>\n",
       "      <td>0.0</td>\n",
       "    </tr>\n",
       "  </tbody>\n",
       "</table>\n",
       "</div>"
      ],
      "text/plain": [
       "                    Categorical_FieldName  # of Categories  \\\n",
       "0  A free copy of Mastering The Interview                2   \n",
       "5                            Do Not Email                2   \n",
       "8                   Last Notable Activity               16   \n",
       "9                             Lead Origin                5   \n",
       "\n",
       "    Mode_of_Category_Field  Percent_of_Mode  Null%  \n",
       "0                       No            68.74    0.0  \n",
       "5                       No            92.06    0.0  \n",
       "8                 Modified            36.87    0.0  \n",
       "9  Landing Page Submission            52.88    0.0  "
      ]
     },
     "execution_count": 33,
     "metadata": {},
     "output_type": "execute_result"
    }
   ],
   "source": [
    "#Get No Null Value Categorical Fields\n",
    "df_temp= getCatFields(df_lead, WithOneValue=False, NullValueFields=\"No\")\n",
    "df_temp"
   ]
  },
  {
   "cell_type": "code",
   "execution_count": 34,
   "metadata": {},
   "outputs": [
    {
     "data": {
      "text/html": [
       "<div>\n",
       "<style scoped>\n",
       "    .dataframe tbody tr th:only-of-type {\n",
       "        vertical-align: middle;\n",
       "    }\n",
       "\n",
       "    .dataframe tbody tr th {\n",
       "        vertical-align: top;\n",
       "    }\n",
       "\n",
       "    .dataframe thead th {\n",
       "        text-align: right;\n",
       "    }\n",
       "</style>\n",
       "<table border=\"1\" class=\"dataframe\">\n",
       "  <thead>\n",
       "    <tr style=\"text-align: right;\">\n",
       "      <th></th>\n",
       "      <th>Categorical_FieldName</th>\n",
       "      <th># of Categories</th>\n",
       "      <th>Mode_of_Category_Field</th>\n",
       "      <th>Percent_of_Mode</th>\n",
       "      <th>Null%</th>\n",
       "    </tr>\n",
       "  </thead>\n",
       "  <tbody>\n",
       "    <tr>\n",
       "      <th>1</th>\n",
       "      <td>Asymmetrique Activity Index</td>\n",
       "      <td>3</td>\n",
       "      <td>02.Medium</td>\n",
       "      <td>41.55</td>\n",
       "      <td>45.65</td>\n",
       "    </tr>\n",
       "    <tr>\n",
       "      <th>2</th>\n",
       "      <td>Asymmetrique Profile Index</td>\n",
       "      <td>3</td>\n",
       "      <td>02.Medium</td>\n",
       "      <td>30.17</td>\n",
       "      <td>45.65</td>\n",
       "    </tr>\n",
       "    <tr>\n",
       "      <th>3</th>\n",
       "      <td>City</td>\n",
       "      <td>6</td>\n",
       "      <td>Mumbai</td>\n",
       "      <td>34.87</td>\n",
       "      <td>39.71</td>\n",
       "    </tr>\n",
       "    <tr>\n",
       "      <th>4</th>\n",
       "      <td>Country</td>\n",
       "      <td>38</td>\n",
       "      <td>India</td>\n",
       "      <td>70.26</td>\n",
       "      <td>26.63</td>\n",
       "    </tr>\n",
       "    <tr>\n",
       "      <th>6</th>\n",
       "      <td>How did you hear about X Education</td>\n",
       "      <td>9</td>\n",
       "      <td>Online Search</td>\n",
       "      <td>8.74</td>\n",
       "      <td>78.46</td>\n",
       "    </tr>\n",
       "    <tr>\n",
       "      <th>7</th>\n",
       "      <td>Last Activity</td>\n",
       "      <td>17</td>\n",
       "      <td>Email Opened</td>\n",
       "      <td>37.20</td>\n",
       "      <td>1.11</td>\n",
       "    </tr>\n",
       "    <tr>\n",
       "      <th>10</th>\n",
       "      <td>Lead Profile</td>\n",
       "      <td>5</td>\n",
       "      <td>Potential Lead</td>\n",
       "      <td>17.46</td>\n",
       "      <td>74.19</td>\n",
       "    </tr>\n",
       "    <tr>\n",
       "      <th>11</th>\n",
       "      <td>Lead Quality</td>\n",
       "      <td>5</td>\n",
       "      <td>Might be</td>\n",
       "      <td>16.88</td>\n",
       "      <td>51.59</td>\n",
       "    </tr>\n",
       "    <tr>\n",
       "      <th>12</th>\n",
       "      <td>Lead Source</td>\n",
       "      <td>21</td>\n",
       "      <td>Google</td>\n",
       "      <td>31.04</td>\n",
       "      <td>0.39</td>\n",
       "    </tr>\n",
       "    <tr>\n",
       "      <th>13</th>\n",
       "      <td>Specialization</td>\n",
       "      <td>18</td>\n",
       "      <td>Finance Management</td>\n",
       "      <td>10.56</td>\n",
       "      <td>36.58</td>\n",
       "    </tr>\n",
       "    <tr>\n",
       "      <th>14</th>\n",
       "      <td>Tags</td>\n",
       "      <td>26</td>\n",
       "      <td>Will revert after reading the email</td>\n",
       "      <td>22.42</td>\n",
       "      <td>36.29</td>\n",
       "    </tr>\n",
       "    <tr>\n",
       "      <th>15</th>\n",
       "      <td>What is your current occupation</td>\n",
       "      <td>6</td>\n",
       "      <td>Unemployed</td>\n",
       "      <td>60.61</td>\n",
       "      <td>29.11</td>\n",
       "    </tr>\n",
       "    <tr>\n",
       "      <th>16</th>\n",
       "      <td>What matters most to you in choosing a course</td>\n",
       "      <td>3</td>\n",
       "      <td>Better Career Prospects</td>\n",
       "      <td>70.65</td>\n",
       "      <td>29.32</td>\n",
       "    </tr>\n",
       "  </tbody>\n",
       "</table>\n",
       "</div>"
      ],
      "text/plain": [
       "                            Categorical_FieldName  # of Categories  \\\n",
       "1                     Asymmetrique Activity Index                3   \n",
       "2                      Asymmetrique Profile Index                3   \n",
       "3                                            City                6   \n",
       "4                                         Country               38   \n",
       "6              How did you hear about X Education                9   \n",
       "7                                   Last Activity               17   \n",
       "10                                   Lead Profile                5   \n",
       "11                                   Lead Quality                5   \n",
       "12                                    Lead Source               21   \n",
       "13                                 Specialization               18   \n",
       "14                                           Tags               26   \n",
       "15                What is your current occupation                6   \n",
       "16  What matters most to you in choosing a course                3   \n",
       "\n",
       "                 Mode_of_Category_Field  Percent_of_Mode  Null%  \n",
       "1                             02.Medium            41.55  45.65  \n",
       "2                             02.Medium            30.17  45.65  \n",
       "3                                Mumbai            34.87  39.71  \n",
       "4                                 India            70.26  26.63  \n",
       "6                         Online Search             8.74  78.46  \n",
       "7                          Email Opened            37.20   1.11  \n",
       "10                       Potential Lead            17.46  74.19  \n",
       "11                             Might be            16.88  51.59  \n",
       "12                               Google            31.04   0.39  \n",
       "13                   Finance Management            10.56  36.58  \n",
       "14  Will revert after reading the email            22.42  36.29  \n",
       "15                           Unemployed            60.61  29.11  \n",
       "16              Better Career Prospects            70.65  29.32  "
      ]
     },
     "execution_count": 34,
     "metadata": {},
     "output_type": "execute_result"
    }
   ],
   "source": [
    "#Get Categorical Fields which has Null Values\n",
    "df_temp= getCatFields(df_lead, WithOneValue=False, NullValueFields=\"Yes\")\n",
    "df_temp"
   ]
  },
  {
   "cell_type": "code",
   "execution_count": null,
   "metadata": {},
   "outputs": [],
   "source": []
  },
  {
   "cell_type": "code",
   "execution_count": 35,
   "metadata": {},
   "outputs": [
    {
     "name": "stdout",
     "output_type": "stream",
     "text": [
      "Null  45.65\n",
      "02.Medium    41.55\n",
      "01.High       8.89\n",
      "03.Low        3.92\n",
      "Name: Asymmetrique Activity Index, dtype: float64\n",
      "\n",
      "\n",
      "Null  45.65\n",
      "02.Medium    30.17\n",
      "01.High      23.84\n",
      "03.Low        0.34\n",
      "Name: Asymmetrique Profile Index, dtype: float64\n",
      "\n",
      "\n",
      "Null  39.71\n",
      "Mumbai                         34.87\n",
      "Thane & Outskirts               8.14\n",
      "Other Cities                    7.42\n",
      "Other Cities of Maharashtra     4.95\n",
      "Other Metro Cities              4.11\n",
      "Tier II Cities                  0.80\n",
      "Name: City, dtype: float64\n",
      "\n",
      "\n",
      "Null  26.63\n",
      "India                   70.26\n",
      "United States            0.75\n",
      "United Arab Emirates     0.57\n",
      "Singapore                0.26\n",
      "Saudi Arabia             0.23\n",
      "United Kingdom           0.16\n",
      "Australia                0.14\n",
      "Qatar                    0.11\n",
      "Hong Kong                0.08\n",
      "Bahrain                  0.08\n",
      "Oman                     0.06\n",
      "France                   0.06\n",
      "unknown                  0.05\n",
      "South Africa             0.04\n",
      "Canada                   0.04\n",
      "Nigeria                  0.04\n",
      "Germany                  0.04\n",
      "Kuwait                   0.04\n",
      "Sweden                   0.03\n",
      "Belgium                  0.02\n",
      "Bangladesh               0.02\n",
      "China                    0.02\n",
      "Ghana                    0.02\n",
      "Asia/Pacific Region      0.02\n",
      "Italy                    0.02\n",
      "Netherlands              0.02\n",
      "Philippines              0.02\n",
      "Uganda                   0.02\n",
      "Indonesia                0.01\n",
      "Kenya                    0.01\n",
      "Liberia                  0.01\n",
      "Vietnam                  0.01\n",
      "Denmark                  0.01\n",
      "Russia                   0.01\n",
      "Sri Lanka                0.01\n",
      "Switzerland              0.01\n",
      "Tanzania                 0.01\n",
      "Malaysia                 0.01\n",
      "Name: Country, dtype: float64\n",
      "\n",
      "\n",
      "Null  78.46\n",
      "Online Search            8.74\n",
      "Word Of Mouth            3.77\n",
      "Student of SomeSchool    3.35\n",
      "Other                    2.01\n",
      "Multiple Sources         1.65\n",
      "Advertisements           0.76\n",
      "Social Media             0.73\n",
      "Email                    0.28\n",
      "SMS                      0.25\n",
      "Name: How did you hear about X Education, dtype: float64\n",
      "\n",
      "\n",
      "Null  1.11\n",
      "Email Opened                    37.20\n",
      "SMS Sent                        29.71\n",
      "Olark Chat Conversation         10.53\n",
      "Page Visited on Website          6.93\n",
      "Converted to Lead                4.63\n",
      "Email Bounced                    3.53\n",
      "Email Link Clicked               2.89\n",
      "Form Submitted on Website        1.26\n",
      "Unreachable                      1.01\n",
      "Unsubscribed                     0.66\n",
      "Had a Phone Conversation         0.32\n",
      "Approached upfront               0.10\n",
      "View in browser link Clicked     0.06\n",
      "Email Marked Spam                0.02\n",
      "Email Received                   0.02\n",
      "Resubscribed to emails           0.01\n",
      "Visited Booth in Tradeshow       0.01\n",
      "Name: Last Activity, dtype: float64\n",
      "\n",
      "\n",
      "Null  74.19\n",
      "Potential Lead                 17.46\n",
      "Other Leads                     5.27\n",
      "Student of SomeSchool           2.61\n",
      "Lateral Student                 0.26\n",
      "Dual Specialization Student     0.22\n",
      "Name: Lead Profile, dtype: float64\n",
      "\n",
      "\n",
      "Null  51.59\n",
      "Might be             16.88\n",
      "Not Sure             11.82\n",
      "High in Relevance     6.89\n",
      "Worst                 6.50\n",
      "Low in Relevance      6.31\n",
      "Name: Lead Quality, dtype: float64\n",
      "\n",
      "\n",
      "Null  0.39\n",
      "Google               31.04\n",
      "Direct Traffic       27.52\n",
      "Olark Chat           18.99\n",
      "Organic Search       12.49\n",
      "Reference             5.78\n",
      "Welingak Website      1.54\n",
      "Referral Sites        1.35\n",
      "Facebook              0.60\n",
      "bing                  0.06\n",
      "google                0.05\n",
      "Click2call            0.04\n",
      "Press_Release         0.02\n",
      "Social Media          0.02\n",
      "Live Chat             0.02\n",
      "Pay per Click Ads     0.01\n",
      "welearnblog_Home      0.01\n",
      "NC_EDM                0.01\n",
      "WeLearn               0.01\n",
      "blog                  0.01\n",
      "testone               0.01\n",
      "youtubechannel        0.01\n",
      "Name: Lead Source, dtype: float64\n",
      "\n",
      "\n",
      "Null  36.58\n",
      "Finance Management                   10.56\n",
      "Human Resource Management             9.18\n",
      "Marketing Management                  9.07\n",
      "Operations Management                 5.44\n",
      "Business Administration               4.36\n",
      "IT Projects Management                3.96\n",
      "Supply Chain Management               3.78\n",
      "Banking, Investment And Insurance     3.66\n",
      "Media and Advertising                 2.20\n",
      "Travel and Tourism                    2.20\n",
      "International Business                1.93\n",
      "Healthcare Management                 1.72\n",
      "Hospitality Management                1.23\n",
      "E-COMMERCE                            1.21\n",
      "Retail Management                     1.08\n",
      "Rural and Agribusiness                0.79\n",
      "E-Business                            0.62\n",
      "Services Excellence                   0.43\n",
      "Name: Specialization, dtype: float64\n",
      "\n",
      "\n",
      "Null  36.29\n",
      "Will revert after reading the email                  22.42\n",
      "Ringing                                              13.02\n",
      "Interested in other courses                           5.55\n",
      "Already a student                                     5.03\n",
      "Closed by Horizzon                                    3.87\n",
      "switched off                                          2.60\n",
      "Busy                                                  2.01\n",
      "Lost to EINS                                          1.89\n",
      "Not doing further education                           1.57\n",
      "Interested  in full time MBA                          1.27\n",
      "Graduation in progress                                1.20\n",
      "invalid number                                        0.90\n",
      "Diploma holder (Not Eligible)                         0.68\n",
      "wrong number given                                    0.51\n",
      "opp hangup                                            0.36\n",
      "number not provided                                   0.29\n",
      "in touch with EINS                                    0.13\n",
      "Lost to Others                                        0.08\n",
      "Want to take admission but has financial problems     0.06\n",
      "Still Thinking                                        0.06\n",
      "Interested in Next batch                              0.05\n",
      "In confusion whether part time or DLP                 0.05\n",
      "Lateral student                                       0.03\n",
      "Shall take in the next coming month                   0.02\n",
      "University not recognized                             0.02\n",
      "Recognition issue (DEC approval)                      0.01\n",
      "Name: Tags, dtype: float64\n",
      "\n",
      "\n",
      "Null  29.11\n",
      "Unemployed              60.61\n",
      "Working Professional     7.64\n",
      "Student                  2.27\n",
      "Other                    0.17\n",
      "Housewife                0.11\n",
      "Businessman              0.09\n",
      "Name: What is your current occupation, dtype: float64\n",
      "\n",
      "\n",
      "Null  29.32\n",
      "Better Career Prospects      70.65\n",
      "Flexibility & Convenience     0.02\n",
      "Other                         0.01\n",
      "Name: What matters most to you in choosing a course, dtype: float64\n",
      "\n",
      "\n"
     ]
    }
   ],
   "source": [
    "#List all Categorical Variables with Null Values and categories\n",
    "flds = df_lead[ df_temp.Categorical_FieldName]\n",
    "for f in flds:\n",
    "    if round(df_lead[ f ].isna().sum(axis=0)/len(df_lead)*100,2)!=0:\n",
    "        print ( \"Null \",round(df_lead[ f ].isna().sum(axis=0)/len(df_lead)*100,2) )\n",
    "        print ( round( df_lead[ f ].astype('category').value_counts()/len(df_lead)*100 ,2))\n",
    "        print ( \"\\n\" )\n",
    "\n",
    "        "
   ]
  },
  {
   "cell_type": "markdown",
   "metadata": {},
   "source": [
    "#### Null Treatment using Mode value"
   ]
  },
  {
   "cell_type": "code",
   "execution_count": 36,
   "metadata": {},
   "outputs": [],
   "source": [
    "#Null Treatment for \"Lead Source\"\n",
    "#Null  0.39\n",
    "#Google               31.04\n",
    "#Direct Traffic       27.52\n",
    "#Olark Chat           18.99\n",
    "#Organic Search       12.49\n",
    "#Reference             5.78\n",
    "#Welingak Website      1.54\n",
    "#Referral Sites        1.35\n",
    "#Facebook              0.60\n",
    "#bing                  0.06\n",
    "#google                0.05\n",
    "#Click2call            0.04\n",
    "#Press_Release         0.02\n",
    "#Social Media          0.02\n",
    "#Live Chat             0.02\n",
    "#Pay per Click Ads     0.01\n",
    "#welearnblog_Home      0.01\n",
    "#NC_EDM                0.01\n",
    "#WeLearn               0.01\n",
    "#blog                  0.01\n",
    "#testone               0.01\n",
    "#youtubechannel        0.01\n",
    "\n",
    "df_lead[\"Lead Source\"] [df_lead[\"Lead Source\"].isna()] = \"Google\""
   ]
  },
  {
   "cell_type": "code",
   "execution_count": 37,
   "metadata": {},
   "outputs": [],
   "source": [
    "#Null Treatment for \"Last Activity\"\n",
    "#Null  1.11\n",
    "#Email Opened                    37.20\n",
    "#SMS Sent                        29.71\n",
    "#Olark Chat Conversation         10.53\n",
    "#Page Visited on Website          6.93\n",
    "#Converted to Lead                4.63\n",
    "#Email Bounced                    3.53\n",
    "#Email Link Clicked               2.89\n",
    "#Form Submitted on Website        1.26\n",
    "#Unreachable                      1.01\n",
    "#Unsubscribed                     0.66\n",
    "#Had a Phone Conversation         0.32\n",
    "#Approached upfront               0.10\n",
    "#View in browser link Clicked     0.06\n",
    "#Email Marked Spam                0.02\n",
    "#Email Received                   0.02\n",
    "#Resubscribed to emails           0.01\n",
    "#Visited Booth in Tradeshow       0.01\n",
    "\n",
    "df_lead[\"Last Activity\"] [df_lead[\"Last Activity\"].isna()] = \"Email Opened\""
   ]
  },
  {
   "cell_type": "code",
   "execution_count": null,
   "metadata": {},
   "outputs": [],
   "source": []
  },
  {
   "cell_type": "code",
   "execution_count": 38,
   "metadata": {},
   "outputs": [],
   "source": [
    "#Null Treatment for \"What matters most to you in choosing a course\"\n",
    "#Action: Drop the column\n",
    "\n",
    "#Null  29.32\n",
    "#Better Career Prospects      71.65\n",
    "#Flexibility & Convenience     0.02\n",
    "#Other                         0.01\n",
    "df_lead.drop(columns=[\"What matters most to you in choosing a course\"], inplace=True)"
   ]
  },
  {
   "cell_type": "code",
   "execution_count": 39,
   "metadata": {},
   "outputs": [
    {
     "name": "stdout",
     "output_type": "stream",
     "text": [
      "Number of fields in dataset : 19\n"
     ]
    }
   ],
   "source": [
    "print (\"Number of fields in dataset :\", df_lead.shape[1])"
   ]
  },
  {
   "cell_type": "code",
   "execution_count": 40,
   "metadata": {},
   "outputs": [
    {
     "data": {
      "text/html": [
       "<div>\n",
       "<style scoped>\n",
       "    .dataframe tbody tr th:only-of-type {\n",
       "        vertical-align: middle;\n",
       "    }\n",
       "\n",
       "    .dataframe tbody tr th {\n",
       "        vertical-align: top;\n",
       "    }\n",
       "\n",
       "    .dataframe thead th {\n",
       "        text-align: right;\n",
       "    }\n",
       "</style>\n",
       "<table border=\"1\" class=\"dataframe\">\n",
       "  <thead>\n",
       "    <tr style=\"text-align: right;\">\n",
       "      <th></th>\n",
       "      <th>Categorical_FieldName</th>\n",
       "      <th># of Categories</th>\n",
       "      <th>Mode_of_Category_Field</th>\n",
       "      <th>Percent_of_Mode</th>\n",
       "      <th>Null%</th>\n",
       "    </tr>\n",
       "  </thead>\n",
       "  <tbody>\n",
       "    <tr>\n",
       "      <th>0</th>\n",
       "      <td>A free copy of Mastering The Interview</td>\n",
       "      <td>2</td>\n",
       "      <td>No</td>\n",
       "      <td>68.74</td>\n",
       "      <td>0.0</td>\n",
       "    </tr>\n",
       "    <tr>\n",
       "      <th>5</th>\n",
       "      <td>Do Not Email</td>\n",
       "      <td>2</td>\n",
       "      <td>No</td>\n",
       "      <td>92.06</td>\n",
       "      <td>0.0</td>\n",
       "    </tr>\n",
       "    <tr>\n",
       "      <th>7</th>\n",
       "      <td>Last Activity</td>\n",
       "      <td>17</td>\n",
       "      <td>Email Opened</td>\n",
       "      <td>38.31</td>\n",
       "      <td>0.0</td>\n",
       "    </tr>\n",
       "    <tr>\n",
       "      <th>8</th>\n",
       "      <td>Last Notable Activity</td>\n",
       "      <td>16</td>\n",
       "      <td>Modified</td>\n",
       "      <td>36.87</td>\n",
       "      <td>0.0</td>\n",
       "    </tr>\n",
       "    <tr>\n",
       "      <th>9</th>\n",
       "      <td>Lead Origin</td>\n",
       "      <td>5</td>\n",
       "      <td>Landing Page Submission</td>\n",
       "      <td>52.88</td>\n",
       "      <td>0.0</td>\n",
       "    </tr>\n",
       "    <tr>\n",
       "      <th>12</th>\n",
       "      <td>Lead Source</td>\n",
       "      <td>21</td>\n",
       "      <td>Google</td>\n",
       "      <td>31.43</td>\n",
       "      <td>0.0</td>\n",
       "    </tr>\n",
       "  </tbody>\n",
       "</table>\n",
       "</div>"
      ],
      "text/plain": [
       "                     Categorical_FieldName  # of Categories  \\\n",
       "0   A free copy of Mastering The Interview                2   \n",
       "5                             Do Not Email                2   \n",
       "7                            Last Activity               17   \n",
       "8                    Last Notable Activity               16   \n",
       "9                              Lead Origin                5   \n",
       "12                             Lead Source               21   \n",
       "\n",
       "     Mode_of_Category_Field  Percent_of_Mode  Null%  \n",
       "0                        No            68.74    0.0  \n",
       "5                        No            92.06    0.0  \n",
       "7              Email Opened            38.31    0.0  \n",
       "8                  Modified            36.87    0.0  \n",
       "9   Landing Page Submission            52.88    0.0  \n",
       "12                   Google            31.43    0.0  "
      ]
     },
     "execution_count": 40,
     "metadata": {},
     "output_type": "execute_result"
    }
   ],
   "source": [
    "#Get Categorical Fields which has No-Null Values\n",
    "df_temp= getCatFields(df_lead, WithOneValue=False, NullValueFields=\"No\")\n",
    "df_temp"
   ]
  },
  {
   "cell_type": "code",
   "execution_count": 41,
   "metadata": {},
   "outputs": [
    {
     "data": {
      "text/html": [
       "<div>\n",
       "<style scoped>\n",
       "    .dataframe tbody tr th:only-of-type {\n",
       "        vertical-align: middle;\n",
       "    }\n",
       "\n",
       "    .dataframe tbody tr th {\n",
       "        vertical-align: top;\n",
       "    }\n",
       "\n",
       "    .dataframe thead th {\n",
       "        text-align: right;\n",
       "    }\n",
       "</style>\n",
       "<table border=\"1\" class=\"dataframe\">\n",
       "  <thead>\n",
       "    <tr style=\"text-align: right;\">\n",
       "      <th></th>\n",
       "      <th>Categorical_FieldName</th>\n",
       "      <th># of Categories</th>\n",
       "      <th>Mode_of_Category_Field</th>\n",
       "      <th>Percent_of_Mode</th>\n",
       "      <th>Null%</th>\n",
       "    </tr>\n",
       "  </thead>\n",
       "  <tbody>\n",
       "    <tr>\n",
       "      <th>1</th>\n",
       "      <td>Asymmetrique Activity Index</td>\n",
       "      <td>3</td>\n",
       "      <td>02.Medium</td>\n",
       "      <td>41.55</td>\n",
       "      <td>45.65</td>\n",
       "    </tr>\n",
       "    <tr>\n",
       "      <th>2</th>\n",
       "      <td>Asymmetrique Profile Index</td>\n",
       "      <td>3</td>\n",
       "      <td>02.Medium</td>\n",
       "      <td>30.17</td>\n",
       "      <td>45.65</td>\n",
       "    </tr>\n",
       "    <tr>\n",
       "      <th>3</th>\n",
       "      <td>City</td>\n",
       "      <td>6</td>\n",
       "      <td>Mumbai</td>\n",
       "      <td>34.87</td>\n",
       "      <td>39.71</td>\n",
       "    </tr>\n",
       "    <tr>\n",
       "      <th>4</th>\n",
       "      <td>Country</td>\n",
       "      <td>38</td>\n",
       "      <td>India</td>\n",
       "      <td>70.26</td>\n",
       "      <td>26.63</td>\n",
       "    </tr>\n",
       "    <tr>\n",
       "      <th>6</th>\n",
       "      <td>How did you hear about X Education</td>\n",
       "      <td>9</td>\n",
       "      <td>Online Search</td>\n",
       "      <td>8.74</td>\n",
       "      <td>78.46</td>\n",
       "    </tr>\n",
       "    <tr>\n",
       "      <th>10</th>\n",
       "      <td>Lead Profile</td>\n",
       "      <td>5</td>\n",
       "      <td>Potential Lead</td>\n",
       "      <td>17.46</td>\n",
       "      <td>74.19</td>\n",
       "    </tr>\n",
       "    <tr>\n",
       "      <th>11</th>\n",
       "      <td>Lead Quality</td>\n",
       "      <td>5</td>\n",
       "      <td>Might be</td>\n",
       "      <td>16.88</td>\n",
       "      <td>51.59</td>\n",
       "    </tr>\n",
       "    <tr>\n",
       "      <th>13</th>\n",
       "      <td>Specialization</td>\n",
       "      <td>18</td>\n",
       "      <td>Finance Management</td>\n",
       "      <td>10.56</td>\n",
       "      <td>36.58</td>\n",
       "    </tr>\n",
       "    <tr>\n",
       "      <th>14</th>\n",
       "      <td>Tags</td>\n",
       "      <td>26</td>\n",
       "      <td>Will revert after reading the email</td>\n",
       "      <td>22.42</td>\n",
       "      <td>36.29</td>\n",
       "    </tr>\n",
       "    <tr>\n",
       "      <th>15</th>\n",
       "      <td>What is your current occupation</td>\n",
       "      <td>6</td>\n",
       "      <td>Unemployed</td>\n",
       "      <td>60.61</td>\n",
       "      <td>29.11</td>\n",
       "    </tr>\n",
       "  </tbody>\n",
       "</table>\n",
       "</div>"
      ],
      "text/plain": [
       "                 Categorical_FieldName  # of Categories  \\\n",
       "1          Asymmetrique Activity Index                3   \n",
       "2           Asymmetrique Profile Index                3   \n",
       "3                                 City                6   \n",
       "4                              Country               38   \n",
       "6   How did you hear about X Education                9   \n",
       "10                        Lead Profile                5   \n",
       "11                        Lead Quality                5   \n",
       "13                      Specialization               18   \n",
       "14                                Tags               26   \n",
       "15     What is your current occupation                6   \n",
       "\n",
       "                 Mode_of_Category_Field  Percent_of_Mode  Null%  \n",
       "1                             02.Medium            41.55  45.65  \n",
       "2                             02.Medium            30.17  45.65  \n",
       "3                                Mumbai            34.87  39.71  \n",
       "4                                 India            70.26  26.63  \n",
       "6                         Online Search             8.74  78.46  \n",
       "10                       Potential Lead            17.46  74.19  \n",
       "11                             Might be            16.88  51.59  \n",
       "13                   Finance Management            10.56  36.58  \n",
       "14  Will revert after reading the email            22.42  36.29  \n",
       "15                           Unemployed            60.61  29.11  "
      ]
     },
     "execution_count": 41,
     "metadata": {},
     "output_type": "execute_result"
    }
   ],
   "source": [
    "#After treating null values with mode\n",
    "#Get Categorical Fields which still has Null Values\n",
    "df_temp= getCatFields(df_lead, WithOneValue=False, NullValueFields=\"Yes\")\n",
    "df_temp"
   ]
  },
  {
   "cell_type": "markdown",
   "metadata": {},
   "source": [
    "\n"
   ]
  },
  {
   "cell_type": "markdown",
   "metadata": {},
   "source": [
    "#### Scale the numberic values of Dataset"
   ]
  },
  {
   "cell_type": "code",
   "execution_count": null,
   "metadata": {},
   "outputs": [],
   "source": []
  },
  {
   "cell_type": "code",
   "execution_count": 42,
   "metadata": {},
   "outputs": [
    {
     "name": "stderr",
     "output_type": "stream",
     "text": [
      "C:\\Users\\admin\\Anaconda3\\lib\\site-packages\\sklearn\\preprocessing\\data.py:625: DataConversionWarning: Data with input dtype int64, float64 were all converted to float64 by StandardScaler.\n",
      "  return self.partial_fit(X, y)\n",
      "C:\\Users\\admin\\Anaconda3\\lib\\site-packages\\sklearn\\base.py:462: DataConversionWarning: Data with input dtype int64, float64 were all converted to float64 by StandardScaler.\n",
      "  return self.fit(X, **fit_params).transform(X)\n"
     ]
    }
   ],
   "source": [
    "sc= StandardScaler()\n",
    "df_lead_scaled = df_lead.copy()\n",
    "df_lead_scaled[num_flds] = pd.DataFrame( sc.fit_transform( df_lead_scaled [num_flds]), columns=num_flds)"
   ]
  },
  {
   "cell_type": "code",
   "execution_count": 43,
   "metadata": {},
   "outputs": [
    {
     "data": {
      "text/plain": [
       "(9240, 19)"
      ]
     },
     "execution_count": 43,
     "metadata": {},
     "output_type": "execute_result"
    }
   ],
   "source": [
    "df_lead_scaled.shape"
   ]
  },
  {
   "cell_type": "markdown",
   "metadata": {},
   "source": [
    "#### Prepare for Hotencoding of Categorical Fields"
   ]
  },
  {
   "cell_type": "code",
   "execution_count": 44,
   "metadata": {},
   "outputs": [],
   "source": [
    "#Lead Dataset with columns which Doest not have any null values\n",
    "df_wo_null= df_lead.loc[::,list(df_lead.isna().sum()==0)]\n",
    "\n",
    "#Lead Dataset with columns which has null values\n",
    "df_with_null = df_lead.loc[::,list(df_lead.isna().sum()>0)]"
   ]
  },
  {
   "cell_type": "code",
   "execution_count": 45,
   "metadata": {},
   "outputs": [
    {
     "data": {
      "text/plain": [
       "Index(['Lead Origin', 'Lead Source', 'Do Not Email', 'TotalVisits',\n",
       "       'Total Time Spent on Website', 'Page Views Per Visit', 'Last Activity',\n",
       "       'A free copy of Mastering The Interview', 'Last Notable Activity'],\n",
       "      dtype='object')"
      ]
     },
     "execution_count": 45,
     "metadata": {},
     "output_type": "execute_result"
    }
   ],
   "source": [
    "df_wo_null.columns"
   ]
  },
  {
   "cell_type": "code",
   "execution_count": 46,
   "metadata": {},
   "outputs": [
    {
     "data": {
      "text/plain": [
       "Index(['Country', 'Specialization', 'How did you hear about X Education',\n",
       "       'What is your current occupation', 'Tags', 'Lead Quality',\n",
       "       'Lead Profile', 'City', 'Asymmetrique Activity Index',\n",
       "       'Asymmetrique Profile Index'],\n",
       "      dtype='object')"
      ]
     },
     "execution_count": 46,
     "metadata": {},
     "output_type": "execute_result"
    }
   ],
   "source": [
    "df_with_null.columns"
   ]
  },
  {
   "cell_type": "code",
   "execution_count": 47,
   "metadata": {},
   "outputs": [],
   "source": [
    "#Scaled Dataset of only those columns which does not have any null Value\n",
    "df_lead_noNulCol_sc= df_lead_scaled.loc[::,list(df_lead_scaled.isna().sum()==0)]\n"
   ]
  },
  {
   "cell_type": "code",
   "execution_count": 48,
   "metadata": {},
   "outputs": [
    {
     "data": {
      "text/plain": [
       "['A free copy of Mastering The Interview',\n",
       " 'Do Not Email',\n",
       " 'Last Activity',\n",
       " 'Last Notable Activity',\n",
       " 'Lead Origin',\n",
       " 'Lead Source']"
      ]
     },
     "execution_count": 48,
     "metadata": {},
     "output_type": "execute_result"
    }
   ],
   "source": [
    "#List of Categorical variables which does not have null values\n",
    "catflds = list( getCatFields(df_lead_noNulCol_sc).Categorical_FieldName )\n",
    "catflds"
   ]
  },
  {
   "cell_type": "code",
   "execution_count": 49,
   "metadata": {},
   "outputs": [
    {
     "data": {
      "text/html": [
       "<div>\n",
       "<style scoped>\n",
       "    .dataframe tbody tr th:only-of-type {\n",
       "        vertical-align: middle;\n",
       "    }\n",
       "\n",
       "    .dataframe tbody tr th {\n",
       "        vertical-align: top;\n",
       "    }\n",
       "\n",
       "    .dataframe thead th {\n",
       "        text-align: right;\n",
       "    }\n",
       "</style>\n",
       "<table border=\"1\" class=\"dataframe\">\n",
       "  <thead>\n",
       "    <tr style=\"text-align: right;\">\n",
       "      <th></th>\n",
       "      <th>Lead Origin</th>\n",
       "      <th>Lead Source</th>\n",
       "      <th>Do Not Email</th>\n",
       "      <th>TotalVisits</th>\n",
       "      <th>Total Time Spent on Website</th>\n",
       "      <th>Page Views Per Visit</th>\n",
       "      <th>Last Activity</th>\n",
       "      <th>A free copy of Mastering The Interview</th>\n",
       "      <th>Last Notable Activity</th>\n",
       "    </tr>\n",
       "  </thead>\n",
       "  <tbody>\n",
       "    <tr>\n",
       "      <th>0</th>\n",
       "      <td>API</td>\n",
       "      <td>Olark Chat</td>\n",
       "      <td>No</td>\n",
       "      <td>-0.713593</td>\n",
       "      <td>-0.889974</td>\n",
       "      <td>-1.101417</td>\n",
       "      <td>Page Visited on Website</td>\n",
       "      <td>No</td>\n",
       "      <td>Modified</td>\n",
       "    </tr>\n",
       "    <tr>\n",
       "      <th>1</th>\n",
       "      <td>API</td>\n",
       "      <td>Organic Search</td>\n",
       "      <td>No</td>\n",
       "      <td>0.324018</td>\n",
       "      <td>0.339972</td>\n",
       "      <td>0.063966</td>\n",
       "      <td>Email Opened</td>\n",
       "      <td>No</td>\n",
       "      <td>Email Opened</td>\n",
       "    </tr>\n",
       "    <tr>\n",
       "      <th>2</th>\n",
       "      <td>Landing Page Submission</td>\n",
       "      <td>Direct Traffic</td>\n",
       "      <td>No</td>\n",
       "      <td>-0.298549</td>\n",
       "      <td>1.905689</td>\n",
       "      <td>-0.169110</td>\n",
       "      <td>Email Opened</td>\n",
       "      <td>Yes</td>\n",
       "      <td>Email Opened</td>\n",
       "    </tr>\n",
       "    <tr>\n",
       "      <th>3</th>\n",
       "      <td>Landing Page Submission</td>\n",
       "      <td>Direct Traffic</td>\n",
       "      <td>No</td>\n",
       "      <td>-0.506071</td>\n",
       "      <td>-0.333396</td>\n",
       "      <td>-0.635264</td>\n",
       "      <td>Unreachable</td>\n",
       "      <td>No</td>\n",
       "      <td>Modified</td>\n",
       "    </tr>\n",
       "    <tr>\n",
       "      <th>4</th>\n",
       "      <td>Landing Page Submission</td>\n",
       "      <td>Google</td>\n",
       "      <td>No</td>\n",
       "      <td>-0.298549</td>\n",
       "      <td>1.715905</td>\n",
       "      <td>-0.635264</td>\n",
       "      <td>Converted to Lead</td>\n",
       "      <td>No</td>\n",
       "      <td>Modified</td>\n",
       "    </tr>\n",
       "  </tbody>\n",
       "</table>\n",
       "</div>"
      ],
      "text/plain": [
       "               Lead Origin     Lead Source Do Not Email  TotalVisits  \\\n",
       "0                      API      Olark Chat           No    -0.713593   \n",
       "1                      API  Organic Search           No     0.324018   \n",
       "2  Landing Page Submission  Direct Traffic           No    -0.298549   \n",
       "3  Landing Page Submission  Direct Traffic           No    -0.506071   \n",
       "4  Landing Page Submission          Google           No    -0.298549   \n",
       "\n",
       "   Total Time Spent on Website  Page Views Per Visit            Last Activity  \\\n",
       "0                    -0.889974             -1.101417  Page Visited on Website   \n",
       "1                     0.339972              0.063966             Email Opened   \n",
       "2                     1.905689             -0.169110             Email Opened   \n",
       "3                    -0.333396             -0.635264              Unreachable   \n",
       "4                     1.715905             -0.635264        Converted to Lead   \n",
       "\n",
       "  A free copy of Mastering The Interview Last Notable Activity  \n",
       "0                                     No              Modified  \n",
       "1                                     No          Email Opened  \n",
       "2                                    Yes          Email Opened  \n",
       "3                                     No              Modified  \n",
       "4                                     No              Modified  "
      ]
     },
     "execution_count": 49,
     "metadata": {},
     "output_type": "execute_result"
    }
   ],
   "source": [
    "df_lead_noNulCol_sc.head()"
   ]
  },
  {
   "cell_type": "code",
   "execution_count": null,
   "metadata": {},
   "outputs": [],
   "source": []
  },
  {
   "cell_type": "markdown",
   "metadata": {},
   "source": [
    "#### Numerical encoding of Categorical Fields"
   ]
  },
  {
   "cell_type": "code",
   "execution_count": 50,
   "metadata": {},
   "outputs": [
    {
     "name": "stdout",
     "output_type": "stream",
     "text": [
      "['API', 'Landing Page Submission', 'Lead Add Form', 'Lead Import', 'Quick Add Form'] \n",
      "\n",
      "[0 1 2 3 4] \n",
      "\n"
     ]
    }
   ],
   "source": [
    "df_lead_noNulCol_sc['Lead Origin']=getValuesForCat(df_lead_noNulCol_sc,'Lead Origin',False)"
   ]
  },
  {
   "cell_type": "code",
   "execution_count": 51,
   "metadata": {},
   "outputs": [
    {
     "name": "stdout",
     "output_type": "stream",
     "text": [
      "['Olark Chat', 'Organic Search', 'Direct Traffic', 'Google', 'Referral Sites', 'Welingak Website', 'Reference', 'google', 'Facebook', 'blog', 'Pay per Click Ads', 'bing', 'Social Media', 'WeLearn', 'Click2call', 'Live Chat', 'welearnblog_Home', 'youtubechannel', 'testone', 'Press_Release', 'NC_EDM'] \n",
      "\n",
      "[ 0  1  2  3  4  5  6  7  8  9 10 11 12 13 14 15 16 17 18 19 20] \n",
      "\n"
     ]
    }
   ],
   "source": [
    "df_lead_noNulCol_sc['Lead Source']=getValuesForCat(df_lead_noNulCol_sc,'Lead Source',False)"
   ]
  },
  {
   "cell_type": "code",
   "execution_count": 52,
   "metadata": {},
   "outputs": [
    {
     "name": "stdout",
     "output_type": "stream",
     "text": [
      "['No', 'Yes'] \n",
      "\n",
      "[0 1] \n",
      "\n"
     ]
    }
   ],
   "source": [
    "df_lead_noNulCol_sc['Do Not Email']=getValuesForCat(df_lead_noNulCol_sc,'Do Not Email',False)"
   ]
  },
  {
   "cell_type": "code",
   "execution_count": 53,
   "metadata": {},
   "outputs": [
    {
     "name": "stdout",
     "output_type": "stream",
     "text": [
      "['Page Visited on Website', 'Email Opened', 'Unreachable', 'Converted to Lead', 'Olark Chat Conversation', 'Email Bounced', 'Email Link Clicked', 'Form Submitted on Website', 'Unsubscribed', 'Had a Phone Conversation', 'View in browser link Clicked', 'Approached upfront', 'SMS Sent', 'Visited Booth in Tradeshow', 'Resubscribed to emails', 'Email Received', 'Email Marked Spam'] \n",
      "\n",
      "[ 0  1  2  3  4  5  6  7  8  9 10 11 12 13 14 15 16] \n",
      "\n"
     ]
    }
   ],
   "source": [
    "df_lead_noNulCol_sc['Last Activity']=getValuesForCat(df_lead_noNulCol_sc,'Last Activity',False)"
   ]
  },
  {
   "cell_type": "code",
   "execution_count": 54,
   "metadata": {},
   "outputs": [
    {
     "name": "stdout",
     "output_type": "stream",
     "text": [
      "['No', 'Yes'] \n",
      "\n",
      "[0 1] \n",
      "\n"
     ]
    }
   ],
   "source": [
    "df_lead_noNulCol_sc['A free copy of Mastering The Interview']=getValuesForCat(df_lead_noNulCol_sc,'A free copy of Mastering The Interview',False)"
   ]
  },
  {
   "cell_type": "code",
   "execution_count": 55,
   "metadata": {},
   "outputs": [
    {
     "name": "stdout",
     "output_type": "stream",
     "text": [
      "['Modified', 'Email Opened', 'Page Visited on Website', 'Email Bounced', 'Email Link Clicked', 'Unreachable', 'Unsubscribed', 'Had a Phone Conversation', 'Olark Chat Conversation', 'SMS Sent', 'Approached upfront', 'Resubscribed to emails', 'View in browser link Clicked', 'Form Submitted on Website', 'Email Received', 'Email Marked Spam'] \n",
      "\n",
      "[ 0  1  2  3  4  5  6  7  8  9 10 11 12 13 14 15] \n",
      "\n"
     ]
    }
   ],
   "source": [
    "df_lead_noNulCol_sc['Last Notable Activity']=getValuesForCat(df_lead_noNulCol_sc,'Last Notable Activity',False)"
   ]
  },
  {
   "cell_type": "code",
   "execution_count": 56,
   "metadata": {},
   "outputs": [
    {
     "data": {
      "text/html": [
       "<div>\n",
       "<style scoped>\n",
       "    .dataframe tbody tr th:only-of-type {\n",
       "        vertical-align: middle;\n",
       "    }\n",
       "\n",
       "    .dataframe tbody tr th {\n",
       "        vertical-align: top;\n",
       "    }\n",
       "\n",
       "    .dataframe thead th {\n",
       "        text-align: right;\n",
       "    }\n",
       "</style>\n",
       "<table border=\"1\" class=\"dataframe\">\n",
       "  <thead>\n",
       "    <tr style=\"text-align: right;\">\n",
       "      <th></th>\n",
       "      <th>Lead Origin</th>\n",
       "      <th>Lead Source</th>\n",
       "      <th>Do Not Email</th>\n",
       "      <th>TotalVisits</th>\n",
       "      <th>Total Time Spent on Website</th>\n",
       "      <th>Page Views Per Visit</th>\n",
       "      <th>Last Activity</th>\n",
       "      <th>A free copy of Mastering The Interview</th>\n",
       "      <th>Last Notable Activity</th>\n",
       "    </tr>\n",
       "  </thead>\n",
       "  <tbody>\n",
       "    <tr>\n",
       "      <th>0</th>\n",
       "      <td>0</td>\n",
       "      <td>0</td>\n",
       "      <td>0</td>\n",
       "      <td>-0.713593</td>\n",
       "      <td>-0.889974</td>\n",
       "      <td>-1.101417</td>\n",
       "      <td>0</td>\n",
       "      <td>0</td>\n",
       "      <td>0</td>\n",
       "    </tr>\n",
       "    <tr>\n",
       "      <th>1</th>\n",
       "      <td>0</td>\n",
       "      <td>1</td>\n",
       "      <td>0</td>\n",
       "      <td>0.324018</td>\n",
       "      <td>0.339972</td>\n",
       "      <td>0.063966</td>\n",
       "      <td>1</td>\n",
       "      <td>0</td>\n",
       "      <td>1</td>\n",
       "    </tr>\n",
       "    <tr>\n",
       "      <th>2</th>\n",
       "      <td>1</td>\n",
       "      <td>2</td>\n",
       "      <td>0</td>\n",
       "      <td>-0.298549</td>\n",
       "      <td>1.905689</td>\n",
       "      <td>-0.169110</td>\n",
       "      <td>1</td>\n",
       "      <td>1</td>\n",
       "      <td>1</td>\n",
       "    </tr>\n",
       "    <tr>\n",
       "      <th>3</th>\n",
       "      <td>1</td>\n",
       "      <td>2</td>\n",
       "      <td>0</td>\n",
       "      <td>-0.506071</td>\n",
       "      <td>-0.333396</td>\n",
       "      <td>-0.635264</td>\n",
       "      <td>2</td>\n",
       "      <td>0</td>\n",
       "      <td>0</td>\n",
       "    </tr>\n",
       "    <tr>\n",
       "      <th>4</th>\n",
       "      <td>1</td>\n",
       "      <td>3</td>\n",
       "      <td>0</td>\n",
       "      <td>-0.298549</td>\n",
       "      <td>1.715905</td>\n",
       "      <td>-0.635264</td>\n",
       "      <td>3</td>\n",
       "      <td>0</td>\n",
       "      <td>0</td>\n",
       "    </tr>\n",
       "  </tbody>\n",
       "</table>\n",
       "</div>"
      ],
      "text/plain": [
       "   Lead Origin  Lead Source  Do Not Email  TotalVisits  \\\n",
       "0            0            0             0    -0.713593   \n",
       "1            0            1             0     0.324018   \n",
       "2            1            2             0    -0.298549   \n",
       "3            1            2             0    -0.506071   \n",
       "4            1            3             0    -0.298549   \n",
       "\n",
       "   Total Time Spent on Website  Page Views Per Visit  Last Activity  \\\n",
       "0                    -0.889974             -1.101417              0   \n",
       "1                     0.339972              0.063966              1   \n",
       "2                     1.905689             -0.169110              1   \n",
       "3                    -0.333396             -0.635264              2   \n",
       "4                     1.715905             -0.635264              3   \n",
       "\n",
       "   A free copy of Mastering The Interview  Last Notable Activity  \n",
       "0                                       0                      0  \n",
       "1                                       0                      1  \n",
       "2                                       1                      1  \n",
       "3                                       0                      0  \n",
       "4                                       0                      0  "
      ]
     },
     "execution_count": 56,
     "metadata": {},
     "output_type": "execute_result"
    }
   ],
   "source": [
    "df_lead_noNulCol_sc.head()"
   ]
  },
  {
   "cell_type": "code",
   "execution_count": 57,
   "metadata": {},
   "outputs": [],
   "source": [
    "#Saving this encoded information of cat fields in df_lead_p1\n",
    "f= ['Lead Origin','Lead Source','Do Not Email','Last Activity',\n",
    "                    'A free copy of Mastering The Interview','Last Notable Activity']\n",
    "\n",
    "df_lead_p1[f] = df_lead_noNulCol_sc[f]"
   ]
  },
  {
   "cell_type": "code",
   "execution_count": 58,
   "metadata": {},
   "outputs": [
    {
     "data": {
      "text/plain": [
       "['A free copy of Mastering The Interview',\n",
       " 'Do Not Email',\n",
       " 'Last Activity',\n",
       " 'Last Notable Activity',\n",
       " 'Lead Origin',\n",
       " 'Lead Source']"
      ]
     },
     "execution_count": 58,
     "metadata": {},
     "output_type": "execute_result"
    }
   ],
   "source": [
    "catflds"
   ]
  },
  {
   "cell_type": "code",
   "execution_count": 59,
   "metadata": {},
   "outputs": [],
   "source": [
    "#Create Dummy Variables for these Fields\n",
    "cat1 = pd.get_dummies(df_lead_noNulCol_sc[ catflds[0] ] , prefix=\"freeCopy\", drop_first=True)\n",
    "cat2 = pd.get_dummies(df_lead_noNulCol_sc[ catflds[1] ] , prefix=\"NoEmail\", drop_first=True)\n",
    "cat3 = pd.get_dummies(df_lead_noNulCol_sc[ catflds[2] ] , prefix=\"LastAct\", drop_first=True)\n",
    "cat4 = pd.get_dummies(df_lead_noNulCol_sc[ catflds[2] ] , prefix=\"NotableAct\", drop_first=True)\n",
    "cat5 = pd.get_dummies(df_lead_noNulCol_sc[ catflds[3] ] , prefix=\"LeadOrg\", drop_first=True)\n",
    "cat6 = pd.get_dummies(df_lead_noNulCol_sc[ catflds[4] ] , prefix=\"LeadSrc\", drop_first=True)\n",
    "\n",
    "#drop Original columns from df_final\n",
    "df_lead_noNulCol_sc.drop(columns=catflds, inplace=True)\n",
    "\n",
    "#concatenate all the dummy variables with main dataset\n",
    "df_lead_noNulCol_sc = pd.concat( [df_lead_noNulCol_sc,cat1,cat2,cat3,cat4,cat5,cat6], axis=1)\n",
    "\n",
    "#This dataset of leads has following properties: Scaled, No-Null value Column, Contain Dummy Variables"
   ]
  },
  {
   "cell_type": "code",
   "execution_count": 60,
   "metadata": {},
   "outputs": [],
   "source": [
    "cols=list(df_lead_noNulCol_sc.columns)\n",
    "#cols"
   ]
  },
  {
   "cell_type": "code",
   "execution_count": 61,
   "metadata": {},
   "outputs": [],
   "source": [
    "#List of columns which does not have any null values\n",
    "# df_lead_noNulCol_sc.isna().sum()"
   ]
  },
  {
   "cell_type": "markdown",
   "metadata": {},
   "source": [
    "## Categorical Values Null Value Treatment"
   ]
  },
  {
   "cell_type": "markdown",
   "metadata": {},
   "source": [
    "###### Logistic Regression"
   ]
  },
  {
   "cell_type": "code",
   "execution_count": 62,
   "metadata": {},
   "outputs": [
    {
     "data": {
      "text/plain": [
       "Index(['Country', 'Specialization', 'How did you hear about X Education',\n",
       "       'What is your current occupation', 'Tags', 'Lead Quality',\n",
       "       'Lead Profile', 'City', 'Asymmetrique Activity Index',\n",
       "       'Asymmetrique Profile Index'],\n",
       "      dtype='object')"
      ]
     },
     "execution_count": 62,
     "metadata": {},
     "output_type": "execute_result"
    }
   ],
   "source": [
    "# Now we need to Treat Null Values of following columns\n",
    "df_with_null.columns"
   ]
  },
  {
   "cell_type": "code",
   "execution_count": null,
   "metadata": {},
   "outputs": [],
   "source": []
  },
  {
   "cell_type": "code",
   "execution_count": 63,
   "metadata": {},
   "outputs": [],
   "source": [
    "#Impute Null Categorical Values\n",
    "def imputeNull_CatValues(df,fld):\n",
    "    # Get hotencoded categories for a given field, create a new field in main dataframe and assign this to that field    \n",
    "    df[fld] = getValuesForCat(df_with_null,fld,True)\n",
    "\n",
    "    #create train dataset from main dataframe, it includes only non null rows of the given field\n",
    "    #(in hotencoding process null is converted to 0)\n",
    "    col =cols.copy()\n",
    "    \n",
    "    #create test dataset from main dataframe, it includes all the rows.\n",
    "    X_test = df[col]\n",
    "    \n",
    "    col.append(fld)    \n",
    "    df_train = df[col] [ df[fld]!=0]  \n",
    "\n",
    "    #supplied fld in dataframe need to be classified. So we need to train using this field\n",
    "    y_train= df_train[fld]\n",
    "    X_train = df_train.drop(columns=fld)\n",
    "\n",
    "    #Training the model on the train data\n",
    "    from sklearn.linear_model import LogisticRegression\n",
    "    lr = LogisticRegression()\n",
    "\n",
    "    lm = lr.fit(X_train,y_train)\n",
    "\n",
    "    #predict using train data\n",
    "    pred_train_clusterid = lm.predict(X_train)\n",
    "\n",
    "    #predict using test data\n",
    "    pred_test_clusterid = lm.predict(X_test)\n",
    "\n",
    "    print (\"Accuracy on Train Dataset :\",\n",
    "    round(metrics.accuracy_score(y_train, pred_train_clusterid),2))\n",
    "    \n",
    "    df1 = pd.DataFrame( {\"prediction\":pred_test_clusterid, \"actual\":df[fld]})\n",
    "    \n",
    "    #create a need field in temp dataframe df1, \n",
    "    #for a given field if actual==0 (it has null value) then use prediction to replace\n",
    "    df1.loc[ df1[\"actual\"]==0,fld] = df1[\"prediction\"]\n",
    "    \n",
    "    #If actual is not null then we should not use predicted cluster value, so use actual value\n",
    "    df1.loc[ df1[\"actual\"]!=0,fld] = df1[\"actual\"]\n",
    "    \n",
    "    #ensure filed is integer\n",
    "    df1[fld] = df1[fld].apply(int)\n",
    "    \n",
    "    #replace this column from temp df1 to main dataframe df\n",
    "    df[fld] = df1[fld]\n",
    "    \n",
    "    #With this all null values for given field in the dataframe has been replace with the predicted value\n",
    "    \n",
    "    return"
   ]
  },
  {
   "cell_type": "code",
   "execution_count": 64,
   "metadata": {},
   "outputs": [],
   "source": [
    "df=df_lead_noNulCol_sc"
   ]
  },
  {
   "cell_type": "code",
   "execution_count": 65,
   "metadata": {},
   "outputs": [
    {
     "name": "stdout",
     "output_type": "stream",
     "text": [
      "[nan, 'India', 'Russia', 'Kuwait', 'Oman', 'United Arab Emirates', 'United States', 'Australia', 'United Kingdom', 'Bahrain', 'Ghana', 'Singapore', 'Qatar', 'Saudi Arabia', 'Belgium', 'France', 'Sri Lanka', 'China', 'Canada', 'Netherlands', 'Sweden', 'Nigeria', 'Hong Kong', 'Germany', 'Asia/Pacific Region', 'Uganda', 'Kenya', 'Italy', 'South Africa', 'Tanzania', 'unknown', 'Malaysia', 'Liberia', 'Switzerland', 'Denmark', 'Philippines', 'Bangladesh', 'Vietnam', 'Indonesia'] \n",
      "\n",
      "[ 0  1  2  3  4  5  6  7  8  9 10 11 12 13 14 15 16 17 18 19 20 21 22 23\n",
      " 24 25 26 27 28 29 30 31 32 33 34 35 36 37 38] \n",
      "\n",
      "Accuracy on Train Dataset : 0.96\n"
     ]
    }
   ],
   "source": [
    "imputeNull_CatValues(df,\"Country\")"
   ]
  },
  {
   "cell_type": "code",
   "execution_count": 66,
   "metadata": {},
   "outputs": [
    {
     "name": "stdout",
     "output_type": "stream",
     "text": [
      "[nan, 'Business Administration', 'Media and Advertising', 'Supply Chain Management', 'IT Projects Management', 'Finance Management', 'Travel and Tourism', 'Human Resource Management', 'Marketing Management', 'Banking, Investment And Insurance', 'International Business', 'E-COMMERCE', 'Operations Management', 'Retail Management', 'Services Excellence', 'Hospitality Management', 'Rural and Agribusiness', 'Healthcare Management', 'E-Business'] \n",
      "\n",
      "[ 0  1  2  3  4  5  6  7  8  9 10 11 12 13 14 15 16 17 18] \n",
      "\n",
      "Accuracy on Train Dataset : 0.19\n"
     ]
    }
   ],
   "source": [
    "imputeNull_CatValues(df,\"Specialization\")"
   ]
  },
  {
   "cell_type": "code",
   "execution_count": 67,
   "metadata": {},
   "outputs": [
    {
     "name": "stdout",
     "output_type": "stream",
     "text": [
      "[nan, 'Word Of Mouth', 'Other', 'Online Search', 'Multiple Sources', 'Advertisements', 'Student of SomeSchool', 'Email', 'Social Media', 'SMS'] \n",
      "\n",
      "[0 1 2 3 4 5 6 7 8 9] \n",
      "\n",
      "Accuracy on Train Dataset : 0.41\n"
     ]
    }
   ],
   "source": [
    "imputeNull_CatValues(df,\"How did you hear about X Education\")"
   ]
  },
  {
   "cell_type": "code",
   "execution_count": 68,
   "metadata": {},
   "outputs": [
    {
     "name": "stdout",
     "output_type": "stream",
     "text": [
      "[nan, 'Unemployed', 'Student', 'Working Professional', 'Businessman', 'Other', 'Housewife'] \n",
      "\n",
      "[0 1 2 3 4 5 6] \n",
      "\n",
      "Accuracy on Train Dataset : 0.86\n"
     ]
    }
   ],
   "source": [
    "imputeNull_CatValues(df,\"What is your current occupation\")"
   ]
  },
  {
   "cell_type": "code",
   "execution_count": 69,
   "metadata": {},
   "outputs": [
    {
     "name": "stdout",
     "output_type": "stream",
     "text": [
      "[nan, 'Interested in other courses', 'Ringing', 'Will revert after reading the email', 'Lost to EINS', 'In confusion whether part time or DLP', 'Busy', 'switched off', 'in touch with EINS', 'Already a student', 'Diploma holder (Not Eligible)', 'Graduation in progress', 'Closed by Horizzon', 'number not provided', 'opp hangup', 'Not doing further education', 'invalid number', 'wrong number given', 'Interested  in full time MBA', 'Still Thinking', 'Lost to Others', 'Shall take in the next coming month', 'Lateral student', 'Interested in Next batch', 'Recognition issue (DEC approval)', 'Want to take admission but has financial problems', 'University not recognized'] \n",
      "\n",
      "[ 0  1  2  3  4  5  6  7  8  9 10 11 12 13 14 15 16 17 18 19 20 21 22 23\n",
      " 24 25 26] \n",
      "\n",
      "Accuracy on Train Dataset : 0.47\n"
     ]
    }
   ],
   "source": [
    "imputeNull_CatValues(df,\"Tags\")"
   ]
  },
  {
   "cell_type": "code",
   "execution_count": 70,
   "metadata": {},
   "outputs": [
    {
     "name": "stdout",
     "output_type": "stream",
     "text": [
      "[nan, 'Low in Relevance', 'Might be', 'Not Sure', 'Worst', 'High in Relevance'] \n",
      "\n",
      "[0 1 2 3 4 5] \n",
      "\n",
      "Accuracy on Train Dataset : 0.46\n"
     ]
    }
   ],
   "source": [
    "imputeNull_CatValues(df,\"Lead Quality\")"
   ]
  },
  {
   "cell_type": "code",
   "execution_count": 71,
   "metadata": {},
   "outputs": [
    {
     "name": "stdout",
     "output_type": "stream",
     "text": [
      "[nan, 'Potential Lead', 'Other Leads', 'Lateral Student', 'Dual Specialization Student', 'Student of SomeSchool'] \n",
      "\n",
      "[0 1 2 3 4 5] \n",
      "\n",
      "Accuracy on Train Dataset : 0.69\n"
     ]
    }
   ],
   "source": [
    "imputeNull_CatValues(df,\"Lead Profile\")"
   ]
  },
  {
   "cell_type": "code",
   "execution_count": 72,
   "metadata": {},
   "outputs": [
    {
     "name": "stdout",
     "output_type": "stream",
     "text": [
      "[nan, 'Mumbai', 'Thane & Outskirts', 'Other Metro Cities', 'Other Cities', 'Other Cities of Maharashtra', 'Tier II Cities'] \n",
      "\n",
      "[0 1 2 3 4 5 6] \n",
      "\n",
      "Accuracy on Train Dataset : 0.58\n"
     ]
    }
   ],
   "source": [
    "imputeNull_CatValues(df,\"City\")"
   ]
  },
  {
   "cell_type": "code",
   "execution_count": 73,
   "metadata": {},
   "outputs": [
    {
     "name": "stdout",
     "output_type": "stream",
     "text": [
      "[nan, '02.Medium', '01.High', '03.Low'] \n",
      "\n",
      "[0 1 2 3] \n",
      "\n",
      "Accuracy on Train Dataset : 0.79\n"
     ]
    }
   ],
   "source": [
    "imputeNull_CatValues(df,\"Asymmetrique Activity Index\")"
   ]
  },
  {
   "cell_type": "code",
   "execution_count": 74,
   "metadata": {},
   "outputs": [
    {
     "name": "stdout",
     "output_type": "stream",
     "text": [
      "[nan, '02.Medium', '01.High', '03.Low'] \n",
      "\n",
      "[0 1 2 3] \n",
      "\n",
      "Accuracy on Train Dataset : 0.81\n"
     ]
    }
   ],
   "source": [
    "imputeNull_CatValues(df,\"Asymmetrique Profile Index\")"
   ]
  },
  {
   "cell_type": "markdown",
   "metadata": {},
   "source": [
    "#### Imputing Numeric Fields with the help of related Categorical Field"
   ]
  },
  {
   "cell_type": "code",
   "execution_count": 75,
   "metadata": {},
   "outputs": [],
   "source": [
    "#'Asymmetrique Activity Index' & 'Asymmetrique Activity Score'\n",
    "#'Asymmetrique Profile Index'& 'Asymmetrique Profile Score' are related fields \n",
    "#after we have imputed Index, with the helpf of index we can impute the score \n",
    "#with average score of non-null of the same index"
   ]
  },
  {
   "cell_type": "code",
   "execution_count": 76,
   "metadata": {},
   "outputs": [],
   "source": [
    "f=['Asymmetrique Activity Score','Asymmetrique Profile Score']\n",
    "df_lead_noNulCol_sc[f] =df_lead_p1[f]\n"
   ]
  },
  {
   "cell_type": "code",
   "execution_count": 77,
   "metadata": {},
   "outputs": [
    {
     "name": "stdout",
     "output_type": "stream",
     "text": [
      "16.0 14.0 11.0\n",
      "18.0 15.0 12.0\n"
     ]
    }
   ],
   "source": [
    "#For the index of High, Medium, Low get the score \n",
    "f1='Asymmetrique Activity Index'\n",
    "f2='Asymmetrique Activity Score'\n",
    "high1= round(df_lead_noNulCol_sc[f2] [ df_lead_noNulCol_sc[f1]==2].mean(),0)\n",
    "med1= round(df_lead_noNulCol_sc[f2] [ df_lead_noNulCol_sc[f1]==1].mean(),0)\n",
    "low1 = round(df_lead_noNulCol_sc[f2] [ df_lead_noNulCol_sc[f1]==3].mean(),0)\n",
    "print (high1, med1,low1)\n",
    "\n",
    "f1='Asymmetrique Profile Index'\n",
    "f2='Asymmetrique Profile Score'\n",
    "high2= round(df_lead_noNulCol_sc[f2] [ df_lead_noNulCol_sc[f1]==2].mean(),0)\n",
    "med2= round(df_lead_noNulCol_sc[f2] [ df_lead_noNulCol_sc[f1]==1].mean(),0)\n",
    "low2 = round(df_lead_noNulCol_sc[f2] [ df_lead_noNulCol_sc[f1]==3].mean(),0)\n",
    "print (high2, med2,low2)"
   ]
  },
  {
   "cell_type": "code",
   "execution_count": 78,
   "metadata": {},
   "outputs": [],
   "source": [
    "#Impute the scores\n",
    "f1='Asymmetrique Activity Index'\n",
    "f2='Asymmetrique Activity Score'\n",
    "df_lead_noNulCol_sc[f2] [ (df_lead_noNulCol_sc[f1]==2) & (df_lead_noNulCol_sc[f2].isna() )] = high1\n",
    "df_lead_noNulCol_sc[f2] [ (df_lead_noNulCol_sc[f1]==1) & (df_lead_noNulCol_sc[f2].isna() )] = med1\n",
    "df_lead_noNulCol_sc[f2] [ (df_lead_noNulCol_sc[f1]==3) & (df_lead_noNulCol_sc[f2].isna() )] = low1\n",
    "\n",
    "\n",
    "f1='Asymmetrique Profile Index'\n",
    "f2='Asymmetrique Profile Score'\n",
    "df_lead_noNulCol_sc[f2] [ (df_lead_noNulCol_sc[f1]==2) & (df_lead_noNulCol_sc[f2].isna() )] = high2\n",
    "df_lead_noNulCol_sc[f2] [ (df_lead_noNulCol_sc[f1]==1) & (df_lead_noNulCol_sc[f2].isna() )] = med2\n",
    "df_lead_noNulCol_sc[f2] [ (df_lead_noNulCol_sc[f1]==3) & (df_lead_noNulCol_sc[f2].isna() )] = low2\n"
   ]
  },
  {
   "cell_type": "code",
   "execution_count": null,
   "metadata": {},
   "outputs": [],
   "source": []
  },
  {
   "cell_type": "code",
   "execution_count": 79,
   "metadata": {},
   "outputs": [],
   "source": [
    "#Null cat fields has been treated and now put back these fields in df_lead_p1 dataset\n",
    "df_lead_p1[df_with_null.columns] = df_lead_noNulCol_sc[df_with_null.columns]"
   ]
  },
  {
   "cell_type": "code",
   "execution_count": 80,
   "metadata": {},
   "outputs": [],
   "source": [
    "f=['Asymmetrique Activity Index','Asymmetrique Profile Index',\n",
    "'Asymmetrique Activity Score','Asymmetrique Profile Score']"
   ]
  },
  {
   "cell_type": "code",
   "execution_count": 81,
   "metadata": {},
   "outputs": [
    {
     "data": {
      "text/html": [
       "<div>\n",
       "<style scoped>\n",
       "    .dataframe tbody tr th:only-of-type {\n",
       "        vertical-align: middle;\n",
       "    }\n",
       "\n",
       "    .dataframe tbody tr th {\n",
       "        vertical-align: top;\n",
       "    }\n",
       "\n",
       "    .dataframe thead th {\n",
       "        text-align: right;\n",
       "    }\n",
       "</style>\n",
       "<table border=\"1\" class=\"dataframe\">\n",
       "  <thead>\n",
       "    <tr style=\"text-align: right;\">\n",
       "      <th></th>\n",
       "      <th>Asymmetrique Activity Index</th>\n",
       "      <th>Asymmetrique Profile Index</th>\n",
       "      <th>Asymmetrique Activity Score</th>\n",
       "      <th>Asymmetrique Profile Score</th>\n",
       "    </tr>\n",
       "  </thead>\n",
       "  <tbody>\n",
       "    <tr>\n",
       "      <th>0</th>\n",
       "      <td>1</td>\n",
       "      <td>1</td>\n",
       "      <td>15.0</td>\n",
       "      <td>15.0</td>\n",
       "    </tr>\n",
       "    <tr>\n",
       "      <th>1</th>\n",
       "      <td>1</td>\n",
       "      <td>1</td>\n",
       "      <td>15.0</td>\n",
       "      <td>15.0</td>\n",
       "    </tr>\n",
       "    <tr>\n",
       "      <th>2</th>\n",
       "      <td>1</td>\n",
       "      <td>2</td>\n",
       "      <td>14.0</td>\n",
       "      <td>20.0</td>\n",
       "    </tr>\n",
       "    <tr>\n",
       "      <th>3</th>\n",
       "      <td>1</td>\n",
       "      <td>2</td>\n",
       "      <td>13.0</td>\n",
       "      <td>17.0</td>\n",
       "    </tr>\n",
       "    <tr>\n",
       "      <th>4</th>\n",
       "      <td>1</td>\n",
       "      <td>2</td>\n",
       "      <td>15.0</td>\n",
       "      <td>18.0</td>\n",
       "    </tr>\n",
       "  </tbody>\n",
       "</table>\n",
       "</div>"
      ],
      "text/plain": [
       "   Asymmetrique Activity Index  Asymmetrique Profile Index  \\\n",
       "0                            1                           1   \n",
       "1                            1                           1   \n",
       "2                            1                           2   \n",
       "3                            1                           2   \n",
       "4                            1                           2   \n",
       "\n",
       "   Asymmetrique Activity Score  Asymmetrique Profile Score  \n",
       "0                         15.0                        15.0  \n",
       "1                         15.0                        15.0  \n",
       "2                         14.0                        20.0  \n",
       "3                         13.0                        17.0  \n",
       "4                         15.0                        18.0  "
      ]
     },
     "execution_count": 81,
     "metadata": {},
     "output_type": "execute_result"
    }
   ],
   "source": [
    "#For above Index, Score fields check non null values\n",
    "df_lead_noNulCol_sc[f] [ df_lead_noNulCol_sc[f].isna().sum(axis=1)==0 ].head()"
   ]
  },
  {
   "cell_type": "code",
   "execution_count": 82,
   "metadata": {},
   "outputs": [
    {
     "data": {
      "text/html": [
       "<div>\n",
       "<style scoped>\n",
       "    .dataframe tbody tr th:only-of-type {\n",
       "        vertical-align: middle;\n",
       "    }\n",
       "\n",
       "    .dataframe tbody tr th {\n",
       "        vertical-align: top;\n",
       "    }\n",
       "\n",
       "    .dataframe thead th {\n",
       "        text-align: right;\n",
       "    }\n",
       "</style>\n",
       "<table border=\"1\" class=\"dataframe\">\n",
       "  <thead>\n",
       "    <tr style=\"text-align: right;\">\n",
       "      <th></th>\n",
       "      <th>Lead Number</th>\n",
       "      <th>Converted</th>\n",
       "      <th>Asymmetrique Activity Score</th>\n",
       "      <th>Asymmetrique Profile Score</th>\n",
       "      <th>Lead Origin</th>\n",
       "      <th>Lead Source</th>\n",
       "      <th>Do Not Email</th>\n",
       "      <th>Last Activity</th>\n",
       "      <th>A free copy of Mastering The Interview</th>\n",
       "      <th>Last Notable Activity</th>\n",
       "      <th>Country</th>\n",
       "      <th>Specialization</th>\n",
       "      <th>How did you hear about X Education</th>\n",
       "      <th>What is your current occupation</th>\n",
       "      <th>Tags</th>\n",
       "      <th>Lead Quality</th>\n",
       "      <th>Lead Profile</th>\n",
       "      <th>City</th>\n",
       "      <th>Asymmetrique Activity Index</th>\n",
       "      <th>Asymmetrique Profile Index</th>\n",
       "    </tr>\n",
       "  </thead>\n",
       "  <tbody>\n",
       "    <tr>\n",
       "      <th>0</th>\n",
       "      <td>660737</td>\n",
       "      <td>0</td>\n",
       "      <td>15.0</td>\n",
       "      <td>15.0</td>\n",
       "      <td>0</td>\n",
       "      <td>0</td>\n",
       "      <td>0</td>\n",
       "      <td>0</td>\n",
       "      <td>0</td>\n",
       "      <td>0</td>\n",
       "      <td>1</td>\n",
       "      <td>8</td>\n",
       "      <td>3</td>\n",
       "      <td>1</td>\n",
       "      <td>1</td>\n",
       "      <td>1</td>\n",
       "      <td>1</td>\n",
       "      <td>1</td>\n",
       "      <td>1</td>\n",
       "      <td>1</td>\n",
       "    </tr>\n",
       "    <tr>\n",
       "      <th>1</th>\n",
       "      <td>660728</td>\n",
       "      <td>0</td>\n",
       "      <td>15.0</td>\n",
       "      <td>15.0</td>\n",
       "      <td>0</td>\n",
       "      <td>1</td>\n",
       "      <td>0</td>\n",
       "      <td>1</td>\n",
       "      <td>0</td>\n",
       "      <td>1</td>\n",
       "      <td>1</td>\n",
       "      <td>8</td>\n",
       "      <td>3</td>\n",
       "      <td>1</td>\n",
       "      <td>2</td>\n",
       "      <td>1</td>\n",
       "      <td>1</td>\n",
       "      <td>1</td>\n",
       "      <td>1</td>\n",
       "      <td>1</td>\n",
       "    </tr>\n",
       "    <tr>\n",
       "      <th>2</th>\n",
       "      <td>660727</td>\n",
       "      <td>1</td>\n",
       "      <td>14.0</td>\n",
       "      <td>20.0</td>\n",
       "      <td>1</td>\n",
       "      <td>2</td>\n",
       "      <td>0</td>\n",
       "      <td>1</td>\n",
       "      <td>1</td>\n",
       "      <td>1</td>\n",
       "      <td>1</td>\n",
       "      <td>1</td>\n",
       "      <td>3</td>\n",
       "      <td>2</td>\n",
       "      <td>3</td>\n",
       "      <td>2</td>\n",
       "      <td>1</td>\n",
       "      <td>1</td>\n",
       "      <td>1</td>\n",
       "      <td>2</td>\n",
       "    </tr>\n",
       "    <tr>\n",
       "      <th>3</th>\n",
       "      <td>660719</td>\n",
       "      <td>0</td>\n",
       "      <td>13.0</td>\n",
       "      <td>17.0</td>\n",
       "      <td>1</td>\n",
       "      <td>2</td>\n",
       "      <td>0</td>\n",
       "      <td>2</td>\n",
       "      <td>0</td>\n",
       "      <td>0</td>\n",
       "      <td>1</td>\n",
       "      <td>2</td>\n",
       "      <td>1</td>\n",
       "      <td>1</td>\n",
       "      <td>2</td>\n",
       "      <td>3</td>\n",
       "      <td>1</td>\n",
       "      <td>1</td>\n",
       "      <td>1</td>\n",
       "      <td>2</td>\n",
       "    </tr>\n",
       "    <tr>\n",
       "      <th>4</th>\n",
       "      <td>660681</td>\n",
       "      <td>1</td>\n",
       "      <td>15.0</td>\n",
       "      <td>18.0</td>\n",
       "      <td>1</td>\n",
       "      <td>3</td>\n",
       "      <td>0</td>\n",
       "      <td>3</td>\n",
       "      <td>0</td>\n",
       "      <td>0</td>\n",
       "      <td>1</td>\n",
       "      <td>8</td>\n",
       "      <td>2</td>\n",
       "      <td>1</td>\n",
       "      <td>3</td>\n",
       "      <td>2</td>\n",
       "      <td>1</td>\n",
       "      <td>1</td>\n",
       "      <td>1</td>\n",
       "      <td>2</td>\n",
       "    </tr>\n",
       "  </tbody>\n",
       "</table>\n",
       "</div>"
      ],
      "text/plain": [
       "   Lead Number  Converted  Asymmetrique Activity Score  \\\n",
       "0       660737          0                         15.0   \n",
       "1       660728          0                         15.0   \n",
       "2       660727          1                         14.0   \n",
       "3       660719          0                         13.0   \n",
       "4       660681          1                         15.0   \n",
       "\n",
       "   Asymmetrique Profile Score  Lead Origin  Lead Source  Do Not Email  \\\n",
       "0                        15.0            0            0             0   \n",
       "1                        15.0            0            1             0   \n",
       "2                        20.0            1            2             0   \n",
       "3                        17.0            1            2             0   \n",
       "4                        18.0            1            3             0   \n",
       "\n",
       "   Last Activity  A free copy of Mastering The Interview  \\\n",
       "0              0                                       0   \n",
       "1              1                                       0   \n",
       "2              1                                       1   \n",
       "3              2                                       0   \n",
       "4              3                                       0   \n",
       "\n",
       "   Last Notable Activity  Country  Specialization  \\\n",
       "0                      0        1               8   \n",
       "1                      1        1               8   \n",
       "2                      1        1               1   \n",
       "3                      0        1               2   \n",
       "4                      0        1               8   \n",
       "\n",
       "   How did you hear about X Education  What is your current occupation  Tags  \\\n",
       "0                                   3                                1     1   \n",
       "1                                   3                                1     2   \n",
       "2                                   3                                2     3   \n",
       "3                                   1                                1     2   \n",
       "4                                   2                                1     3   \n",
       "\n",
       "   Lead Quality  Lead Profile  City  Asymmetrique Activity Index  \\\n",
       "0             1             1     1                            1   \n",
       "1             1             1     1                            1   \n",
       "2             2             1     1                            1   \n",
       "3             3             1     1                            1   \n",
       "4             2             1     1                            1   \n",
       "\n",
       "   Asymmetrique Profile Index  \n",
       "0                           1  \n",
       "1                           1  \n",
       "2                           2  \n",
       "3                           2  \n",
       "4                           2  "
      ]
     },
     "execution_count": 82,
     "metadata": {},
     "output_type": "execute_result"
    }
   ],
   "source": [
    "df_lead_p1.head()"
   ]
  },
  {
   "cell_type": "code",
   "execution_count": 83,
   "metadata": {},
   "outputs": [],
   "source": [
    "#bring above score & index in df_lead_p1\n",
    "df_lead_p1[f] =df_lead_noNulCol_sc[f]\n",
    "\n",
    "#bring number fields in df_lead_p1\n",
    "df_lead_p1[num_flds] = df_lead[num_flds]\n",
    "\n",
    "#Create a copy of this dataset\n",
    "df_lead_p2=df_lead_p1.copy()"
   ]
  },
  {
   "cell_type": "markdown",
   "metadata": {},
   "source": [
    "### Visualize the Data Distribution"
   ]
  },
  {
   "cell_type": "code",
   "execution_count": 84,
   "metadata": {},
   "outputs": [
    {
     "data": {
      "text/plain": [
       "16"
      ]
     },
     "execution_count": 84,
     "metadata": {},
     "output_type": "execute_result"
    }
   ],
   "source": [
    "CatVar= list( getCatFields(df_lead).Categorical_FieldName )\n",
    "len(CatVar)"
   ]
  },
  {
   "cell_type": "markdown",
   "metadata": {},
   "source": [
    "#### Visualize Distribution of Categorical Fields"
   ]
  },
  {
   "cell_type": "code",
   "execution_count": 85,
   "metadata": {},
   "outputs": [
    {
     "data": {
      "image/png": "[encoded data removed]",
      "text/plain": [
       "<Figure size 1080x720 with 16 Axes>"
      ]
     },
     "metadata": {
      "needs_background": "light"
     },
     "output_type": "display_data"
    }
   ],
   "source": [
    "plt.figure(figsize=(15,10))\n",
    "i=1\n",
    "while i<=16: \n",
    "    plt.subplot(4,4,i)           \n",
    "    ax= sns.distplot(df_lead_p1[CatVar[i-1]])\n",
    "\n",
    "    i+=1\n",
    "plt.tight_layout()"
   ]
  },
  {
   "cell_type": "markdown",
   "metadata": {},
   "source": [
    "#### Visuzalize Conversion Rate against Categorical Fields"
   ]
  },
  {
   "cell_type": "code",
   "execution_count": 86,
   "metadata": {},
   "outputs": [
    {
     "data": {
      "image/png": "[encoded data removed]",
      "text/plain": [
       "<Figure size 1080x720 with 16 Axes>"
      ]
     },
     "metadata": {
      "needs_background": "light"
     },
     "output_type": "display_data"
    }
   ],
   "source": [
    "plt.figure(figsize=(15,10))\n",
    "i=1\n",
    "while i<=16: \n",
    "    plt.subplot(4,4,i)           \n",
    "    ax= sns.barplot(x=df_lead_p1[CatVar[i-1]],y=df_lead_p1.Converted)\n",
    "\n",
    "    i+=1\n",
    "plt.tight_layout()"
   ]
  },
  {
   "cell_type": "code",
   "execution_count": null,
   "metadata": {},
   "outputs": [],
   "source": []
  },
  {
   "cell_type": "markdown",
   "metadata": {},
   "source": [
    "#### Visualize the Distribution of Numerical Fields"
   ]
  },
  {
   "cell_type": "code",
   "execution_count": 87,
   "metadata": {},
   "outputs": [
    {
     "data": {
      "text/plain": [
       "['TotalVisits',\n",
       " 'Total Time Spent on Website',\n",
       " 'Page Views Per Visit',\n",
       " 'Asymmetrique Activity Score',\n",
       " 'Asymmetrique Profile Score']"
      ]
     },
     "execution_count": 87,
     "metadata": {},
     "output_type": "execute_result"
    }
   ],
   "source": [
    "num_flds2"
   ]
  },
  {
   "cell_type": "code",
   "execution_count": 88,
   "metadata": {},
   "outputs": [
    {
     "data": {
      "image/png": "[encoded data removed]",
      "text/plain": [
       "<Figure size 1080x216 with 2 Axes>"
      ]
     },
     "metadata": {
      "needs_background": "light"
     },
     "output_type": "display_data"
    }
   ],
   "source": [
    "plt.figure(figsize=(15,3))\n",
    "plt.subplot(2,1,1)\n",
    "sns.barplot(x=df_lead_p1.TotalVisits, y=df_lead_p1.Converted)\n",
    "plt.subplot(2,1,2)\n",
    "sns.boxplot( df_lead_p1['TotalVisits'] )\n",
    "plt.tight_layout()\n",
    "plt.show()"
   ]
  },
  {
   "cell_type": "code",
   "execution_count": 89,
   "metadata": {},
   "outputs": [
    {
     "data": {
      "image/png": "[encoded data removed]",
      "text/plain": [
       "<Figure size 1080x216 with 2 Axes>"
      ]
     },
     "metadata": {
      "needs_background": "light"
     },
     "output_type": "display_data"
    }
   ],
   "source": [
    "plt.figure(figsize=(15,3))\n",
    "plt.subplot(2,1,1)\n",
    "sns.barplot(x=df_lead_p1['Page Views Per Visit'], y=df_lead_p1.Converted)\n",
    "plt.subplot(2,1,2)\n",
    "sns.boxplot( df_lead_p1['Page Views Per Visit'] )\n",
    "plt.tight_layout()\n",
    "plt.show()"
   ]
  },
  {
   "cell_type": "code",
   "execution_count": 90,
   "metadata": {},
   "outputs": [
    {
     "data": {
      "image/png": "[encoded data removed]",
      "text/plain": [
       "<Figure size 1080x72 with 1 Axes>"
      ]
     },
     "metadata": {
      "needs_background": "light"
     },
     "output_type": "display_data"
    }
   ],
   "source": [
    "plt.figure(figsize=(15,1))\n",
    "sns.boxplot( df_lead_p1['Total Time Spent on Website'] )\n",
    "#sns.barplot(x=df_lead_p1['Total Time Spent on Website'], y=df_lead_p1.Converted)\n",
    "plt.show()"
   ]
  },
  {
   "cell_type": "code",
   "execution_count": 91,
   "metadata": {},
   "outputs": [],
   "source": [
    "#\"Asymmetrique Profile Score\" & \"Asymmetrique Activity Score\" had 45% Null values\n",
    "#Therefore let us compare pre-post null treatment data distribution"
   ]
  },
  {
   "cell_type": "markdown",
   "metadata": {},
   "source": [
    "##### Distribution of data in Asymmetrique Activity Score before null treatment"
   ]
  },
  {
   "cell_type": "code",
   "execution_count": 92,
   "metadata": {},
   "outputs": [
    {
     "data": {
      "image/png": "[encoded data removed]",
      "text/plain": [
       "<Figure size 1080x216 with 2 Axes>"
      ]
     },
     "metadata": {
      "needs_background": "light"
     },
     "output_type": "display_data"
    }
   ],
   "source": [
    "plt.figure(figsize=(15,3))\n",
    "plt.subplot(2,1,1)\n",
    "sns.barplot(x=df_lead_org['Asymmetrique Activity Score'], y=df_lead_org.Converted)\n",
    "plt.subplot(2,1,2)\n",
    "sns.boxplot( df_lead_org['Asymmetrique Activity Score'] )\n",
    "plt.show()"
   ]
  },
  {
   "cell_type": "markdown",
   "metadata": {},
   "source": [
    "##### Distribution of data in Asymmetrique Activity Score After null treatment"
   ]
  },
  {
   "cell_type": "code",
   "execution_count": 93,
   "metadata": {},
   "outputs": [
    {
     "data": {
      "image/png": "[encoded data removed]",
      "text/plain": [
       "<Figure size 1080x216 with 2 Axes>"
      ]
     },
     "metadata": {
      "needs_background": "light"
     },
     "output_type": "display_data"
    }
   ],
   "source": [
    "plt.figure(figsize=(15,3))\n",
    "plt.subplot(2,1,1)\n",
    "sns.barplot(x=df_lead_p1['Asymmetrique Activity Score'], y=df_lead_p1.Converted)\n",
    "plt.subplot(2,1,2)\n",
    "sns.boxplot( df_lead_p1['Asymmetrique Activity Score'] )\n",
    "plt.show()"
   ]
  },
  {
   "cell_type": "markdown",
   "metadata": {},
   "source": [
    "##### Distribution of data in Asymmetrique Profile Score before null treatment"
   ]
  },
  {
   "cell_type": "code",
   "execution_count": 94,
   "metadata": {},
   "outputs": [
    {
     "data": {
      "image/png": "[encoded data removed]",
      "text/plain": [
       "<Figure size 1080x216 with 2 Axes>"
      ]
     },
     "metadata": {
      "needs_background": "light"
     },
     "output_type": "display_data"
    }
   ],
   "source": [
    "plt.figure(figsize=(15,3))\n",
    "plt.subplot(2,1,1)\n",
    "sns.barplot(x=df_lead_org['Asymmetrique Profile Score'], y=df_lead_org.Converted)\n",
    "plt.subplot(2,1,2)\n",
    "sns.boxplot( df_lead_org['Asymmetrique Profile Score'] )\n",
    "plt.show()"
   ]
  },
  {
   "cell_type": "markdown",
   "metadata": {},
   "source": [
    "##### Distribution of data in Asymmetrique Profile Score After null treatment"
   ]
  },
  {
   "cell_type": "code",
   "execution_count": 95,
   "metadata": {},
   "outputs": [
    {
     "data": {
      "image/png": "[encoded data removed]",
      "text/plain": [
       "<Figure size 1080x216 with 2 Axes>"
      ]
     },
     "metadata": {
      "needs_background": "light"
     },
     "output_type": "display_data"
    }
   ],
   "source": [
    "plt.figure(figsize=(15,3))\n",
    "plt.subplot(2,1,1)\n",
    "sns.barplot(x=df_lead_p1['Asymmetrique Profile Score'], y=df_lead_p1.Converted)\n",
    "plt.subplot(2,1,2)\n",
    "sns.boxplot( df_lead_p1['Asymmetrique Profile Score'] )\n",
    "plt.show()"
   ]
  },
  {
   "cell_type": "markdown",
   "metadata": {},
   "source": [
    "##### Correlation Between Different Variables"
   ]
  },
  {
   "cell_type": "code",
   "execution_count": null,
   "metadata": {},
   "outputs": [],
   "source": []
  },
  {
   "cell_type": "code",
   "execution_count": 96,
   "metadata": {},
   "outputs": [
    {
     "data": {
      "image/png": "[encoded data removed]",
      "text/plain": [
       "<Figure size 720x360 with 2 Axes>"
      ]
     },
     "metadata": {
      "needs_background": "light"
     },
     "output_type": "display_data"
    }
   ],
   "source": [
    "plt.figure(figsize = (10,5))\n",
    "sns.heatmap(np.round(df_lead_p1[num_flds2].corr(),2))\n",
    "plt.show()"
   ]
  },
  {
   "cell_type": "markdown",
   "metadata": {},
   "source": [
    "#### Create Dummy Fields for These Null Treated Categorical Fields"
   ]
  },
  {
   "cell_type": "code",
   "execution_count": 97,
   "metadata": {},
   "outputs": [
    {
     "name": "stdout",
     "output_type": "stream",
     "text": [
      "['A free copy of Mastering The Interview', 'Asymmetrique Activity Index', 'Asymmetrique Profile Index', 'City', 'Country', 'Do Not Email', 'How did you hear about X Education', 'Last Activity', 'Last Notable Activity', 'Lead Origin', 'Lead Profile', 'Lead Quality', 'Lead Source', 'Specialization', 'Tags', 'What is your current occupation']\n"
     ]
    }
   ],
   "source": [
    "catf=list(getCatFields(df_lead).Categorical_FieldName)\n",
    "print (catf)"
   ]
  },
  {
   "cell_type": "code",
   "execution_count": 98,
   "metadata": {},
   "outputs": [],
   "source": [
    "catf_pref= ['free',\n",
    " 'ActInd',\n",
    " 'ProInd',\n",
    " 'City',\n",
    " 'Cntry',\n",
    " 'NoEmail',\n",
    " 'Hear',\n",
    " 'LastAct',\n",
    " 'NotableAct',\n",
    " 'LeadOrg',\n",
    " 'LeadPro',\n",
    " 'LeadQ',\n",
    " 'LeadSrc',\n",
    " 'Spec',\n",
    " 'Tags',\n",
    " 'Occu']"
   ]
  },
  {
   "cell_type": "code",
   "execution_count": 99,
   "metadata": {},
   "outputs": [],
   "source": [
    "#create dummy fields for all fields in catf, drop the field from df_lead_p2 and contatenate with dummy fields.\n",
    "\n",
    "i=0\n",
    "while i < len(catf):\n",
    "    cat1 = pd.get_dummies(df_lead_p2[ catf[i] ] , prefix=catf_pref[i], drop_first=True)\n",
    "    df_lead_p2.drop(columns=catf[i], inplace=True)\n",
    "\n",
    "    #concatenate all the dummy variables with main dataset\n",
    "    df_lead_p2 = pd.concat( [df_lead_p2,cat1], axis=1)\n",
    "\n",
    "    i+=1"
   ]
  },
  {
   "cell_type": "markdown",
   "metadata": {},
   "source": [
    "## Prediction Modeling"
   ]
  },
  {
   "cell_type": "code",
   "execution_count": 100,
   "metadata": {},
   "outputs": [],
   "source": [
    "numflds_2scale=['TotalVisits',  'Total Time Spent on Website',  'Page Views Per Visit',  \n",
    "'Asymmetrique Activity Score',  'Asymmetrique Profile Score']"
   ]
  },
  {
   "cell_type": "code",
   "execution_count": 101,
   "metadata": {},
   "outputs": [
    {
     "name": "stderr",
     "output_type": "stream",
     "text": [
      "C:\\Users\\admin\\Anaconda3\\lib\\site-packages\\sklearn\\preprocessing\\data.py:625: DataConversionWarning: Data with input dtype int64, float64 were all converted to float64 by StandardScaler.\n",
      "  return self.partial_fit(X, y)\n",
      "C:\\Users\\admin\\Anaconda3\\lib\\site-packages\\sklearn\\base.py:462: DataConversionWarning: Data with input dtype int64, float64 were all converted to float64 by StandardScaler.\n",
      "  return self.fit(X, **fit_params).transform(X)\n",
      "C:\\Users\\admin\\Anaconda3\\lib\\site-packages\\sklearn\\preprocessing\\data.py:625: DataConversionWarning: Data with input dtype int64, float64 were all converted to float64 by StandardScaler.\n",
      "  return self.partial_fit(X, y)\n",
      "C:\\Users\\admin\\Anaconda3\\lib\\site-packages\\sklearn\\base.py:462: DataConversionWarning: Data with input dtype int64, float64 were all converted to float64 by StandardScaler.\n",
      "  return self.fit(X, **fit_params).transform(X)\n"
     ]
    }
   ],
   "source": [
    "#Train Test Split\n",
    "\n",
    "X_data=df_lead_p2.drop(columns=[\"Converted\"])\n",
    "y_data=df_lead_p2.Converted\n",
    "\n",
    "X_train, X_test, y_train, y_test = train_test_split(X_data,y_data, test_size=.30, random_state=42 )\n",
    "\n",
    "#Scale Numberical Fields\n",
    "sc = StandardScaler()\n",
    "\n",
    "temp = pd.DataFrame( sc.fit_transform(X_train [numflds_2scale]),columns=numflds_2scale, index=X_train.index )\n",
    "X_train[numflds_2scale]= temp\n",
    "\n",
    "temp = pd.DataFrame( sc.fit_transform(X_test [numflds_2scale]),columns=numflds_2scale, index=X_test.index )\n",
    "X_test[numflds_2scale]= temp\n",
    "\n",
    "\n",
    "Lead_Number_Train = X_train[\"Lead Number\"]\n",
    "Lead_Number_Test  = X_test[\"Lead Number\"]\n",
    "\n",
    "X_train.drop(columns=[\"Lead Number\"], inplace=True)\n",
    "X_test.drop(columns=[\"Lead Number\"], inplace=True)"
   ]
  },
  {
   "cell_type": "markdown",
   "metadata": {},
   "source": [
    "### Prediction Using PCA"
   ]
  },
  {
   "cell_type": "code",
   "execution_count": 102,
   "metadata": {},
   "outputs": [],
   "source": [
    "pca = PCA(svd_solver=\"randomized\",random_state=100)"
   ]
  },
  {
   "cell_type": "code",
   "execution_count": 103,
   "metadata": {},
   "outputs": [],
   "source": [
    "pca_scaled_train = pca.fit_transform(X_train)\n",
    "pca_scaled_train = pd.DataFrame(pca_scaled_train, columns=X_train.columns)\n",
    "\n",
    "pca_scaled_test = pca.fit_transform(X_test)\n",
    "pca_scaled_test = pd.DataFrame(pca_scaled_test, columns=X_test.columns)\n",
    "\n",
    "var=np.cumsum(np.round(pca.explained_variance_ratio_, decimals=4)*100)\n",
    "\n",
    "X_train_pca =X_train.loc [:: ,list(var<=96) ]\n",
    "X_test_pca  =X_test.loc [:: ,list(var<=96) ]"
   ]
  },
  {
   "cell_type": "code",
   "execution_count": 104,
   "metadata": {},
   "outputs": [],
   "source": [
    "#Training the model on the train data\n",
    "from sklearn.linear_model import LogisticRegression\n",
    "lr = LogisticRegression()\n",
    "\n",
    "model_pca = lr.fit(X_train_pca,y_train)\n",
    "\n",
    "#predict using train data\n",
    "predictions_train = model_pca.predict(X_train_pca)\n",
    "\n",
    "#predict using test data\n",
    "predictions_test_pca = model_pca.predict(X_test_pca)"
   ]
  },
  {
   "cell_type": "code",
   "execution_count": 105,
   "metadata": {},
   "outputs": [
    {
     "name": "stdout",
     "output_type": "stream",
     "text": [
      "Accuracy on Train Dataset : 0.74\n"
     ]
    }
   ],
   "source": [
    "print (\"Accuracy on Train Dataset :\",\n",
    "round(metrics.accuracy_score(y_train, predictions_train),2))"
   ]
  },
  {
   "cell_type": "code",
   "execution_count": 106,
   "metadata": {},
   "outputs": [
    {
     "name": "stdout",
     "output_type": "stream",
     "text": [
      "Accuracy on Test Dataset : 0.74\n"
     ]
    }
   ],
   "source": [
    "print (\"Accuracy on Test Dataset :\",\n",
    "       round(metrics.accuracy_score(y_test, predictions_test_pca),2))"
   ]
  },
  {
   "cell_type": "code",
   "execution_count": 107,
   "metadata": {},
   "outputs": [
    {
     "data": {
      "text/plain": [
       "array([[3433,  551],\n",
       "       [1141, 1343]], dtype=int64)"
      ]
     },
     "execution_count": 107,
     "metadata": {},
     "output_type": "execute_result"
    }
   ],
   "source": [
    "metrics.confusion_matrix(y_train, predictions_train)"
   ]
  },
  {
   "cell_type": "code",
   "execution_count": 108,
   "metadata": {},
   "outputs": [
    {
     "data": {
      "text/plain": [
       "array([[1461,  234],\n",
       "       [ 495,  582]], dtype=int64)"
      ]
     },
     "execution_count": 108,
     "metadata": {},
     "output_type": "execute_result"
    }
   ],
   "source": [
    "metrics.confusion_matrix(y_test, predictions_test_pca)"
   ]
  },
  {
   "cell_type": "markdown",
   "metadata": {},
   "source": [
    "## Prediction Using RFE Method"
   ]
  },
  {
   "cell_type": "code",
   "execution_count": 109,
   "metadata": {},
   "outputs": [],
   "source": [
    "from sklearn.linear_model import LogisticRegression\n",
    "from sklearn.feature_selection import RFE\n",
    "log_model = LogisticRegression()\n",
    "rfe = RFE(log_model,15)"
   ]
  },
  {
   "cell_type": "code",
   "execution_count": 110,
   "metadata": {},
   "outputs": [],
   "source": [
    "# Fit the model\n",
    "rfe =rfe.fit(X_train, y_train)\n",
    "\n",
    "\n",
    "# make predictions\n",
    "predictions_train = rfe.predict( X_train )\n",
    "predictions_test_rfe = rfe.predict( X_test )"
   ]
  },
  {
   "cell_type": "code",
   "execution_count": 111,
   "metadata": {},
   "outputs": [
    {
     "name": "stdout",
     "output_type": "stream",
     "text": [
      "Accuracy on Train Dataset : 0.91\n"
     ]
    }
   ],
   "source": [
    "print (\"Accuracy on Train Dataset :\",\n",
    "round(metrics.accuracy_score(y_train, predictions_train),2))"
   ]
  },
  {
   "cell_type": "code",
   "execution_count": 112,
   "metadata": {},
   "outputs": [
    {
     "name": "stdout",
     "output_type": "stream",
     "text": [
      "Accuracy on Test Dataset : 0.91\n"
     ]
    }
   ],
   "source": [
    "print (\"Accuracy on Test Dataset :\",\n",
    "       round(metrics.accuracy_score(y_test, predictions_test_rfe),2))"
   ]
  },
  {
   "cell_type": "code",
   "execution_count": 113,
   "metadata": {},
   "outputs": [
    {
     "data": {
      "text/plain": [
       "array([[3580,  404],\n",
       "       [ 209, 2275]], dtype=int64)"
      ]
     },
     "execution_count": 113,
     "metadata": {},
     "output_type": "execute_result"
    }
   ],
   "source": [
    "metrics.confusion_matrix(y_train, predictions_train)"
   ]
  },
  {
   "cell_type": "code",
   "execution_count": 114,
   "metadata": {},
   "outputs": [
    {
     "data": {
      "text/plain": [
       "array([[1532,  163],\n",
       "       [  84,  993]], dtype=int64)"
      ]
     },
     "execution_count": 114,
     "metadata": {},
     "output_type": "execute_result"
    }
   ],
   "source": [
    "metrics.confusion_matrix(y_test, predictions_test_rfe)"
   ]
  },
  {
   "cell_type": "code",
   "execution_count": 115,
   "metadata": {},
   "outputs": [
    {
     "data": {
      "text/plain": [
       "['NotableAct_9',\n",
       " 'LeadPro_3',\n",
       " 'LeadPro_5',\n",
       " 'LeadQ_5',\n",
       " 'LeadSrc_5',\n",
       " 'Tags_3',\n",
       " 'Tags_4',\n",
       " 'Tags_6',\n",
       " 'Tags_7',\n",
       " 'Tags_8',\n",
       " 'Tags_9',\n",
       " 'Tags_12',\n",
       " 'Tags_23',\n",
       " 'Tags_25',\n",
       " 'Occu_3']"
      ]
     },
     "execution_count": 115,
     "metadata": {},
     "output_type": "execute_result"
    }
   ],
   "source": [
    "rfe_flds = list(X_train.loc[::,rfe.support_].columns)\n",
    "rfe_flds"
   ]
  },
  {
   "cell_type": "markdown",
   "metadata": {},
   "source": [
    "## Prediction using Statsmodel"
   ]
  },
  {
   "cell_type": "code",
   "execution_count": 116,
   "metadata": {},
   "outputs": [],
   "source": [
    "# Importing statsmodels for creating model\n",
    "import statsmodels.api as sm\n",
    "\n",
    "# Import variance_inflation_factor To calculate the VIFs for the new model\n",
    "from statsmodels.stats.outliers_influence import variance_inflation_factor"
   ]
  },
  {
   "cell_type": "code",
   "execution_count": 117,
   "metadata": {},
   "outputs": [],
   "source": [
    "X_train = X_train[rfe_flds]"
   ]
  },
  {
   "cell_type": "code",
   "execution_count": 118,
   "metadata": {},
   "outputs": [
    {
     "data": {
      "text/html": [
       "<table class=\"simpletable\">\n",
       "<caption>Generalized Linear Model Regression Results</caption>\n",
       "<tr>\n",
       "  <th>Dep. Variable:</th>      <td>Converted</td>    <th>  No. Observations:  </th>  <td>  6468</td>  \n",
       "</tr>\n",
       "<tr>\n",
       "  <th>Model:</th>                 <td>GLM</td>       <th>  Df Residuals:      </th>  <td>  6452</td>  \n",
       "</tr>\n",
       "<tr>\n",
       "  <th>Model Family:</th>       <td>Binomial</td>     <th>  Df Model:          </th>  <td>    15</td>  \n",
       "</tr>\n",
       "<tr>\n",
       "  <th>Link Function:</th>        <td>logit</td>      <th>  Scale:             </th> <td>  1.0000</td> \n",
       "</tr>\n",
       "<tr>\n",
       "  <th>Method:</th>               <td>IRLS</td>       <th>  Log-Likelihood:    </th> <td> -1630.9</td> \n",
       "</tr>\n",
       "<tr>\n",
       "  <th>Date:</th>           <td>Mon, 26 Aug 2019</td> <th>  Deviance:          </th> <td>  3261.8</td> \n",
       "</tr>\n",
       "<tr>\n",
       "  <th>Time:</th>               <td>20:12:32</td>     <th>  Pearson chi2:      </th> <td>6.33e+03</td> \n",
       "</tr>\n",
       "<tr>\n",
       "  <th>No. Iterations:</th>        <td>23</td>        <th>  Covariance Type:   </th> <td>nonrobust</td>\n",
       "</tr>\n",
       "</table>\n",
       "<table class=\"simpletable\">\n",
       "<tr>\n",
       "        <td></td>          <th>coef</th>     <th>std err</th>      <th>z</th>      <th>P>|z|</th>  <th>[0.025</th>    <th>0.975]</th>  \n",
       "</tr>\n",
       "<tr>\n",
       "  <th>const</th>        <td>   -3.1099</td> <td>    0.090</td> <td>  -34.413</td> <td> 0.000</td> <td>   -3.287</td> <td>   -2.933</td>\n",
       "</tr>\n",
       "<tr>\n",
       "  <th>NotableAct_9</th> <td>    1.2379</td> <td>    0.105</td> <td>   11.766</td> <td> 0.000</td> <td>    1.032</td> <td>    1.444</td>\n",
       "</tr>\n",
       "<tr>\n",
       "  <th>LeadPro_3</th>    <td>    2.9734</td> <td>    1.139</td> <td>    2.611</td> <td> 0.009</td> <td>    0.741</td> <td>    5.205</td>\n",
       "</tr>\n",
       "<tr>\n",
       "  <th>LeadPro_5</th>    <td>   -1.0099</td> <td>    0.328</td> <td>   -3.077</td> <td> 0.002</td> <td>   -1.653</td> <td>   -0.367</td>\n",
       "</tr>\n",
       "<tr>\n",
       "  <th>LeadQ_5</th>      <td>    1.7864</td> <td>    0.239</td> <td>    7.460</td> <td> 0.000</td> <td>    1.317</td> <td>    2.256</td>\n",
       "</tr>\n",
       "<tr>\n",
       "  <th>LeadSrc_5</th>    <td>   22.3565</td> <td>  1.4e+04</td> <td>    0.002</td> <td> 0.999</td> <td>-2.74e+04</td> <td> 2.75e+04</td>\n",
       "</tr>\n",
       "<tr>\n",
       "  <th>Tags_3</th>       <td>    3.9190</td> <td>    0.104</td> <td>   37.809</td> <td> 0.000</td> <td>    3.716</td> <td>    4.122</td>\n",
       "</tr>\n",
       "<tr>\n",
       "  <th>Tags_4</th>       <td>    6.1079</td> <td>    0.430</td> <td>   14.196</td> <td> 0.000</td> <td>    5.265</td> <td>    6.951</td>\n",
       "</tr>\n",
       "<tr>\n",
       "  <th>Tags_6</th>       <td>    2.6716</td> <td>    0.206</td> <td>   12.963</td> <td> 0.000</td> <td>    2.268</td> <td>    3.076</td>\n",
       "</tr>\n",
       "<tr>\n",
       "  <th>Tags_7</th>       <td>   -1.8827</td> <td>    0.720</td> <td>   -2.616</td> <td> 0.009</td> <td>   -3.293</td> <td>   -0.472</td>\n",
       "</tr>\n",
       "<tr>\n",
       "  <th>Tags_8</th>       <td>    2.0633</td> <td>    0.699</td> <td>    2.953</td> <td> 0.003</td> <td>    0.694</td> <td>    3.433</td>\n",
       "</tr>\n",
       "<tr>\n",
       "  <th>Tags_9</th>       <td>   -1.2653</td> <td>    0.469</td> <td>   -2.699</td> <td> 0.007</td> <td>   -2.184</td> <td>   -0.346</td>\n",
       "</tr>\n",
       "<tr>\n",
       "  <th>Tags_12</th>      <td>    5.6208</td> <td>    0.402</td> <td>   13.971</td> <td> 0.000</td> <td>    4.832</td> <td>    6.409</td>\n",
       "</tr>\n",
       "<tr>\n",
       "  <th>Tags_23</th>      <td>   26.1468</td> <td> 6.36e+04</td> <td>    0.000</td> <td> 1.000</td> <td>-1.25e+05</td> <td> 1.25e+05</td>\n",
       "</tr>\n",
       "<tr>\n",
       "  <th>Tags_25</th>      <td>    2.3397</td> <td>    0.976</td> <td>    2.397</td> <td> 0.017</td> <td>    0.427</td> <td>    4.252</td>\n",
       "</tr>\n",
       "<tr>\n",
       "  <th>Occu_3</th>       <td>    1.9193</td> <td>    0.231</td> <td>    8.312</td> <td> 0.000</td> <td>    1.467</td> <td>    2.372</td>\n",
       "</tr>\n",
       "</table>"
      ],
      "text/plain": [
       "<class 'statsmodels.iolib.summary.Summary'>\n",
       "\"\"\"\n",
       "                 Generalized Linear Model Regression Results                  \n",
       "==============================================================================\n",
       "Dep. Variable:              Converted   No. Observations:                 6468\n",
       "Model:                            GLM   Df Residuals:                     6452\n",
       "Model Family:                Binomial   Df Model:                           15\n",
       "Link Function:                  logit   Scale:                          1.0000\n",
       "Method:                          IRLS   Log-Likelihood:                -1630.9\n",
       "Date:                Mon, 26 Aug 2019   Deviance:                       3261.8\n",
       "Time:                        20:12:32   Pearson chi2:                 6.33e+03\n",
       "No. Iterations:                    23   Covariance Type:             nonrobust\n",
       "================================================================================\n",
       "                   coef    std err          z      P>|z|      [0.025      0.975]\n",
       "--------------------------------------------------------------------------------\n",
       "const           -3.1099      0.090    -34.413      0.000      -3.287      -2.933\n",
       "NotableAct_9     1.2379      0.105     11.766      0.000       1.032       1.444\n",
       "LeadPro_3        2.9734      1.139      2.611      0.009       0.741       5.205\n",
       "LeadPro_5       -1.0099      0.328     -3.077      0.002      -1.653      -0.367\n",
       "LeadQ_5          1.7864      0.239      7.460      0.000       1.317       2.256\n",
       "LeadSrc_5       22.3565    1.4e+04      0.002      0.999   -2.74e+04    2.75e+04\n",
       "Tags_3           3.9190      0.104     37.809      0.000       3.716       4.122\n",
       "Tags_4           6.1079      0.430     14.196      0.000       5.265       6.951\n",
       "Tags_6           2.6716      0.206     12.963      0.000       2.268       3.076\n",
       "Tags_7          -1.8827      0.720     -2.616      0.009      -3.293      -0.472\n",
       "Tags_8           2.0633      0.699      2.953      0.003       0.694       3.433\n",
       "Tags_9          -1.2653      0.469     -2.699      0.007      -2.184      -0.346\n",
       "Tags_12          5.6208      0.402     13.971      0.000       4.832       6.409\n",
       "Tags_23         26.1468   6.36e+04      0.000      1.000   -1.25e+05    1.25e+05\n",
       "Tags_25          2.3397      0.976      2.397      0.017       0.427       4.252\n",
       "Occu_3           1.9193      0.231      8.312      0.000       1.467       2.372\n",
       "================================================================================\n",
       "\"\"\""
      ]
     },
     "execution_count": 118,
     "metadata": {},
     "output_type": "execute_result"
    }
   ],
   "source": [
    "logm1 = sm.GLM(y_train,(sm.add_constant(X_train)), family = sm.families.Binomial())\n",
    "logm1.fit().summary()"
   ]
  },
  {
   "cell_type": "code",
   "execution_count": 119,
   "metadata": {},
   "outputs": [],
   "source": [
    "#drop LeadSrc_5, as this has high p-value\n",
    "X_train.drop(columns=\"LeadSrc_5\", inplace=True )"
   ]
  },
  {
   "cell_type": "code",
   "execution_count": 120,
   "metadata": {},
   "outputs": [
    {
     "data": {
      "text/html": [
       "<table class=\"simpletable\">\n",
       "<caption>Generalized Linear Model Regression Results</caption>\n",
       "<tr>\n",
       "  <th>Dep. Variable:</th>      <td>Converted</td>    <th>  No. Observations:  </th>  <td>  6468</td>  \n",
       "</tr>\n",
       "<tr>\n",
       "  <th>Model:</th>                 <td>GLM</td>       <th>  Df Residuals:      </th>  <td>  6453</td>  \n",
       "</tr>\n",
       "<tr>\n",
       "  <th>Model Family:</th>       <td>Binomial</td>     <th>  Df Model:          </th>  <td>    14</td>  \n",
       "</tr>\n",
       "<tr>\n",
       "  <th>Link Function:</th>        <td>logit</td>      <th>  Scale:             </th> <td>  1.0000</td> \n",
       "</tr>\n",
       "<tr>\n",
       "  <th>Method:</th>               <td>IRLS</td>       <th>  Log-Likelihood:    </th> <td> -1639.4</td> \n",
       "</tr>\n",
       "<tr>\n",
       "  <th>Date:</th>           <td>Mon, 26 Aug 2019</td> <th>  Deviance:          </th> <td>  3278.8</td> \n",
       "</tr>\n",
       "<tr>\n",
       "  <th>Time:</th>               <td>20:12:32</td>     <th>  Pearson chi2:      </th> <td>6.43e+03</td> \n",
       "</tr>\n",
       "<tr>\n",
       "  <th>No. Iterations:</th>        <td>20</td>        <th>  Covariance Type:   </th> <td>nonrobust</td>\n",
       "</tr>\n",
       "</table>\n",
       "<table class=\"simpletable\">\n",
       "<tr>\n",
       "        <td></td>          <th>coef</th>     <th>std err</th>      <th>z</th>      <th>P>|z|</th>  <th>[0.025</th>    <th>0.975]</th>  \n",
       "</tr>\n",
       "<tr>\n",
       "  <th>const</th>        <td>   -3.1157</td> <td>    0.090</td> <td>  -34.431</td> <td> 0.000</td> <td>   -3.293</td> <td>   -2.938</td>\n",
       "</tr>\n",
       "<tr>\n",
       "  <th>NotableAct_9</th> <td>    1.2563</td> <td>    0.105</td> <td>   11.979</td> <td> 0.000</td> <td>    1.051</td> <td>    1.462</td>\n",
       "</tr>\n",
       "<tr>\n",
       "  <th>LeadPro_3</th>    <td>    2.9768</td> <td>    1.139</td> <td>    2.613</td> <td> 0.009</td> <td>    0.744</td> <td>    5.210</td>\n",
       "</tr>\n",
       "<tr>\n",
       "  <th>LeadPro_5</th>    <td>   -1.0093</td> <td>    0.329</td> <td>   -3.068</td> <td> 0.002</td> <td>   -1.654</td> <td>   -0.364</td>\n",
       "</tr>\n",
       "<tr>\n",
       "  <th>LeadQ_5</th>      <td>    1.8369</td> <td>    0.237</td> <td>    7.737</td> <td> 0.000</td> <td>    1.372</td> <td>    2.302</td>\n",
       "</tr>\n",
       "<tr>\n",
       "  <th>Tags_3</th>       <td>    3.9446</td> <td>    0.104</td> <td>   38.085</td> <td> 0.000</td> <td>    3.742</td> <td>    4.148</td>\n",
       "</tr>\n",
       "<tr>\n",
       "  <th>Tags_4</th>       <td>    6.1232</td> <td>    0.430</td> <td>   14.236</td> <td> 0.000</td> <td>    5.280</td> <td>    6.966</td>\n",
       "</tr>\n",
       "<tr>\n",
       "  <th>Tags_6</th>       <td>    2.6692</td> <td>    0.206</td> <td>   12.938</td> <td> 0.000</td> <td>    2.265</td> <td>    3.074</td>\n",
       "</tr>\n",
       "<tr>\n",
       "  <th>Tags_7</th>       <td>   -1.8889</td> <td>    0.720</td> <td>   -2.624</td> <td> 0.009</td> <td>   -3.300</td> <td>   -0.478</td>\n",
       "</tr>\n",
       "<tr>\n",
       "  <th>Tags_8</th>       <td>    2.0669</td> <td>    0.699</td> <td>    2.956</td> <td> 0.003</td> <td>    0.697</td> <td>    3.437</td>\n",
       "</tr>\n",
       "<tr>\n",
       "  <th>Tags_9</th>       <td>   -1.2598</td> <td>    0.469</td> <td>   -2.686</td> <td> 0.007</td> <td>   -2.179</td> <td>   -0.341</td>\n",
       "</tr>\n",
       "<tr>\n",
       "  <th>Tags_12</th>      <td>    5.6940</td> <td>    0.401</td> <td>   14.183</td> <td> 0.000</td> <td>    4.907</td> <td>    6.481</td>\n",
       "</tr>\n",
       "<tr>\n",
       "  <th>Tags_23</th>      <td>   23.1286</td> <td> 1.42e+04</td> <td>    0.002</td> <td> 0.999</td> <td>-2.78e+04</td> <td> 2.78e+04</td>\n",
       "</tr>\n",
       "<tr>\n",
       "  <th>Tags_25</th>      <td>    2.3363</td> <td>    0.979</td> <td>    2.387</td> <td> 0.017</td> <td>    0.418</td> <td>    4.255</td>\n",
       "</tr>\n",
       "<tr>\n",
       "  <th>Occu_3</th>       <td>    1.9018</td> <td>    0.232</td> <td>    8.198</td> <td> 0.000</td> <td>    1.447</td> <td>    2.356</td>\n",
       "</tr>\n",
       "</table>"
      ],
      "text/plain": [
       "<class 'statsmodels.iolib.summary.Summary'>\n",
       "\"\"\"\n",
       "                 Generalized Linear Model Regression Results                  \n",
       "==============================================================================\n",
       "Dep. Variable:              Converted   No. Observations:                 6468\n",
       "Model:                            GLM   Df Residuals:                     6453\n",
       "Model Family:                Binomial   Df Model:                           14\n",
       "Link Function:                  logit   Scale:                          1.0000\n",
       "Method:                          IRLS   Log-Likelihood:                -1639.4\n",
       "Date:                Mon, 26 Aug 2019   Deviance:                       3278.8\n",
       "Time:                        20:12:32   Pearson chi2:                 6.43e+03\n",
       "No. Iterations:                    20   Covariance Type:             nonrobust\n",
       "================================================================================\n",
       "                   coef    std err          z      P>|z|      [0.025      0.975]\n",
       "--------------------------------------------------------------------------------\n",
       "const           -3.1157      0.090    -34.431      0.000      -3.293      -2.938\n",
       "NotableAct_9     1.2563      0.105     11.979      0.000       1.051       1.462\n",
       "LeadPro_3        2.9768      1.139      2.613      0.009       0.744       5.210\n",
       "LeadPro_5       -1.0093      0.329     -3.068      0.002      -1.654      -0.364\n",
       "LeadQ_5          1.8369      0.237      7.737      0.000       1.372       2.302\n",
       "Tags_3           3.9446      0.104     38.085      0.000       3.742       4.148\n",
       "Tags_4           6.1232      0.430     14.236      0.000       5.280       6.966\n",
       "Tags_6           2.6692      0.206     12.938      0.000       2.265       3.074\n",
       "Tags_7          -1.8889      0.720     -2.624      0.009      -3.300      -0.478\n",
       "Tags_8           2.0669      0.699      2.956      0.003       0.697       3.437\n",
       "Tags_9          -1.2598      0.469     -2.686      0.007      -2.179      -0.341\n",
       "Tags_12          5.6940      0.401     14.183      0.000       4.907       6.481\n",
       "Tags_23         23.1286   1.42e+04      0.002      0.999   -2.78e+04    2.78e+04\n",
       "Tags_25          2.3363      0.979      2.387      0.017       0.418       4.255\n",
       "Occu_3           1.9018      0.232      8.198      0.000       1.447       2.356\n",
       "================================================================================\n",
       "\"\"\""
      ]
     },
     "execution_count": 120,
     "metadata": {},
     "output_type": "execute_result"
    }
   ],
   "source": [
    "logm1 = sm.GLM(y_train,(sm.add_constant(X_train)), family = sm.families.Binomial())\n",
    "logm1.fit().summary()"
   ]
  },
  {
   "cell_type": "code",
   "execution_count": 121,
   "metadata": {},
   "outputs": [],
   "source": [
    "#drop Tags_23, as this has high p-value\n",
    "X_train.drop(columns=\"Tags_23\", inplace=True )"
   ]
  },
  {
   "cell_type": "code",
   "execution_count": 122,
   "metadata": {},
   "outputs": [
    {
     "data": {
      "text/html": [
       "<table class=\"simpletable\">\n",
       "<caption>Generalized Linear Model Regression Results</caption>\n",
       "<tr>\n",
       "  <th>Dep. Variable:</th>      <td>Converted</td>    <th>  No. Observations:  </th>  <td>  6468</td>  \n",
       "</tr>\n",
       "<tr>\n",
       "  <th>Model:</th>                 <td>GLM</td>       <th>  Df Residuals:      </th>  <td>  6454</td>  \n",
       "</tr>\n",
       "<tr>\n",
       "  <th>Model Family:</th>       <td>Binomial</td>     <th>  Df Model:          </th>  <td>    13</td>  \n",
       "</tr>\n",
       "<tr>\n",
       "  <th>Link Function:</th>        <td>logit</td>      <th>  Scale:             </th> <td>  1.0000</td> \n",
       "</tr>\n",
       "<tr>\n",
       "  <th>Method:</th>               <td>IRLS</td>       <th>  Log-Likelihood:    </th> <td> -1646.1</td> \n",
       "</tr>\n",
       "<tr>\n",
       "  <th>Date:</th>           <td>Mon, 26 Aug 2019</td> <th>  Deviance:          </th> <td>  3292.1</td> \n",
       "</tr>\n",
       "<tr>\n",
       "  <th>Time:</th>               <td>20:12:32</td>     <th>  Pearson chi2:      </th> <td>6.42e+03</td> \n",
       "</tr>\n",
       "<tr>\n",
       "  <th>No. Iterations:</th>         <td>8</td>        <th>  Covariance Type:   </th> <td>nonrobust</td>\n",
       "</tr>\n",
       "</table>\n",
       "<table class=\"simpletable\">\n",
       "<tr>\n",
       "        <td></td>          <th>coef</th>     <th>std err</th>      <th>z</th>      <th>P>|z|</th>  <th>[0.025</th>    <th>0.975]</th>  \n",
       "</tr>\n",
       "<tr>\n",
       "  <th>const</th>        <td>   -3.1018</td> <td>    0.090</td> <td>  -34.510</td> <td> 0.000</td> <td>   -3.278</td> <td>   -2.926</td>\n",
       "</tr>\n",
       "<tr>\n",
       "  <th>NotableAct_9</th> <td>    1.2807</td> <td>    0.105</td> <td>   12.242</td> <td> 0.000</td> <td>    1.076</td> <td>    1.486</td>\n",
       "</tr>\n",
       "<tr>\n",
       "  <th>LeadPro_3</th>    <td>    2.9688</td> <td>    1.138</td> <td>    2.609</td> <td> 0.009</td> <td>    0.738</td> <td>    5.199</td>\n",
       "</tr>\n",
       "<tr>\n",
       "  <th>LeadPro_5</th>    <td>   -1.0175</td> <td>    0.328</td> <td>   -3.098</td> <td> 0.002</td> <td>   -1.661</td> <td>   -0.374</td>\n",
       "</tr>\n",
       "<tr>\n",
       "  <th>LeadQ_5</th>      <td>    1.8618</td> <td>    0.237</td> <td>    7.857</td> <td> 0.000</td> <td>    1.397</td> <td>    2.326</td>\n",
       "</tr>\n",
       "<tr>\n",
       "  <th>Tags_3</th>       <td>    3.9230</td> <td>    0.103</td> <td>   38.124</td> <td> 0.000</td> <td>    3.721</td> <td>    4.125</td>\n",
       "</tr>\n",
       "<tr>\n",
       "  <th>Tags_4</th>       <td>    6.1101</td> <td>    0.430</td> <td>   14.208</td> <td> 0.000</td> <td>    5.267</td> <td>    6.953</td>\n",
       "</tr>\n",
       "<tr>\n",
       "  <th>Tags_6</th>       <td>    2.6443</td> <td>    0.206</td> <td>   12.823</td> <td> 0.000</td> <td>    2.240</td> <td>    3.048</td>\n",
       "</tr>\n",
       "<tr>\n",
       "  <th>Tags_7</th>       <td>   -1.9192</td> <td>    0.720</td> <td>   -2.666</td> <td> 0.008</td> <td>   -3.330</td> <td>   -0.509</td>\n",
       "</tr>\n",
       "<tr>\n",
       "  <th>Tags_8</th>       <td>    2.0505</td> <td>    0.700</td> <td>    2.931</td> <td> 0.003</td> <td>    0.679</td> <td>    3.422</td>\n",
       "</tr>\n",
       "<tr>\n",
       "  <th>Tags_9</th>       <td>   -1.2716</td> <td>    0.469</td> <td>   -2.713</td> <td> 0.007</td> <td>   -2.190</td> <td>   -0.353</td>\n",
       "</tr>\n",
       "<tr>\n",
       "  <th>Tags_12</th>      <td>    5.6747</td> <td>    0.401</td> <td>   14.142</td> <td> 0.000</td> <td>    4.888</td> <td>    6.461</td>\n",
       "</tr>\n",
       "<tr>\n",
       "  <th>Tags_25</th>      <td>    2.3179</td> <td>    0.980</td> <td>    2.364</td> <td> 0.018</td> <td>    0.396</td> <td>    4.239</td>\n",
       "</tr>\n",
       "<tr>\n",
       "  <th>Occu_3</th>       <td>    1.8978</td> <td>    0.232</td> <td>    8.196</td> <td> 0.000</td> <td>    1.444</td> <td>    2.352</td>\n",
       "</tr>\n",
       "</table>"
      ],
      "text/plain": [
       "<class 'statsmodels.iolib.summary.Summary'>\n",
       "\"\"\"\n",
       "                 Generalized Linear Model Regression Results                  \n",
       "==============================================================================\n",
       "Dep. Variable:              Converted   No. Observations:                 6468\n",
       "Model:                            GLM   Df Residuals:                     6454\n",
       "Model Family:                Binomial   Df Model:                           13\n",
       "Link Function:                  logit   Scale:                          1.0000\n",
       "Method:                          IRLS   Log-Likelihood:                -1646.1\n",
       "Date:                Mon, 26 Aug 2019   Deviance:                       3292.1\n",
       "Time:                        20:12:32   Pearson chi2:                 6.42e+03\n",
       "No. Iterations:                     8   Covariance Type:             nonrobust\n",
       "================================================================================\n",
       "                   coef    std err          z      P>|z|      [0.025      0.975]\n",
       "--------------------------------------------------------------------------------\n",
       "const           -3.1018      0.090    -34.510      0.000      -3.278      -2.926\n",
       "NotableAct_9     1.2807      0.105     12.242      0.000       1.076       1.486\n",
       "LeadPro_3        2.9688      1.138      2.609      0.009       0.738       5.199\n",
       "LeadPro_5       -1.0175      0.328     -3.098      0.002      -1.661      -0.374\n",
       "LeadQ_5          1.8618      0.237      7.857      0.000       1.397       2.326\n",
       "Tags_3           3.9230      0.103     38.124      0.000       3.721       4.125\n",
       "Tags_4           6.1101      0.430     14.208      0.000       5.267       6.953\n",
       "Tags_6           2.6443      0.206     12.823      0.000       2.240       3.048\n",
       "Tags_7          -1.9192      0.720     -2.666      0.008      -3.330      -0.509\n",
       "Tags_8           2.0505      0.700      2.931      0.003       0.679       3.422\n",
       "Tags_9          -1.2716      0.469     -2.713      0.007      -2.190      -0.353\n",
       "Tags_12          5.6747      0.401     14.142      0.000       4.888       6.461\n",
       "Tags_25          2.3179      0.980      2.364      0.018       0.396       4.239\n",
       "Occu_3           1.8978      0.232      8.196      0.000       1.444       2.352\n",
       "================================================================================\n",
       "\"\"\""
      ]
     },
     "execution_count": 122,
     "metadata": {},
     "output_type": "execute_result"
    }
   ],
   "source": [
    "logm1 = sm.GLM(y_train,(sm.add_constant(X_train)), family = sm.families.Binomial())\n",
    "logm1.fit().summary()"
   ]
  },
  {
   "cell_type": "code",
   "execution_count": 123,
   "metadata": {},
   "outputs": [],
   "source": [
    "X_train_sm = sm.add_constant(X_train)\n",
    "X_test_sm = sm.add_constant(X_test[ X_train.columns])\n",
    "X_data_sm = sm.add_constant(X_data[ X_train.columns])\n",
    "\n",
    "logm = sm.GLM(y_train,X_train_sm, family = sm.families.Binomial()).fit()\n",
    "\n",
    "\n",
    "predictions_train= logm.predict(X_train_sm)\n",
    "predictions_test_stats= logm.predict(X_test_sm)\n",
    "predictions_all = logm.predict(X_data_sm)"
   ]
  },
  {
   "cell_type": "code",
   "execution_count": null,
   "metadata": {},
   "outputs": [],
   "source": []
  },
  {
   "cell_type": "markdown",
   "metadata": {},
   "source": [
    "## Model Comparision"
   ]
  },
  {
   "cell_type": "code",
   "execution_count": 124,
   "metadata": {},
   "outputs": [],
   "source": [
    "df_train_pred = pd.DataFrame({'Converted':y_train.values, 'Probablity':predictions_train})\n",
    "df_test_pred = pd.DataFrame({'Converted':y_test.values, 'Probablity':predictions_test_stats})\n",
    "df_all_pred = pd.DataFrame({'Converted':y_data.values, 'Probablity':predictions_all})"
   ]
  },
  {
   "cell_type": "code",
   "execution_count": 125,
   "metadata": {},
   "outputs": [
    {
     "data": {
      "image/png": "[encoded data removed]",
      "text/plain": [
       "<Figure size 432x288 with 1 Axes>"
      ]
     },
     "metadata": {
      "needs_background": "light"
     },
     "output_type": "display_data"
    }
   ],
   "source": [
    "fpr1, tpr1, threshold1 = metrics.roc_curve(df_test_pred.Converted, predictions_test_pca)\n",
    "fpr2, tpr2, threshold2 = metrics.roc_curve(df_test_pred.Converted, predictions_test_rfe)\n",
    "fpr3, tpr3, threshold3 = metrics.roc_curve(df_test_pred.Converted, predictions_test_stats)\n",
    "\n",
    "ax=sns.lineplot(x=fpr1, y=tpr1)\n",
    "ax=sns.lineplot(x=fpr2, y=tpr2)\n",
    "ax=sns.lineplot(x=fpr3, y=tpr3)\n",
    "ax.set_ylabel(\"TPR\")\n",
    "ax.set_xlabel(\"FPR\")\n",
    "\n",
    "plt.title(\"Model Comparision Using AUC\")\n",
    "\n",
    "plt.legend([\"PCA Model\",\"RFE Model\", \"Stats Model\"])\n",
    "plt.show()"
   ]
  },
  {
   "cell_type": "markdown",
   "metadata": {},
   "source": [
    "#### Fom Above ROC Curves It looks Model Using StatusModel Algorithm is the best suited for our Problem"
   ]
  },
  {
   "cell_type": "markdown",
   "metadata": {},
   "source": [
    "## Metrics & Evaluation"
   ]
  },
  {
   "cell_type": "markdown",
   "metadata": {},
   "source": [
    "#### We will see the metrics on Train & Test Dataset Using StatsModel"
   ]
  },
  {
   "cell_type": "code",
   "execution_count": 126,
   "metadata": {},
   "outputs": [],
   "source": [
    "def plot_CutOffCurve(df_CutOff):\n",
    "    plt.figure(figsize=(15,5))\n",
    "    ax=sns.lineplot(x=\"Cut_off\", y=\"Accuracy\", data=df_CutOff)\n",
    "    ax=sns.lineplot(x=\"Cut_off\", y=\"Recall\", data=df_CutOff)\n",
    "    ax=sns.lineplot(x=\"Cut_off\", y=\"Precision\", data=df_CutOff)\n",
    "    ax=sns.lineplot(x=\"Cut_off\", y=\"Specificity\", data=df_CutOff)\n",
    "    ax=sns.lineplot(x=\"Cut_off\", y=\"Error_Rate\", data=df_CutOff)\n",
    "    ax=sns.lineplot(x=\"Cut_off\", y=\"FNR\", data=df_CutOff)\n",
    "    ax=sns.lineplot(x=\"Cut_off\", y=\"FPR\", data=df_CutOff)\n",
    "    ax.set_ylabel(\"Probability\")\n",
    "    plt.legend([\"Accuracy\",\"Recall\", \"Precision\", \"Specificity\", \"Error_Rate\", \"FNR\", \"FPR\"])\n",
    "\n",
    "    ax.set_title ( \"Cut-Off Curve\")\n",
    "    ax.set_xticks(ticks=[.1,.15,.2,.3,.4,.5,.6,.65,.7,.8,.9])\n",
    "    plt.show()"
   ]
  },
  {
   "cell_type": "code",
   "execution_count": 127,
   "metadata": {},
   "outputs": [],
   "source": [
    "def getCutOff_data(df): \n",
    "    cutoff=.1\n",
    "    cut_matrix=[]\n",
    "    while cutoff<=.99:\n",
    "        df['predicted'] = df.Probablity.map(lambda x: 1 if x > cutoff else 0)\n",
    "        cm = metrics.confusion_matrix(df.Converted, df.predicted)\n",
    "\n",
    "        cut_matrix.append( [ round(cutoff,2), list(cm)])\n",
    "        cutoff+=.05\n",
    "\n",
    "\n",
    "    mat1=[]\n",
    "    mat2=[]\n",
    "    for i in cut_matrix:\n",
    "        TN=i[1][0][0]\n",
    "        FP=i[1][0][1]\n",
    "        FN=i[1][1][0]\n",
    "        TP=i[1][1][1]\n",
    "        Tot= TN+FP+FN+TP\n",
    "\n",
    "        acc = round( (TN+TP)/Tot, 2)\n",
    "        recall = round( TP/(TP+FN), 2)\n",
    "        prec = round( TP / (TP +FP), 2)\n",
    "        spec = round( TN / (TN+FP), 2)\n",
    "        err = round( 1-acc, 2)\n",
    "        fpr = round( 1-spec, 2)\n",
    "        fnr = round( 1-recall, 2)\n",
    "        mat1.append( [i[0], acc, recall, prec, spec, err, fnr, fpr])\n",
    "\n",
    "\n",
    "    df_CutOff = pd.DataFrame( mat1, columns=[\"Cut_off\",\"Accuracy\", \"Recall\", \"Precision\", \"Specificity\", \"Error_Rate\", \"FNR\", \"FPR\"])\n",
    "\n",
    "    return df_CutOff"
   ]
  },
  {
   "cell_type": "markdown",
   "metadata": {},
   "source": [
    "## Train Dataset"
   ]
  },
  {
   "cell_type": "code",
   "execution_count": 128,
   "metadata": {},
   "outputs": [
    {
     "data": {
      "text/html": [
       "<div>\n",
       "<style scoped>\n",
       "    .dataframe tbody tr th:only-of-type {\n",
       "        vertical-align: middle;\n",
       "    }\n",
       "\n",
       "    .dataframe tbody tr th {\n",
       "        vertical-align: top;\n",
       "    }\n",
       "\n",
       "    .dataframe thead th {\n",
       "        text-align: right;\n",
       "    }\n",
       "</style>\n",
       "<table border=\"1\" class=\"dataframe\">\n",
       "  <thead>\n",
       "    <tr style=\"text-align: right;\">\n",
       "      <th></th>\n",
       "      <th>Cut_off</th>\n",
       "      <th>Accuracy</th>\n",
       "      <th>Recall</th>\n",
       "      <th>Precision</th>\n",
       "      <th>Specificity</th>\n",
       "      <th>Error_Rate</th>\n",
       "      <th>FNR</th>\n",
       "      <th>FPR</th>\n",
       "    </tr>\n",
       "  </thead>\n",
       "  <tbody>\n",
       "    <tr>\n",
       "      <th>0</th>\n",
       "      <td>0.10</td>\n",
       "      <td>0.86</td>\n",
       "      <td>0.95</td>\n",
       "      <td>0.75</td>\n",
       "      <td>0.80</td>\n",
       "      <td>0.14</td>\n",
       "      <td>0.05</td>\n",
       "      <td>0.20</td>\n",
       "    </tr>\n",
       "    <tr>\n",
       "      <th>1</th>\n",
       "      <td>0.15</td>\n",
       "      <td>0.90</td>\n",
       "      <td>0.93</td>\n",
       "      <td>0.82</td>\n",
       "      <td>0.88</td>\n",
       "      <td>0.10</td>\n",
       "      <td>0.07</td>\n",
       "      <td>0.12</td>\n",
       "    </tr>\n",
       "    <tr>\n",
       "      <th>2</th>\n",
       "      <td>0.20</td>\n",
       "      <td>0.90</td>\n",
       "      <td>0.93</td>\n",
       "      <td>0.82</td>\n",
       "      <td>0.88</td>\n",
       "      <td>0.10</td>\n",
       "      <td>0.07</td>\n",
       "      <td>0.12</td>\n",
       "    </tr>\n",
       "    <tr>\n",
       "      <th>3</th>\n",
       "      <td>0.25</td>\n",
       "      <td>0.90</td>\n",
       "      <td>0.93</td>\n",
       "      <td>0.84</td>\n",
       "      <td>0.89</td>\n",
       "      <td>0.10</td>\n",
       "      <td>0.07</td>\n",
       "      <td>0.11</td>\n",
       "    </tr>\n",
       "    <tr>\n",
       "      <th>4</th>\n",
       "      <td>0.30</td>\n",
       "      <td>0.91</td>\n",
       "      <td>0.93</td>\n",
       "      <td>0.84</td>\n",
       "      <td>0.89</td>\n",
       "      <td>0.09</td>\n",
       "      <td>0.07</td>\n",
       "      <td>0.11</td>\n",
       "    </tr>\n",
       "    <tr>\n",
       "      <th>5</th>\n",
       "      <td>0.35</td>\n",
       "      <td>0.91</td>\n",
       "      <td>0.93</td>\n",
       "      <td>0.84</td>\n",
       "      <td>0.89</td>\n",
       "      <td>0.09</td>\n",
       "      <td>0.07</td>\n",
       "      <td>0.11</td>\n",
       "    </tr>\n",
       "    <tr>\n",
       "      <th>6</th>\n",
       "      <td>0.40</td>\n",
       "      <td>0.91</td>\n",
       "      <td>0.92</td>\n",
       "      <td>0.85</td>\n",
       "      <td>0.90</td>\n",
       "      <td>0.09</td>\n",
       "      <td>0.08</td>\n",
       "      <td>0.10</td>\n",
       "    </tr>\n",
       "    <tr>\n",
       "      <th>7</th>\n",
       "      <td>0.45</td>\n",
       "      <td>0.91</td>\n",
       "      <td>0.92</td>\n",
       "      <td>0.85</td>\n",
       "      <td>0.90</td>\n",
       "      <td>0.09</td>\n",
       "      <td>0.08</td>\n",
       "      <td>0.10</td>\n",
       "    </tr>\n",
       "    <tr>\n",
       "      <th>8</th>\n",
       "      <td>0.50</td>\n",
       "      <td>0.91</td>\n",
       "      <td>0.92</td>\n",
       "      <td>0.85</td>\n",
       "      <td>0.90</td>\n",
       "      <td>0.09</td>\n",
       "      <td>0.08</td>\n",
       "      <td>0.10</td>\n",
       "    </tr>\n",
       "    <tr>\n",
       "      <th>9</th>\n",
       "      <td>0.55</td>\n",
       "      <td>0.91</td>\n",
       "      <td>0.92</td>\n",
       "      <td>0.85</td>\n",
       "      <td>0.90</td>\n",
       "      <td>0.09</td>\n",
       "      <td>0.08</td>\n",
       "      <td>0.10</td>\n",
       "    </tr>\n",
       "    <tr>\n",
       "      <th>10</th>\n",
       "      <td>0.60</td>\n",
       "      <td>0.90</td>\n",
       "      <td>0.91</td>\n",
       "      <td>0.85</td>\n",
       "      <td>0.90</td>\n",
       "      <td>0.10</td>\n",
       "      <td>0.09</td>\n",
       "      <td>0.10</td>\n",
       "    </tr>\n",
       "    <tr>\n",
       "      <th>11</th>\n",
       "      <td>0.65</td>\n",
       "      <td>0.90</td>\n",
       "      <td>0.91</td>\n",
       "      <td>0.85</td>\n",
       "      <td>0.90</td>\n",
       "      <td>0.10</td>\n",
       "      <td>0.09</td>\n",
       "      <td>0.10</td>\n",
       "    </tr>\n",
       "    <tr>\n",
       "      <th>12</th>\n",
       "      <td>0.70</td>\n",
       "      <td>0.86</td>\n",
       "      <td>0.68</td>\n",
       "      <td>0.95</td>\n",
       "      <td>0.98</td>\n",
       "      <td>0.14</td>\n",
       "      <td>0.32</td>\n",
       "      <td>0.02</td>\n",
       "    </tr>\n",
       "    <tr>\n",
       "      <th>13</th>\n",
       "      <td>0.75</td>\n",
       "      <td>0.86</td>\n",
       "      <td>0.68</td>\n",
       "      <td>0.95</td>\n",
       "      <td>0.98</td>\n",
       "      <td>0.14</td>\n",
       "      <td>0.32</td>\n",
       "      <td>0.02</td>\n",
       "    </tr>\n",
       "    <tr>\n",
       "      <th>14</th>\n",
       "      <td>0.80</td>\n",
       "      <td>0.86</td>\n",
       "      <td>0.68</td>\n",
       "      <td>0.95</td>\n",
       "      <td>0.98</td>\n",
       "      <td>0.14</td>\n",
       "      <td>0.32</td>\n",
       "      <td>0.02</td>\n",
       "    </tr>\n",
       "    <tr>\n",
       "      <th>15</th>\n",
       "      <td>0.85</td>\n",
       "      <td>0.86</td>\n",
       "      <td>0.68</td>\n",
       "      <td>0.95</td>\n",
       "      <td>0.98</td>\n",
       "      <td>0.14</td>\n",
       "      <td>0.32</td>\n",
       "      <td>0.02</td>\n",
       "    </tr>\n",
       "    <tr>\n",
       "      <th>16</th>\n",
       "      <td>0.90</td>\n",
       "      <td>0.77</td>\n",
       "      <td>0.41</td>\n",
       "      <td>0.97</td>\n",
       "      <td>0.99</td>\n",
       "      <td>0.23</td>\n",
       "      <td>0.59</td>\n",
       "      <td>0.01</td>\n",
       "    </tr>\n",
       "    <tr>\n",
       "      <th>17</th>\n",
       "      <td>0.95</td>\n",
       "      <td>0.71</td>\n",
       "      <td>0.26</td>\n",
       "      <td>0.98</td>\n",
       "      <td>1.00</td>\n",
       "      <td>0.29</td>\n",
       "      <td>0.74</td>\n",
       "      <td>0.00</td>\n",
       "    </tr>\n",
       "  </tbody>\n",
       "</table>\n",
       "</div>"
      ],
      "text/plain": [
       "    Cut_off  Accuracy  Recall  Precision  Specificity  Error_Rate   FNR   FPR\n",
       "0      0.10      0.86    0.95       0.75         0.80        0.14  0.05  0.20\n",
       "1      0.15      0.90    0.93       0.82         0.88        0.10  0.07  0.12\n",
       "2      0.20      0.90    0.93       0.82         0.88        0.10  0.07  0.12\n",
       "3      0.25      0.90    0.93       0.84         0.89        0.10  0.07  0.11\n",
       "4      0.30      0.91    0.93       0.84         0.89        0.09  0.07  0.11\n",
       "5      0.35      0.91    0.93       0.84         0.89        0.09  0.07  0.11\n",
       "6      0.40      0.91    0.92       0.85         0.90        0.09  0.08  0.10\n",
       "7      0.45      0.91    0.92       0.85         0.90        0.09  0.08  0.10\n",
       "8      0.50      0.91    0.92       0.85         0.90        0.09  0.08  0.10\n",
       "9      0.55      0.91    0.92       0.85         0.90        0.09  0.08  0.10\n",
       "10     0.60      0.90    0.91       0.85         0.90        0.10  0.09  0.10\n",
       "11     0.65      0.90    0.91       0.85         0.90        0.10  0.09  0.10\n",
       "12     0.70      0.86    0.68       0.95         0.98        0.14  0.32  0.02\n",
       "13     0.75      0.86    0.68       0.95         0.98        0.14  0.32  0.02\n",
       "14     0.80      0.86    0.68       0.95         0.98        0.14  0.32  0.02\n",
       "15     0.85      0.86    0.68       0.95         0.98        0.14  0.32  0.02\n",
       "16     0.90      0.77    0.41       0.97         0.99        0.23  0.59  0.01\n",
       "17     0.95      0.71    0.26       0.98         1.00        0.29  0.74  0.00"
      ]
     },
     "execution_count": 128,
     "metadata": {},
     "output_type": "execute_result"
    }
   ],
   "source": [
    "df_CutOff = getCutOff_data(df_train_pred)\n",
    "df_CutOff"
   ]
  },
  {
   "cell_type": "code",
   "execution_count": 129,
   "metadata": {},
   "outputs": [],
   "source": [
    "#At Cut off 65% We are getting best result"
   ]
  },
  {
   "cell_type": "code",
   "execution_count": 130,
   "metadata": {},
   "outputs": [
    {
     "data": {
      "image/png": "[encoded data removed]",
      "text/plain": [
       "<Figure size 1080x360 with 1 Axes>"
      ]
     },
     "metadata": {
      "needs_background": "light"
     },
     "output_type": "display_data"
    }
   ],
   "source": [
    "plot_CutOffCurve(df_CutOff)"
   ]
  },
  {
   "cell_type": "markdown",
   "metadata": {},
   "source": [
    "## Test Dataset"
   ]
  },
  {
   "cell_type": "code",
   "execution_count": 131,
   "metadata": {},
   "outputs": [
    {
     "data": {
      "text/html": [
       "<div>\n",
       "<style scoped>\n",
       "    .dataframe tbody tr th:only-of-type {\n",
       "        vertical-align: middle;\n",
       "    }\n",
       "\n",
       "    .dataframe tbody tr th {\n",
       "        vertical-align: top;\n",
       "    }\n",
       "\n",
       "    .dataframe thead th {\n",
       "        text-align: right;\n",
       "    }\n",
       "</style>\n",
       "<table border=\"1\" class=\"dataframe\">\n",
       "  <thead>\n",
       "    <tr style=\"text-align: right;\">\n",
       "      <th></th>\n",
       "      <th>Cut_off</th>\n",
       "      <th>Accuracy</th>\n",
       "      <th>Recall</th>\n",
       "      <th>Precision</th>\n",
       "      <th>Specificity</th>\n",
       "      <th>Error_Rate</th>\n",
       "      <th>FNR</th>\n",
       "      <th>FPR</th>\n",
       "    </tr>\n",
       "  </thead>\n",
       "  <tbody>\n",
       "    <tr>\n",
       "      <th>0</th>\n",
       "      <td>0.10</td>\n",
       "      <td>0.86</td>\n",
       "      <td>0.95</td>\n",
       "      <td>0.76</td>\n",
       "      <td>0.81</td>\n",
       "      <td>0.14</td>\n",
       "      <td>0.05</td>\n",
       "      <td>0.19</td>\n",
       "    </tr>\n",
       "    <tr>\n",
       "      <th>1</th>\n",
       "      <td>0.15</td>\n",
       "      <td>0.91</td>\n",
       "      <td>0.94</td>\n",
       "      <td>0.84</td>\n",
       "      <td>0.89</td>\n",
       "      <td>0.09</td>\n",
       "      <td>0.06</td>\n",
       "      <td>0.11</td>\n",
       "    </tr>\n",
       "    <tr>\n",
       "      <th>2</th>\n",
       "      <td>0.20</td>\n",
       "      <td>0.91</td>\n",
       "      <td>0.94</td>\n",
       "      <td>0.84</td>\n",
       "      <td>0.89</td>\n",
       "      <td>0.09</td>\n",
       "      <td>0.06</td>\n",
       "      <td>0.11</td>\n",
       "    </tr>\n",
       "    <tr>\n",
       "      <th>3</th>\n",
       "      <td>0.25</td>\n",
       "      <td>0.91</td>\n",
       "      <td>0.94</td>\n",
       "      <td>0.85</td>\n",
       "      <td>0.89</td>\n",
       "      <td>0.09</td>\n",
       "      <td>0.06</td>\n",
       "      <td>0.11</td>\n",
       "    </tr>\n",
       "    <tr>\n",
       "      <th>4</th>\n",
       "      <td>0.30</td>\n",
       "      <td>0.91</td>\n",
       "      <td>0.94</td>\n",
       "      <td>0.85</td>\n",
       "      <td>0.90</td>\n",
       "      <td>0.09</td>\n",
       "      <td>0.06</td>\n",
       "      <td>0.10</td>\n",
       "    </tr>\n",
       "    <tr>\n",
       "      <th>5</th>\n",
       "      <td>0.35</td>\n",
       "      <td>0.91</td>\n",
       "      <td>0.94</td>\n",
       "      <td>0.85</td>\n",
       "      <td>0.90</td>\n",
       "      <td>0.09</td>\n",
       "      <td>0.06</td>\n",
       "      <td>0.10</td>\n",
       "    </tr>\n",
       "    <tr>\n",
       "      <th>6</th>\n",
       "      <td>0.40</td>\n",
       "      <td>0.91</td>\n",
       "      <td>0.92</td>\n",
       "      <td>0.86</td>\n",
       "      <td>0.90</td>\n",
       "      <td>0.09</td>\n",
       "      <td>0.08</td>\n",
       "      <td>0.10</td>\n",
       "    </tr>\n",
       "    <tr>\n",
       "      <th>7</th>\n",
       "      <td>0.45</td>\n",
       "      <td>0.91</td>\n",
       "      <td>0.92</td>\n",
       "      <td>0.86</td>\n",
       "      <td>0.90</td>\n",
       "      <td>0.09</td>\n",
       "      <td>0.08</td>\n",
       "      <td>0.10</td>\n",
       "    </tr>\n",
       "    <tr>\n",
       "      <th>8</th>\n",
       "      <td>0.50</td>\n",
       "      <td>0.91</td>\n",
       "      <td>0.92</td>\n",
       "      <td>0.86</td>\n",
       "      <td>0.90</td>\n",
       "      <td>0.09</td>\n",
       "      <td>0.08</td>\n",
       "      <td>0.10</td>\n",
       "    </tr>\n",
       "    <tr>\n",
       "      <th>9</th>\n",
       "      <td>0.55</td>\n",
       "      <td>0.91</td>\n",
       "      <td>0.92</td>\n",
       "      <td>0.86</td>\n",
       "      <td>0.90</td>\n",
       "      <td>0.09</td>\n",
       "      <td>0.08</td>\n",
       "      <td>0.10</td>\n",
       "    </tr>\n",
       "    <tr>\n",
       "      <th>10</th>\n",
       "      <td>0.60</td>\n",
       "      <td>0.91</td>\n",
       "      <td>0.92</td>\n",
       "      <td>0.86</td>\n",
       "      <td>0.90</td>\n",
       "      <td>0.09</td>\n",
       "      <td>0.08</td>\n",
       "      <td>0.10</td>\n",
       "    </tr>\n",
       "    <tr>\n",
       "      <th>11</th>\n",
       "      <td>0.65</td>\n",
       "      <td>0.91</td>\n",
       "      <td>0.92</td>\n",
       "      <td>0.86</td>\n",
       "      <td>0.90</td>\n",
       "      <td>0.09</td>\n",
       "      <td>0.08</td>\n",
       "      <td>0.10</td>\n",
       "    </tr>\n",
       "    <tr>\n",
       "      <th>12</th>\n",
       "      <td>0.70</td>\n",
       "      <td>0.86</td>\n",
       "      <td>0.69</td>\n",
       "      <td>0.95</td>\n",
       "      <td>0.98</td>\n",
       "      <td>0.14</td>\n",
       "      <td>0.31</td>\n",
       "      <td>0.02</td>\n",
       "    </tr>\n",
       "    <tr>\n",
       "      <th>13</th>\n",
       "      <td>0.75</td>\n",
       "      <td>0.87</td>\n",
       "      <td>0.69</td>\n",
       "      <td>0.95</td>\n",
       "      <td>0.98</td>\n",
       "      <td>0.13</td>\n",
       "      <td>0.31</td>\n",
       "      <td>0.02</td>\n",
       "    </tr>\n",
       "    <tr>\n",
       "      <th>14</th>\n",
       "      <td>0.80</td>\n",
       "      <td>0.87</td>\n",
       "      <td>0.69</td>\n",
       "      <td>0.95</td>\n",
       "      <td>0.98</td>\n",
       "      <td>0.13</td>\n",
       "      <td>0.31</td>\n",
       "      <td>0.02</td>\n",
       "    </tr>\n",
       "    <tr>\n",
       "      <th>15</th>\n",
       "      <td>0.85</td>\n",
       "      <td>0.87</td>\n",
       "      <td>0.69</td>\n",
       "      <td>0.95</td>\n",
       "      <td>0.98</td>\n",
       "      <td>0.13</td>\n",
       "      <td>0.31</td>\n",
       "      <td>0.02</td>\n",
       "    </tr>\n",
       "    <tr>\n",
       "      <th>16</th>\n",
       "      <td>0.90</td>\n",
       "      <td>0.77</td>\n",
       "      <td>0.42</td>\n",
       "      <td>0.98</td>\n",
       "      <td>0.99</td>\n",
       "      <td>0.23</td>\n",
       "      <td>0.58</td>\n",
       "      <td>0.01</td>\n",
       "    </tr>\n",
       "    <tr>\n",
       "      <th>17</th>\n",
       "      <td>0.95</td>\n",
       "      <td>0.71</td>\n",
       "      <td>0.26</td>\n",
       "      <td>1.00</td>\n",
       "      <td>1.00</td>\n",
       "      <td>0.29</td>\n",
       "      <td>0.74</td>\n",
       "      <td>0.00</td>\n",
       "    </tr>\n",
       "  </tbody>\n",
       "</table>\n",
       "</div>"
      ],
      "text/plain": [
       "    Cut_off  Accuracy  Recall  Precision  Specificity  Error_Rate   FNR   FPR\n",
       "0      0.10      0.86    0.95       0.76         0.81        0.14  0.05  0.19\n",
       "1      0.15      0.91    0.94       0.84         0.89        0.09  0.06  0.11\n",
       "2      0.20      0.91    0.94       0.84         0.89        0.09  0.06  0.11\n",
       "3      0.25      0.91    0.94       0.85         0.89        0.09  0.06  0.11\n",
       "4      0.30      0.91    0.94       0.85         0.90        0.09  0.06  0.10\n",
       "5      0.35      0.91    0.94       0.85         0.90        0.09  0.06  0.10\n",
       "6      0.40      0.91    0.92       0.86         0.90        0.09  0.08  0.10\n",
       "7      0.45      0.91    0.92       0.86         0.90        0.09  0.08  0.10\n",
       "8      0.50      0.91    0.92       0.86         0.90        0.09  0.08  0.10\n",
       "9      0.55      0.91    0.92       0.86         0.90        0.09  0.08  0.10\n",
       "10     0.60      0.91    0.92       0.86         0.90        0.09  0.08  0.10\n",
       "11     0.65      0.91    0.92       0.86         0.90        0.09  0.08  0.10\n",
       "12     0.70      0.86    0.69       0.95         0.98        0.14  0.31  0.02\n",
       "13     0.75      0.87    0.69       0.95         0.98        0.13  0.31  0.02\n",
       "14     0.80      0.87    0.69       0.95         0.98        0.13  0.31  0.02\n",
       "15     0.85      0.87    0.69       0.95         0.98        0.13  0.31  0.02\n",
       "16     0.90      0.77    0.42       0.98         0.99        0.23  0.58  0.01\n",
       "17     0.95      0.71    0.26       1.00         1.00        0.29  0.74  0.00"
      ]
     },
     "execution_count": 131,
     "metadata": {},
     "output_type": "execute_result"
    }
   ],
   "source": [
    "df_CutOff=getCutOff_data(df_test_pred)\n",
    "df_CutOff"
   ]
  },
  {
   "cell_type": "code",
   "execution_count": 132,
   "metadata": {},
   "outputs": [
    {
     "data": {
      "image/png": "[encoded data removed]",
      "text/plain": [
       "<Figure size 1080x360 with 1 Axes>"
      ]
     },
     "metadata": {
      "needs_background": "light"
     },
     "output_type": "display_data"
    }
   ],
   "source": [
    "plot_CutOffCurve(df_CutOff)"
   ]
  },
  {
   "cell_type": "code",
   "execution_count": 133,
   "metadata": {},
   "outputs": [
    {
     "data": {
      "text/plain": [
       "array([[1533,  162],\n",
       "       [  85,  992]], dtype=int64)"
      ]
     },
     "execution_count": 133,
     "metadata": {},
     "output_type": "execute_result"
    }
   ],
   "source": [
    "#For Test dataset\n",
    "cutoff=.65\n",
    "df_test_pred['predicted'] = df_test_pred.Probablity.map(lambda x: 1 if x > cutoff else 0)\n",
    "cm = metrics.confusion_matrix(df_test_pred.Converted, df_test_pred.predicted)\n",
    "cm"
   ]
  },
  {
   "cell_type": "code",
   "execution_count": 134,
   "metadata": {},
   "outputs": [
    {
     "data": {
      "text/plain": [
       "array([[5114,  565],\n",
       "       [ 297, 3264]], dtype=int64)"
      ]
     },
     "execution_count": 134,
     "metadata": {},
     "output_type": "execute_result"
    }
   ],
   "source": [
    "#For whole dataset\n",
    "cutoff=.65\n",
    "df_all_pred['predicted'] = df_all_pred.Probablity.map(lambda x: 1 if x > cutoff else 0)\n",
    "cm = metrics.confusion_matrix(df_all_pred.Converted, df_all_pred.predicted)\n",
    "cm"
   ]
  },
  {
   "cell_type": "code",
   "execution_count": null,
   "metadata": {},
   "outputs": [],
   "source": []
  },
  {
   "cell_type": "code",
   "execution_count": 135,
   "metadata": {},
   "outputs": [
    {
     "name": "stdout",
     "output_type": "stream",
     "text": [
      "Area Uncer Curve (AUC) for Whole Dataset Using Stats Model 0.91\n"
     ]
    }
   ],
   "source": [
    "print (\"Area Uncer Curve (AUC) for Whole Dataset Using Stats Model\", \n",
    "       round(metrics.roc_auc_score(df_all_pred.Converted, df_all_pred.predicted),2))"
   ]
  },
  {
   "cell_type": "code",
   "execution_count": 136,
   "metadata": {},
   "outputs": [
    {
     "name": "stdout",
     "output_type": "stream",
     "text": [
      "Area Uncer Curve (AUC) for Test Dataset Using Stats Model 0.91\n"
     ]
    }
   ],
   "source": [
    "print (\"Area Uncer Curve (AUC) for Test Dataset Using Stats Model\", \n",
    "       round(metrics.roc_auc_score(df_test_pred.Converted, df_test_pred.predicted),2))"
   ]
  },
  {
   "cell_type": "code",
   "execution_count": null,
   "metadata": {},
   "outputs": [],
   "source": []
  },
  {
   "cell_type": "code",
   "execution_count": 137,
   "metadata": {},
   "outputs": [
    {
     "data": {
      "text/html": [
       "<div>\n",
       "<style scoped>\n",
       "    .dataframe tbody tr th:only-of-type {\n",
       "        vertical-align: middle;\n",
       "    }\n",
       "\n",
       "    .dataframe tbody tr th {\n",
       "        vertical-align: top;\n",
       "    }\n",
       "\n",
       "    .dataframe thead th {\n",
       "        text-align: right;\n",
       "    }\n",
       "</style>\n",
       "<table border=\"1\" class=\"dataframe\">\n",
       "  <thead>\n",
       "    <tr style=\"text-align: right;\">\n",
       "      <th></th>\n",
       "      <th>Converted</th>\n",
       "      <th>Probablity</th>\n",
       "      <th>predicted</th>\n",
       "      <th>Lead_Score</th>\n",
       "      <th>Lead Number</th>\n",
       "    </tr>\n",
       "  </thead>\n",
       "  <tbody>\n",
       "    <tr>\n",
       "      <th>4608</th>\n",
       "      <td>1</td>\n",
       "      <td>0.929096</td>\n",
       "      <td>1</td>\n",
       "      <td>92</td>\n",
       "      <td>615582</td>\n",
       "    </tr>\n",
       "    <tr>\n",
       "      <th>7935</th>\n",
       "      <td>0</td>\n",
       "      <td>0.004537</td>\n",
       "      <td>0</td>\n",
       "      <td>0</td>\n",
       "      <td>588939</td>\n",
       "    </tr>\n",
       "    <tr>\n",
       "      <th>4043</th>\n",
       "      <td>0</td>\n",
       "      <td>0.015996</td>\n",
       "      <td>0</td>\n",
       "      <td>1</td>\n",
       "      <td>621242</td>\n",
       "    </tr>\n",
       "    <tr>\n",
       "      <th>7821</th>\n",
       "      <td>0</td>\n",
       "      <td>0.230766</td>\n",
       "      <td>0</td>\n",
       "      <td>23</td>\n",
       "      <td>589803</td>\n",
       "    </tr>\n",
       "    <tr>\n",
       "      <th>856</th>\n",
       "      <td>0</td>\n",
       "      <td>0.043034</td>\n",
       "      <td>0</td>\n",
       "      <td>4</td>\n",
       "      <td>651441</td>\n",
       "    </tr>\n",
       "  </tbody>\n",
       "</table>\n",
       "</div>"
      ],
      "text/plain": [
       "      Converted  Probablity  predicted  Lead_Score  Lead Number\n",
       "4608          1    0.929096          1          92       615582\n",
       "7935          0    0.004537          0           0       588939\n",
       "4043          0    0.015996          0           1       621242\n",
       "7821          0    0.230766          0          23       589803\n",
       "856           0    0.043034          0           4       651441"
      ]
     },
     "execution_count": 137,
     "metadata": {},
     "output_type": "execute_result"
    }
   ],
   "source": [
    "#Print Lead Score for Leads Cut-off =.65\n",
    "df_test_pred['Lead_Score'] = (df_test_pred['Probablity']*100).astype(int)\n",
    "df_test_pred.merge(pd.DataFrame(Lead_Number_Test), how=\"inner\", left_index=True, right_index=True).head()\n"
   ]
  },
  {
   "cell_type": "markdown",
   "metadata": {},
   "source": [
    "### Identifying Important Variables"
   ]
  },
  {
   "cell_type": "code",
   "execution_count": 138,
   "metadata": {},
   "outputs": [],
   "source": [
    "def getVIF():\n",
    "    vif = pd.DataFrame()\n",
    "    X = X_train\n",
    "    vif['Features'] = X.columns\n",
    "    vif['VIF'] = [variance_inflation_factor(X.values, i) for i in range(X.shape[1])]\n",
    "    vif['VIF'] = round(vif['VIF'], 2)\n",
    "    vif = vif.sort_values(by = \"VIF\", ascending = False)\n",
    "    print (vif)\n",
    "    return vif"
   ]
  },
  {
   "cell_type": "code",
   "execution_count": 139,
   "metadata": {},
   "outputs": [
    {
     "name": "stdout",
     "output_type": "stream",
     "text": [
      "        Features   VIF\n",
      "6         Tags_6  1.03\n",
      "1      LeadPro_3  1.02\n",
      "7         Tags_7  1.02\n",
      "5         Tags_4  1.01\n",
      "8         Tags_8  1.00\n",
      "11       Tags_25  1.00\n",
      "3        LeadQ_5  0.68\n",
      "12        Occu_3  0.57\n",
      "2      LeadPro_5  0.40\n",
      "0   NotableAct_9  0.23\n",
      "4         Tags_3  0.14\n",
      "9         Tags_9  0.08\n",
      "10       Tags_12  0.02\n"
     ]
    }
   ],
   "source": [
    "vif=getVIF()"
   ]
  },
  {
   "cell_type": "code",
   "execution_count": 140,
   "metadata": {},
   "outputs": [
    {
     "data": {
      "text/plain": [
       "['LeadPro_3',\n",
       " 'LeadPro_5',\n",
       " 'LeadQ_5',\n",
       " 'NotableAct_9',\n",
       " 'Occu_3',\n",
       " 'Tags_12',\n",
       " 'Tags_25',\n",
       " 'Tags_3',\n",
       " 'Tags_4',\n",
       " 'Tags_6',\n",
       " 'Tags_7',\n",
       " 'Tags_8',\n",
       " 'Tags_9']"
      ]
     },
     "execution_count": 140,
     "metadata": {},
     "output_type": "execute_result"
    }
   ],
   "source": [
    "list(vif.Features.sort_values())"
   ]
  },
  {
   "cell_type": "code",
   "execution_count": 141,
   "metadata": {},
   "outputs": [],
   "source": [
    "#5 Important Fields from Dataset Which are important for Prediction are\n",
    "#Lead Profile\n",
    "#Lead Quality\n",
    "#Last Notable Activity\n",
    "#Occupation\n",
    "#Tags"
   ]
  },
  {
   "cell_type": "code",
   "execution_count": null,
   "metadata": {},
   "outputs": [],
   "source": []
  },
  {
   "cell_type": "raw",
   "metadata": {},
   "source": [
    "#Release All the Memories occupied by Dataframes\n",
    "del(df)\n",
    "del(df_lead)\n",
    "del(df_lead_noNulCol_sc)\n",
    "del(df_lead_org)\n",
    "del(df_lead_p1)\n",
    "del(df_lead_p2)\n",
    "del(df_lead_scaled)\n",
    "del(df_pred)\n",
    "del(df_temp)\n",
    "del(df_test_pred)\n",
    "del(df_train_pred)\n",
    "del(df_with_null)\n",
    "del(df_wo_null)\n"
   ]
  },
  {
   "cell_type": "code",
   "execution_count": null,
   "metadata": {},
   "outputs": [],
   "source": []
  }
 ],
 "metadata": {
  "kernelspec": {
   "display_name": "Python 3",
   "language": "python",
   "name": "python3"
  },
  "language_info": {
   "codemirror_mode": {
    "name": "ipython",
    "version": 3
   },
   "file_extension": ".py",
   "mimetype": "text/x-python",
   "name": "python",
   "nbconvert_exporter": "python",
   "pygments_lexer": "ipython3",
   "version": "3.8.8"
  }
 },
 "nbformat": 4,
 "nbformat_minor": 2
}
