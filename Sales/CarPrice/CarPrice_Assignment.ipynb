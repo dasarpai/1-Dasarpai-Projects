{
 "cells": [
  {
   "cell_type": "markdown",
   "metadata": {},
   "source": [
    "## CarPrice Assignment"
   ]
  },
  {
   "cell_type": "markdown",
   "metadata": {},
   "source": [
    "### Importing and Understanding Data"
   ]
  },
  {
   "cell_type": "code",
   "execution_count": 1,
   "metadata": {},
   "outputs": [],
   "source": [
    "# Supress Warnings\n",
    "import warnings\n",
    "warnings.filterwarnings('ignore')"
   ]
  },
  {
   "cell_type": "code",
   "execution_count": 2,
   "metadata": {},
   "outputs": [],
   "source": [
    "#Import necessary libraries for data reading, manipulcation & visualization\n",
    "import pandas as pd\n",
    "import numpy as np\n",
    "import seaborn as sns\n",
    "import matplotlib.pyplot as plt\n",
    "%matplotlib inline"
   ]
  },
  {
   "cell_type": "code",
   "execution_count": 3,
   "metadata": {},
   "outputs": [],
   "source": [
    "# Importing CarPrice_Assignment.csv\n",
    "CarPrice = pd.read_csv('CarPrice_Assignment.csv')"
   ]
  },
  {
   "cell_type": "code",
   "execution_count": 4,
   "metadata": {},
   "outputs": [
    {
     "data": {
      "text/plain": [
       "(205, 26)"
      ]
     },
     "execution_count": 4,
     "metadata": {},
     "output_type": "execute_result"
    }
   ],
   "source": [
    "#Check number of records & columns\n",
    "CarPrice.shape"
   ]
  },
  {
   "cell_type": "code",
   "execution_count": 5,
   "metadata": {},
   "outputs": [],
   "source": [
    "#Create a company column from Carname & drop the CarName\n",
    "CarPrice['company']= CarPrice.CarName.str.split(\" \", n=1,expand=True)[0]\n",
    "CarPrice.drop(columns=[\"CarName\"], inplace=True, axis=0)"
   ]
  },
  {
   "cell_type": "code",
   "execution_count": 6,
   "metadata": {},
   "outputs": [
    {
     "data": {
      "text/html": [
       "<div>\n",
       "<style scoped>\n",
       "    .dataframe tbody tr th:only-of-type {\n",
       "        vertical-align: middle;\n",
       "    }\n",
       "\n",
       "    .dataframe tbody tr th {\n",
       "        vertical-align: top;\n",
       "    }\n",
       "\n",
       "    .dataframe thead th {\n",
       "        text-align: right;\n",
       "    }\n",
       "</style>\n",
       "<table border=\"1\" class=\"dataframe\">\n",
       "  <thead>\n",
       "    <tr style=\"text-align: right;\">\n",
       "      <th></th>\n",
       "      <th>car_ID</th>\n",
       "      <th>symboling</th>\n",
       "      <th>fueltype</th>\n",
       "      <th>aspiration</th>\n",
       "      <th>doornumber</th>\n",
       "      <th>carbody</th>\n",
       "      <th>drivewheel</th>\n",
       "      <th>enginelocation</th>\n",
       "      <th>wheelbase</th>\n",
       "      <th>carlength</th>\n",
       "      <th>...</th>\n",
       "      <th>fuelsystem</th>\n",
       "      <th>boreratio</th>\n",
       "      <th>stroke</th>\n",
       "      <th>compressionratio</th>\n",
       "      <th>horsepower</th>\n",
       "      <th>peakrpm</th>\n",
       "      <th>citympg</th>\n",
       "      <th>highwaympg</th>\n",
       "      <th>price</th>\n",
       "      <th>company</th>\n",
       "    </tr>\n",
       "  </thead>\n",
       "  <tbody>\n",
       "    <tr>\n",
       "      <th>0</th>\n",
       "      <td>1</td>\n",
       "      <td>3</td>\n",
       "      <td>gas</td>\n",
       "      <td>std</td>\n",
       "      <td>two</td>\n",
       "      <td>convertible</td>\n",
       "      <td>rwd</td>\n",
       "      <td>front</td>\n",
       "      <td>88.6</td>\n",
       "      <td>168.8</td>\n",
       "      <td>...</td>\n",
       "      <td>mpfi</td>\n",
       "      <td>3.47</td>\n",
       "      <td>2.68</td>\n",
       "      <td>9.0</td>\n",
       "      <td>111</td>\n",
       "      <td>5000</td>\n",
       "      <td>21</td>\n",
       "      <td>27</td>\n",
       "      <td>13495.0</td>\n",
       "      <td>alfa-romero</td>\n",
       "    </tr>\n",
       "    <tr>\n",
       "      <th>1</th>\n",
       "      <td>2</td>\n",
       "      <td>3</td>\n",
       "      <td>gas</td>\n",
       "      <td>std</td>\n",
       "      <td>two</td>\n",
       "      <td>convertible</td>\n",
       "      <td>rwd</td>\n",
       "      <td>front</td>\n",
       "      <td>88.6</td>\n",
       "      <td>168.8</td>\n",
       "      <td>...</td>\n",
       "      <td>mpfi</td>\n",
       "      <td>3.47</td>\n",
       "      <td>2.68</td>\n",
       "      <td>9.0</td>\n",
       "      <td>111</td>\n",
       "      <td>5000</td>\n",
       "      <td>21</td>\n",
       "      <td>27</td>\n",
       "      <td>16500.0</td>\n",
       "      <td>alfa-romero</td>\n",
       "    </tr>\n",
       "    <tr>\n",
       "      <th>2</th>\n",
       "      <td>3</td>\n",
       "      <td>1</td>\n",
       "      <td>gas</td>\n",
       "      <td>std</td>\n",
       "      <td>two</td>\n",
       "      <td>hatchback</td>\n",
       "      <td>rwd</td>\n",
       "      <td>front</td>\n",
       "      <td>94.5</td>\n",
       "      <td>171.2</td>\n",
       "      <td>...</td>\n",
       "      <td>mpfi</td>\n",
       "      <td>2.68</td>\n",
       "      <td>3.47</td>\n",
       "      <td>9.0</td>\n",
       "      <td>154</td>\n",
       "      <td>5000</td>\n",
       "      <td>19</td>\n",
       "      <td>26</td>\n",
       "      <td>16500.0</td>\n",
       "      <td>alfa-romero</td>\n",
       "    </tr>\n",
       "    <tr>\n",
       "      <th>3</th>\n",
       "      <td>4</td>\n",
       "      <td>2</td>\n",
       "      <td>gas</td>\n",
       "      <td>std</td>\n",
       "      <td>four</td>\n",
       "      <td>sedan</td>\n",
       "      <td>fwd</td>\n",
       "      <td>front</td>\n",
       "      <td>99.8</td>\n",
       "      <td>176.6</td>\n",
       "      <td>...</td>\n",
       "      <td>mpfi</td>\n",
       "      <td>3.19</td>\n",
       "      <td>3.40</td>\n",
       "      <td>10.0</td>\n",
       "      <td>102</td>\n",
       "      <td>5500</td>\n",
       "      <td>24</td>\n",
       "      <td>30</td>\n",
       "      <td>13950.0</td>\n",
       "      <td>audi</td>\n",
       "    </tr>\n",
       "    <tr>\n",
       "      <th>4</th>\n",
       "      <td>5</td>\n",
       "      <td>2</td>\n",
       "      <td>gas</td>\n",
       "      <td>std</td>\n",
       "      <td>four</td>\n",
       "      <td>sedan</td>\n",
       "      <td>4wd</td>\n",
       "      <td>front</td>\n",
       "      <td>99.4</td>\n",
       "      <td>176.6</td>\n",
       "      <td>...</td>\n",
       "      <td>mpfi</td>\n",
       "      <td>3.19</td>\n",
       "      <td>3.40</td>\n",
       "      <td>8.0</td>\n",
       "      <td>115</td>\n",
       "      <td>5500</td>\n",
       "      <td>18</td>\n",
       "      <td>22</td>\n",
       "      <td>17450.0</td>\n",
       "      <td>audi</td>\n",
       "    </tr>\n",
       "  </tbody>\n",
       "</table>\n",
       "<p>5 rows × 26 columns</p>\n",
       "</div>"
      ],
      "text/plain": [
       "   car_ID  symboling fueltype aspiration doornumber      carbody drivewheel  \\\n",
       "0       1          3      gas        std        two  convertible        rwd   \n",
       "1       2          3      gas        std        two  convertible        rwd   \n",
       "2       3          1      gas        std        two    hatchback        rwd   \n",
       "3       4          2      gas        std       four        sedan        fwd   \n",
       "4       5          2      gas        std       four        sedan        4wd   \n",
       "\n",
       "  enginelocation  wheelbase  carlength     ...       fuelsystem  boreratio  \\\n",
       "0          front       88.6      168.8     ...             mpfi       3.47   \n",
       "1          front       88.6      168.8     ...             mpfi       3.47   \n",
       "2          front       94.5      171.2     ...             mpfi       2.68   \n",
       "3          front       99.8      176.6     ...             mpfi       3.19   \n",
       "4          front       99.4      176.6     ...             mpfi       3.19   \n",
       "\n",
       "   stroke compressionratio horsepower  peakrpm citympg  highwaympg    price  \\\n",
       "0    2.68              9.0        111     5000      21          27  13495.0   \n",
       "1    2.68              9.0        111     5000      21          27  16500.0   \n",
       "2    3.47              9.0        154     5000      19          26  16500.0   \n",
       "3    3.40             10.0        102     5500      24          30  13950.0   \n",
       "4    3.40              8.0        115     5500      18          22  17450.0   \n",
       "\n",
       "       company  \n",
       "0  alfa-romero  \n",
       "1  alfa-romero  \n",
       "2  alfa-romero  \n",
       "3         audi  \n",
       "4         audi  \n",
       "\n",
       "[5 rows x 26 columns]"
      ]
     },
     "execution_count": 6,
     "metadata": {},
     "output_type": "execute_result"
    }
   ],
   "source": [
    "# Looking at the first five rows\n",
    "CarPrice .head()"
   ]
  },
  {
   "cell_type": "code",
   "execution_count": 7,
   "metadata": {},
   "outputs": [
    {
     "data": {
      "text/plain": [
       "False    205\n",
       "dtype: int64"
      ]
     },
     "execution_count": 7,
     "metadata": {},
     "output_type": "execute_result"
    }
   ],
   "source": [
    "#check if rows are distinct or not. After splitting carname columns it may happen\n",
    "CarPrice.duplicated().value_counts()\n",
    "#no duplicate record found"
   ]
  },
  {
   "cell_type": "code",
   "execution_count": 8,
   "metadata": {},
   "outputs": [
    {
     "name": "stdout",
     "output_type": "stream",
     "text": [
      "<class 'pandas.core.frame.DataFrame'>\n",
      "RangeIndex: 205 entries, 0 to 204\n",
      "Data columns (total 26 columns):\n",
      "car_ID              205 non-null int64\n",
      "symboling           205 non-null int64\n",
      "fueltype            205 non-null object\n",
      "aspiration          205 non-null object\n",
      "doornumber          205 non-null object\n",
      "carbody             205 non-null object\n",
      "drivewheel          205 non-null object\n",
      "enginelocation      205 non-null object\n",
      "wheelbase           205 non-null float64\n",
      "carlength           205 non-null float64\n",
      "carwidth            205 non-null float64\n",
      "carheight           205 non-null float64\n",
      "curbweight          205 non-null int64\n",
      "enginetype          205 non-null object\n",
      "cylindernumber      205 non-null object\n",
      "enginesize          205 non-null int64\n",
      "fuelsystem          205 non-null object\n",
      "boreratio           205 non-null float64\n",
      "stroke              205 non-null float64\n",
      "compressionratio    205 non-null float64\n",
      "horsepower          205 non-null int64\n",
      "peakrpm             205 non-null int64\n",
      "citympg             205 non-null int64\n",
      "highwaympg          205 non-null int64\n",
      "price               205 non-null float64\n",
      "company             205 non-null object\n",
      "dtypes: float64(8), int64(8), object(10)\n",
      "memory usage: 41.7+ KB\n"
     ]
    }
   ],
   "source": [
    "#Checking nulls values & type of values in columns\n",
    "CarPrice.info() \n",
    "# No column has null value\n",
    "# Only int,float & text columns are there."
   ]
  },
  {
   "cell_type": "code",
   "execution_count": 9,
   "metadata": {},
   "outputs": [
    {
     "data": {
      "text/html": [
       "<div>\n",
       "<style scoped>\n",
       "    .dataframe tbody tr th:only-of-type {\n",
       "        vertical-align: middle;\n",
       "    }\n",
       "\n",
       "    .dataframe tbody tr th {\n",
       "        vertical-align: top;\n",
       "    }\n",
       "\n",
       "    .dataframe thead th {\n",
       "        text-align: right;\n",
       "    }\n",
       "</style>\n",
       "<table border=\"1\" class=\"dataframe\">\n",
       "  <thead>\n",
       "    <tr style=\"text-align: right;\">\n",
       "      <th></th>\n",
       "      <th>car_ID</th>\n",
       "      <th>symboling</th>\n",
       "      <th>wheelbase</th>\n",
       "      <th>carlength</th>\n",
       "      <th>carwidth</th>\n",
       "      <th>carheight</th>\n",
       "      <th>curbweight</th>\n",
       "      <th>enginesize</th>\n",
       "      <th>boreratio</th>\n",
       "      <th>stroke</th>\n",
       "      <th>compressionratio</th>\n",
       "      <th>horsepower</th>\n",
       "      <th>peakrpm</th>\n",
       "      <th>citympg</th>\n",
       "      <th>highwaympg</th>\n",
       "      <th>price</th>\n",
       "    </tr>\n",
       "  </thead>\n",
       "  <tbody>\n",
       "    <tr>\n",
       "      <th>count</th>\n",
       "      <td>205.000000</td>\n",
       "      <td>205.000000</td>\n",
       "      <td>205.000000</td>\n",
       "      <td>205.000000</td>\n",
       "      <td>205.000000</td>\n",
       "      <td>205.000000</td>\n",
       "      <td>205.000000</td>\n",
       "      <td>205.000000</td>\n",
       "      <td>205.000000</td>\n",
       "      <td>205.000000</td>\n",
       "      <td>205.000000</td>\n",
       "      <td>205.000000</td>\n",
       "      <td>205.000000</td>\n",
       "      <td>205.000000</td>\n",
       "      <td>205.000000</td>\n",
       "      <td>205.000000</td>\n",
       "    </tr>\n",
       "    <tr>\n",
       "      <th>mean</th>\n",
       "      <td>103.000000</td>\n",
       "      <td>0.834146</td>\n",
       "      <td>98.756585</td>\n",
       "      <td>174.049268</td>\n",
       "      <td>65.907805</td>\n",
       "      <td>53.724878</td>\n",
       "      <td>2555.565854</td>\n",
       "      <td>126.907317</td>\n",
       "      <td>3.329756</td>\n",
       "      <td>3.255415</td>\n",
       "      <td>10.142537</td>\n",
       "      <td>104.117073</td>\n",
       "      <td>5125.121951</td>\n",
       "      <td>25.219512</td>\n",
       "      <td>30.751220</td>\n",
       "      <td>13276.710571</td>\n",
       "    </tr>\n",
       "    <tr>\n",
       "      <th>std</th>\n",
       "      <td>59.322565</td>\n",
       "      <td>1.245307</td>\n",
       "      <td>6.021776</td>\n",
       "      <td>12.337289</td>\n",
       "      <td>2.145204</td>\n",
       "      <td>2.443522</td>\n",
       "      <td>520.680204</td>\n",
       "      <td>41.642693</td>\n",
       "      <td>0.270844</td>\n",
       "      <td>0.313597</td>\n",
       "      <td>3.972040</td>\n",
       "      <td>39.544167</td>\n",
       "      <td>476.985643</td>\n",
       "      <td>6.542142</td>\n",
       "      <td>6.886443</td>\n",
       "      <td>7988.852332</td>\n",
       "    </tr>\n",
       "    <tr>\n",
       "      <th>min</th>\n",
       "      <td>1.000000</td>\n",
       "      <td>-2.000000</td>\n",
       "      <td>86.600000</td>\n",
       "      <td>141.100000</td>\n",
       "      <td>60.300000</td>\n",
       "      <td>47.800000</td>\n",
       "      <td>1488.000000</td>\n",
       "      <td>61.000000</td>\n",
       "      <td>2.540000</td>\n",
       "      <td>2.070000</td>\n",
       "      <td>7.000000</td>\n",
       "      <td>48.000000</td>\n",
       "      <td>4150.000000</td>\n",
       "      <td>13.000000</td>\n",
       "      <td>16.000000</td>\n",
       "      <td>5118.000000</td>\n",
       "    </tr>\n",
       "    <tr>\n",
       "      <th>25%</th>\n",
       "      <td>52.000000</td>\n",
       "      <td>0.000000</td>\n",
       "      <td>94.500000</td>\n",
       "      <td>166.300000</td>\n",
       "      <td>64.100000</td>\n",
       "      <td>52.000000</td>\n",
       "      <td>2145.000000</td>\n",
       "      <td>97.000000</td>\n",
       "      <td>3.150000</td>\n",
       "      <td>3.110000</td>\n",
       "      <td>8.600000</td>\n",
       "      <td>70.000000</td>\n",
       "      <td>4800.000000</td>\n",
       "      <td>19.000000</td>\n",
       "      <td>25.000000</td>\n",
       "      <td>7788.000000</td>\n",
       "    </tr>\n",
       "    <tr>\n",
       "      <th>50%</th>\n",
       "      <td>103.000000</td>\n",
       "      <td>1.000000</td>\n",
       "      <td>97.000000</td>\n",
       "      <td>173.200000</td>\n",
       "      <td>65.500000</td>\n",
       "      <td>54.100000</td>\n",
       "      <td>2414.000000</td>\n",
       "      <td>120.000000</td>\n",
       "      <td>3.310000</td>\n",
       "      <td>3.290000</td>\n",
       "      <td>9.000000</td>\n",
       "      <td>95.000000</td>\n",
       "      <td>5200.000000</td>\n",
       "      <td>24.000000</td>\n",
       "      <td>30.000000</td>\n",
       "      <td>10295.000000</td>\n",
       "    </tr>\n",
       "    <tr>\n",
       "      <th>75%</th>\n",
       "      <td>154.000000</td>\n",
       "      <td>2.000000</td>\n",
       "      <td>102.400000</td>\n",
       "      <td>183.100000</td>\n",
       "      <td>66.900000</td>\n",
       "      <td>55.500000</td>\n",
       "      <td>2935.000000</td>\n",
       "      <td>141.000000</td>\n",
       "      <td>3.580000</td>\n",
       "      <td>3.410000</td>\n",
       "      <td>9.400000</td>\n",
       "      <td>116.000000</td>\n",
       "      <td>5500.000000</td>\n",
       "      <td>30.000000</td>\n",
       "      <td>34.000000</td>\n",
       "      <td>16503.000000</td>\n",
       "    </tr>\n",
       "    <tr>\n",
       "      <th>max</th>\n",
       "      <td>205.000000</td>\n",
       "      <td>3.000000</td>\n",
       "      <td>120.900000</td>\n",
       "      <td>208.100000</td>\n",
       "      <td>72.300000</td>\n",
       "      <td>59.800000</td>\n",
       "      <td>4066.000000</td>\n",
       "      <td>326.000000</td>\n",
       "      <td>3.940000</td>\n",
       "      <td>4.170000</td>\n",
       "      <td>23.000000</td>\n",
       "      <td>288.000000</td>\n",
       "      <td>6600.000000</td>\n",
       "      <td>49.000000</td>\n",
       "      <td>54.000000</td>\n",
       "      <td>45400.000000</td>\n",
       "    </tr>\n",
       "  </tbody>\n",
       "</table>\n",
       "</div>"
      ],
      "text/plain": [
       "           car_ID   symboling   wheelbase   carlength    carwidth   carheight  \\\n",
       "count  205.000000  205.000000  205.000000  205.000000  205.000000  205.000000   \n",
       "mean   103.000000    0.834146   98.756585  174.049268   65.907805   53.724878   \n",
       "std     59.322565    1.245307    6.021776   12.337289    2.145204    2.443522   \n",
       "min      1.000000   -2.000000   86.600000  141.100000   60.300000   47.800000   \n",
       "25%     52.000000    0.000000   94.500000  166.300000   64.100000   52.000000   \n",
       "50%    103.000000    1.000000   97.000000  173.200000   65.500000   54.100000   \n",
       "75%    154.000000    2.000000  102.400000  183.100000   66.900000   55.500000   \n",
       "max    205.000000    3.000000  120.900000  208.100000   72.300000   59.800000   \n",
       "\n",
       "        curbweight  enginesize   boreratio      stroke  compressionratio  \\\n",
       "count   205.000000  205.000000  205.000000  205.000000        205.000000   \n",
       "mean   2555.565854  126.907317    3.329756    3.255415         10.142537   \n",
       "std     520.680204   41.642693    0.270844    0.313597          3.972040   \n",
       "min    1488.000000   61.000000    2.540000    2.070000          7.000000   \n",
       "25%    2145.000000   97.000000    3.150000    3.110000          8.600000   \n",
       "50%    2414.000000  120.000000    3.310000    3.290000          9.000000   \n",
       "75%    2935.000000  141.000000    3.580000    3.410000          9.400000   \n",
       "max    4066.000000  326.000000    3.940000    4.170000         23.000000   \n",
       "\n",
       "       horsepower      peakrpm     citympg  highwaympg         price  \n",
       "count  205.000000   205.000000  205.000000  205.000000    205.000000  \n",
       "mean   104.117073  5125.121951   25.219512   30.751220  13276.710571  \n",
       "std     39.544167   476.985643    6.542142    6.886443   7988.852332  \n",
       "min     48.000000  4150.000000   13.000000   16.000000   5118.000000  \n",
       "25%     70.000000  4800.000000   19.000000   25.000000   7788.000000  \n",
       "50%     95.000000  5200.000000   24.000000   30.000000  10295.000000  \n",
       "75%    116.000000  5500.000000   30.000000   34.000000  16503.000000  \n",
       "max    288.000000  6600.000000   49.000000   54.000000  45400.000000  "
      ]
     },
     "execution_count": 9,
     "metadata": {},
     "output_type": "execute_result"
    }
   ],
   "source": [
    "#Understand range of values in number type of fields\n",
    "#Understand the difference berween and mean and median values of the numeric columns\n",
    "CarPrice.describe()\n",
    "#Mean and Median looks fine"
   ]
  },
  {
   "cell_type": "code",
   "execution_count": 10,
   "metadata": {},
   "outputs": [],
   "source": [
    "# I think Density of car may have some relation with Price.\n",
    "CarPrice['density'] = CarPrice.carlength*CarPrice.carwidth * CarPrice.carheight/CarPrice.curbweight"
   ]
  },
  {
   "cell_type": "code",
   "execution_count": 11,
   "metadata": {},
   "outputs": [
    {
     "data": {
      "text/plain": [
       "['fueltype',\n",
       " 'aspiration',\n",
       " 'doornumber',\n",
       " 'carbody',\n",
       " 'drivewheel',\n",
       " 'enginelocation',\n",
       " 'enginetype',\n",
       " 'cylindernumber',\n",
       " 'fuelsystem',\n",
       " 'company']"
      ]
     },
     "execution_count": 11,
     "metadata": {},
     "output_type": "execute_result"
    }
   ],
   "source": [
    "#Get list of All Categorical Variables\n",
    "CatVar=[]\n",
    "for c in CarPrice.columns:\n",
    "    if CarPrice[c].dtype==\"object\":\n",
    "        CatVar.append(c)\n",
    "CatVar"
   ]
  },
  {
   "cell_type": "code",
   "execution_count": 12,
   "metadata": {},
   "outputs": [
    {
     "data": {
      "text/plain": [
       "['car_ID',\n",
       " 'symboling',\n",
       " 'wheelbase',\n",
       " 'carlength',\n",
       " 'carwidth',\n",
       " 'carheight',\n",
       " 'curbweight',\n",
       " 'enginesize',\n",
       " 'boreratio',\n",
       " 'stroke',\n",
       " 'compressionratio',\n",
       " 'horsepower',\n",
       " 'peakrpm',\n",
       " 'citympg',\n",
       " 'highwaympg',\n",
       " 'price',\n",
       " 'density']"
      ]
     },
     "execution_count": 12,
     "metadata": {},
     "output_type": "execute_result"
    }
   ],
   "source": [
    "#Numerical Columns, Which should be scaled in coming steps for modelling\n",
    "NumVar = [col for col in CarPrice.columns if col not in CatVar]\n",
    "NumVar"
   ]
  },
  {
   "cell_type": "code",
   "execution_count": null,
   "metadata": {},
   "outputs": [],
   "source": []
  },
  {
   "cell_type": "code",
   "execution_count": 13,
   "metadata": {},
   "outputs": [
    {
     "data": {
      "image/png": "[encoded data removed]",
      "text/plain": [
       "<Figure size 1080x720 with 9 Axes>"
      ]
     },
     "metadata": {
      "needs_background": "light"
     },
     "output_type": "display_data"
    },
    {
     "data": {
      "image/png": "[encoded data removed]",
      "text/plain": [
       "<Figure size 1080x360 with 1 Axes>"
      ]
     },
     "metadata": {
      "needs_background": "light"
     },
     "output_type": "display_data"
    }
   ],
   "source": [
    "#Visualize the price distribution for categorical Variables\n",
    "plt.figure(figsize=(15,10))\n",
    "i=1\n",
    "while i<=9: \n",
    "    plt.subplot(3,3,i)           \n",
    "    ax= sns.boxplot(x=CarPrice[CatVar[i-1]], y=\"price\", data=CarPrice)\n",
    "    \n",
    "    for p in ax.patches:\n",
    "        ax.annotate(format(p.get_height(), '.2f'), (p.get_x() + p.get_width() / 2., \n",
    "        p.get_height()), ha = 'center', va = 'center', xytext = (0, 10), textcoords = 'offset points')\n",
    "\n",
    "\n",
    "    i+=1\n",
    "    \n",
    "plt.figure(figsize=(15,5))    \n",
    "ax= sns.boxplot(x=CarPrice[CatVar[9]], y=\"price\", data=CarPrice)\n",
    "    \n",
    "for p in ax.patches:\n",
    "    ax.annotate(format(p.get_height(), '.2f'), (p.get_x() + p.get_width() / 2., \n",
    "    p.get_height()), ha = 'center', va = 'center', xytext = (0, 10), textcoords = 'offset points')\n",
    "\n",
    "for item in ax.get_xticklabels():\n",
    "    item.set_rotation(90)\n",
    "plt.tight_layout()\n",
    "\n",
    "#Every subplot is very interesting but prominent factor in almost all is they have outlier of price everywhere."
   ]
  },
  {
   "cell_type": "code",
   "execution_count": null,
   "metadata": {},
   "outputs": [],
   "source": []
  },
  {
   "cell_type": "code",
   "execution_count": 14,
   "metadata": {},
   "outputs": [
    {
     "name": "stdout",
     "output_type": "stream",
     "text": [
      "Nissan : 1\n",
      "porcshce : 1\n",
      "toyouta : 1\n",
      "vokswagen : 1\n"
     ]
    }
   ],
   "source": [
    "#Remove wrong carname from the dataframe. There 4 records\n",
    "wrong_name= ['Nissan', 'porcshce', 'toyouta', 'vokswagen']\n",
    "for wn in wrong_name:\n",
    "    print( wn, \":\", len(CarPrice[ (CarPrice.company == wn)]) )\n",
    "    CarPrice = CarPrice[ ~(CarPrice.company == wn) ]"
   ]
  },
  {
   "cell_type": "code",
   "execution_count": 15,
   "metadata": {},
   "outputs": [
    {
     "name": "stdout",
     "output_type": "stream",
     "text": [
      "Total 24 companies' car are part of the dataframe\n"
     ]
    }
   ],
   "source": [
    "print ( \"Total %d companies' car are part of the dataframe\" % ( len(CarPrice['company'].unique()) ) )"
   ]
  },
  {
   "cell_type": "code",
   "execution_count": 16,
   "metadata": {},
   "outputs": [
    {
     "data": {
      "text/plain": [
       "(201, 27)"
      ]
     },
     "execution_count": 16,
     "metadata": {},
     "output_type": "execute_result"
    }
   ],
   "source": [
    "CarPrice.shape"
   ]
  },
  {
   "cell_type": "code",
   "execution_count": 17,
   "metadata": {},
   "outputs": [
    {
     "data": {
      "image/png": "[encoded data removed]",
      "text/plain": [
       "<Figure size 1080x360 with 1 Axes>"
      ]
     },
     "metadata": {
      "needs_background": "light"
     },
     "output_type": "display_data"
    }
   ],
   "source": [
    "#Check number of cars for each company\n",
    "fig=plt.figure(figsize=(15,5))\n",
    "\n",
    "ax=sns.barplot(x= CarPrice.company, y=CarPrice['car_ID'],estimator=len)\n",
    "for p in ax.patches:\n",
    "        ax.annotate(format(p.get_height(), '.2f'), (p.get_x() + p.get_width() / 2., \n",
    "        p.get_height()), ha = 'center', va = 'center', xytext = (0, 10), textcoords = 'offset points')\n",
    "for item in ax.get_xticklabels():\n",
    "    item.set_rotation(90)"
   ]
  },
  {
   "cell_type": "code",
   "execution_count": 18,
   "metadata": {},
   "outputs": [],
   "source": [
    "# Will delete those dummy variable which has less then <=3 records"
   ]
  },
  {
   "cell_type": "code",
   "execution_count": 19,
   "metadata": {},
   "outputs": [
    {
     "data": {
      "image/png": "[encoded data removed]",
      "text/plain": [
       "<Figure size 1080x720 with 10 Axes>"
      ]
     },
     "metadata": {
      "needs_background": "light"
     },
     "output_type": "display_data"
    }
   ],
   "source": [
    "#Visualize the data distribution for categorical Variables\n",
    "plt.figure(figsize=(15,10))\n",
    "i=1\n",
    "while i<=10: \n",
    "    plt.subplot(2,5,i)           \n",
    "    ax= sns.barplot(CarPrice[CatVar[i-1]], CarPrice.car_ID, estimator=len, )\n",
    "    \n",
    "    for p in ax.patches:\n",
    "        ax.annotate(format(p.get_height(), '.2f'), (p.get_x() + p.get_width() / 2., \n",
    "        p.get_height()), ha = 'center', va = 'center', xytext = (0, 10), textcoords = 'offset points')\n",
    "    \n",
    "    for item in ax.get_xticklabels():\n",
    "        item.set_rotation(90)\n",
    "\n",
    "    i+=1\n",
    "plt.tight_layout()"
   ]
  },
  {
   "cell_type": "code",
   "execution_count": 20,
   "metadata": {},
   "outputs": [],
   "source": [
    "# Will delete those dummy variable which has less then <=3 records"
   ]
  },
  {
   "cell_type": "code",
   "execution_count": 21,
   "metadata": {},
   "outputs": [
    {
     "name": "stdout",
     "output_type": "stream",
     "text": [
      "Categorical Variables with 2 Values: ['aspiration', 'doornumber', 'enginelocation', 'fueltype']\n",
      "Categorical Variables with 2+ Values: ['drivewheel', 'carbody', 'cylindernumber', 'enginetype', 'fuelsystem', 'company']\n"
     ]
    }
   ],
   "source": [
    "#Identify Factors for Each categorical variables\n",
    "CatVar_Factors=[]\n",
    "for v in CatVar:\n",
    "    CatVar_Factors.append( [len(CarPrice[v].unique()), v] )\n",
    "CatVar_Factors.sort()\n",
    "\n",
    "CatVar_Factors = np.array(CatVar_Factors).T\n",
    "CatVar_Factors= [np.array(CatVar_Factors[0], dtype=int), np.array(CatVar_Factors[1], dtype=str)]\n",
    "\n",
    "#Categorical Variables which has 2 values\n",
    "BinaryCatVariables= list(CatVar_Factors[1][CatVar_Factors[0]==2])\n",
    "print (\"Categorical Variables with 2 Values: \" +str(BinaryCatVariables))\n",
    "\n",
    "#Categorical Variables which has 2+ values\n",
    "NonBinaryCatVariables= list(CatVar_Factors[1][CatVar_Factors[0]>2])\n",
    "print (\"Categorical Variables with 2+ Values: \" +str(NonBinaryCatVariables))"
   ]
  },
  {
   "cell_type": "code",
   "execution_count": null,
   "metadata": {},
   "outputs": [],
   "source": []
  },
  {
   "cell_type": "code",
   "execution_count": 22,
   "metadata": {},
   "outputs": [
    {
     "name": "stdout",
     "output_type": "stream",
     "text": [
      "aspiration:['std', 'turbo']\n",
      "doornumber:['two', 'four']\n",
      "enginelocation:['front', 'rear']\n",
      "fueltype:['gas', 'diesel']\n"
     ]
    }
   ],
   "source": [
    "# Data in Categorical Variables which has 2 values\n",
    "i=0\n",
    "while i < len(BinaryCatVariables):\n",
    "    print (BinaryCatVariables[i] + \":\" + str(list(CarPrice[BinaryCatVariables[i]].unique())) )\n",
    "    i+=1"
   ]
  },
  {
   "cell_type": "code",
   "execution_count": 23,
   "metadata": {},
   "outputs": [
    {
     "name": "stdout",
     "output_type": "stream",
     "text": [
      "drivewheel:['rwd', 'fwd', '4wd']\n",
      "carbody:['convertible', 'hatchback', 'sedan', 'wagon', 'hardtop']\n",
      "cylindernumber:['four', 'six', 'five', 'three', 'twelve', 'two', 'eight']\n",
      "enginetype:['dohc', 'ohcv', 'ohc', 'l', 'rotor', 'ohcf', 'dohcv']\n",
      "fuelsystem:['mpfi', '2bbl', 'mfi', '1bbl', 'spfi', '4bbl', 'idi', 'spdi']\n",
      "company:['alfa-romero', 'audi', 'bmw', 'chevrolet', 'dodge', 'honda', 'isuzu', 'jaguar', 'maxda', 'mazda', 'buick', 'mercury', 'mitsubishi', 'nissan', 'peugeot', 'plymouth', 'porsche', 'renault', 'saab', 'subaru', 'toyota', 'volkswagen', 'vw', 'volvo']\n"
     ]
    }
   ],
   "source": [
    "# Data in Categorical Variables which has 2+ values\n",
    "\n",
    "i=0\n",
    "while i < len(NonBinaryCatVariables):\n",
    "    print (NonBinaryCatVariables[i] + \":\" + str(list(CarPrice[NonBinaryCatVariables[i]].unique())) )\n",
    "    i+=1"
   ]
  },
  {
   "cell_type": "code",
   "execution_count": null,
   "metadata": {},
   "outputs": [],
   "source": []
  },
  {
   "cell_type": "markdown",
   "metadata": {},
   "source": [
    "## Data Preparation"
   ]
  },
  {
   "cell_type": "code",
   "execution_count": 24,
   "metadata": {},
   "outputs": [],
   "source": [
    "# Numerical Treatment of Categorical Variables which has 2 Values\n",
    "\n",
    "CarPrice[BinaryCatVariables[0]] = CarPrice[BinaryCatVariables[0]].apply( lambda x: 0 if x==\"std\" else 1)\n",
    "CarPrice[BinaryCatVariables[1]] = CarPrice[BinaryCatVariables[1]].apply( lambda x: 0 if x==\"two\" else 1)\n",
    "CarPrice[BinaryCatVariables[2]] = CarPrice[BinaryCatVariables[2]].apply( lambda x: 0 if x==\"front\" else 1)\n",
    "CarPrice[BinaryCatVariables[3]] = CarPrice[BinaryCatVariables[3]].apply( lambda x: 0 if x==\"gas\" else 1)"
   ]
  },
  {
   "cell_type": "code",
   "execution_count": 25,
   "metadata": {
    "scrolled": false
   },
   "outputs": [
    {
     "data": {
      "text/html": [
       "<div>\n",
       "<style scoped>\n",
       "    .dataframe tbody tr th:only-of-type {\n",
       "        vertical-align: middle;\n",
       "    }\n",
       "\n",
       "    .dataframe tbody tr th {\n",
       "        vertical-align: top;\n",
       "    }\n",
       "\n",
       "    .dataframe thead th {\n",
       "        text-align: right;\n",
       "    }\n",
       "</style>\n",
       "<table border=\"1\" class=\"dataframe\">\n",
       "  <thead>\n",
       "    <tr style=\"text-align: right;\">\n",
       "      <th></th>\n",
       "      <th>aspiration</th>\n",
       "      <th>doornumber</th>\n",
       "      <th>enginelocation</th>\n",
       "      <th>fueltype</th>\n",
       "    </tr>\n",
       "  </thead>\n",
       "  <tbody>\n",
       "    <tr>\n",
       "      <th>0</th>\n",
       "      <td>0</td>\n",
       "      <td>0</td>\n",
       "      <td>0</td>\n",
       "      <td>0</td>\n",
       "    </tr>\n",
       "    <tr>\n",
       "      <th>1</th>\n",
       "      <td>0</td>\n",
       "      <td>0</td>\n",
       "      <td>0</td>\n",
       "      <td>0</td>\n",
       "    </tr>\n",
       "    <tr>\n",
       "      <th>2</th>\n",
       "      <td>0</td>\n",
       "      <td>0</td>\n",
       "      <td>0</td>\n",
       "      <td>0</td>\n",
       "    </tr>\n",
       "    <tr>\n",
       "      <th>3</th>\n",
       "      <td>0</td>\n",
       "      <td>1</td>\n",
       "      <td>0</td>\n",
       "      <td>0</td>\n",
       "    </tr>\n",
       "    <tr>\n",
       "      <th>4</th>\n",
       "      <td>0</td>\n",
       "      <td>1</td>\n",
       "      <td>0</td>\n",
       "      <td>0</td>\n",
       "    </tr>\n",
       "  </tbody>\n",
       "</table>\n",
       "</div>"
      ],
      "text/plain": [
       "   aspiration  doornumber  enginelocation  fueltype\n",
       "0           0           0               0         0\n",
       "1           0           0               0         0\n",
       "2           0           0               0         0\n",
       "3           0           1               0         0\n",
       "4           0           1               0         0"
      ]
     },
     "execution_count": 25,
     "metadata": {},
     "output_type": "execute_result"
    }
   ],
   "source": [
    "# Check the CarPrice dataframe whether Treatment happened correctly\n",
    "CarPrice[BinaryCatVariables].head(5)"
   ]
  },
  {
   "cell_type": "markdown",
   "metadata": {},
   "source": [
    "##### Categorical Variables having 2+ categories. We need to convert these levels into integer using dummy variables concept\n",
    "\n",
    "###### I am putting suffix in the dummy variables, so that they can be easily identified during modelling\n",
    "##### DW_ : Drivewheel, CB_ : Carbody,  ET_ : EngineType, FS_: Fuelsystem, Com_: Company"
   ]
  },
  {
   "cell_type": "code",
   "execution_count": 26,
   "metadata": {},
   "outputs": [],
   "source": [
    "drivewheel = pd.get_dummies(CarPrice[ NonBinaryCatVariables[0] ], drop_first = True)\n",
    "drivewheel.columns = \"DW_\"+drivewheel.columns\n",
    "\n",
    "carbody = pd.get_dummies(CarPrice[ NonBinaryCatVariables[1] ], drop_first = True)\n",
    "carbody.columns = \"CB_\"+carbody.columns\n",
    "\n",
    "#cylindernumber = pd.get_dummies(CarPrice[ NonBinaryCatVariables[2] ], drop_first = True)\n",
    "#cylindernumber.columns = \"CN_\"+cylindernumber.columns\n",
    "\n",
    "enginetype = pd.get_dummies(CarPrice[ NonBinaryCatVariables[3] ], drop_first = True)\n",
    "enginetype.columns = \"ET_\"+enginetype.columns\n",
    "\n",
    "fuelsystem= pd.get_dummies(CarPrice[ NonBinaryCatVariables[4] ], drop_first = True)\n",
    "fuelsystem.columns = \"FS_\"+fuelsystem.columns\n",
    "\n",
    "company= pd.get_dummies(CarPrice[ NonBinaryCatVariables[5] ], drop_first = True)\n",
    "company.columns = \"Com_\"+company.columns"
   ]
  },
  {
   "cell_type": "code",
   "execution_count": 27,
   "metadata": {},
   "outputs": [],
   "source": [
    "#convert cylindernumber into ordinal numbers\n",
    "cn=['two','three','four','five','six', 'eight', 'twelve']\n",
    "CarPrice['cylindernumber'] = CarPrice['cylindernumber'].apply( lambda x: cn.index(x))\n",
    "\n",
    "#we need to scale this\n",
    "NumVar.append(\"cylindernumber\")\n",
    "\n",
    "#This is like ordinal variable now\n",
    "NonBinaryCatVariables.remove(\"cylindernumber\")"
   ]
  },
  {
   "cell_type": "code",
   "execution_count": null,
   "metadata": {},
   "outputs": [],
   "source": []
  },
  {
   "cell_type": "code",
   "execution_count": 28,
   "metadata": {},
   "outputs": [
    {
     "data": {
      "text/html": [
       "<div>\n",
       "<style scoped>\n",
       "    .dataframe tbody tr th:only-of-type {\n",
       "        vertical-align: middle;\n",
       "    }\n",
       "\n",
       "    .dataframe tbody tr th {\n",
       "        vertical-align: top;\n",
       "    }\n",
       "\n",
       "    .dataframe thead th {\n",
       "        text-align: right;\n",
       "    }\n",
       "</style>\n",
       "<table border=\"1\" class=\"dataframe\">\n",
       "  <thead>\n",
       "    <tr style=\"text-align: right;\">\n",
       "      <th></th>\n",
       "      <th>car_ID</th>\n",
       "      <th>symboling</th>\n",
       "      <th>fueltype</th>\n",
       "      <th>aspiration</th>\n",
       "      <th>doornumber</th>\n",
       "      <th>carbody</th>\n",
       "      <th>drivewheel</th>\n",
       "      <th>enginelocation</th>\n",
       "      <th>wheelbase</th>\n",
       "      <th>carlength</th>\n",
       "      <th>...</th>\n",
       "      <th>Com_peugeot</th>\n",
       "      <th>Com_plymouth</th>\n",
       "      <th>Com_porsche</th>\n",
       "      <th>Com_renault</th>\n",
       "      <th>Com_saab</th>\n",
       "      <th>Com_subaru</th>\n",
       "      <th>Com_toyota</th>\n",
       "      <th>Com_volkswagen</th>\n",
       "      <th>Com_volvo</th>\n",
       "      <th>Com_vw</th>\n",
       "    </tr>\n",
       "  </thead>\n",
       "  <tbody>\n",
       "    <tr>\n",
       "      <th>0</th>\n",
       "      <td>1</td>\n",
       "      <td>3</td>\n",
       "      <td>0</td>\n",
       "      <td>0</td>\n",
       "      <td>0</td>\n",
       "      <td>convertible</td>\n",
       "      <td>rwd</td>\n",
       "      <td>0</td>\n",
       "      <td>88.6</td>\n",
       "      <td>168.8</td>\n",
       "      <td>...</td>\n",
       "      <td>0</td>\n",
       "      <td>0</td>\n",
       "      <td>0</td>\n",
       "      <td>0</td>\n",
       "      <td>0</td>\n",
       "      <td>0</td>\n",
       "      <td>0</td>\n",
       "      <td>0</td>\n",
       "      <td>0</td>\n",
       "      <td>0</td>\n",
       "    </tr>\n",
       "    <tr>\n",
       "      <th>1</th>\n",
       "      <td>2</td>\n",
       "      <td>3</td>\n",
       "      <td>0</td>\n",
       "      <td>0</td>\n",
       "      <td>0</td>\n",
       "      <td>convertible</td>\n",
       "      <td>rwd</td>\n",
       "      <td>0</td>\n",
       "      <td>88.6</td>\n",
       "      <td>168.8</td>\n",
       "      <td>...</td>\n",
       "      <td>0</td>\n",
       "      <td>0</td>\n",
       "      <td>0</td>\n",
       "      <td>0</td>\n",
       "      <td>0</td>\n",
       "      <td>0</td>\n",
       "      <td>0</td>\n",
       "      <td>0</td>\n",
       "      <td>0</td>\n",
       "      <td>0</td>\n",
       "    </tr>\n",
       "    <tr>\n",
       "      <th>2</th>\n",
       "      <td>3</td>\n",
       "      <td>1</td>\n",
       "      <td>0</td>\n",
       "      <td>0</td>\n",
       "      <td>0</td>\n",
       "      <td>hatchback</td>\n",
       "      <td>rwd</td>\n",
       "      <td>0</td>\n",
       "      <td>94.5</td>\n",
       "      <td>171.2</td>\n",
       "      <td>...</td>\n",
       "      <td>0</td>\n",
       "      <td>0</td>\n",
       "      <td>0</td>\n",
       "      <td>0</td>\n",
       "      <td>0</td>\n",
       "      <td>0</td>\n",
       "      <td>0</td>\n",
       "      <td>0</td>\n",
       "      <td>0</td>\n",
       "      <td>0</td>\n",
       "    </tr>\n",
       "    <tr>\n",
       "      <th>3</th>\n",
       "      <td>4</td>\n",
       "      <td>2</td>\n",
       "      <td>0</td>\n",
       "      <td>0</td>\n",
       "      <td>1</td>\n",
       "      <td>sedan</td>\n",
       "      <td>fwd</td>\n",
       "      <td>0</td>\n",
       "      <td>99.8</td>\n",
       "      <td>176.6</td>\n",
       "      <td>...</td>\n",
       "      <td>0</td>\n",
       "      <td>0</td>\n",
       "      <td>0</td>\n",
       "      <td>0</td>\n",
       "      <td>0</td>\n",
       "      <td>0</td>\n",
       "      <td>0</td>\n",
       "      <td>0</td>\n",
       "      <td>0</td>\n",
       "      <td>0</td>\n",
       "    </tr>\n",
       "    <tr>\n",
       "      <th>4</th>\n",
       "      <td>5</td>\n",
       "      <td>2</td>\n",
       "      <td>0</td>\n",
       "      <td>0</td>\n",
       "      <td>1</td>\n",
       "      <td>sedan</td>\n",
       "      <td>4wd</td>\n",
       "      <td>0</td>\n",
       "      <td>99.4</td>\n",
       "      <td>176.6</td>\n",
       "      <td>...</td>\n",
       "      <td>0</td>\n",
       "      <td>0</td>\n",
       "      <td>0</td>\n",
       "      <td>0</td>\n",
       "      <td>0</td>\n",
       "      <td>0</td>\n",
       "      <td>0</td>\n",
       "      <td>0</td>\n",
       "      <td>0</td>\n",
       "      <td>0</td>\n",
       "    </tr>\n",
       "  </tbody>\n",
       "</table>\n",
       "<p>5 rows × 69 columns</p>\n",
       "</div>"
      ],
      "text/plain": [
       "   car_ID  symboling  fueltype  aspiration  doornumber      carbody  \\\n",
       "0       1          3         0           0           0  convertible   \n",
       "1       2          3         0           0           0  convertible   \n",
       "2       3          1         0           0           0    hatchback   \n",
       "3       4          2         0           0           1        sedan   \n",
       "4       5          2         0           0           1        sedan   \n",
       "\n",
       "  drivewheel  enginelocation  wheelbase  carlength   ...    Com_peugeot  \\\n",
       "0        rwd               0       88.6      168.8   ...              0   \n",
       "1        rwd               0       88.6      168.8   ...              0   \n",
       "2        rwd               0       94.5      171.2   ...              0   \n",
       "3        fwd               0       99.8      176.6   ...              0   \n",
       "4        4wd               0       99.4      176.6   ...              0   \n",
       "\n",
       "   Com_plymouth  Com_porsche Com_renault  Com_saab  Com_subaru Com_toyota  \\\n",
       "0             0            0           0         0           0          0   \n",
       "1             0            0           0         0           0          0   \n",
       "2             0            0           0         0           0          0   \n",
       "3             0            0           0         0           0          0   \n",
       "4             0            0           0         0           0          0   \n",
       "\n",
       "   Com_volkswagen  Com_volvo  Com_vw  \n",
       "0               0          0       0  \n",
       "1               0          0       0  \n",
       "2               0          0       0  \n",
       "3               0          0       0  \n",
       "4               0          0       0  \n",
       "\n",
       "[5 rows x 69 columns]"
      ]
     },
     "execution_count": 28,
     "metadata": {},
     "output_type": "execute_result"
    }
   ],
   "source": [
    "# Concatenate all above dummy variable columns into main dataframe\n",
    "CarPrice = pd.concat([CarPrice, drivewheel, carbody, enginetype, fuelsystem, company], axis = 1)\n",
    "\n",
    "# Now let's see the head of our dataframe.\n",
    "CarPrice.head()"
   ]
  },
  {
   "cell_type": "code",
   "execution_count": null,
   "metadata": {},
   "outputs": [],
   "source": []
  },
  {
   "cell_type": "code",
   "execution_count": null,
   "metadata": {},
   "outputs": [],
   "source": []
  },
  {
   "cell_type": "code",
   "execution_count": 29,
   "metadata": {},
   "outputs": [
    {
     "data": {
      "text/plain": [
       "[[1, 'Com_mercury'],\n",
       " [1, 'ET_dohcv'],\n",
       " [1, 'FS_mfi'],\n",
       " [1, 'FS_spfi'],\n",
       " [2, 'Com_maxda'],\n",
       " [2, 'Com_renault'],\n",
       " [2, 'Com_vw'],\n",
       " [2, 'enginelocation'],\n",
       " [3, 'Com_chevrolet'],\n",
       " [3, 'Com_jaguar'],\n",
       " [3, 'FS_4bbl']]"
      ]
     },
     "execution_count": 29,
     "metadata": {},
     "output_type": "execute_result"
    }
   ],
   "source": [
    "#Identify dummy features which has <=3 records\n",
    "feature=[]\n",
    "for f in CarPrice.columns:\n",
    "    if CarPrice[f].dtype!=\"object\" and f not in NumVar:\n",
    "        rec= len( CarPrice[f][ CarPrice[f]==1] )\n",
    "        if rec<=3:\n",
    "            feature.append( [rec, f] )\n",
    "feature.sort()\n",
    "feature"
   ]
  },
  {
   "cell_type": "code",
   "execution_count": null,
   "metadata": {},
   "outputs": [],
   "source": []
  },
  {
   "cell_type": "code",
   "execution_count": 30,
   "metadata": {},
   "outputs": [],
   "source": [
    "#After analysis of above features dropping following features from the dataframe\n",
    "\n",
    "del_dummy_col=['Com_chevrolet', 'Com_jaguar', 'Com_maxda', 'Com_mercury', 'Com_renault', 'Com_vw',\n",
    "'CN_twelve', 'CN_three','ET_dohcv','FS_spfi']\n",
    "\n",
    "idx=[]\n",
    "for i in CarPrice.columns:\n",
    "    if i in del_dummy_col:\n",
    "        idx.append(False)\n",
    "    else:\n",
    "        idx.append(True)\n",
    "        \n",
    "CarPrice = CarPrice[ CarPrice.columns[ idx] ]"
   ]
  },
  {
   "cell_type": "code",
   "execution_count": 31,
   "metadata": {},
   "outputs": [
    {
     "data": {
      "text/plain": [
       "['drivewheel', 'carbody', 'enginetype', 'fuelsystem', 'company']"
      ]
     },
     "execution_count": 31,
     "metadata": {},
     "output_type": "execute_result"
    }
   ],
   "source": [
    "#Non Binary Categorical Variables\n",
    "NonBinaryCatVariables"
   ]
  },
  {
   "cell_type": "code",
   "execution_count": 32,
   "metadata": {},
   "outputs": [
    {
     "data": {
      "text/html": [
       "<div>\n",
       "<style scoped>\n",
       "    .dataframe tbody tr th:only-of-type {\n",
       "        vertical-align: middle;\n",
       "    }\n",
       "\n",
       "    .dataframe tbody tr th {\n",
       "        vertical-align: top;\n",
       "    }\n",
       "\n",
       "    .dataframe thead th {\n",
       "        text-align: right;\n",
       "    }\n",
       "</style>\n",
       "<table border=\"1\" class=\"dataframe\">\n",
       "  <thead>\n",
       "    <tr style=\"text-align: right;\">\n",
       "      <th></th>\n",
       "      <th>symboling</th>\n",
       "      <th>fueltype</th>\n",
       "      <th>aspiration</th>\n",
       "      <th>doornumber</th>\n",
       "      <th>enginelocation</th>\n",
       "      <th>wheelbase</th>\n",
       "      <th>carlength</th>\n",
       "      <th>carwidth</th>\n",
       "      <th>carheight</th>\n",
       "      <th>curbweight</th>\n",
       "      <th>...</th>\n",
       "      <th>Com_mitsubishi</th>\n",
       "      <th>Com_nissan</th>\n",
       "      <th>Com_peugeot</th>\n",
       "      <th>Com_plymouth</th>\n",
       "      <th>Com_porsche</th>\n",
       "      <th>Com_saab</th>\n",
       "      <th>Com_subaru</th>\n",
       "      <th>Com_toyota</th>\n",
       "      <th>Com_volkswagen</th>\n",
       "      <th>Com_volvo</th>\n",
       "    </tr>\n",
       "  </thead>\n",
       "  <tbody>\n",
       "    <tr>\n",
       "      <th>0</th>\n",
       "      <td>3</td>\n",
       "      <td>0</td>\n",
       "      <td>0</td>\n",
       "      <td>0</td>\n",
       "      <td>0</td>\n",
       "      <td>88.6</td>\n",
       "      <td>168.8</td>\n",
       "      <td>64.1</td>\n",
       "      <td>48.8</td>\n",
       "      <td>2548</td>\n",
       "      <td>...</td>\n",
       "      <td>0</td>\n",
       "      <td>0</td>\n",
       "      <td>0</td>\n",
       "      <td>0</td>\n",
       "      <td>0</td>\n",
       "      <td>0</td>\n",
       "      <td>0</td>\n",
       "      <td>0</td>\n",
       "      <td>0</td>\n",
       "      <td>0</td>\n",
       "    </tr>\n",
       "    <tr>\n",
       "      <th>1</th>\n",
       "      <td>3</td>\n",
       "      <td>0</td>\n",
       "      <td>0</td>\n",
       "      <td>0</td>\n",
       "      <td>0</td>\n",
       "      <td>88.6</td>\n",
       "      <td>168.8</td>\n",
       "      <td>64.1</td>\n",
       "      <td>48.8</td>\n",
       "      <td>2548</td>\n",
       "      <td>...</td>\n",
       "      <td>0</td>\n",
       "      <td>0</td>\n",
       "      <td>0</td>\n",
       "      <td>0</td>\n",
       "      <td>0</td>\n",
       "      <td>0</td>\n",
       "      <td>0</td>\n",
       "      <td>0</td>\n",
       "      <td>0</td>\n",
       "      <td>0</td>\n",
       "    </tr>\n",
       "    <tr>\n",
       "      <th>2</th>\n",
       "      <td>1</td>\n",
       "      <td>0</td>\n",
       "      <td>0</td>\n",
       "      <td>0</td>\n",
       "      <td>0</td>\n",
       "      <td>94.5</td>\n",
       "      <td>171.2</td>\n",
       "      <td>65.5</td>\n",
       "      <td>52.4</td>\n",
       "      <td>2823</td>\n",
       "      <td>...</td>\n",
       "      <td>0</td>\n",
       "      <td>0</td>\n",
       "      <td>0</td>\n",
       "      <td>0</td>\n",
       "      <td>0</td>\n",
       "      <td>0</td>\n",
       "      <td>0</td>\n",
       "      <td>0</td>\n",
       "      <td>0</td>\n",
       "      <td>0</td>\n",
       "    </tr>\n",
       "    <tr>\n",
       "      <th>3</th>\n",
       "      <td>2</td>\n",
       "      <td>0</td>\n",
       "      <td>0</td>\n",
       "      <td>1</td>\n",
       "      <td>0</td>\n",
       "      <td>99.8</td>\n",
       "      <td>176.6</td>\n",
       "      <td>66.2</td>\n",
       "      <td>54.3</td>\n",
       "      <td>2337</td>\n",
       "      <td>...</td>\n",
       "      <td>0</td>\n",
       "      <td>0</td>\n",
       "      <td>0</td>\n",
       "      <td>0</td>\n",
       "      <td>0</td>\n",
       "      <td>0</td>\n",
       "      <td>0</td>\n",
       "      <td>0</td>\n",
       "      <td>0</td>\n",
       "      <td>0</td>\n",
       "    </tr>\n",
       "    <tr>\n",
       "      <th>4</th>\n",
       "      <td>2</td>\n",
       "      <td>0</td>\n",
       "      <td>0</td>\n",
       "      <td>1</td>\n",
       "      <td>0</td>\n",
       "      <td>99.4</td>\n",
       "      <td>176.6</td>\n",
       "      <td>66.4</td>\n",
       "      <td>54.3</td>\n",
       "      <td>2824</td>\n",
       "      <td>...</td>\n",
       "      <td>0</td>\n",
       "      <td>0</td>\n",
       "      <td>0</td>\n",
       "      <td>0</td>\n",
       "      <td>0</td>\n",
       "      <td>0</td>\n",
       "      <td>0</td>\n",
       "      <td>0</td>\n",
       "      <td>0</td>\n",
       "      <td>0</td>\n",
       "    </tr>\n",
       "  </tbody>\n",
       "</table>\n",
       "<p>5 rows × 55 columns</p>\n",
       "</div>"
      ],
      "text/plain": [
       "   symboling  fueltype  aspiration  doornumber  enginelocation  wheelbase  \\\n",
       "0          3         0           0           0               0       88.6   \n",
       "1          3         0           0           0               0       88.6   \n",
       "2          1         0           0           0               0       94.5   \n",
       "3          2         0           0           1               0       99.8   \n",
       "4          2         0           0           1               0       99.4   \n",
       "\n",
       "   carlength  carwidth  carheight  curbweight    ...      Com_mitsubishi  \\\n",
       "0      168.8      64.1       48.8        2548    ...                   0   \n",
       "1      168.8      64.1       48.8        2548    ...                   0   \n",
       "2      171.2      65.5       52.4        2823    ...                   0   \n",
       "3      176.6      66.2       54.3        2337    ...                   0   \n",
       "4      176.6      66.4       54.3        2824    ...                   0   \n",
       "\n",
       "   Com_nissan  Com_peugeot  Com_plymouth  Com_porsche  Com_saab  Com_subaru  \\\n",
       "0           0            0             0            0         0           0   \n",
       "1           0            0             0            0         0           0   \n",
       "2           0            0             0            0         0           0   \n",
       "3           0            0             0            0         0           0   \n",
       "4           0            0             0            0         0           0   \n",
       "\n",
       "   Com_toyota  Com_volkswagen  Com_volvo  \n",
       "0           0               0          0  \n",
       "1           0               0          0  \n",
       "2           0               0          0  \n",
       "3           0               0          0  \n",
       "4           0               0          0  \n",
       "\n",
       "[5 rows x 55 columns]"
      ]
     },
     "execution_count": 32,
     "metadata": {},
     "output_type": "execute_result"
    }
   ],
   "source": [
    "# Drop Original NonBinaryCatVariables as we have created the dummies for it\n",
    "CarPrice.drop(NonBinaryCatVariables , axis = 1, inplace = True)\n",
    "# Drop car_ID as it is of no value for our model purpose\n",
    "CarPrice.drop(\"car_ID\", axis=1, inplace=True)\n",
    "\n",
    "CarPrice.head()"
   ]
  },
  {
   "cell_type": "code",
   "execution_count": null,
   "metadata": {},
   "outputs": [],
   "source": []
  },
  {
   "cell_type": "code",
   "execution_count": 33,
   "metadata": {},
   "outputs": [],
   "source": [
    "CarPrice.describe().to_csv(\"CarPrice_DescribeData.csv\")"
   ]
  },
  {
   "cell_type": "code",
   "execution_count": 34,
   "metadata": {},
   "outputs": [],
   "source": [
    "#During above transformation Price column got lost in between many new columns\n",
    "#Bringing PriceCol in First to visualize the correlation \n",
    "PriceCol = CarPrice.pop('price')\n",
    "CarPrice = pd.concat( [pd.DataFrame(PriceCol,columns=[\"price\"]) ,CarPrice], axis=1)"
   ]
  },
  {
   "cell_type": "code",
   "execution_count": 35,
   "metadata": {},
   "outputs": [],
   "source": [
    "cor=CarPrice.corr()\n",
    "#cor"
   ]
  },
  {
   "cell_type": "code",
   "execution_count": 36,
   "metadata": {},
   "outputs": [
    {
     "name": "stdout",
     "output_type": "stream",
     "text": [
      "['fueltype', 'FS_idi']\n"
     ]
    }
   ],
   "source": [
    "#Identify those features which has correlation =1 with each other\n",
    "\n",
    "high_cor_feature=[]\n",
    "for c in cor.columns:\n",
    "    if len(cor[ cor[c]==1 ])>1:\n",
    "        high_cor_feature.append(c)\n",
    "print (high_cor_feature)"
   ]
  },
  {
   "cell_type": "code",
   "execution_count": 37,
   "metadata": {},
   "outputs": [],
   "source": [
    "#remove fuletype.  fuletype & FS_idi has corr of 1\n",
    "temp=CarPrice.pop(\"fueltype\")"
   ]
  },
  {
   "cell_type": "code",
   "execution_count": 38,
   "metadata": {},
   "outputs": [],
   "source": [
    "cor= cor[high_cor_feature]\n",
    "#cor"
   ]
  },
  {
   "cell_type": "code",
   "execution_count": null,
   "metadata": {},
   "outputs": [],
   "source": []
  },
  {
   "cell_type": "code",
   "execution_count": 39,
   "metadata": {},
   "outputs": [],
   "source": [
    "#it is only one record in dataframe. Causing inf problem\n",
    "CarPrice.drop(columns=[\"FS_mfi\"], inplace=True )\n",
    "\n",
    "#Causing inf in VIF because of corr of 1 in ET_l& Com_peugeot, FS_4bbl& ET_rotor\n",
    "CarPrice.drop(columns=[\"ET_l\", \"ET_rotor\"], inplace=True )\n",
    "\n",
    "#Causing inf in VIF because of corr of ET_ohcf & Com_subaru= .90  &  Com_porsche & enginelocation = .81\n",
    "CarPrice.drop(columns=[\"ET_ohcf\", \"Com_porsche\"], inplace=True )"
   ]
  },
  {
   "cell_type": "code",
   "execution_count": null,
   "metadata": {},
   "outputs": [],
   "source": []
  },
  {
   "cell_type": "code",
   "execution_count": 40,
   "metadata": {},
   "outputs": [
    {
     "data": {
      "text/plain": [
       "(201, 49)"
      ]
     },
     "execution_count": 40,
     "metadata": {},
     "output_type": "execute_result"
    }
   ],
   "source": [
    "CarPrice.shape"
   ]
  },
  {
   "cell_type": "code",
   "execution_count": 41,
   "metadata": {},
   "outputs": [
    {
     "data": {
      "text/html": [
       "<div>\n",
       "<style scoped>\n",
       "    .dataframe tbody tr th:only-of-type {\n",
       "        vertical-align: middle;\n",
       "    }\n",
       "\n",
       "    .dataframe tbody tr th {\n",
       "        vertical-align: top;\n",
       "    }\n",
       "\n",
       "    .dataframe thead th {\n",
       "        text-align: right;\n",
       "    }\n",
       "</style>\n",
       "<table border=\"1\" class=\"dataframe\">\n",
       "  <thead>\n",
       "    <tr style=\"text-align: right;\">\n",
       "      <th></th>\n",
       "      <th>Col</th>\n",
       "      <th>Corr1</th>\n",
       "      <th>Corr</th>\n",
       "    </tr>\n",
       "  </thead>\n",
       "  <tbody>\n",
       "    <tr>\n",
       "      <th>0</th>\n",
       "      <td>price</td>\n",
       "      <td>1.0000</td>\n",
       "      <td>1.0000</td>\n",
       "    </tr>\n",
       "    <tr>\n",
       "      <th>11</th>\n",
       "      <td>enginesize</td>\n",
       "      <td>0.8729</td>\n",
       "      <td>0.8729</td>\n",
       "    </tr>\n",
       "    <tr>\n",
       "      <th>9</th>\n",
       "      <td>curbweight</td>\n",
       "      <td>0.8433</td>\n",
       "      <td>0.8433</td>\n",
       "    </tr>\n",
       "    <tr>\n",
       "      <th>15</th>\n",
       "      <td>horsepower</td>\n",
       "      <td>0.8028</td>\n",
       "      <td>0.8028</td>\n",
       "    </tr>\n",
       "    <tr>\n",
       "      <th>7</th>\n",
       "      <td>carwidth</td>\n",
       "      <td>0.7750</td>\n",
       "      <td>0.7750</td>\n",
       "    </tr>\n",
       "    <tr>\n",
       "      <th>10</th>\n",
       "      <td>cylindernumber</td>\n",
       "      <td>0.7240</td>\n",
       "      <td>0.7240</td>\n",
       "    </tr>\n",
       "    <tr>\n",
       "      <th>18</th>\n",
       "      <td>highwaympg</td>\n",
       "      <td>0.6997</td>\n",
       "      <td>-0.6997</td>\n",
       "    </tr>\n",
       "    <tr>\n",
       "      <th>6</th>\n",
       "      <td>carlength</td>\n",
       "      <td>0.6981</td>\n",
       "      <td>0.6981</td>\n",
       "    </tr>\n",
       "    <tr>\n",
       "      <th>19</th>\n",
       "      <td>density</td>\n",
       "      <td>0.6959</td>\n",
       "      <td>-0.6959</td>\n",
       "    </tr>\n",
       "    <tr>\n",
       "      <th>17</th>\n",
       "      <td>citympg</td>\n",
       "      <td>0.6823</td>\n",
       "      <td>-0.6823</td>\n",
       "    </tr>\n",
       "    <tr>\n",
       "      <th>21</th>\n",
       "      <td>DW_rwd</td>\n",
       "      <td>0.6338</td>\n",
       "      <td>0.6338</td>\n",
       "    </tr>\n",
       "    <tr>\n",
       "      <th>5</th>\n",
       "      <td>wheelbase</td>\n",
       "      <td>0.6070</td>\n",
       "      <td>0.6070</td>\n",
       "    </tr>\n",
       "    <tr>\n",
       "      <th>20</th>\n",
       "      <td>DW_fwd</td>\n",
       "      <td>0.5962</td>\n",
       "      <td>-0.5962</td>\n",
       "    </tr>\n",
       "    <tr>\n",
       "      <th>12</th>\n",
       "      <td>boreratio</td>\n",
       "      <td>0.5438</td>\n",
       "      <td>0.5438</td>\n",
       "    </tr>\n",
       "    <tr>\n",
       "      <th>35</th>\n",
       "      <td>Com_buick</td>\n",
       "      <td>0.5259</td>\n",
       "      <td>0.5259</td>\n",
       "    </tr>\n",
       "    <tr>\n",
       "      <th>31</th>\n",
       "      <td>FS_mpfi</td>\n",
       "      <td>0.5093</td>\n",
       "      <td>0.5093</td>\n",
       "    </tr>\n",
       "    <tr>\n",
       "      <th>28</th>\n",
       "      <td>FS_2bbl</td>\n",
       "      <td>0.5009</td>\n",
       "      <td>-0.5009</td>\n",
       "    </tr>\n",
       "    <tr>\n",
       "      <th>27</th>\n",
       "      <td>ET_ohcv</td>\n",
       "      <td>0.3948</td>\n",
       "      <td>0.3948</td>\n",
       "    </tr>\n",
       "    <tr>\n",
       "      <th>34</th>\n",
       "      <td>Com_bmw</td>\n",
       "      <td>0.3319</td>\n",
       "      <td>0.3319</td>\n",
       "    </tr>\n",
       "    <tr>\n",
       "      <th>26</th>\n",
       "      <td>ET_ohc</td>\n",
       "      <td>0.3284</td>\n",
       "      <td>-0.3284</td>\n",
       "    </tr>\n",
       "    <tr>\n",
       "      <th>4</th>\n",
       "      <td>enginelocation</td>\n",
       "      <td>0.2828</td>\n",
       "      <td>0.2828</td>\n",
       "    </tr>\n",
       "    <tr>\n",
       "      <th>23</th>\n",
       "      <td>CB_hatchback</td>\n",
       "      <td>0.2644</td>\n",
       "      <td>-0.2644</td>\n",
       "    </tr>\n",
       "    <tr>\n",
       "      <th>46</th>\n",
       "      <td>Com_toyota</td>\n",
       "      <td>0.1912</td>\n",
       "      <td>-0.1912</td>\n",
       "    </tr>\n",
       "    <tr>\n",
       "      <th>2</th>\n",
       "      <td>aspiration</td>\n",
       "      <td>0.1841</td>\n",
       "      <td>0.1841</td>\n",
       "    </tr>\n",
       "    <tr>\n",
       "      <th>22</th>\n",
       "      <td>CB_hardtop</td>\n",
       "      <td>0.1803</td>\n",
       "      <td>0.1803</td>\n",
       "    </tr>\n",
       "    <tr>\n",
       "      <th>37</th>\n",
       "      <td>Com_honda</td>\n",
       "      <td>0.1680</td>\n",
       "      <td>-0.1680</td>\n",
       "    </tr>\n",
       "    <tr>\n",
       "      <th>24</th>\n",
       "      <td>CB_sedan</td>\n",
       "      <td>0.1511</td>\n",
       "      <td>0.1511</td>\n",
       "    </tr>\n",
       "    <tr>\n",
       "      <th>45</th>\n",
       "      <td>Com_subaru</td>\n",
       "      <td>0.1497</td>\n",
       "      <td>-0.1497</td>\n",
       "    </tr>\n",
       "    <tr>\n",
       "      <th>48</th>\n",
       "      <td>Com_volvo</td>\n",
       "      <td>0.1470</td>\n",
       "      <td>0.1470</td>\n",
       "    </tr>\n",
       "    <tr>\n",
       "      <th>36</th>\n",
       "      <td>Com_dodge</td>\n",
       "      <td>0.1468</td>\n",
       "      <td>-0.1468</td>\n",
       "    </tr>\n",
       "    <tr>\n",
       "      <th>8</th>\n",
       "      <td>carheight</td>\n",
       "      <td>0.1366</td>\n",
       "      <td>0.1366</td>\n",
       "    </tr>\n",
       "    <tr>\n",
       "      <th>40</th>\n",
       "      <td>Com_mitsubishi</td>\n",
       "      <td>0.1329</td>\n",
       "      <td>-0.1329</td>\n",
       "    </tr>\n",
       "    <tr>\n",
       "      <th>43</th>\n",
       "      <td>Com_plymouth</td>\n",
       "      <td>0.1267</td>\n",
       "      <td>-0.1267</td>\n",
       "    </tr>\n",
       "    <tr>\n",
       "      <th>30</th>\n",
       "      <td>FS_idi</td>\n",
       "      <td>0.1238</td>\n",
       "      <td>0.1238</td>\n",
       "    </tr>\n",
       "    <tr>\n",
       "      <th>33</th>\n",
       "      <td>Com_audi</td>\n",
       "      <td>0.1112</td>\n",
       "      <td>0.1112</td>\n",
       "    </tr>\n",
       "    <tr>\n",
       "      <th>16</th>\n",
       "      <td>peakrpm</td>\n",
       "      <td>0.1091</td>\n",
       "      <td>-0.1091</td>\n",
       "    </tr>\n",
       "    <tr>\n",
       "      <th>1</th>\n",
       "      <td>symboling</td>\n",
       "      <td>0.0977</td>\n",
       "      <td>-0.0977</td>\n",
       "    </tr>\n",
       "    <tr>\n",
       "      <th>41</th>\n",
       "      <td>Com_nissan</td>\n",
       "      <td>0.0973</td>\n",
       "      <td>-0.0973</td>\n",
       "    </tr>\n",
       "    <tr>\n",
       "      <th>13</th>\n",
       "      <td>stroke</td>\n",
       "      <td>0.0966</td>\n",
       "      <td>0.0966</td>\n",
       "    </tr>\n",
       "    <tr>\n",
       "      <th>14</th>\n",
       "      <td>compressionratio</td>\n",
       "      <td>0.0839</td>\n",
       "      <td>0.0839</td>\n",
       "    </tr>\n",
       "    <tr>\n",
       "      <th>47</th>\n",
       "      <td>Com_volkswagen</td>\n",
       "      <td>0.0838</td>\n",
       "      <td>-0.0838</td>\n",
       "    </tr>\n",
       "    <tr>\n",
       "      <th>38</th>\n",
       "      <td>Com_isuzu</td>\n",
       "      <td>0.0779</td>\n",
       "      <td>-0.0779</td>\n",
       "    </tr>\n",
       "    <tr>\n",
       "      <th>39</th>\n",
       "      <td>Com_mazda</td>\n",
       "      <td>0.0688</td>\n",
       "      <td>-0.0688</td>\n",
       "    </tr>\n",
       "    <tr>\n",
       "      <th>42</th>\n",
       "      <td>Com_peugeot</td>\n",
       "      <td>0.0686</td>\n",
       "      <td>0.0686</td>\n",
       "    </tr>\n",
       "    <tr>\n",
       "      <th>32</th>\n",
       "      <td>FS_spdi</td>\n",
       "      <td>0.0615</td>\n",
       "      <td>-0.0615</td>\n",
       "    </tr>\n",
       "    <tr>\n",
       "      <th>25</th>\n",
       "      <td>CB_wagon</td>\n",
       "      <td>0.0468</td>\n",
       "      <td>-0.0468</td>\n",
       "    </tr>\n",
       "    <tr>\n",
       "      <th>44</th>\n",
       "      <td>Com_saab</td>\n",
       "      <td>0.0441</td>\n",
       "      <td>0.0441</td>\n",
       "    </tr>\n",
       "    <tr>\n",
       "      <th>3</th>\n",
       "      <td>doornumber</td>\n",
       "      <td>0.0357</td>\n",
       "      <td>0.0357</td>\n",
       "    </tr>\n",
       "    <tr>\n",
       "      <th>29</th>\n",
       "      <td>FS_4bbl</td>\n",
       "      <td>0.0170</td>\n",
       "      <td>-0.0170</td>\n",
       "    </tr>\n",
       "  </tbody>\n",
       "</table>\n",
       "</div>"
      ],
      "text/plain": [
       "                 Col   Corr1    Corr\n",
       "0              price  1.0000  1.0000\n",
       "11        enginesize  0.8729  0.8729\n",
       "9         curbweight  0.8433  0.8433\n",
       "15        horsepower  0.8028  0.8028\n",
       "7           carwidth  0.7750  0.7750\n",
       "10    cylindernumber  0.7240  0.7240\n",
       "18        highwaympg  0.6997 -0.6997\n",
       "6          carlength  0.6981  0.6981\n",
       "19           density  0.6959 -0.6959\n",
       "17           citympg  0.6823 -0.6823\n",
       "21            DW_rwd  0.6338  0.6338\n",
       "5          wheelbase  0.6070  0.6070\n",
       "20            DW_fwd  0.5962 -0.5962\n",
       "12         boreratio  0.5438  0.5438\n",
       "35         Com_buick  0.5259  0.5259\n",
       "31           FS_mpfi  0.5093  0.5093\n",
       "28           FS_2bbl  0.5009 -0.5009\n",
       "27           ET_ohcv  0.3948  0.3948\n",
       "34           Com_bmw  0.3319  0.3319\n",
       "26            ET_ohc  0.3284 -0.3284\n",
       "4     enginelocation  0.2828  0.2828\n",
       "23      CB_hatchback  0.2644 -0.2644\n",
       "46        Com_toyota  0.1912 -0.1912\n",
       "2         aspiration  0.1841  0.1841\n",
       "22        CB_hardtop  0.1803  0.1803\n",
       "37         Com_honda  0.1680 -0.1680\n",
       "24          CB_sedan  0.1511  0.1511\n",
       "45        Com_subaru  0.1497 -0.1497\n",
       "48         Com_volvo  0.1470  0.1470\n",
       "36         Com_dodge  0.1468 -0.1468\n",
       "8          carheight  0.1366  0.1366\n",
       "40    Com_mitsubishi  0.1329 -0.1329\n",
       "43      Com_plymouth  0.1267 -0.1267\n",
       "30            FS_idi  0.1238  0.1238\n",
       "33          Com_audi  0.1112  0.1112\n",
       "16           peakrpm  0.1091 -0.1091\n",
       "1          symboling  0.0977 -0.0977\n",
       "41        Com_nissan  0.0973 -0.0973\n",
       "13            stroke  0.0966  0.0966\n",
       "14  compressionratio  0.0839  0.0839\n",
       "47    Com_volkswagen  0.0838 -0.0838\n",
       "38         Com_isuzu  0.0779 -0.0779\n",
       "39         Com_mazda  0.0688 -0.0688\n",
       "42       Com_peugeot  0.0686  0.0686\n",
       "32           FS_spdi  0.0615 -0.0615\n",
       "25          CB_wagon  0.0468 -0.0468\n",
       "44          Com_saab  0.0441  0.0441\n",
       "3         doornumber  0.0357  0.0357\n",
       "29           FS_4bbl  0.0170 -0.0170"
      ]
     },
     "execution_count": 41,
     "metadata": {},
     "output_type": "execute_result"
    }
   ],
   "source": [
    "#Now check strong correlations (irrespective of sign) between Features and Price\n",
    "#This is a list of 49 features who are having strong to weak relationship with Price\n",
    "pd.DataFrame( {\"Col\":list( CarPrice.corr().index), \"Corr1\":list( abs( round(CarPrice.corr()['price'], 4)) ), \n",
    "       \"Corr\":list( round(CarPrice.corr()['price'],4)) } ).sort_values(\"Corr1\", ascending=False)"
   ]
  },
  {
   "cell_type": "code",
   "execution_count": null,
   "metadata": {},
   "outputs": [],
   "source": []
  },
  {
   "cell_type": "markdown",
   "metadata": {},
   "source": [
    "## Splitting the Data into Training and Testing Sets"
   ]
  },
  {
   "cell_type": "code",
   "execution_count": 42,
   "metadata": {},
   "outputs": [],
   "source": [
    "from sklearn.model_selection import train_test_split\n",
    "from sklearn.preprocessing import MinMaxScaler"
   ]
  },
  {
   "cell_type": "code",
   "execution_count": 43,
   "metadata": {},
   "outputs": [],
   "source": [
    "# I am splitting CarPrice dataframe in 70/30.\n",
    "df_train, df_test = train_test_split(CarPrice, train_size = 0.70, test_size = 0.30, random_state=1)"
   ]
  },
  {
   "cell_type": "markdown",
   "metadata": {},
   "source": [
    "### Rescaling the Features in Train Data\n",
    "\n",
    "We will use MinMax scaling."
   ]
  },
  {
   "cell_type": "code",
   "execution_count": 44,
   "metadata": {},
   "outputs": [
    {
     "data": {
      "text/html": [
       "<div>\n",
       "<style scoped>\n",
       "    .dataframe tbody tr th:only-of-type {\n",
       "        vertical-align: middle;\n",
       "    }\n",
       "\n",
       "    .dataframe tbody tr th {\n",
       "        vertical-align: top;\n",
       "    }\n",
       "\n",
       "    .dataframe thead th {\n",
       "        text-align: right;\n",
       "    }\n",
       "</style>\n",
       "<table border=\"1\" class=\"dataframe\">\n",
       "  <thead>\n",
       "    <tr style=\"text-align: right;\">\n",
       "      <th></th>\n",
       "      <th>price</th>\n",
       "      <th>symboling</th>\n",
       "      <th>aspiration</th>\n",
       "      <th>doornumber</th>\n",
       "      <th>enginelocation</th>\n",
       "      <th>wheelbase</th>\n",
       "      <th>carlength</th>\n",
       "      <th>carwidth</th>\n",
       "      <th>carheight</th>\n",
       "      <th>curbweight</th>\n",
       "      <th>...</th>\n",
       "      <th>Com_mazda</th>\n",
       "      <th>Com_mitsubishi</th>\n",
       "      <th>Com_nissan</th>\n",
       "      <th>Com_peugeot</th>\n",
       "      <th>Com_plymouth</th>\n",
       "      <th>Com_saab</th>\n",
       "      <th>Com_subaru</th>\n",
       "      <th>Com_toyota</th>\n",
       "      <th>Com_volkswagen</th>\n",
       "      <th>Com_volvo</th>\n",
       "    </tr>\n",
       "  </thead>\n",
       "  <tbody>\n",
       "    <tr>\n",
       "      <th>69</th>\n",
       "      <td>28176.0</td>\n",
       "      <td>0</td>\n",
       "      <td>1</td>\n",
       "      <td>0</td>\n",
       "      <td>0</td>\n",
       "      <td>106.7</td>\n",
       "      <td>187.5</td>\n",
       "      <td>70.3</td>\n",
       "      <td>54.9</td>\n",
       "      <td>3495</td>\n",
       "      <td>...</td>\n",
       "      <td>0</td>\n",
       "      <td>0</td>\n",
       "      <td>0</td>\n",
       "      <td>0</td>\n",
       "      <td>0</td>\n",
       "      <td>0</td>\n",
       "      <td>0</td>\n",
       "      <td>0</td>\n",
       "      <td>0</td>\n",
       "      <td>0</td>\n",
       "    </tr>\n",
       "    <tr>\n",
       "      <th>91</th>\n",
       "      <td>6649.0</td>\n",
       "      <td>1</td>\n",
       "      <td>0</td>\n",
       "      <td>0</td>\n",
       "      <td>0</td>\n",
       "      <td>94.5</td>\n",
       "      <td>165.3</td>\n",
       "      <td>63.8</td>\n",
       "      <td>54.5</td>\n",
       "      <td>1918</td>\n",
       "      <td>...</td>\n",
       "      <td>0</td>\n",
       "      <td>0</td>\n",
       "      <td>1</td>\n",
       "      <td>0</td>\n",
       "      <td>0</td>\n",
       "      <td>0</td>\n",
       "      <td>0</td>\n",
       "      <td>0</td>\n",
       "      <td>0</td>\n",
       "      <td>0</td>\n",
       "    </tr>\n",
       "    <tr>\n",
       "      <th>152</th>\n",
       "      <td>6488.0</td>\n",
       "      <td>1</td>\n",
       "      <td>0</td>\n",
       "      <td>1</td>\n",
       "      <td>0</td>\n",
       "      <td>95.7</td>\n",
       "      <td>158.7</td>\n",
       "      <td>63.6</td>\n",
       "      <td>54.5</td>\n",
       "      <td>2015</td>\n",
       "      <td>...</td>\n",
       "      <td>0</td>\n",
       "      <td>0</td>\n",
       "      <td>0</td>\n",
       "      <td>0</td>\n",
       "      <td>0</td>\n",
       "      <td>0</td>\n",
       "      <td>0</td>\n",
       "      <td>1</td>\n",
       "      <td>0</td>\n",
       "      <td>0</td>\n",
       "    </tr>\n",
       "    <tr>\n",
       "      <th>42</th>\n",
       "      <td>10345.0</td>\n",
       "      <td>1</td>\n",
       "      <td>0</td>\n",
       "      <td>0</td>\n",
       "      <td>0</td>\n",
       "      <td>96.5</td>\n",
       "      <td>169.1</td>\n",
       "      <td>66.0</td>\n",
       "      <td>51.0</td>\n",
       "      <td>2293</td>\n",
       "      <td>...</td>\n",
       "      <td>0</td>\n",
       "      <td>0</td>\n",
       "      <td>0</td>\n",
       "      <td>0</td>\n",
       "      <td>0</td>\n",
       "      <td>0</td>\n",
       "      <td>0</td>\n",
       "      <td>0</td>\n",
       "      <td>0</td>\n",
       "      <td>0</td>\n",
       "    </tr>\n",
       "    <tr>\n",
       "      <th>17</th>\n",
       "      <td>36880.0</td>\n",
       "      <td>0</td>\n",
       "      <td>0</td>\n",
       "      <td>1</td>\n",
       "      <td>0</td>\n",
       "      <td>110.0</td>\n",
       "      <td>197.0</td>\n",
       "      <td>70.9</td>\n",
       "      <td>56.3</td>\n",
       "      <td>3505</td>\n",
       "      <td>...</td>\n",
       "      <td>0</td>\n",
       "      <td>0</td>\n",
       "      <td>0</td>\n",
       "      <td>0</td>\n",
       "      <td>0</td>\n",
       "      <td>0</td>\n",
       "      <td>0</td>\n",
       "      <td>0</td>\n",
       "      <td>0</td>\n",
       "      <td>0</td>\n",
       "    </tr>\n",
       "  </tbody>\n",
       "</table>\n",
       "<p>5 rows × 49 columns</p>\n",
       "</div>"
      ],
      "text/plain": [
       "       price  symboling  aspiration  doornumber  enginelocation  wheelbase  \\\n",
       "69   28176.0          0           1           0               0      106.7   \n",
       "91    6649.0          1           0           0               0       94.5   \n",
       "152   6488.0          1           0           1               0       95.7   \n",
       "42   10345.0          1           0           0               0       96.5   \n",
       "17   36880.0          0           0           1               0      110.0   \n",
       "\n",
       "     carlength  carwidth  carheight  curbweight    ...      Com_mazda  \\\n",
       "69       187.5      70.3       54.9        3495    ...              0   \n",
       "91       165.3      63.8       54.5        1918    ...              0   \n",
       "152      158.7      63.6       54.5        2015    ...              0   \n",
       "42       169.1      66.0       51.0        2293    ...              0   \n",
       "17       197.0      70.9       56.3        3505    ...              0   \n",
       "\n",
       "     Com_mitsubishi  Com_nissan  Com_peugeot  Com_plymouth  Com_saab  \\\n",
       "69                0           0            0             0         0   \n",
       "91                0           1            0             0         0   \n",
       "152               0           0            0             0         0   \n",
       "42                0           0            0             0         0   \n",
       "17                0           0            0             0         0   \n",
       "\n",
       "     Com_subaru  Com_toyota  Com_volkswagen  Com_volvo  \n",
       "69            0           0               0          0  \n",
       "91            0           0               0          0  \n",
       "152           0           1               0          0  \n",
       "42            0           0               0          0  \n",
       "17            0           0               0          0  \n",
       "\n",
       "[5 rows x 49 columns]"
      ]
     },
     "execution_count": 44,
     "metadata": {},
     "output_type": "execute_result"
    }
   ],
   "source": [
    "df_train.head(5)"
   ]
  },
  {
   "cell_type": "code",
   "execution_count": 45,
   "metadata": {},
   "outputs": [],
   "source": [
    "scaler = MinMaxScaler()"
   ]
  },
  {
   "cell_type": "code",
   "execution_count": 46,
   "metadata": {},
   "outputs": [],
   "source": [
    "#All Numerical Features in this variables\n",
    "NumVar\n",
    "\n",
    "#Remove car_D numberical features create a new variable \n",
    "#which will have have all numerical features of the dataset which we want to scale\n",
    "var_to_scale= NumVar.copy()\n",
    "var_to_scale.remove(\"car_ID\")"
   ]
  },
  {
   "cell_type": "code",
   "execution_count": null,
   "metadata": {},
   "outputs": [],
   "source": []
  },
  {
   "cell_type": "code",
   "execution_count": 47,
   "metadata": {},
   "outputs": [
    {
     "data": {
      "text/html": [
       "<div>\n",
       "<style scoped>\n",
       "    .dataframe tbody tr th:only-of-type {\n",
       "        vertical-align: middle;\n",
       "    }\n",
       "\n",
       "    .dataframe tbody tr th {\n",
       "        vertical-align: top;\n",
       "    }\n",
       "\n",
       "    .dataframe thead th {\n",
       "        text-align: right;\n",
       "    }\n",
       "</style>\n",
       "<table border=\"1\" class=\"dataframe\">\n",
       "  <thead>\n",
       "    <tr style=\"text-align: right;\">\n",
       "      <th></th>\n",
       "      <th>price</th>\n",
       "      <th>symboling</th>\n",
       "      <th>aspiration</th>\n",
       "      <th>doornumber</th>\n",
       "      <th>enginelocation</th>\n",
       "      <th>wheelbase</th>\n",
       "      <th>carlength</th>\n",
       "      <th>carwidth</th>\n",
       "      <th>carheight</th>\n",
       "      <th>curbweight</th>\n",
       "      <th>...</th>\n",
       "      <th>Com_mazda</th>\n",
       "      <th>Com_mitsubishi</th>\n",
       "      <th>Com_nissan</th>\n",
       "      <th>Com_peugeot</th>\n",
       "      <th>Com_plymouth</th>\n",
       "      <th>Com_saab</th>\n",
       "      <th>Com_subaru</th>\n",
       "      <th>Com_toyota</th>\n",
       "      <th>Com_volkswagen</th>\n",
       "      <th>Com_volvo</th>\n",
       "    </tr>\n",
       "  </thead>\n",
       "  <tbody>\n",
       "    <tr>\n",
       "      <th>count</th>\n",
       "      <td>140.00000</td>\n",
       "      <td>140.000000</td>\n",
       "      <td>140.000000</td>\n",
       "      <td>140.000000</td>\n",
       "      <td>140.000000</td>\n",
       "      <td>140.000000</td>\n",
       "      <td>140.000000</td>\n",
       "      <td>140.000000</td>\n",
       "      <td>140.000000</td>\n",
       "      <td>140.000000</td>\n",
       "      <td>...</td>\n",
       "      <td>140.000000</td>\n",
       "      <td>140.000000</td>\n",
       "      <td>140.000000</td>\n",
       "      <td>140.000000</td>\n",
       "      <td>140.000000</td>\n",
       "      <td>140.000000</td>\n",
       "      <td>140.000000</td>\n",
       "      <td>140.000000</td>\n",
       "      <td>140.000000</td>\n",
       "      <td>140.000000</td>\n",
       "    </tr>\n",
       "    <tr>\n",
       "      <th>mean</th>\n",
       "      <td>13407.91905</td>\n",
       "      <td>0.842857</td>\n",
       "      <td>0.192857</td>\n",
       "      <td>0.592857</td>\n",
       "      <td>0.014286</td>\n",
       "      <td>98.724286</td>\n",
       "      <td>174.470714</td>\n",
       "      <td>65.993571</td>\n",
       "      <td>53.663571</td>\n",
       "      <td>2573.792857</td>\n",
       "      <td>...</td>\n",
       "      <td>0.078571</td>\n",
       "      <td>0.078571</td>\n",
       "      <td>0.078571</td>\n",
       "      <td>0.057143</td>\n",
       "      <td>0.035714</td>\n",
       "      <td>0.035714</td>\n",
       "      <td>0.064286</td>\n",
       "      <td>0.150000</td>\n",
       "      <td>0.035714</td>\n",
       "      <td>0.050000</td>\n",
       "    </tr>\n",
       "    <tr>\n",
       "      <th>std</th>\n",
       "      <td>7929.26599</td>\n",
       "      <td>1.230730</td>\n",
       "      <td>0.395959</td>\n",
       "      <td>0.493066</td>\n",
       "      <td>0.119092</td>\n",
       "      <td>5.825902</td>\n",
       "      <td>11.869655</td>\n",
       "      <td>2.160576</td>\n",
       "      <td>2.500193</td>\n",
       "      <td>515.570544</td>\n",
       "      <td>...</td>\n",
       "      <td>0.270035</td>\n",
       "      <td>0.270035</td>\n",
       "      <td>0.270035</td>\n",
       "      <td>0.232949</td>\n",
       "      <td>0.186243</td>\n",
       "      <td>0.186243</td>\n",
       "      <td>0.246142</td>\n",
       "      <td>0.358354</td>\n",
       "      <td>0.186243</td>\n",
       "      <td>0.218728</td>\n",
       "    </tr>\n",
       "    <tr>\n",
       "      <th>min</th>\n",
       "      <td>5118.00000</td>\n",
       "      <td>-2.000000</td>\n",
       "      <td>0.000000</td>\n",
       "      <td>0.000000</td>\n",
       "      <td>0.000000</td>\n",
       "      <td>86.600000</td>\n",
       "      <td>144.600000</td>\n",
       "      <td>61.800000</td>\n",
       "      <td>47.800000</td>\n",
       "      <td>1713.000000</td>\n",
       "      <td>...</td>\n",
       "      <td>0.000000</td>\n",
       "      <td>0.000000</td>\n",
       "      <td>0.000000</td>\n",
       "      <td>0.000000</td>\n",
       "      <td>0.000000</td>\n",
       "      <td>0.000000</td>\n",
       "      <td>0.000000</td>\n",
       "      <td>0.000000</td>\n",
       "      <td>0.000000</td>\n",
       "      <td>0.000000</td>\n",
       "    </tr>\n",
       "    <tr>\n",
       "      <th>25%</th>\n",
       "      <td>7784.75000</td>\n",
       "      <td>0.000000</td>\n",
       "      <td>0.000000</td>\n",
       "      <td>0.000000</td>\n",
       "      <td>0.000000</td>\n",
       "      <td>94.500000</td>\n",
       "      <td>167.300000</td>\n",
       "      <td>64.100000</td>\n",
       "      <td>51.600000</td>\n",
       "      <td>2184.750000</td>\n",
       "      <td>...</td>\n",
       "      <td>0.000000</td>\n",
       "      <td>0.000000</td>\n",
       "      <td>0.000000</td>\n",
       "      <td>0.000000</td>\n",
       "      <td>0.000000</td>\n",
       "      <td>0.000000</td>\n",
       "      <td>0.000000</td>\n",
       "      <td>0.000000</td>\n",
       "      <td>0.000000</td>\n",
       "      <td>0.000000</td>\n",
       "    </tr>\n",
       "    <tr>\n",
       "      <th>50%</th>\n",
       "      <td>10846.50000</td>\n",
       "      <td>1.000000</td>\n",
       "      <td>0.000000</td>\n",
       "      <td>1.000000</td>\n",
       "      <td>0.000000</td>\n",
       "      <td>96.750000</td>\n",
       "      <td>173.000000</td>\n",
       "      <td>65.500000</td>\n",
       "      <td>54.100000</td>\n",
       "      <td>2417.000000</td>\n",
       "      <td>...</td>\n",
       "      <td>0.000000</td>\n",
       "      <td>0.000000</td>\n",
       "      <td>0.000000</td>\n",
       "      <td>0.000000</td>\n",
       "      <td>0.000000</td>\n",
       "      <td>0.000000</td>\n",
       "      <td>0.000000</td>\n",
       "      <td>0.000000</td>\n",
       "      <td>0.000000</td>\n",
       "      <td>0.000000</td>\n",
       "    </tr>\n",
       "    <tr>\n",
       "      <th>75%</th>\n",
       "      <td>16576.00000</td>\n",
       "      <td>2.000000</td>\n",
       "      <td>0.000000</td>\n",
       "      <td>1.000000</td>\n",
       "      <td>0.000000</td>\n",
       "      <td>101.400000</td>\n",
       "      <td>183.775000</td>\n",
       "      <td>66.900000</td>\n",
       "      <td>55.500000</td>\n",
       "      <td>2959.250000</td>\n",
       "      <td>...</td>\n",
       "      <td>0.000000</td>\n",
       "      <td>0.000000</td>\n",
       "      <td>0.000000</td>\n",
       "      <td>0.000000</td>\n",
       "      <td>0.000000</td>\n",
       "      <td>0.000000</td>\n",
       "      <td>0.000000</td>\n",
       "      <td>0.000000</td>\n",
       "      <td>0.000000</td>\n",
       "      <td>0.000000</td>\n",
       "    </tr>\n",
       "    <tr>\n",
       "      <th>max</th>\n",
       "      <td>45400.00000</td>\n",
       "      <td>3.000000</td>\n",
       "      <td>1.000000</td>\n",
       "      <td>1.000000</td>\n",
       "      <td>1.000000</td>\n",
       "      <td>115.600000</td>\n",
       "      <td>202.600000</td>\n",
       "      <td>72.000000</td>\n",
       "      <td>59.100000</td>\n",
       "      <td>4066.000000</td>\n",
       "      <td>...</td>\n",
       "      <td>1.000000</td>\n",
       "      <td>1.000000</td>\n",
       "      <td>1.000000</td>\n",
       "      <td>1.000000</td>\n",
       "      <td>1.000000</td>\n",
       "      <td>1.000000</td>\n",
       "      <td>1.000000</td>\n",
       "      <td>1.000000</td>\n",
       "      <td>1.000000</td>\n",
       "      <td>1.000000</td>\n",
       "    </tr>\n",
       "  </tbody>\n",
       "</table>\n",
       "<p>8 rows × 49 columns</p>\n",
       "</div>"
      ],
      "text/plain": [
       "             price   symboling  aspiration  doornumber  enginelocation  \\\n",
       "count    140.00000  140.000000  140.000000  140.000000      140.000000   \n",
       "mean   13407.91905    0.842857    0.192857    0.592857        0.014286   \n",
       "std     7929.26599    1.230730    0.395959    0.493066        0.119092   \n",
       "min     5118.00000   -2.000000    0.000000    0.000000        0.000000   \n",
       "25%     7784.75000    0.000000    0.000000    0.000000        0.000000   \n",
       "50%    10846.50000    1.000000    0.000000    1.000000        0.000000   \n",
       "75%    16576.00000    2.000000    0.000000    1.000000        0.000000   \n",
       "max    45400.00000    3.000000    1.000000    1.000000        1.000000   \n",
       "\n",
       "        wheelbase   carlength    carwidth   carheight   curbweight  \\\n",
       "count  140.000000  140.000000  140.000000  140.000000   140.000000   \n",
       "mean    98.724286  174.470714   65.993571   53.663571  2573.792857   \n",
       "std      5.825902   11.869655    2.160576    2.500193   515.570544   \n",
       "min     86.600000  144.600000   61.800000   47.800000  1713.000000   \n",
       "25%     94.500000  167.300000   64.100000   51.600000  2184.750000   \n",
       "50%     96.750000  173.000000   65.500000   54.100000  2417.000000   \n",
       "75%    101.400000  183.775000   66.900000   55.500000  2959.250000   \n",
       "max    115.600000  202.600000   72.000000   59.100000  4066.000000   \n",
       "\n",
       "          ...       Com_mazda  Com_mitsubishi  Com_nissan  Com_peugeot  \\\n",
       "count     ...      140.000000      140.000000  140.000000   140.000000   \n",
       "mean      ...        0.078571        0.078571    0.078571     0.057143   \n",
       "std       ...        0.270035        0.270035    0.270035     0.232949   \n",
       "min       ...        0.000000        0.000000    0.000000     0.000000   \n",
       "25%       ...        0.000000        0.000000    0.000000     0.000000   \n",
       "50%       ...        0.000000        0.000000    0.000000     0.000000   \n",
       "75%       ...        0.000000        0.000000    0.000000     0.000000   \n",
       "max       ...        1.000000        1.000000    1.000000     1.000000   \n",
       "\n",
       "       Com_plymouth    Com_saab  Com_subaru  Com_toyota  Com_volkswagen  \\\n",
       "count    140.000000  140.000000  140.000000  140.000000      140.000000   \n",
       "mean       0.035714    0.035714    0.064286    0.150000        0.035714   \n",
       "std        0.186243    0.186243    0.246142    0.358354        0.186243   \n",
       "min        0.000000    0.000000    0.000000    0.000000        0.000000   \n",
       "25%        0.000000    0.000000    0.000000    0.000000        0.000000   \n",
       "50%        0.000000    0.000000    0.000000    0.000000        0.000000   \n",
       "75%        0.000000    0.000000    0.000000    0.000000        0.000000   \n",
       "max        1.000000    1.000000    1.000000    1.000000        1.000000   \n",
       "\n",
       "        Com_volvo  \n",
       "count  140.000000  \n",
       "mean     0.050000  \n",
       "std      0.218728  \n",
       "min      0.000000  \n",
       "25%      0.000000  \n",
       "50%      0.000000  \n",
       "75%      0.000000  \n",
       "max      1.000000  \n",
       "\n",
       "[8 rows x 49 columns]"
      ]
     },
     "execution_count": 47,
     "metadata": {},
     "output_type": "execute_result"
    }
   ],
   "source": [
    "df_train.describe()"
   ]
  },
  {
   "cell_type": "code",
   "execution_count": 48,
   "metadata": {},
   "outputs": [
    {
     "name": "stderr",
     "output_type": "stream",
     "text": [
      "C:\\Users\\admin\\Anaconda3\\lib\\site-packages\\sklearn\\preprocessing\\data.py:323: DataConversionWarning: Data with input dtype int64, float64 were all converted to float64 by MinMaxScaler.\n",
      "  return self.partial_fit(X, y)\n"
     ]
    },
    {
     "data": {
      "text/html": [
       "<div>\n",
       "<style scoped>\n",
       "    .dataframe tbody tr th:only-of-type {\n",
       "        vertical-align: middle;\n",
       "    }\n",
       "\n",
       "    .dataframe tbody tr th {\n",
       "        vertical-align: top;\n",
       "    }\n",
       "\n",
       "    .dataframe thead th {\n",
       "        text-align: right;\n",
       "    }\n",
       "</style>\n",
       "<table border=\"1\" class=\"dataframe\">\n",
       "  <thead>\n",
       "    <tr style=\"text-align: right;\">\n",
       "      <th></th>\n",
       "      <th>price</th>\n",
       "      <th>symboling</th>\n",
       "      <th>aspiration</th>\n",
       "      <th>doornumber</th>\n",
       "      <th>enginelocation</th>\n",
       "      <th>wheelbase</th>\n",
       "      <th>carlength</th>\n",
       "      <th>carwidth</th>\n",
       "      <th>carheight</th>\n",
       "      <th>curbweight</th>\n",
       "      <th>...</th>\n",
       "      <th>Com_mazda</th>\n",
       "      <th>Com_mitsubishi</th>\n",
       "      <th>Com_nissan</th>\n",
       "      <th>Com_peugeot</th>\n",
       "      <th>Com_plymouth</th>\n",
       "      <th>Com_saab</th>\n",
       "      <th>Com_subaru</th>\n",
       "      <th>Com_toyota</th>\n",
       "      <th>Com_volkswagen</th>\n",
       "      <th>Com_volvo</th>\n",
       "    </tr>\n",
       "  </thead>\n",
       "  <tbody>\n",
       "    <tr>\n",
       "      <th>69</th>\n",
       "      <td>0.572414</td>\n",
       "      <td>0.4</td>\n",
       "      <td>1</td>\n",
       "      <td>0</td>\n",
       "      <td>0</td>\n",
       "      <td>0.693103</td>\n",
       "      <td>0.739655</td>\n",
       "      <td>0.833333</td>\n",
       "      <td>0.628319</td>\n",
       "      <td>0.757331</td>\n",
       "      <td>...</td>\n",
       "      <td>0</td>\n",
       "      <td>0</td>\n",
       "      <td>0</td>\n",
       "      <td>0</td>\n",
       "      <td>0</td>\n",
       "      <td>0</td>\n",
       "      <td>0</td>\n",
       "      <td>0</td>\n",
       "      <td>0</td>\n",
       "      <td>0</td>\n",
       "    </tr>\n",
       "    <tr>\n",
       "      <th>91</th>\n",
       "      <td>0.038007</td>\n",
       "      <td>0.6</td>\n",
       "      <td>0</td>\n",
       "      <td>0</td>\n",
       "      <td>0</td>\n",
       "      <td>0.272414</td>\n",
       "      <td>0.356897</td>\n",
       "      <td>0.196078</td>\n",
       "      <td>0.592920</td>\n",
       "      <td>0.087123</td>\n",
       "      <td>...</td>\n",
       "      <td>0</td>\n",
       "      <td>0</td>\n",
       "      <td>1</td>\n",
       "      <td>0</td>\n",
       "      <td>0</td>\n",
       "      <td>0</td>\n",
       "      <td>0</td>\n",
       "      <td>0</td>\n",
       "      <td>0</td>\n",
       "      <td>0</td>\n",
       "    </tr>\n",
       "    <tr>\n",
       "      <th>152</th>\n",
       "      <td>0.034010</td>\n",
       "      <td>0.6</td>\n",
       "      <td>0</td>\n",
       "      <td>1</td>\n",
       "      <td>0</td>\n",
       "      <td>0.313793</td>\n",
       "      <td>0.243103</td>\n",
       "      <td>0.176471</td>\n",
       "      <td>0.592920</td>\n",
       "      <td>0.128347</td>\n",
       "      <td>...</td>\n",
       "      <td>0</td>\n",
       "      <td>0</td>\n",
       "      <td>0</td>\n",
       "      <td>0</td>\n",
       "      <td>0</td>\n",
       "      <td>0</td>\n",
       "      <td>0</td>\n",
       "      <td>1</td>\n",
       "      <td>0</td>\n",
       "      <td>0</td>\n",
       "    </tr>\n",
       "    <tr>\n",
       "      <th>42</th>\n",
       "      <td>0.129760</td>\n",
       "      <td>0.6</td>\n",
       "      <td>0</td>\n",
       "      <td>0</td>\n",
       "      <td>0</td>\n",
       "      <td>0.341379</td>\n",
       "      <td>0.422414</td>\n",
       "      <td>0.411765</td>\n",
       "      <td>0.283186</td>\n",
       "      <td>0.246494</td>\n",
       "      <td>...</td>\n",
       "      <td>0</td>\n",
       "      <td>0</td>\n",
       "      <td>0</td>\n",
       "      <td>0</td>\n",
       "      <td>0</td>\n",
       "      <td>0</td>\n",
       "      <td>0</td>\n",
       "      <td>0</td>\n",
       "      <td>0</td>\n",
       "      <td>0</td>\n",
       "    </tr>\n",
       "    <tr>\n",
       "      <th>17</th>\n",
       "      <td>0.788491</td>\n",
       "      <td>0.4</td>\n",
       "      <td>0</td>\n",
       "      <td>1</td>\n",
       "      <td>0</td>\n",
       "      <td>0.806897</td>\n",
       "      <td>0.903448</td>\n",
       "      <td>0.892157</td>\n",
       "      <td>0.752212</td>\n",
       "      <td>0.761581</td>\n",
       "      <td>...</td>\n",
       "      <td>0</td>\n",
       "      <td>0</td>\n",
       "      <td>0</td>\n",
       "      <td>0</td>\n",
       "      <td>0</td>\n",
       "      <td>0</td>\n",
       "      <td>0</td>\n",
       "      <td>0</td>\n",
       "      <td>0</td>\n",
       "      <td>0</td>\n",
       "    </tr>\n",
       "  </tbody>\n",
       "</table>\n",
       "<p>5 rows × 49 columns</p>\n",
       "</div>"
      ],
      "text/plain": [
       "        price  symboling  aspiration  doornumber  enginelocation  wheelbase  \\\n",
       "69   0.572414        0.4           1           0               0   0.693103   \n",
       "91   0.038007        0.6           0           0               0   0.272414   \n",
       "152  0.034010        0.6           0           1               0   0.313793   \n",
       "42   0.129760        0.6           0           0               0   0.341379   \n",
       "17   0.788491        0.4           0           1               0   0.806897   \n",
       "\n",
       "     carlength  carwidth  carheight  curbweight    ...      Com_mazda  \\\n",
       "69    0.739655  0.833333   0.628319    0.757331    ...              0   \n",
       "91    0.356897  0.196078   0.592920    0.087123    ...              0   \n",
       "152   0.243103  0.176471   0.592920    0.128347    ...              0   \n",
       "42    0.422414  0.411765   0.283186    0.246494    ...              0   \n",
       "17    0.903448  0.892157   0.752212    0.761581    ...              0   \n",
       "\n",
       "     Com_mitsubishi  Com_nissan  Com_peugeot  Com_plymouth  Com_saab  \\\n",
       "69                0           0            0             0         0   \n",
       "91                0           1            0             0         0   \n",
       "152               0           0            0             0         0   \n",
       "42                0           0            0             0         0   \n",
       "17                0           0            0             0         0   \n",
       "\n",
       "     Com_subaru  Com_toyota  Com_volkswagen  Com_volvo  \n",
       "69            0           0               0          0  \n",
       "91            0           0               0          0  \n",
       "152           0           1               0          0  \n",
       "42            0           0               0          0  \n",
       "17            0           0               0          0  \n",
       "\n",
       "[5 rows x 49 columns]"
      ]
     },
     "execution_count": 48,
     "metadata": {},
     "output_type": "execute_result"
    }
   ],
   "source": [
    "# scale the train dataframe\n",
    "# Apply scaler() to all the numerical columns except the 'yes-no' and 'dummy' variables\n",
    "df_train[var_to_scale] = scaler.fit_transform(df_train[var_to_scale])\n",
    "\n",
    "df_train.head()\n",
    "# Train & Test 2 separate dataframe are ready for model building and testing"
   ]
  },
  {
   "cell_type": "code",
   "execution_count": 49,
   "metadata": {},
   "outputs": [],
   "source": [
    "df_train.describe().to_csv(\"df_train_describe.csv\")"
   ]
  },
  {
   "cell_type": "code",
   "execution_count": null,
   "metadata": {},
   "outputs": [],
   "source": []
  },
  {
   "cell_type": "markdown",
   "metadata": {},
   "source": [
    "### Dividing into X and Y sets for the model building"
   ]
  },
  {
   "cell_type": "code",
   "execution_count": 50,
   "metadata": {},
   "outputs": [],
   "source": [
    "y_train=df_train.pop(\"price\")\n",
    "X_train=df_train"
   ]
  },
  {
   "cell_type": "markdown",
   "metadata": {},
   "source": [
    "## Building Model"
   ]
  },
  {
   "cell_type": "code",
   "execution_count": 51,
   "metadata": {},
   "outputs": [],
   "source": [
    "# Importing RFE for Selecting Features\n",
    "from sklearn.feature_selection import RFE\n",
    "\n",
    "# Importing LinearRegression for creating model\n",
    "from sklearn.linear_model import LinearRegression\n",
    "\n",
    "# Importing statsmodels for creating model\n",
    "import statsmodels.api as sm\n",
    "\n",
    "# Import variance_inflation_factor To calculate the VIFs for the new model\n",
    "from statsmodels.stats.outliers_influence import variance_inflation_factor\n",
    "\n",
    "# Import r2_score to get r square score\n",
    "from sklearn.metrics import r2_score"
   ]
  },
  {
   "cell_type": "markdown",
   "metadata": {},
   "source": [
    "### Running RFE & Creating Model"
   ]
  },
  {
   "cell_type": "code",
   "execution_count": null,
   "metadata": {},
   "outputs": [],
   "source": []
  },
  {
   "cell_type": "code",
   "execution_count": 52,
   "metadata": {},
   "outputs": [],
   "source": [
    "#This function builds model, prints error summary, return features selected by RFE and prints summary of regression\n",
    "#This all is done depends what parameter is passed to this function\n",
    "\n",
    "#Parameters of this function\n",
    "#X_Data it may be X_train or X_Test.\n",
    "#number_of_rfe_features means how many features you want RFE to select for you\n",
    "#predict=True mean return the model and print error terms graph. \n",
    "#predict=False means return the columns selected by REF &  model. It also print the linearRegression summary\n",
    "#train=True mean fit the model. train=False mean donot fit the model. \n",
    "#when Train= true then X_Data should be X_train dataframe\n",
    "\n",
    "def buildModel(X_data, y_data, number_of_rfe_features, predict=False, train=True, rsquare_train=False):\n",
    "\n",
    "    if train:\n",
    "        #Initiate LinearRegression Model Object\n",
    "        lm = LinearRegression()\n",
    "\n",
    "        #Fit Model on Train Data\n",
    "        lm.fit(X_data, y_data)\n",
    "\n",
    "        #Identify top n features from the dataframe\n",
    "        rfe = RFE(lm, number_of_rfe_features)             \n",
    "        rfe = rfe.fit(X_data, y_data)\n",
    "\n",
    "        #Name of those top n features\n",
    "        col = X_data.columns[rfe.support_]\n",
    "\n",
    "        # Creating X_train dataframe with RFE selected variables\n",
    "        X_train_rfe = X_data[col]\n",
    "\n",
    "        # Adding a constant variable, because statsmodel.ols \n",
    "        #does not have intercept by default and line go through 0,0\n",
    "        X_train_rfe = sm.add_constant(X_train_rfe)\n",
    "        \n",
    "        # Running the linear model\n",
    "        lm = sm.OLS(y_data,X_train_rfe).fit()\n",
    "        \n",
    "        if rsquare_train:\n",
    "            return r2_score(y_data,lm.predict(X_train_rfe))\n",
    "\n",
    "    if predict:\n",
    "        fig = plt.figure(figsize=(15,5))\n",
    "        \n",
    "        # Plot heading \n",
    "        fig.suptitle('Error Terms', fontsize = 20)  \n",
    "        plt.subplot(1,2,1)\n",
    "        #predict the price\n",
    "        y_train_predict = lm.predict(X_train_rfe)\n",
    "        \n",
    "        # Plot the histogram of the error terms\n",
    "        sns.distplot((y_data - y_train_predict), bins = 20)\n",
    "        \n",
    "        # X-label\n",
    "        plt.xlabel('Errors', fontsize = 18)\n",
    "        \n",
    "        # Plot the scattered of the error terms\n",
    "        plt.subplot(1,2,2)\n",
    "        sns.scatterplot(y=(y_data - y_train_predict), x=y_train_predict)\n",
    "        # X-label\n",
    "        plt.ylabel('Errors', fontsize = 18)\n",
    "        plt.xlabel(\"y prediction\", fontsize = 18)\n",
    "        return lm\n",
    "        \n",
    "    else:\n",
    "        #Let's see the summary of our linear model\n",
    "        print(lm.summary())\n",
    "        return col, lm"
   ]
  },
  {
   "cell_type": "code",
   "execution_count": 53,
   "metadata": {},
   "outputs": [],
   "source": [
    "#To avoid these steps again and again. To keep my notebook clean I am putting this in function\n",
    "#It will give me VIG for X_train_new (this dataframe will keep chaning from one iteration of model to other)\n",
    "def getVIF():\n",
    "    vif = pd.DataFrame()\n",
    "    X = X_train_new\n",
    "    vif['Features'] = X.columns\n",
    "    vif['VIF'] = [variance_inflation_factor(X.values, i) for i in range(X.shape[1])]\n",
    "    vif['VIF'] = round(vif['VIF'], 2)\n",
    "    vif = vif.sort_values(by = \"VIF\", ascending = False)\n",
    "    print (vif)\n",
    "    return vif"
   ]
  },
  {
   "cell_type": "code",
   "execution_count": 54,
   "metadata": {},
   "outputs": [],
   "source": [
    "#During model building This function helps in identifying column which should be dropped based on VIF or p-value\n",
    "\n",
    "#If pvalue_based is True then it will give name of feature which has highest p value\n",
    "#else it will give name of feature which has higest VIF\n",
    "\n",
    "def getfeatureName_toDrop(pvalue_based):\n",
    "    if pvalue_based:\n",
    "        nm=list(lm.pvalues.sort_values(ascending=False).head(1).index)[0]\n",
    "        if nm==\"const\":\n",
    "            nm=list(lm.pvalues.sort_values(ascending=False).head(2).index)[1]\n",
    "        return nm\n",
    "    else:\n",
    "        return list(vif.Features.head(1))[0]"
   ]
  },
  {
   "cell_type": "markdown",
   "metadata": {},
   "source": [
    "## Model Building and Feature Elimination Process Starts Here"
   ]
  },
  {
   "cell_type": "code",
   "execution_count": 55,
   "metadata": {},
   "outputs": [],
   "source": [
    "# During model building exercise several times X_train will change and I donot want to waste time \n",
    "# to do the earlier steps again and again to build the X_train. Therefore for model building \n",
    "# I will use X_train_new and at any point of time if I have to start rebuilding the model \n",
    "# I will start again from here and will not go back then this point. Therefore creaing copy of X_train\n",
    "\n",
    "X_train_new = X_train.copy()"
   ]
  },
  {
   "cell_type": "code",
   "execution_count": 56,
   "metadata": {},
   "outputs": [
    {
     "data": {
      "text/plain": [
       "(140, 48)"
      ]
     },
     "execution_count": 56,
     "metadata": {},
     "output_type": "execute_result"
    }
   ],
   "source": [
    "X_train_new.shape"
   ]
  },
  {
   "cell_type": "markdown",
   "metadata": {},
   "source": [
    "#### Build Model 1st Iteration"
   ]
  },
  {
   "cell_type": "code",
   "execution_count": 57,
   "metadata": {},
   "outputs": [
    {
     "name": "stdout",
     "output_type": "stream",
     "text": [
      "                            OLS Regression Results                            \n",
      "==============================================================================\n",
      "Dep. Variable:                  price   R-squared:                       0.972\n",
      "Model:                            OLS   Adj. R-squared:                  0.958\n",
      "Method:                 Least Squares   F-statistic:                     66.26\n",
      "Date:                Mon, 15 Jul 2019   Prob (F-statistic):           8.58e-54\n",
      "Time:                        18:56:08   Log-Likelihood:                 280.15\n",
      "No. Observations:                 140   AIC:                            -462.3\n",
      "Df Residuals:                      91   BIC:                            -318.1\n",
      "Df Model:                          48                                         \n",
      "Covariance Type:            nonrobust                                         \n",
      "====================================================================================\n",
      "                       coef    std err          t      P>|t|      [0.025      0.975]\n",
      "------------------------------------------------------------------------------------\n",
      "const                0.2244      0.165      1.356      0.178      -0.104       0.553\n",
      "symboling            0.0386      0.032      1.208      0.230      -0.025       0.102\n",
      "aspiration           0.0225      0.026      0.861      0.391      -0.029       0.074\n",
      "doornumber           0.0370      0.015      2.452      0.016       0.007       0.067\n",
      "enginelocation       0.4603      0.059      7.840      0.000       0.344       0.577\n",
      "wheelbase            0.1930      0.068      2.849      0.005       0.058       0.327\n",
      "carlength           -0.3183      0.111     -2.880      0.005      -0.538      -0.099\n",
      "carwidth             0.2206      0.085      2.585      0.011       0.051       0.390\n",
      "carheight           -0.0944      0.076     -1.243      0.217      -0.245       0.056\n",
      "curbweight           0.3924      0.292      1.343      0.183      -0.188       0.973\n",
      "cylindernumber      -0.6320      0.163     -3.866      0.000      -0.957      -0.307\n",
      "enginesize           1.1351      0.198      5.721      0.000       0.741       1.529\n",
      "boreratio           -0.3247      0.084     -3.849      0.000      -0.492      -0.157\n",
      "stroke              -0.1374      0.055     -2.476      0.015      -0.248      -0.027\n",
      "compressionratio    -0.3600      0.182     -1.974      0.051      -0.722       0.002\n",
      "horsepower          -0.0524      0.118     -0.445      0.657      -0.286       0.182\n",
      "peakrpm              0.1034      0.042      2.483      0.015       0.021       0.186\n",
      "citympg             -0.1135      0.135     -0.841      0.402      -0.382       0.155\n",
      "highwaympg           0.1201      0.127      0.942      0.349      -0.133       0.373\n",
      "density              0.1097      0.193      0.569      0.571      -0.273       0.492\n",
      "DW_fwd              -0.0139      0.024     -0.589      0.557      -0.061       0.033\n",
      "DW_rwd               0.0421      0.029      1.458      0.148      -0.015       0.099\n",
      "CB_hardtop          -0.0141      0.036     -0.389      0.698      -0.086       0.058\n",
      "CB_hatchback        -0.0590      0.027     -2.170      0.033      -0.113      -0.005\n",
      "CB_sedan            -0.0534      0.030     -1.758      0.082      -0.114       0.007\n",
      "CB_wagon            -0.0597      0.033     -1.810      0.074      -0.125       0.006\n",
      "ET_ohc              -0.0182      0.024     -0.757      0.451      -0.066       0.029\n",
      "ET_ohcv             -0.0207      0.032     -0.652      0.516      -0.084       0.042\n",
      "FS_2bbl              0.0509      0.032      1.586      0.116      -0.013       0.115\n",
      "FS_4bbl             -0.0305      0.076     -0.400      0.690      -0.182       0.121\n",
      "FS_idi               0.3443      0.162      2.124      0.036       0.022       0.666\n",
      "FS_mpfi              0.0540      0.036      1.487      0.140      -0.018       0.126\n",
      "FS_spdi              0.0349      0.043      0.812      0.419      -0.050       0.120\n",
      "Com_audi             0.0526      0.031      1.694      0.094      -0.009       0.114\n",
      "Com_bmw              0.2232      0.038      5.903      0.000       0.148       0.298\n",
      "Com_buick            0.1196      0.041      2.922      0.004       0.038       0.201\n",
      "Com_dodge           -0.0622      0.028     -2.247      0.027      -0.117      -0.007\n",
      "Com_honda            0.0175      0.034      0.513      0.609      -0.050       0.085\n",
      "Com_isuzu            0.0082      0.035      0.237      0.813      -0.060       0.077\n",
      "Com_mazda            0.0167      0.023      0.723      0.472      -0.029       0.063\n",
      "Com_mitsubishi      -0.0703      0.028     -2.544      0.013      -0.125      -0.015\n",
      "Com_nissan           0.0098      0.025      0.387      0.700      -0.040       0.060\n",
      "Com_peugeot         -0.1159      0.040     -2.876      0.005      -0.196      -0.036\n",
      "Com_plymouth        -0.0744      0.030     -2.465      0.016      -0.134      -0.014\n",
      "Com_saab             0.1229      0.039      3.161      0.002       0.046       0.200\n",
      "Com_subaru           0.0199      0.043      0.466      0.643      -0.065       0.105\n",
      "Com_toyota          -0.0119      0.019     -0.622      0.535      -0.050       0.026\n",
      "Com_volkswagen      -0.0101      0.027     -0.374      0.709      -0.064       0.044\n",
      "Com_volvo            0.0279      0.034      0.815      0.417      -0.040       0.096\n",
      "==============================================================================\n",
      "Omnibus:                        3.344   Durbin-Watson:                   2.098\n",
      "Prob(Omnibus):                  0.188   Jarque-Bera (JB):                3.360\n",
      "Skew:                           0.149   Prob(JB):                        0.186\n",
      "Kurtosis:                       3.698   Cond. No.                         307.\n",
      "==============================================================================\n",
      "\n",
      "Warnings:\n",
      "[1] Standard Errors assume that the covariance matrix of the errors is correctly specified.\n"
     ]
    }
   ],
   "source": [
    "#All feature Selected First Time\n",
    "n=len(X_train.columns)\n",
    "col,lm=buildModel(X_train_new, y_train, number_of_rfe_features=n,predict=False,train=True,rsquare_train=False)"
   ]
  },
  {
   "cell_type": "code",
   "execution_count": 58,
   "metadata": {},
   "outputs": [],
   "source": [
    "#Adjusted R square is 97% but features in the model are 47"
   ]
  },
  {
   "cell_type": "code",
   "execution_count": 59,
   "metadata": {},
   "outputs": [
    {
     "name": "stdout",
     "output_type": "stream",
     "text": [
      "            Features     VIF\n",
      "8         curbweight  556.49\n",
      "18           density  522.49\n",
      "5          carlength  264.56\n",
      "13  compressionratio  260.40\n",
      "9     cylindernumber  238.67\n",
      "17        highwaympg  215.17\n",
      "29            FS_idi  207.41\n",
      "16           citympg  201.88\n",
      "10        enginesize  151.00\n",
      "7          carheight  110.72\n",
      "11         boreratio  110.13\n",
      "14        horsepower  107.39\n",
      "4          wheelbase   81.46\n",
      "6           carwidth   78.32\n",
      "12            stroke   66.20\n",
      "30           FS_mpfi   46.66\n",
      "23          CB_sedan   37.10\n",
      "25            ET_ohc   32.66\n",
      "0          symboling   32.58\n",
      "27           FS_2bbl   28.48\n",
      "19            DW_fwd   27.73\n",
      "15           peakrpm   27.32\n",
      "20            DW_rwd   26.19\n",
      "22      CB_hatchback   20.41\n",
      "2         doornumber   11.46\n",
      "1         aspiration   11.18\n",
      "24          CB_wagon   10.78\n",
      "44        Com_subaru    9.99\n",
      "31           FS_spdi    8.20\n",
      "41       Com_peugeot    7.88\n",
      "26           ET_ohcv    6.38\n",
      "34         Com_buick    5.70\n",
      "28           FS_4bbl    5.51\n",
      "39    Com_mitsubishi    4.79\n",
      "45        Com_toyota    4.63\n",
      "47         Com_volvo    4.62\n",
      "43          Com_saab    4.12\n",
      "33           Com_bmw    3.97\n",
      "36         Com_honda    3.77\n",
      "3     enginelocation    3.77\n",
      "38         Com_mazda    3.54\n",
      "32          Com_audi    3.51\n",
      "40        Com_nissan    3.49\n",
      "42      Com_plymouth    2.64\n",
      "35         Com_dodge    2.62\n",
      "21        CB_hardtop    2.28\n",
      "46    Com_volkswagen    2.21\n",
      "37         Com_isuzu    2.13\n"
     ]
    }
   ],
   "source": [
    "vif=getVIF()"
   ]
  },
  {
   "cell_type": "markdown",
   "metadata": {},
   "source": [
    "#### Build Model 2nd Iteration"
   ]
  },
  {
   "cell_type": "code",
   "execution_count": 60,
   "metadata": {},
   "outputs": [
    {
     "name": "stdout",
     "output_type": "stream",
     "text": [
      "                            OLS Regression Results                            \n",
      "==============================================================================\n",
      "Dep. Variable:                  price   R-squared:                       0.933\n",
      "Model:                            OLS   Adj. R-squared:                  0.925\n",
      "Method:                 Least Squares   F-statistic:                     115.4\n",
      "Date:                Mon, 15 Jul 2019   Prob (F-statistic):           3.25e-65\n",
      "Time:                        18:56:08   Log-Likelihood:                 218.76\n",
      "No. Observations:                 140   AIC:                            -405.5\n",
      "Df Residuals:                     124   BIC:                            -358.4\n",
      "Df Model:                          15                                         \n",
      "Covariance Type:            nonrobust                                         \n",
      "==================================================================================\n",
      "                     coef    std err          t      P>|t|      [0.025      0.975]\n",
      "----------------------------------------------------------------------------------\n",
      "const              0.0727      0.124      0.588      0.557      -0.172       0.317\n",
      "enginelocation     0.5343      0.047     11.392      0.000       0.441       0.627\n",
      "wheelbase          0.1137      0.064      1.783      0.077      -0.012       0.240\n",
      "carlength         -0.3590      0.107     -3.359      0.001      -0.570      -0.147\n",
      "carwidth           0.2612      0.074      3.547      0.001       0.115       0.407\n",
      "carheight         -0.0984      0.071     -1.395      0.166      -0.238       0.041\n",
      "curbweight         0.8282      0.267      3.096      0.002       0.299       1.358\n",
      "cylindernumber    -0.5872      0.116     -5.077      0.000      -0.816      -0.358\n",
      "enginesize         0.8942      0.153      5.840      0.000       0.591       1.197\n",
      "boreratio         -0.2515      0.059     -4.278      0.000      -0.368      -0.135\n",
      "stroke            -0.2006      0.044     -4.540      0.000      -0.288      -0.113\n",
      "citympg           -0.1702      0.134     -1.269      0.207      -0.436       0.095\n",
      "highwaympg         0.0889      0.136      0.653      0.515      -0.181       0.359\n",
      "density            0.3075      0.165      1.865      0.065      -0.019       0.634\n",
      "Com_bmw            0.2235      0.028      7.959      0.000       0.168       0.279\n",
      "Com_peugeot       -0.1175      0.025     -4.661      0.000      -0.167      -0.068\n",
      "==============================================================================\n",
      "Omnibus:                        3.919   Durbin-Watson:                   2.024\n",
      "Prob(Omnibus):                  0.141   Jarque-Bera (JB):                4.368\n",
      "Skew:                           0.140   Prob(JB):                        0.113\n",
      "Kurtosis:                       3.819   Cond. No.                         151.\n",
      "==============================================================================\n",
      "\n",
      "Warnings:\n",
      "[1] Standard Errors assume that the covariance matrix of the errors is correctly specified.\n"
     ]
    }
   ],
   "source": [
    "#Select 15 Top Ranking Features of this dataset & print Regression Results\n",
    "n=15\n",
    "col,lm=buildModel(X_train_new, y_train, number_of_rfe_features=n,predict=False,train=True)\n",
    "#reset the dataframe using those feature\n",
    "X_train_new=X_train_new[col]"
   ]
  },
  {
   "cell_type": "code",
   "execution_count": 61,
   "metadata": {},
   "outputs": [],
   "source": [
    "# With Just 15 features adj r square is 93%, only 4 % drop while we had dropped 35 variables"
   ]
  },
  {
   "cell_type": "code",
   "execution_count": 62,
   "metadata": {},
   "outputs": [
    {
     "name": "stdout",
     "output_type": "stream",
     "text": [
      "          Features     VIF\n",
      "5       curbweight  169.71\n",
      "11      highwaympg  145.30\n",
      "12         density  127.86\n",
      "10         citympg  111.29\n",
      "2        carlength  103.70\n",
      "6   cylindernumber   70.82\n",
      "7       enginesize   42.84\n",
      "1        wheelbase   41.88\n",
      "3         carwidth   35.61\n",
      "4        carheight   28.16\n",
      "8        boreratio   27.67\n",
      "9           stroke   17.64\n",
      "14     Com_peugeot    1.75\n",
      "0   enginelocation    1.51\n",
      "13         Com_bmw    1.36\n"
     ]
    }
   ],
   "source": [
    "vif=getVIF()"
   ]
  },
  {
   "cell_type": "markdown",
   "metadata": {},
   "source": [
    "#### Build Model 3rd Iteration"
   ]
  },
  {
   "cell_type": "code",
   "execution_count": 63,
   "metadata": {},
   "outputs": [
    {
     "name": "stdout",
     "output_type": "stream",
     "text": [
      "Dropping Feature:highwaympg\n",
      "                            OLS Regression Results                            \n",
      "==============================================================================\n",
      "Dep. Variable:                  price   R-squared:                       0.933\n",
      "Model:                            OLS   Adj. R-squared:                  0.925\n",
      "Method:                 Least Squares   F-statistic:                     124.2\n",
      "Date:                Mon, 15 Jul 2019   Prob (F-statistic):           3.53e-66\n",
      "Time:                        18:56:09   Log-Likelihood:                 218.52\n",
      "No. Observations:                 140   AIC:                            -407.0\n",
      "Df Residuals:                     125   BIC:                            -362.9\n",
      "Df Model:                          14                                         \n",
      "Covariance Type:            nonrobust                                         \n",
      "==================================================================================\n",
      "                     coef    std err          t      P>|t|      [0.025      0.975]\n",
      "----------------------------------------------------------------------------------\n",
      "const              0.0921      0.120      0.769      0.443      -0.145       0.329\n",
      "enginelocation     0.5385      0.046     11.621      0.000       0.447       0.630\n",
      "wheelbase          0.1075      0.063      1.709      0.090      -0.017       0.232\n",
      "carlength         -0.3432      0.104     -3.305      0.001      -0.549      -0.138\n",
      "carwidth           0.2667      0.073      3.654      0.000       0.122       0.411\n",
      "carheight         -0.0930      0.070     -1.329      0.186      -0.231       0.045\n",
      "curbweight         0.7894      0.260      3.034      0.003       0.274       1.304\n",
      "cylindernumber    -0.5871      0.115     -5.088      0.000      -0.815      -0.359\n",
      "enginesize         0.8952      0.153      5.861      0.000       0.593       1.197\n",
      "boreratio         -0.2511      0.059     -4.282      0.000      -0.367      -0.135\n",
      "stroke            -0.1964      0.044     -4.504      0.000      -0.283      -0.110\n",
      "citympg           -0.0893      0.051     -1.758      0.081      -0.190       0.011\n",
      "density            0.2884      0.162      1.782      0.077      -0.032       0.609\n",
      "Com_bmw            0.2261      0.028      8.155      0.000       0.171       0.281\n",
      "Com_peugeot       -0.1180      0.025     -4.692      0.000      -0.168      -0.068\n",
      "==============================================================================\n",
      "Omnibus:                        3.553   Durbin-Watson:                   2.043\n",
      "Prob(Omnibus):                  0.169   Jarque-Bera (JB):                3.645\n",
      "Skew:                           0.158   Prob(JB):                        0.162\n",
      "Kurtosis:                       3.725   Cond. No.                         143.\n",
      "==============================================================================\n",
      "\n",
      "Warnings:\n",
      "[1] Standard Errors assume that the covariance matrix of the errors is correctly specified.\n"
     ]
    }
   ],
   "source": [
    "dropFeature = getfeatureName_toDrop(True)\n",
    "print (\"Dropping Feature:\" +dropFeature)\n",
    "X_train_new.drop(columns=dropFeature, inplace=True, axis=0)\n",
    "n-=1\n",
    "col,lm=buildModel(X_train_new, y_train, number_of_rfe_features=n,predict=False,train=True)  "
   ]
  },
  {
   "cell_type": "code",
   "execution_count": 64,
   "metadata": {},
   "outputs": [
    {
     "name": "stdout",
     "output_type": "stream",
     "text": [
      "          Features     VIF\n",
      "5       curbweight  169.50\n",
      "11         density  127.33\n",
      "2        carlength  102.62\n",
      "6   cylindernumber   68.10\n",
      "1        wheelbase   40.62\n",
      "7       enginesize   40.41\n",
      "3         carwidth   35.56\n",
      "4        carheight   27.74\n",
      "8        boreratio   25.88\n",
      "10         citympg   17.00\n",
      "9           stroke   15.58\n",
      "13     Com_peugeot    1.75\n",
      "0   enginelocation    1.49\n",
      "12         Com_bmw    1.33\n"
     ]
    }
   ],
   "source": [
    "vif=getVIF()"
   ]
  },
  {
   "cell_type": "markdown",
   "metadata": {},
   "source": [
    "#### Build Model 4th Iteration"
   ]
  },
  {
   "cell_type": "code",
   "execution_count": 65,
   "metadata": {},
   "outputs": [
    {
     "name": "stdout",
     "output_type": "stream",
     "text": [
      "Dropping Feature:carheight\n",
      "                            OLS Regression Results                            \n",
      "==============================================================================\n",
      "Dep. Variable:                  price   R-squared:                       0.932\n",
      "Model:                            OLS   Adj. R-squared:                  0.925\n",
      "Method:                 Least Squares   F-statistic:                     132.8\n",
      "Date:                Mon, 15 Jul 2019   Prob (F-statistic):           7.17e-67\n",
      "Time:                        18:56:09   Log-Likelihood:                 217.53\n",
      "No. Observations:                 140   AIC:                            -407.1\n",
      "Df Residuals:                     126   BIC:                            -365.9\n",
      "Df Model:                          13                                         \n",
      "Covariance Type:            nonrobust                                         \n",
      "==================================================================================\n",
      "                     coef    std err          t      P>|t|      [0.025      0.975]\n",
      "----------------------------------------------------------------------------------\n",
      "const              0.2185      0.073      2.997      0.003       0.074       0.363\n",
      "enginelocation     0.5291      0.046     11.519      0.000       0.438       0.620\n",
      "wheelbase          0.0982      0.063      1.567      0.120      -0.026       0.222\n",
      "carlength         -0.2641      0.085     -3.093      0.002      -0.433      -0.095\n",
      "carwidth           0.3336      0.053      6.295      0.000       0.229       0.439\n",
      "curbweight         0.4866      0.126      3.855      0.000       0.237       0.736\n",
      "cylindernumber    -0.6381      0.109     -5.847      0.000      -0.854      -0.422\n",
      "enginesize         1.0096      0.127      7.978      0.000       0.759       1.260\n",
      "boreratio         -0.2826      0.054     -5.251      0.000      -0.389      -0.176\n",
      "stroke            -0.2122      0.042     -5.042      0.000      -0.295      -0.129\n",
      "citympg           -0.0743      0.050     -1.496      0.137      -0.173       0.024\n",
      "density            0.0975      0.075      1.301      0.196      -0.051       0.246\n",
      "Com_bmw            0.2231      0.028      8.048      0.000       0.168       0.278\n",
      "Com_peugeot       -0.1176      0.025     -4.664      0.000      -0.167      -0.068\n",
      "==============================================================================\n",
      "Omnibus:                        1.083   Durbin-Watson:                   2.054\n",
      "Prob(Omnibus):                  0.582   Jarque-Bera (JB):                0.669\n",
      "Skew:                           0.082   Prob(JB):                        0.716\n",
      "Kurtosis:                       3.296   Cond. No.                         69.3\n",
      "==============================================================================\n",
      "\n",
      "Warnings:\n",
      "[1] Standard Errors assume that the covariance matrix of the errors is correctly specified.\n"
     ]
    }
   ],
   "source": [
    "dropFeature = getfeatureName_toDrop(True)\n",
    "print (\"Dropping Feature:\" +dropFeature)\n",
    "X_train_new.drop(columns=dropFeature, inplace=True, axis=0)\n",
    "n-=1\n",
    "col,lm=buildModel(X_train_new, y_train, number_of_rfe_features=n,predict=False,train=True)"
   ]
  },
  {
   "cell_type": "code",
   "execution_count": 66,
   "metadata": {},
   "outputs": [
    {
     "name": "stdout",
     "output_type": "stream",
     "text": [
      "          Features     VIF\n",
      "4       curbweight  102.79\n",
      "2        carlength   98.62\n",
      "10         density   72.73\n",
      "5   cylindernumber   58.73\n",
      "6       enginesize   40.31\n",
      "1        wheelbase   36.03\n",
      "3         carwidth   28.54\n",
      "7        boreratio   21.82\n",
      "9          citympg   16.27\n",
      "8           stroke   12.60\n",
      "12     Com_peugeot    1.75\n",
      "0   enginelocation    1.40\n",
      "11         Com_bmw    1.31\n"
     ]
    }
   ],
   "source": [
    "vif=getVIF()"
   ]
  },
  {
   "cell_type": "markdown",
   "metadata": {},
   "source": [
    "#### Build Model 5th Iteration"
   ]
  },
  {
   "cell_type": "code",
   "execution_count": 67,
   "metadata": {},
   "outputs": [
    {
     "name": "stdout",
     "output_type": "stream",
     "text": [
      "Dropping Feature:density\n",
      "                            OLS Regression Results                            \n",
      "==============================================================================\n",
      "Dep. Variable:                  price   R-squared:                       0.931\n",
      "Model:                            OLS   Adj. R-squared:                  0.925\n",
      "Method:                 Least Squares   F-statistic:                     142.9\n",
      "Date:                Mon, 15 Jul 2019   Prob (F-statistic):           1.35e-67\n",
      "Time:                        18:56:09   Log-Likelihood:                 216.60\n",
      "No. Observations:                 140   AIC:                            -407.2\n",
      "Df Residuals:                     127   BIC:                            -369.0\n",
      "Df Model:                          12                                         \n",
      "Covariance Type:            nonrobust                                         \n",
      "==================================================================================\n",
      "                     coef    std err          t      P>|t|      [0.025      0.975]\n",
      "----------------------------------------------------------------------------------\n",
      "const              0.2731      0.060      4.565      0.000       0.155       0.391\n",
      "enginelocation     0.5352      0.046     11.678      0.000       0.444       0.626\n",
      "wheelbase          0.1262      0.059      2.136      0.035       0.009       0.243\n",
      "carlength         -0.1944      0.067     -2.916      0.004      -0.326      -0.063\n",
      "carwidth           0.3484      0.052      6.712      0.000       0.246       0.451\n",
      "curbweight         0.3514      0.072      4.897      0.000       0.209       0.493\n",
      "cylindernumber    -0.6335      0.109     -5.792      0.000      -0.850      -0.417\n",
      "enginesize         1.0045      0.127      7.919      0.000       0.753       1.255\n",
      "boreratio         -0.2919      0.053     -5.459      0.000      -0.398      -0.186\n",
      "stroke            -0.2216      0.042     -5.332      0.000      -0.304      -0.139\n",
      "citympg           -0.0475      0.045     -1.048      0.297      -0.137       0.042\n",
      "Com_bmw            0.2219      0.028      7.989      0.000       0.167       0.277\n",
      "Com_peugeot       -0.1191      0.025     -4.717      0.000      -0.169      -0.069\n",
      "==============================================================================\n",
      "Omnibus:                        1.542   Durbin-Watson:                   2.054\n",
      "Prob(Omnibus):                  0.463   Jarque-Bera (JB):                1.092\n",
      "Skew:                           0.149   Prob(JB):                        0.579\n",
      "Kurtosis:                       3.313   Cond. No.                         63.4\n",
      "==============================================================================\n",
      "\n",
      "Warnings:\n",
      "[1] Standard Errors assume that the covariance matrix of the errors is correctly specified.\n"
     ]
    }
   ],
   "source": [
    "dropFeature = getfeatureName_toDrop(True)\n",
    "print (\"Dropping Feature:\" +dropFeature)\n",
    "X_train_new.drop(columns=dropFeature, inplace=True, axis=0)\n",
    "n-=1\n",
    "col,lm=buildModel(X_train_new, y_train, number_of_rfe_features=n,predict=False,train=True)"
   ]
  },
  {
   "cell_type": "code",
   "execution_count": 68,
   "metadata": {},
   "outputs": [
    {
     "name": "stdout",
     "output_type": "stream",
     "text": [
      "          Features    VIF\n",
      "2        carlength  64.51\n",
      "4       curbweight  44.45\n",
      "1        wheelbase  34.69\n",
      "5   cylindernumber  33.55\n",
      "6       enginesize  28.63\n",
      "3         carwidth  27.54\n",
      "7        boreratio  16.64\n",
      "8           stroke  11.05\n",
      "9          citympg  10.90\n",
      "11     Com_peugeot   1.74\n",
      "0   enginelocation   1.40\n",
      "10         Com_bmw   1.30\n"
     ]
    }
   ],
   "source": [
    "vif=getVIF()"
   ]
  },
  {
   "cell_type": "markdown",
   "metadata": {},
   "source": [
    "#### Build Model 6th Iteration"
   ]
  },
  {
   "cell_type": "code",
   "execution_count": 69,
   "metadata": {},
   "outputs": [
    {
     "name": "stdout",
     "output_type": "stream",
     "text": [
      "Dropping Feature:citympg\n",
      "                            OLS Regression Results                            \n",
      "==============================================================================\n",
      "Dep. Variable:                  price   R-squared:                       0.930\n",
      "Model:                            OLS   Adj. R-squared:                  0.924\n",
      "Method:                 Least Squares   F-statistic:                     155.7\n",
      "Date:                Mon, 15 Jul 2019   Prob (F-statistic):           1.82e-68\n",
      "Time:                        18:56:09   Log-Likelihood:                 216.00\n",
      "No. Observations:                 140   AIC:                            -408.0\n",
      "Df Residuals:                     128   BIC:                            -372.7\n",
      "Df Model:                          11                                         \n",
      "Covariance Type:            nonrobust                                         \n",
      "==================================================================================\n",
      "                     coef    std err          t      P>|t|      [0.025      0.975]\n",
      "----------------------------------------------------------------------------------\n",
      "const              0.2453      0.054      4.573      0.000       0.139       0.351\n",
      "enginelocation     0.5394      0.046     11.811      0.000       0.449       0.630\n",
      "wheelbase          0.1056      0.056      1.895      0.060      -0.005       0.216\n",
      "carlength         -0.1772      0.065     -2.741      0.007      -0.305      -0.049\n",
      "carwidth           0.3543      0.052      6.865      0.000       0.252       0.456\n",
      "curbweight         0.3780      0.067      5.631      0.000       0.245       0.511\n",
      "cylindernumber    -0.6323      0.109     -5.779      0.000      -0.849      -0.416\n",
      "enginesize         0.9971      0.127      7.870      0.000       0.746       1.248\n",
      "boreratio         -0.2892      0.053     -5.412      0.000      -0.395      -0.183\n",
      "stroke            -0.2227      0.042     -5.355      0.000      -0.305      -0.140\n",
      "Com_bmw            0.2266      0.027      8.259      0.000       0.172       0.281\n",
      "Com_peugeot       -0.1235      0.025     -4.956      0.000      -0.173      -0.074\n",
      "==============================================================================\n",
      "Omnibus:                        1.835   Durbin-Watson:                   2.031\n",
      "Prob(Omnibus):                  0.400   Jarque-Bera (JB):                1.370\n",
      "Skew:                           0.161   Prob(JB):                        0.504\n",
      "Kurtosis:                       3.362   Cond. No.                         62.1\n",
      "==============================================================================\n",
      "\n",
      "Warnings:\n",
      "[1] Standard Errors assume that the covariance matrix of the errors is correctly specified.\n"
     ]
    }
   ],
   "source": [
    "dropFeature = getfeatureName_toDrop(True)\n",
    "print (\"Dropping Feature:\" +dropFeature)\n",
    "X_train_new.drop(columns=dropFeature, inplace=True, axis=0)\n",
    "n-=1\n",
    "col,lm=buildModel(X_train_new, y_train, number_of_rfe_features=n,predict=False,train=True)"
   ]
  },
  {
   "cell_type": "code",
   "execution_count": 70,
   "metadata": {},
   "outputs": [
    {
     "name": "stdout",
     "output_type": "stream",
     "text": [
      "          Features    VIF\n",
      "2        carlength  61.31\n",
      "4       curbweight  38.81\n",
      "1        wheelbase  31.87\n",
      "3         carwidth  27.20\n",
      "6       enginesize  23.38\n",
      "5   cylindernumber  17.74\n",
      "7        boreratio  11.68\n",
      "8           stroke   7.89\n",
      "10     Com_peugeot   1.69\n",
      "0   enginelocation   1.36\n",
      "9          Com_bmw   1.22\n"
     ]
    }
   ],
   "source": [
    "vif=getVIF()"
   ]
  },
  {
   "cell_type": "markdown",
   "metadata": {},
   "source": [
    "#### Build Model 7th Iteration"
   ]
  },
  {
   "cell_type": "code",
   "execution_count": 71,
   "metadata": {},
   "outputs": [
    {
     "name": "stdout",
     "output_type": "stream",
     "text": [
      "Dropping Feature:wheelbase\n",
      "                            OLS Regression Results                            \n",
      "==============================================================================\n",
      "Dep. Variable:                  price   R-squared:                       0.928\n",
      "Model:                            OLS   Adj. R-squared:                  0.923\n",
      "Method:                 Least Squares   F-statistic:                     167.5\n",
      "Date:                Mon, 15 Jul 2019   Prob (F-statistic):           7.95e-69\n",
      "Time:                        18:56:09   Log-Likelihood:                 214.06\n",
      "No. Observations:                 140   AIC:                            -406.1\n",
      "Df Residuals:                     129   BIC:                            -373.8\n",
      "Df Model:                          10                                         \n",
      "Covariance Type:            nonrobust                                         \n",
      "==================================================================================\n",
      "                     coef    std err          t      P>|t|      [0.025      0.975]\n",
      "----------------------------------------------------------------------------------\n",
      "const              0.2410      0.054      4.453      0.000       0.134       0.348\n",
      "enginelocation     0.5170      0.045     11.604      0.000       0.429       0.605\n",
      "carlength         -0.1195      0.058     -2.076      0.040      -0.233      -0.006\n",
      "carwidth           0.3859      0.049      7.823      0.000       0.288       0.484\n",
      "curbweight         0.3752      0.068      5.535      0.000       0.241       0.509\n",
      "cylindernumber    -0.6206      0.110     -5.625      0.000      -0.839      -0.402\n",
      "enginesize         0.9801      0.128      7.679      0.000       0.728       1.233\n",
      "boreratio         -0.2857      0.054     -5.296      0.000      -0.392      -0.179\n",
      "stroke            -0.2164      0.042     -5.170      0.000      -0.299      -0.134\n",
      "Com_bmw            0.2353      0.027      8.613      0.000       0.181       0.289\n",
      "Com_peugeot       -0.1048      0.023     -4.535      0.000      -0.150      -0.059\n",
      "==============================================================================\n",
      "Omnibus:                        2.291   Durbin-Watson:                   2.020\n",
      "Prob(Omnibus):                  0.318   Jarque-Bera (JB):                1.968\n",
      "Skew:                           0.115   Prob(JB):                        0.374\n",
      "Kurtosis:                       3.533   Cond. No.                         59.6\n",
      "==============================================================================\n",
      "\n",
      "Warnings:\n",
      "[1] Standard Errors assume that the covariance matrix of the errors is correctly specified.\n"
     ]
    }
   ],
   "source": [
    "dropFeature = getfeatureName_toDrop(True)\n",
    "print (\"Dropping Feature:\" +dropFeature)\n",
    "X_train_new.drop(columns=dropFeature, inplace=True, axis=0)\n",
    "n-=1\n",
    "col,lm=buildModel(X_train_new, y_train, number_of_rfe_features=n,predict=False,train=True)"
   ]
  },
  {
   "cell_type": "code",
   "execution_count": 72,
   "metadata": {},
   "outputs": [
    {
     "name": "stdout",
     "output_type": "stream",
     "text": [
      "         Features    VIF\n",
      "1       carlength  47.71\n",
      "3      curbweight  38.80\n",
      "2        carwidth  24.32\n",
      "5      enginesize  23.29\n",
      "4  cylindernumber  17.71\n",
      "6       boreratio  11.68\n",
      "7          stroke   7.84\n",
      "9     Com_peugeot   1.43\n",
      "0  enginelocation   1.27\n",
      "8         Com_bmw   1.18\n"
     ]
    }
   ],
   "source": [
    "vif=getVIF()"
   ]
  },
  {
   "cell_type": "markdown",
   "metadata": {},
   "source": [
    "#### Build Model 8th Iteration"
   ]
  },
  {
   "cell_type": "code",
   "execution_count": 73,
   "metadata": {},
   "outputs": [
    {
     "name": "stdout",
     "output_type": "stream",
     "text": [
      "Dropping Feature:carlength\n",
      "                            OLS Regression Results                            \n",
      "==============================================================================\n",
      "Dep. Variable:                  price   R-squared:                       0.926\n",
      "Model:                            OLS   Adj. R-squared:                  0.921\n",
      "Method:                 Least Squares   F-statistic:                     181.0\n",
      "Date:                Mon, 15 Jul 2019   Prob (F-statistic):           4.72e-69\n",
      "Time:                        18:56:09   Log-Likelihood:                 211.76\n",
      "No. Observations:                 140   AIC:                            -403.5\n",
      "Df Residuals:                     130   BIC:                            -374.1\n",
      "Df Model:                           9                                         \n",
      "Covariance Type:            nonrobust                                         \n",
      "==================================================================================\n",
      "                     coef    std err          t      P>|t|      [0.025      0.975]\n",
      "----------------------------------------------------------------------------------\n",
      "const              0.2434      0.055      4.444      0.000       0.135       0.352\n",
      "enginelocation     0.5285      0.045     11.807      0.000       0.440       0.617\n",
      "carwidth           0.3391      0.044      7.633      0.000       0.251       0.427\n",
      "curbweight         0.3097      0.061      5.099      0.000       0.190       0.430\n",
      "cylindernumber    -0.6535      0.111     -5.910      0.000      -0.872      -0.435\n",
      "enginesize         1.0473      0.125      8.376      0.000       0.800       1.295\n",
      "boreratio         -0.3171      0.052     -6.051      0.000      -0.421      -0.213\n",
      "stroke            -0.2293      0.042     -5.472      0.000      -0.312      -0.146\n",
      "Com_bmw            0.2271      0.027      8.296      0.000       0.173       0.281\n",
      "Com_peugeot       -0.1045      0.023     -4.467      0.000      -0.151      -0.058\n",
      "==============================================================================\n",
      "Omnibus:                        1.914   Durbin-Watson:                   2.075\n",
      "Prob(Omnibus):                  0.384   Jarque-Bera (JB):                1.582\n",
      "Skew:                           0.054   Prob(JB):                        0.453\n",
      "Kurtosis:                       3.509   Cond. No.                         54.4\n",
      "==============================================================================\n",
      "\n",
      "Warnings:\n",
      "[1] Standard Errors assume that the covariance matrix of the errors is correctly specified.\n"
     ]
    }
   ],
   "source": [
    "dropFeature = getfeatureName_toDrop(False)\n",
    "print (\"Dropping Feature:\" +dropFeature)\n",
    "X_train_new.drop(columns=dropFeature, inplace=True, axis=0)\n",
    "n-=1\n",
    "col,lm=buildModel(X_train_new, y_train, number_of_rfe_features=n,predict=False,train=True)"
   ]
  },
  {
   "cell_type": "code",
   "execution_count": 74,
   "metadata": {},
   "outputs": [
    {
     "name": "stdout",
     "output_type": "stream",
     "text": [
      "         Features    VIF\n",
      "2      curbweight  30.23\n",
      "4      enginesize  19.97\n",
      "1        carwidth  19.20\n",
      "3  cylindernumber  16.16\n",
      "5       boreratio   8.66\n",
      "6          stroke   7.46\n",
      "8     Com_peugeot   1.43\n",
      "0  enginelocation   1.25\n",
      "7         Com_bmw   1.16\n"
     ]
    }
   ],
   "source": [
    "vif=getVIF()"
   ]
  },
  {
   "cell_type": "markdown",
   "metadata": {},
   "source": [
    "#### Build Model 9th Iteration"
   ]
  },
  {
   "cell_type": "code",
   "execution_count": 75,
   "metadata": {},
   "outputs": [
    {
     "name": "stdout",
     "output_type": "stream",
     "text": [
      "Dropping Feature:curbweight\n",
      "                            OLS Regression Results                            \n",
      "==============================================================================\n",
      "Dep. Variable:                  price   R-squared:                       0.911\n",
      "Model:                            OLS   Adj. R-squared:                  0.906\n",
      "Method:                 Least Squares   F-statistic:                     168.3\n",
      "Date:                Mon, 15 Jul 2019   Prob (F-statistic):           4.66e-65\n",
      "Time:                        18:56:09   Log-Likelihood:                 199.00\n",
      "No. Observations:                 140   AIC:                            -380.0\n",
      "Df Residuals:                     131   BIC:                            -353.5\n",
      "Df Model:                           8                                         \n",
      "Covariance Type:            nonrobust                                         \n",
      "==================================================================================\n",
      "                     coef    std err          t      P>|t|      [0.025      0.975]\n",
      "----------------------------------------------------------------------------------\n",
      "const              0.2119      0.059      3.567      0.001       0.094       0.329\n",
      "enginelocation     0.5005      0.048     10.324      0.000       0.405       0.596\n",
      "carwidth           0.4528      0.042     10.800      0.000       0.370       0.536\n",
      "cylindernumber    -0.6215      0.120     -5.159      0.000      -0.860      -0.383\n",
      "enginesize         1.2261      0.131      9.362      0.000       0.967       1.485\n",
      "boreratio         -0.2591      0.056     -4.641      0.000      -0.370      -0.149\n",
      "stroke            -0.2047      0.045     -4.505      0.000      -0.295      -0.115\n",
      "Com_bmw            0.2284      0.030      7.648      0.000       0.169       0.288\n",
      "Com_peugeot       -0.0654      0.024     -2.711      0.008      -0.113      -0.018\n",
      "==============================================================================\n",
      "Omnibus:                        1.856   Durbin-Watson:                   2.044\n",
      "Prob(Omnibus):                  0.395   Jarque-Bera (JB):                1.439\n",
      "Skew:                          -0.116   Prob(JB):                        0.487\n",
      "Kurtosis:                       3.439   Cond. No.                         52.1\n",
      "==============================================================================\n",
      "\n",
      "Warnings:\n",
      "[1] Standard Errors assume that the covariance matrix of the errors is correctly specified.\n"
     ]
    }
   ],
   "source": [
    "dropFeature = getfeatureName_toDrop(False)\n",
    "print (\"Dropping Feature:\" +dropFeature)\n",
    "X_train_new.drop(columns=dropFeature, inplace=True, axis=0)\n",
    "n-=1\n",
    "col,lm=buildModel(X_train_new, y_train, number_of_rfe_features=n,predict=False,train=True)"
   ]
  },
  {
   "cell_type": "code",
   "execution_count": 76,
   "metadata": {},
   "outputs": [
    {
     "name": "stdout",
     "output_type": "stream",
     "text": [
      "         Features    VIF\n",
      "2  cylindernumber  15.94\n",
      "1        carwidth  14.13\n",
      "3      enginesize  12.21\n",
      "4       boreratio   8.10\n",
      "5          stroke   7.45\n",
      "7     Com_peugeot   1.28\n",
      "0  enginelocation   1.24\n",
      "6         Com_bmw   1.15\n"
     ]
    }
   ],
   "source": [
    "vif=getVIF()"
   ]
  },
  {
   "cell_type": "markdown",
   "metadata": {},
   "source": [
    "#### Build Model 10th Iteration"
   ]
  },
  {
   "cell_type": "code",
   "execution_count": 77,
   "metadata": {},
   "outputs": [
    {
     "name": "stdout",
     "output_type": "stream",
     "text": [
      "Dropping Feature:cylindernumber\n",
      "                            OLS Regression Results                            \n",
      "==============================================================================\n",
      "Dep. Variable:                  price   R-squared:                       0.893\n",
      "Model:                            OLS   Adj. R-squared:                  0.888\n",
      "Method:                 Least Squares   F-statistic:                     157.9\n",
      "Date:                Mon, 15 Jul 2019   Prob (F-statistic):           6.13e-61\n",
      "Time:                        18:56:09   Log-Likelihood:                 186.06\n",
      "No. Observations:                 140   AIC:                            -356.1\n",
      "Df Residuals:                     132   BIC:                            -332.6\n",
      "Df Model:                           7                                         \n",
      "Covariance Type:            nonrobust                                         \n",
      "==================================================================================\n",
      "                     coef    std err          t      P>|t|      [0.025      0.975]\n",
      "----------------------------------------------------------------------------------\n",
      "const             -0.0688      0.026     -2.643      0.009      -0.120      -0.017\n",
      "enginelocation     0.4406      0.051      8.567      0.000       0.339       0.542\n",
      "carwidth           0.4169      0.045      9.227      0.000       0.328       0.506\n",
      "enginesize         0.6093      0.058     10.431      0.000       0.494       0.725\n",
      "boreratio         -0.0291      0.037     -0.792      0.430      -0.102       0.044\n",
      "stroke            -0.0614      0.039     -1.563      0.120      -0.139       0.016\n",
      "Com_bmw            0.1850      0.031      5.908      0.000       0.123       0.247\n",
      "Com_peugeot       -0.0511      0.026     -1.954      0.053      -0.103       0.001\n",
      "==============================================================================\n",
      "Omnibus:                        2.505   Durbin-Watson:                   1.785\n",
      "Prob(Omnibus):                  0.286   Jarque-Bera (JB):                2.553\n",
      "Skew:                           0.302   Prob(JB):                        0.279\n",
      "Kurtosis:                       2.732   Cond. No.                         17.3\n",
      "==============================================================================\n",
      "\n",
      "Warnings:\n",
      "[1] Standard Errors assume that the covariance matrix of the errors is correctly specified.\n"
     ]
    }
   ],
   "source": [
    "dropFeature = getfeatureName_toDrop(False)\n",
    "print (\"Dropping Feature:\" +dropFeature)\n",
    "X_train_new.drop(columns=dropFeature, inplace=True, axis=0)\n",
    "n-=1\n",
    "col,lm=buildModel(X_train_new, y_train, number_of_rfe_features=n,predict=False,train=True)"
   ]
  },
  {
   "cell_type": "code",
   "execution_count": 78,
   "metadata": {},
   "outputs": [
    {
     "name": "stdout",
     "output_type": "stream",
     "text": [
      "         Features    VIF\n",
      "1        carwidth  14.01\n",
      "2      enginesize   8.12\n",
      "3       boreratio   8.04\n",
      "4          stroke   5.31\n",
      "0  enginelocation   1.21\n",
      "6     Com_peugeot   1.18\n",
      "5         Com_bmw   1.12\n"
     ]
    }
   ],
   "source": [
    "vif=getVIF()"
   ]
  },
  {
   "cell_type": "markdown",
   "metadata": {},
   "source": [
    "#### Build Model 11th Iteration"
   ]
  },
  {
   "cell_type": "code",
   "execution_count": 79,
   "metadata": {},
   "outputs": [
    {
     "name": "stdout",
     "output_type": "stream",
     "text": [
      "Dropping Feature:boreratio\n",
      "                            OLS Regression Results                            \n",
      "==============================================================================\n",
      "Dep. Variable:                  price   R-squared:                       0.893\n",
      "Model:                            OLS   Adj. R-squared:                  0.888\n",
      "Method:                 Least Squares   F-statistic:                     184.6\n",
      "Date:                Mon, 15 Jul 2019   Prob (F-statistic):           5.90e-62\n",
      "Time:                        18:56:09   Log-Likelihood:                 185.72\n",
      "No. Observations:                 140   AIC:                            -357.4\n",
      "Df Residuals:                     133   BIC:                            -336.9\n",
      "Df Model:                           6                                         \n",
      "Covariance Type:            nonrobust                                         \n",
      "==================================================================================\n",
      "                     coef    std err          t      P>|t|      [0.025      0.975]\n",
      "----------------------------------------------------------------------------------\n",
      "const             -0.0822      0.020     -4.162      0.000      -0.121      -0.043\n",
      "enginelocation     0.4351      0.051      8.550      0.000       0.334       0.536\n",
      "carwidth           0.4067      0.043      9.401      0.000       0.321       0.492\n",
      "enginesize         0.5980      0.057     10.573      0.000       0.486       0.710\n",
      "stroke            -0.0509      0.037     -1.378      0.170      -0.124       0.022\n",
      "Com_bmw            0.1844      0.031      5.898      0.000       0.123       0.246\n",
      "Com_peugeot       -0.0560      0.025     -2.201      0.029      -0.106      -0.006\n",
      "==============================================================================\n",
      "Omnibus:                        2.391   Durbin-Watson:                   1.781\n",
      "Prob(Omnibus):                  0.303   Jarque-Bera (JB):                2.350\n",
      "Skew:                           0.257   Prob(JB):                        0.309\n",
      "Kurtosis:                       2.629   Cond. No.                         15.8\n",
      "==============================================================================\n",
      "\n",
      "Warnings:\n",
      "[1] Standard Errors assume that the covariance matrix of the errors is correctly specified.\n"
     ]
    }
   ],
   "source": [
    "dropFeature =  getfeatureName_toDrop(True)\n",
    "print (\"Dropping Feature:\" +dropFeature)\n",
    "X_train_new.drop(columns=dropFeature, inplace=True, axis=0)\n",
    "n-=1\n",
    "col,lm=buildModel(X_train_new, y_train, number_of_rfe_features=n,predict=False,train=True)"
   ]
  },
  {
   "cell_type": "code",
   "execution_count": 80,
   "metadata": {},
   "outputs": [
    {
     "name": "stdout",
     "output_type": "stream",
     "text": [
      "         Features    VIF\n",
      "1        carwidth  11.84\n",
      "2      enginesize   7.97\n",
      "3          stroke   4.67\n",
      "5     Com_peugeot   1.17\n",
      "0  enginelocation   1.15\n",
      "4         Com_bmw   1.12\n"
     ]
    }
   ],
   "source": [
    "vif=getVIF()"
   ]
  },
  {
   "cell_type": "markdown",
   "metadata": {},
   "source": [
    "##### Build Model 12th Iteration"
   ]
  },
  {
   "cell_type": "code",
   "execution_count": 81,
   "metadata": {},
   "outputs": [
    {
     "name": "stdout",
     "output_type": "stream",
     "text": [
      "Dropping Feature:stroke\n",
      "                            OLS Regression Results                            \n",
      "==============================================================================\n",
      "Dep. Variable:                  price   R-squared:                       0.891\n",
      "Model:                            OLS   Adj. R-squared:                  0.887\n",
      "Method:                 Least Squares   F-statistic:                     219.7\n",
      "Date:                Mon, 15 Jul 2019   Prob (F-statistic):           9.66e-63\n",
      "Time:                        18:56:09   Log-Likelihood:                 184.73\n",
      "No. Observations:                 140   AIC:                            -357.5\n",
      "Df Residuals:                     134   BIC:                            -339.8\n",
      "Df Model:                           5                                         \n",
      "Covariance Type:            nonrobust                                         \n",
      "==================================================================================\n",
      "                     coef    std err          t      P>|t|      [0.025      0.975]\n",
      "----------------------------------------------------------------------------------\n",
      "const             -0.1034      0.012     -8.297      0.000      -0.128      -0.079\n",
      "enginelocation     0.4454      0.051      8.818      0.000       0.345       0.545\n",
      "carwidth           0.3990      0.043      9.269      0.000       0.314       0.484\n",
      "enginesize         0.5941      0.057     10.483      0.000       0.482       0.706\n",
      "Com_bmw            0.1872      0.031      5.981      0.000       0.125       0.249\n",
      "Com_peugeot       -0.0579      0.025     -2.274      0.025      -0.108      -0.008\n",
      "==============================================================================\n",
      "Omnibus:                        1.662   Durbin-Watson:                   1.848\n",
      "Prob(Omnibus):                  0.436   Jarque-Bera (JB):                1.727\n",
      "Skew:                           0.226   Prob(JB):                        0.422\n",
      "Kurtosis:                       2.696   Cond. No.                         14.4\n",
      "==============================================================================\n",
      "\n",
      "Warnings:\n",
      "[1] Standard Errors assume that the covariance matrix of the errors is correctly specified.\n"
     ]
    }
   ],
   "source": [
    "dropFeature =  getfeatureName_toDrop(True)\n",
    "print (\"Dropping Feature:\" +dropFeature)\n",
    "X_train_new.drop(columns=dropFeature, inplace=True, axis=0)\n",
    "n-=1\n",
    "col,lm=buildModel(X_train_new, y_train, number_of_rfe_features=n,predict=False,train=True)"
   ]
  },
  {
   "cell_type": "code",
   "execution_count": 82,
   "metadata": {},
   "outputs": [
    {
     "name": "stdout",
     "output_type": "stream",
     "text": [
      "         Features   VIF\n",
      "2      enginesize  7.96\n",
      "1        carwidth  7.78\n",
      "4     Com_peugeot  1.16\n",
      "0  enginelocation  1.15\n",
      "3         Com_bmw  1.12\n"
     ]
    }
   ],
   "source": [
    "vif=getVIF()"
   ]
  },
  {
   "cell_type": "code",
   "execution_count": null,
   "metadata": {},
   "outputs": [],
   "source": []
  },
  {
   "cell_type": "markdown",
   "metadata": {},
   "source": [
    "### Model 1"
   ]
  },
  {
   "cell_type": "code",
   "execution_count": 83,
   "metadata": {},
   "outputs": [
    {
     "name": "stdout",
     "output_type": "stream",
     "text": [
      "Dropping Feature:Com_peugeot\n",
      "                            OLS Regression Results                            \n",
      "==============================================================================\n",
      "Dep. Variable:                  price   R-squared:                       0.887\n",
      "Model:                            OLS   Adj. R-squared:                  0.884\n",
      "Method:                 Least Squares   F-statistic:                     265.2\n",
      "Date:                Mon, 15 Jul 2019   Prob (F-statistic):           6.98e-63\n",
      "Time:                        18:56:09   Log-Likelihood:                 182.08\n",
      "No. Observations:                 140   AIC:                            -354.2\n",
      "Df Residuals:                     135   BIC:                            -339.5\n",
      "Df Model:                           4                                         \n",
      "Covariance Type:            nonrobust                                         \n",
      "==================================================================================\n",
      "                     coef    std err          t      P>|t|      [0.025      0.975]\n",
      "----------------------------------------------------------------------------------\n",
      "const             -0.0994      0.013     -7.936      0.000      -0.124      -0.075\n",
      "enginelocation     0.4398      0.051      8.587      0.000       0.339       0.541\n",
      "carwidth           0.3688      0.042      8.871      0.000       0.287       0.451\n",
      "enginesize         0.6168      0.057     10.890      0.000       0.505       0.729\n",
      "Com_bmw            0.1880      0.032      5.917      0.000       0.125       0.251\n",
      "==============================================================================\n",
      "Omnibus:                        1.855   Durbin-Watson:                   1.894\n",
      "Prob(Omnibus):                  0.396   Jarque-Bera (JB):                1.893\n",
      "Skew:                           0.268   Prob(JB):                        0.388\n",
      "Kurtosis:                       2.808   Cond. No.                         14.0\n",
      "==============================================================================\n",
      "\n",
      "Warnings:\n",
      "[1] Standard Errors assume that the covariance matrix of the errors is correctly specified.\n"
     ]
    }
   ],
   "source": [
    "dropFeature = getfeatureName_toDrop(True)\n",
    "print (\"Dropping Feature:\" +dropFeature)\n",
    "X_train_new.drop(columns=dropFeature, inplace=True, axis=0)\n",
    "n-=1\n",
    "col,lm=buildModel(X_train_new, y_train, number_of_rfe_features=n,predict=False,train=True)"
   ]
  },
  {
   "cell_type": "code",
   "execution_count": 84,
   "metadata": {},
   "outputs": [
    {
     "name": "stdout",
     "output_type": "stream",
     "text": [
      "         Features   VIF\n",
      "2      enginesize  7.74\n",
      "1        carwidth  7.15\n",
      "0  enginelocation  1.15\n",
      "3         Com_bmw  1.12\n"
     ]
    }
   ],
   "source": [
    "vif=getVIF()"
   ]
  },
  {
   "cell_type": "code",
   "execution_count": null,
   "metadata": {},
   "outputs": [],
   "source": []
  },
  {
   "cell_type": "code",
   "execution_count": 85,
   "metadata": {},
   "outputs": [],
   "source": [
    "#This is the First model\n",
    "#Which is giving adjusted r2 of 88.4%\n",
    "#But the prbolem is high multicolinearity of enginsize and carwidth\n",
    "#Temporary saving this model and dataset because it will get modified in next iteration.\n",
    "#I need this info to restore everything to this level.\n",
    "lm1 = lm\n",
    "old_n = n #Number of features\n",
    "old_col = col #name of features\n",
    "X_train_temp = X_train_new.copy()"
   ]
  },
  {
   "cell_type": "markdown",
   "metadata": {},
   "source": [
    "### Model 2"
   ]
  },
  {
   "cell_type": "code",
   "execution_count": 86,
   "metadata": {},
   "outputs": [
    {
     "data": {
      "text/html": [
       "<div>\n",
       "<style scoped>\n",
       "    .dataframe tbody tr th:only-of-type {\n",
       "        vertical-align: middle;\n",
       "    }\n",
       "\n",
       "    .dataframe tbody tr th {\n",
       "        vertical-align: top;\n",
       "    }\n",
       "\n",
       "    .dataframe thead th {\n",
       "        text-align: right;\n",
       "    }\n",
       "</style>\n",
       "<table border=\"1\" class=\"dataframe\">\n",
       "  <thead>\n",
       "    <tr style=\"text-align: right;\">\n",
       "      <th></th>\n",
       "      <th>enginelocation</th>\n",
       "      <th>carwidth</th>\n",
       "      <th>enginesize</th>\n",
       "      <th>Com_bmw</th>\n",
       "    </tr>\n",
       "  </thead>\n",
       "  <tbody>\n",
       "    <tr>\n",
       "      <th>enginelocation</th>\n",
       "      <td>1.000000</td>\n",
       "      <td>-0.055560</td>\n",
       "      <td>0.191864</td>\n",
       "      <td>-0.023168</td>\n",
       "    </tr>\n",
       "    <tr>\n",
       "      <th>carwidth</th>\n",
       "      <td>-0.055560</td>\n",
       "      <td>1.000000</td>\n",
       "      <td>0.726822</td>\n",
       "      <td>0.039908</td>\n",
       "    </tr>\n",
       "    <tr>\n",
       "      <th>enginesize</th>\n",
       "      <td>0.191864</td>\n",
       "      <td>0.726822</td>\n",
       "      <td>1.000000</td>\n",
       "      <td>0.198337</td>\n",
       "    </tr>\n",
       "    <tr>\n",
       "      <th>Com_bmw</th>\n",
       "      <td>-0.023168</td>\n",
       "      <td>0.039908</td>\n",
       "      <td>0.198337</td>\n",
       "      <td>1.000000</td>\n",
       "    </tr>\n",
       "  </tbody>\n",
       "</table>\n",
       "</div>"
      ],
      "text/plain": [
       "                enginelocation  carwidth  enginesize   Com_bmw\n",
       "enginelocation        1.000000 -0.055560    0.191864 -0.023168\n",
       "carwidth             -0.055560  1.000000    0.726822  0.039908\n",
       "enginesize            0.191864  0.726822    1.000000  0.198337\n",
       "Com_bmw              -0.023168  0.039908    0.198337  1.000000"
      ]
     },
     "execution_count": 86,
     "metadata": {},
     "output_type": "execute_result"
    }
   ],
   "source": [
    "X_train_new.corr()"
   ]
  },
  {
   "cell_type": "code",
   "execution_count": 87,
   "metadata": {},
   "outputs": [
    {
     "name": "stdout",
     "output_type": "stream",
     "text": [
      "Dropping Feature:carwidth\n",
      "                            OLS Regression Results                            \n",
      "==============================================================================\n",
      "Dep. Variable:                  price   R-squared:                       0.821\n",
      "Model:                            OLS   Adj. R-squared:                  0.817\n",
      "Method:                 Least Squares   F-statistic:                     208.3\n",
      "Date:                Mon, 15 Jul 2019   Prob (F-statistic):           1.20e-50\n",
      "Time:                        18:56:09   Log-Likelihood:                 149.93\n",
      "No. Observations:                 140   AIC:                            -291.9\n",
      "Df Residuals:                     136   BIC:                            -280.1\n",
      "Df Model:                           3                                         \n",
      "Covariance Type:            nonrobust                                         \n",
      "==================================================================================\n",
      "                     coef    std err          t      P>|t|      [0.025      0.975]\n",
      "----------------------------------------------------------------------------------\n",
      "const             -0.0312      0.012     -2.518      0.013      -0.056      -0.007\n",
      "enginelocation     0.3020      0.061      4.936      0.000       0.181       0.423\n",
      "enginesize         0.9996      0.046     21.723      0.000       0.909       1.091\n",
      "Com_bmw            0.1369      0.039      3.494      0.001       0.059       0.214\n",
      "==============================================================================\n",
      "Omnibus:                       11.267   Durbin-Watson:                   2.019\n",
      "Prob(Omnibus):                  0.004   Jarque-Bera (JB):               12.415\n",
      "Skew:                           0.568   Prob(JB):                      0.00201\n",
      "Kurtosis:                       3.915   Cond. No.                         9.09\n",
      "==============================================================================\n",
      "\n",
      "Warnings:\n",
      "[1] Standard Errors assume that the covariance matrix of the errors is correctly specified.\n"
     ]
    }
   ],
   "source": [
    "dropFeature = \"carwidth\" #getfeatureName_toDrop(False)\n",
    "print (\"Dropping Feature:\" +dropFeature)\n",
    "X_train_new.drop(columns=dropFeature, inplace=True, axis=0)\n",
    "n-=1\n",
    "col,lm=buildModel(X_train_new, y_train, number_of_rfe_features=n,predict=False,train=True)"
   ]
  },
  {
   "cell_type": "code",
   "execution_count": 88,
   "metadata": {},
   "outputs": [
    {
     "name": "stdout",
     "output_type": "stream",
     "text": [
      "         Features   VIF\n",
      "1      enginesize  1.13\n",
      "2         Com_bmw  1.08\n",
      "0  enginelocation  1.05\n"
     ]
    }
   ],
   "source": [
    "vif=getVIF()"
   ]
  },
  {
   "cell_type": "code",
   "execution_count": 89,
   "metadata": {},
   "outputs": [
    {
     "data": {
      "text/plain": [
       "<statsmodels.regression.linear_model.RegressionResultsWrapper at 0x1db8d998d68>"
      ]
     },
     "execution_count": 89,
     "metadata": {},
     "output_type": "execute_result"
    }
   ],
   "source": [
    "#This is the Second model\n",
    "#Which is giving adjusted r2 of 81.7%. A significant drop with respect to the first model.\n",
    "#It does not have any multicolearity problem\n",
    "lm"
   ]
  },
  {
   "cell_type": "markdown",
   "metadata": {},
   "source": [
    "### Hereafter I will use model1 for the prediction and score calculations"
   ]
  },
  {
   "cell_type": "code",
   "execution_count": 90,
   "metadata": {},
   "outputs": [],
   "source": [
    "#Restoring Dataset, feature_count & Model\n",
    "X_train_new = X_train_temp\n",
    "lm=lm1\n",
    "n=old_n\n",
    "col=old_col"
   ]
  },
  {
   "cell_type": "markdown",
   "metadata": {},
   "source": [
    "### Residual Analysis of the train data\n",
    "So, now to check if the error terms are also normally distributed (This is one of the assumptions of linear regression), let us plot the histogram of the error terms and see what it looks like."
   ]
  },
  {
   "cell_type": "code",
   "execution_count": 91,
   "metadata": {},
   "outputs": [
    {
     "data": {
      "image/png": "[encoded data removed]",
      "text/plain": [
       "<Figure size 1080x360 with 2 Axes>"
      ]
     },
     "metadata": {
      "needs_background": "light"
     },
     "output_type": "display_data"
    }
   ],
   "source": [
    "lm=buildModel(X_train_new, y_train, number_of_rfe_features=n,predict=True,train=True)\n",
    "#Errors are normally distributed equally around 0. It is little right tailed.\n",
    "#Erros are white noise.\n",
    "#Errors terms have homoscedastisity"
   ]
  },
  {
   "cell_type": "markdown",
   "metadata": {},
   "source": [
    "## Making Predictions"
   ]
  },
  {
   "cell_type": "markdown",
   "metadata": {},
   "source": [
    "#### Applying the scaling on the test sets"
   ]
  },
  {
   "cell_type": "code",
   "execution_count": 92,
   "metadata": {},
   "outputs": [],
   "source": [
    "df_test[var_to_scale] = scaler.transform(df_test[var_to_scale])\n",
    "df_test_new=df_test.copy()"
   ]
  },
  {
   "cell_type": "code",
   "execution_count": null,
   "metadata": {},
   "outputs": [],
   "source": []
  },
  {
   "cell_type": "markdown",
   "metadata": {},
   "source": [
    "#### Dividing into X_test and y_test"
   ]
  },
  {
   "cell_type": "code",
   "execution_count": 93,
   "metadata": {},
   "outputs": [],
   "source": [
    "y_test = df_test_new.pop('price')\n",
    "X_test = df_test_new"
   ]
  },
  {
   "cell_type": "code",
   "execution_count": 94,
   "metadata": {},
   "outputs": [],
   "source": [
    "# Now let's use our model to make predictions.\n",
    "\n",
    "# Creating X_test_new dataframe by dropping variables from X_test\n",
    "X_test_new = X_test[X_train_new.columns]\n",
    "\n",
    "# Adding a constant variable \n",
    "X_test_new = sm.add_constant(X_test_new)\n",
    "\n"
   ]
  },
  {
   "cell_type": "code",
   "execution_count": 95,
   "metadata": {},
   "outputs": [],
   "source": [
    "# Making predictions\n",
    "y_pred = lm.predict(X_test_new)"
   ]
  },
  {
   "cell_type": "markdown",
   "metadata": {},
   "source": [
    "## Model Evaluation"
   ]
  },
  {
   "cell_type": "code",
   "execution_count": null,
   "metadata": {},
   "outputs": [],
   "source": []
  },
  {
   "cell_type": "code",
   "execution_count": 96,
   "metadata": {},
   "outputs": [
    {
     "data": {
      "text/plain": [
       "Text(0, 0.5, 'y_pred')"
      ]
     },
     "execution_count": 96,
     "metadata": {},
     "output_type": "execute_result"
    },
    {
     "data": {
      "image/png": "[encoded data removed]",
      "text/plain": [
       "<Figure size 432x288 with 1 Axes>"
      ]
     },
     "metadata": {
      "needs_background": "light"
     },
     "output_type": "display_data"
    }
   ],
   "source": [
    "# Plotting y_test and y_pred to understand the spread.\n",
    "fig = plt.figure()\n",
    "plt.scatter(y_test,y_pred)\n",
    "fig.suptitle('y_test vs y_pred', fontsize=20)              # Plot heading \n",
    "plt.xlabel('y_test', fontsize=18)                          # X-label\n",
    "plt.ylabel('y_pred', fontsize=16)                          # Y-label"
   ]
  },
  {
   "cell_type": "code",
   "execution_count": null,
   "metadata": {},
   "outputs": [],
   "source": []
  },
  {
   "cell_type": "code",
   "execution_count": 97,
   "metadata": {},
   "outputs": [
    {
     "data": {
      "image/png": "[encoded data removed]",
      "text/plain": [
       "<Figure size 1080x720 with 4 Axes>"
      ]
     },
     "metadata": {
      "needs_background": "light"
     },
     "output_type": "display_data"
    }
   ],
   "source": [
    "#Visualize the data distribution for the variables selected for the model\n",
    "#If some variable has too much data imbalance and by removing that r2 is not compromised signifantly \n",
    "#then we can go back & remove the variable from the model and refine the model\n",
    "\n",
    "plt.figure(figsize=(15,10))\n",
    "i=1\n",
    "while i<=len(col): \n",
    "    plt.subplot(2,3,i)           \n",
    "    ax= sns.barplot(CarPrice[col[i-1]], CarPrice.price, estimator=len, )\n",
    "    \n",
    "    for p in ax.patches:\n",
    "        ax.annotate(format(p.get_height(), '.2f'), (p.get_x() + p.get_width() / 2., \n",
    "        p.get_height()), ha = 'center', va = 'center', xytext = (0, 10), textcoords = 'offset points')\n",
    "\n",
    "\n",
    "    i+=1\n",
    "plt.tight_layout()"
   ]
  },
  {
   "cell_type": "code",
   "execution_count": 98,
   "metadata": {},
   "outputs": [
    {
     "data": {
      "text/html": [
       "<table class=\"simpletable\">\n",
       "<caption>OLS Regression Results</caption>\n",
       "<tr>\n",
       "  <th>Dep. Variable:</th>          <td>price</td>      <th>  R-squared:         </th> <td>   0.887</td>\n",
       "</tr>\n",
       "<tr>\n",
       "  <th>Model:</th>                   <td>OLS</td>       <th>  Adj. R-squared:    </th> <td>   0.884</td>\n",
       "</tr>\n",
       "<tr>\n",
       "  <th>Method:</th>             <td>Least Squares</td>  <th>  F-statistic:       </th> <td>   265.2</td>\n",
       "</tr>\n",
       "<tr>\n",
       "  <th>Date:</th>             <td>Mon, 15 Jul 2019</td> <th>  Prob (F-statistic):</th> <td>6.98e-63</td>\n",
       "</tr>\n",
       "<tr>\n",
       "  <th>Time:</th>                 <td>18:56:13</td>     <th>  Log-Likelihood:    </th> <td>  182.08</td>\n",
       "</tr>\n",
       "<tr>\n",
       "  <th>No. Observations:</th>      <td>   140</td>      <th>  AIC:               </th> <td>  -354.2</td>\n",
       "</tr>\n",
       "<tr>\n",
       "  <th>Df Residuals:</th>          <td>   135</td>      <th>  BIC:               </th> <td>  -339.5</td>\n",
       "</tr>\n",
       "<tr>\n",
       "  <th>Df Model:</th>              <td>     4</td>      <th>                     </th>     <td> </td>   \n",
       "</tr>\n",
       "<tr>\n",
       "  <th>Covariance Type:</th>      <td>nonrobust</td>    <th>                     </th>     <td> </td>   \n",
       "</tr>\n",
       "</table>\n",
       "<table class=\"simpletable\">\n",
       "<tr>\n",
       "         <td></td>           <th>coef</th>     <th>std err</th>      <th>t</th>      <th>P>|t|</th>  <th>[0.025</th>    <th>0.975]</th>  \n",
       "</tr>\n",
       "<tr>\n",
       "  <th>const</th>          <td>   -0.0994</td> <td>    0.013</td> <td>   -7.936</td> <td> 0.000</td> <td>   -0.124</td> <td>   -0.075</td>\n",
       "</tr>\n",
       "<tr>\n",
       "  <th>enginelocation</th> <td>    0.4398</td> <td>    0.051</td> <td>    8.587</td> <td> 0.000</td> <td>    0.339</td> <td>    0.541</td>\n",
       "</tr>\n",
       "<tr>\n",
       "  <th>carwidth</th>       <td>    0.3688</td> <td>    0.042</td> <td>    8.871</td> <td> 0.000</td> <td>    0.287</td> <td>    0.451</td>\n",
       "</tr>\n",
       "<tr>\n",
       "  <th>enginesize</th>     <td>    0.6168</td> <td>    0.057</td> <td>   10.890</td> <td> 0.000</td> <td>    0.505</td> <td>    0.729</td>\n",
       "</tr>\n",
       "<tr>\n",
       "  <th>Com_bmw</th>        <td>    0.1880</td> <td>    0.032</td> <td>    5.917</td> <td> 0.000</td> <td>    0.125</td> <td>    0.251</td>\n",
       "</tr>\n",
       "</table>\n",
       "<table class=\"simpletable\">\n",
       "<tr>\n",
       "  <th>Omnibus:</th>       <td> 1.855</td> <th>  Durbin-Watson:     </th> <td>   1.894</td>\n",
       "</tr>\n",
       "<tr>\n",
       "  <th>Prob(Omnibus):</th> <td> 0.396</td> <th>  Jarque-Bera (JB):  </th> <td>   1.893</td>\n",
       "</tr>\n",
       "<tr>\n",
       "  <th>Skew:</th>          <td> 0.268</td> <th>  Prob(JB):          </th> <td>   0.388</td>\n",
       "</tr>\n",
       "<tr>\n",
       "  <th>Kurtosis:</th>      <td> 2.808</td> <th>  Cond. No.          </th> <td>    14.0</td>\n",
       "</tr>\n",
       "</table><br/><br/>Warnings:<br/>[1] Standard Errors assume that the covariance matrix of the errors is correctly specified."
      ],
      "text/plain": [
       "<class 'statsmodels.iolib.summary.Summary'>\n",
       "\"\"\"\n",
       "                            OLS Regression Results                            \n",
       "==============================================================================\n",
       "Dep. Variable:                  price   R-squared:                       0.887\n",
       "Model:                            OLS   Adj. R-squared:                  0.884\n",
       "Method:                 Least Squares   F-statistic:                     265.2\n",
       "Date:                Mon, 15 Jul 2019   Prob (F-statistic):           6.98e-63\n",
       "Time:                        18:56:13   Log-Likelihood:                 182.08\n",
       "No. Observations:                 140   AIC:                            -354.2\n",
       "Df Residuals:                     135   BIC:                            -339.5\n",
       "Df Model:                           4                                         \n",
       "Covariance Type:            nonrobust                                         \n",
       "==================================================================================\n",
       "                     coef    std err          t      P>|t|      [0.025      0.975]\n",
       "----------------------------------------------------------------------------------\n",
       "const             -0.0994      0.013     -7.936      0.000      -0.124      -0.075\n",
       "enginelocation     0.4398      0.051      8.587      0.000       0.339       0.541\n",
       "carwidth           0.3688      0.042      8.871      0.000       0.287       0.451\n",
       "enginesize         0.6168      0.057     10.890      0.000       0.505       0.729\n",
       "Com_bmw            0.1880      0.032      5.917      0.000       0.125       0.251\n",
       "==============================================================================\n",
       "Omnibus:                        1.855   Durbin-Watson:                   1.894\n",
       "Prob(Omnibus):                  0.396   Jarque-Bera (JB):                1.893\n",
       "Skew:                           0.268   Prob(JB):                        0.388\n",
       "Kurtosis:                       2.808   Cond. No.                         14.0\n",
       "==============================================================================\n",
       "\n",
       "Warnings:\n",
       "[1] Standard Errors assume that the covariance matrix of the errors is correctly specified.\n",
       "\"\"\""
      ]
     },
     "execution_count": 98,
     "metadata": {},
     "output_type": "execute_result"
    }
   ],
   "source": [
    "#Features Selected of the Model\n",
    "lm.summary()"
   ]
  },
  {
   "cell_type": "markdown",
   "metadata": {},
   "source": [
    "###### price =  -0.0994 + 0.4398*enginelocation +  0.3688*carwidth  + 0.6168*enginesize\t     + \t0.1880*Com_bmw\n",
    "###### This is the file multi linear regression"
   ]
  },
  {
   "cell_type": "code",
   "execution_count": 99,
   "metadata": {},
   "outputs": [
    {
     "data": {
      "text/html": [
       "<table class=\"simpletable\">\n",
       "<caption>OLS Regression Results</caption>\n",
       "<tr>\n",
       "  <th>Dep. Variable:</th>          <td>price</td>      <th>  R-squared:         </th> <td>   0.887</td>\n",
       "</tr>\n",
       "<tr>\n",
       "  <th>Model:</th>                   <td>OLS</td>       <th>  Adj. R-squared:    </th> <td>   0.884</td>\n",
       "</tr>\n",
       "<tr>\n",
       "  <th>Method:</th>             <td>Least Squares</td>  <th>  F-statistic:       </th> <td>   265.2</td>\n",
       "</tr>\n",
       "<tr>\n",
       "  <th>Date:</th>             <td>Mon, 15 Jul 2019</td> <th>  Prob (F-statistic):</th> <td>6.98e-63</td>\n",
       "</tr>\n",
       "<tr>\n",
       "  <th>Time:</th>                 <td>18:56:13</td>     <th>  Log-Likelihood:    </th> <td>  182.08</td>\n",
       "</tr>\n",
       "<tr>\n",
       "  <th>No. Observations:</th>      <td>   140</td>      <th>  AIC:               </th> <td>  -354.2</td>\n",
       "</tr>\n",
       "<tr>\n",
       "  <th>Df Residuals:</th>          <td>   135</td>      <th>  BIC:               </th> <td>  -339.5</td>\n",
       "</tr>\n",
       "<tr>\n",
       "  <th>Df Model:</th>              <td>     4</td>      <th>                     </th>     <td> </td>   \n",
       "</tr>\n",
       "<tr>\n",
       "  <th>Covariance Type:</th>      <td>nonrobust</td>    <th>                     </th>     <td> </td>   \n",
       "</tr>\n",
       "</table>\n",
       "<table class=\"simpletable\">\n",
       "<tr>\n",
       "         <td></td>           <th>coef</th>     <th>std err</th>      <th>t</th>      <th>P>|t|</th>  <th>[0.025</th>    <th>0.975]</th>  \n",
       "</tr>\n",
       "<tr>\n",
       "  <th>const</th>          <td>   -0.0994</td> <td>    0.013</td> <td>   -7.936</td> <td> 0.000</td> <td>   -0.124</td> <td>   -0.075</td>\n",
       "</tr>\n",
       "<tr>\n",
       "  <th>enginelocation</th> <td>    0.4398</td> <td>    0.051</td> <td>    8.587</td> <td> 0.000</td> <td>    0.339</td> <td>    0.541</td>\n",
       "</tr>\n",
       "<tr>\n",
       "  <th>carwidth</th>       <td>    0.3688</td> <td>    0.042</td> <td>    8.871</td> <td> 0.000</td> <td>    0.287</td> <td>    0.451</td>\n",
       "</tr>\n",
       "<tr>\n",
       "  <th>enginesize</th>     <td>    0.6168</td> <td>    0.057</td> <td>   10.890</td> <td> 0.000</td> <td>    0.505</td> <td>    0.729</td>\n",
       "</tr>\n",
       "<tr>\n",
       "  <th>Com_bmw</th>        <td>    0.1880</td> <td>    0.032</td> <td>    5.917</td> <td> 0.000</td> <td>    0.125</td> <td>    0.251</td>\n",
       "</tr>\n",
       "</table>\n",
       "<table class=\"simpletable\">\n",
       "<tr>\n",
       "  <th>Omnibus:</th>       <td> 1.855</td> <th>  Durbin-Watson:     </th> <td>   1.894</td>\n",
       "</tr>\n",
       "<tr>\n",
       "  <th>Prob(Omnibus):</th> <td> 0.396</td> <th>  Jarque-Bera (JB):  </th> <td>   1.893</td>\n",
       "</tr>\n",
       "<tr>\n",
       "  <th>Skew:</th>          <td> 0.268</td> <th>  Prob(JB):          </th> <td>   0.388</td>\n",
       "</tr>\n",
       "<tr>\n",
       "  <th>Kurtosis:</th>      <td> 2.808</td> <th>  Cond. No.          </th> <td>    14.0</td>\n",
       "</tr>\n",
       "</table><br/><br/>Warnings:<br/>[1] Standard Errors assume that the covariance matrix of the errors is correctly specified."
      ],
      "text/plain": [
       "<class 'statsmodels.iolib.summary.Summary'>\n",
       "\"\"\"\n",
       "                            OLS Regression Results                            \n",
       "==============================================================================\n",
       "Dep. Variable:                  price   R-squared:                       0.887\n",
       "Model:                            OLS   Adj. R-squared:                  0.884\n",
       "Method:                 Least Squares   F-statistic:                     265.2\n",
       "Date:                Mon, 15 Jul 2019   Prob (F-statistic):           6.98e-63\n",
       "Time:                        18:56:13   Log-Likelihood:                 182.08\n",
       "No. Observations:                 140   AIC:                            -354.2\n",
       "Df Residuals:                     135   BIC:                            -339.5\n",
       "Df Model:                           4                                         \n",
       "Covariance Type:            nonrobust                                         \n",
       "==================================================================================\n",
       "                     coef    std err          t      P>|t|      [0.025      0.975]\n",
       "----------------------------------------------------------------------------------\n",
       "const             -0.0994      0.013     -7.936      0.000      -0.124      -0.075\n",
       "enginelocation     0.4398      0.051      8.587      0.000       0.339       0.541\n",
       "carwidth           0.3688      0.042      8.871      0.000       0.287       0.451\n",
       "enginesize         0.6168      0.057     10.890      0.000       0.505       0.729\n",
       "Com_bmw            0.1880      0.032      5.917      0.000       0.125       0.251\n",
       "==============================================================================\n",
       "Omnibus:                        1.855   Durbin-Watson:                   1.894\n",
       "Prob(Omnibus):                  0.396   Jarque-Bera (JB):                1.893\n",
       "Skew:                           0.268   Prob(JB):                        0.388\n",
       "Kurtosis:                       2.808   Cond. No.                         14.0\n",
       "==============================================================================\n",
       "\n",
       "Warnings:\n",
       "[1] Standard Errors assume that the covariance matrix of the errors is correctly specified.\n",
       "\"\"\""
      ]
     },
     "execution_count": 99,
     "metadata": {},
     "output_type": "execute_result"
    }
   ],
   "source": [
    "lm.summary()"
   ]
  },
  {
   "cell_type": "code",
   "execution_count": 100,
   "metadata": {},
   "outputs": [
    {
     "data": {
      "text/plain": [
       "Index(['enginelocation', 'carwidth', 'enginesize', 'Com_bmw'], dtype='object')"
      ]
     },
     "execution_count": 100,
     "metadata": {},
     "output_type": "execute_result"
    }
   ],
   "source": [
    "col"
   ]
  },
  {
   "cell_type": "code",
   "execution_count": 101,
   "metadata": {},
   "outputs": [],
   "source": [
    "col1=list(col)\n",
    "n=len(col1)\n",
    "train_r2_score=[]\n",
    "test_r2_score=[]"
   ]
  },
  {
   "cell_type": "code",
   "execution_count": 102,
   "metadata": {},
   "outputs": [],
   "source": [
    "def RunFinalModel(n):\n",
    "    i=0\n",
    "    while i<=n:\n",
    "\n",
    "        # Splitting CarPrice dataframe in 70/30.\n",
    "        df_train1, df_test1 = train_test_split(CarPrice, train_size = 0.70, test_size = 0.30, random_state=i)\n",
    "        \n",
    "        # scale the train dataframe\n",
    "        # Apply scaler() to all the numerical columns except the 'yes-no' and 'dummy' variables\n",
    "        scaler = MinMaxScaler()\n",
    "        df_train1[var_to_scale] = scaler.fit_transform(df_train1[var_to_scale])\n",
    "\n",
    "        y_train1=df_train1.pop(\"price\")\n",
    "        X_train1=df_train1[col1]\n",
    "\n",
    "        #Train the model with selected feature\n",
    "        col,lm1=buildModel( X_train1, y_train1, number_of_rfe_features=n,predict=False,train=True)\n",
    "        \n",
    "        #Append the r2 score in list\n",
    "        train_r2_score.append ( buildModel(X_train1, y_train1, number_of_rfe_features=n,predict=True,train=True, rsquare_train=True))\n",
    "        \n",
    "        \n",
    "        #Transform Test Data\n",
    "        df_test1[var_to_scale] = scaler.transform(df_test1[var_to_scale])\n",
    "        y_test1 = df_test1.pop('price')\n",
    "        X_test1 = df_test1\n",
    "\n",
    "        # Creating X_test1 dataframe by dropping variables from X_test1\n",
    "        X_test1 = X_test1[X_train1.columns]\n",
    "\n",
    "        # Adding a constant variable \n",
    "        X_test1 = sm.add_constant(X_test1)\n",
    "        # Making predictions\n",
    "        y_pred1 = lm.predict(X_test1)\n",
    "        test_r2_score.append ( r2_score(y_test1, y_pred1))\n",
    "        \n",
    "        i+=1\n"
   ]
  },
  {
   "cell_type": "code",
   "execution_count": 103,
   "metadata": {},
   "outputs": [
    {
     "data": {
      "text/html": [
       "<table class=\"simpletable\">\n",
       "<caption>OLS Regression Results</caption>\n",
       "<tr>\n",
       "  <th>Dep. Variable:</th>          <td>price</td>      <th>  R-squared:         </th> <td>   0.887</td>\n",
       "</tr>\n",
       "<tr>\n",
       "  <th>Model:</th>                   <td>OLS</td>       <th>  Adj. R-squared:    </th> <td>   0.884</td>\n",
       "</tr>\n",
       "<tr>\n",
       "  <th>Method:</th>             <td>Least Squares</td>  <th>  F-statistic:       </th> <td>   265.2</td>\n",
       "</tr>\n",
       "<tr>\n",
       "  <th>Date:</th>             <td>Mon, 15 Jul 2019</td> <th>  Prob (F-statistic):</th> <td>6.98e-63</td>\n",
       "</tr>\n",
       "<tr>\n",
       "  <th>Time:</th>                 <td>18:56:13</td>     <th>  Log-Likelihood:    </th> <td>  182.08</td>\n",
       "</tr>\n",
       "<tr>\n",
       "  <th>No. Observations:</th>      <td>   140</td>      <th>  AIC:               </th> <td>  -354.2</td>\n",
       "</tr>\n",
       "<tr>\n",
       "  <th>Df Residuals:</th>          <td>   135</td>      <th>  BIC:               </th> <td>  -339.5</td>\n",
       "</tr>\n",
       "<tr>\n",
       "  <th>Df Model:</th>              <td>     4</td>      <th>                     </th>     <td> </td>   \n",
       "</tr>\n",
       "<tr>\n",
       "  <th>Covariance Type:</th>      <td>nonrobust</td>    <th>                     </th>     <td> </td>   \n",
       "</tr>\n",
       "</table>\n",
       "<table class=\"simpletable\">\n",
       "<tr>\n",
       "         <td></td>           <th>coef</th>     <th>std err</th>      <th>t</th>      <th>P>|t|</th>  <th>[0.025</th>    <th>0.975]</th>  \n",
       "</tr>\n",
       "<tr>\n",
       "  <th>const</th>          <td>   -0.0994</td> <td>    0.013</td> <td>   -7.936</td> <td> 0.000</td> <td>   -0.124</td> <td>   -0.075</td>\n",
       "</tr>\n",
       "<tr>\n",
       "  <th>enginelocation</th> <td>    0.4398</td> <td>    0.051</td> <td>    8.587</td> <td> 0.000</td> <td>    0.339</td> <td>    0.541</td>\n",
       "</tr>\n",
       "<tr>\n",
       "  <th>carwidth</th>       <td>    0.3688</td> <td>    0.042</td> <td>    8.871</td> <td> 0.000</td> <td>    0.287</td> <td>    0.451</td>\n",
       "</tr>\n",
       "<tr>\n",
       "  <th>enginesize</th>     <td>    0.6168</td> <td>    0.057</td> <td>   10.890</td> <td> 0.000</td> <td>    0.505</td> <td>    0.729</td>\n",
       "</tr>\n",
       "<tr>\n",
       "  <th>Com_bmw</th>        <td>    0.1880</td> <td>    0.032</td> <td>    5.917</td> <td> 0.000</td> <td>    0.125</td> <td>    0.251</td>\n",
       "</tr>\n",
       "</table>\n",
       "<table class=\"simpletable\">\n",
       "<tr>\n",
       "  <th>Omnibus:</th>       <td> 1.855</td> <th>  Durbin-Watson:     </th> <td>   1.894</td>\n",
       "</tr>\n",
       "<tr>\n",
       "  <th>Prob(Omnibus):</th> <td> 0.396</td> <th>  Jarque-Bera (JB):  </th> <td>   1.893</td>\n",
       "</tr>\n",
       "<tr>\n",
       "  <th>Skew:</th>          <td> 0.268</td> <th>  Prob(JB):          </th> <td>   0.388</td>\n",
       "</tr>\n",
       "<tr>\n",
       "  <th>Kurtosis:</th>      <td> 2.808</td> <th>  Cond. No.          </th> <td>    14.0</td>\n",
       "</tr>\n",
       "</table><br/><br/>Warnings:<br/>[1] Standard Errors assume that the covariance matrix of the errors is correctly specified."
      ],
      "text/plain": [
       "<class 'statsmodels.iolib.summary.Summary'>\n",
       "\"\"\"\n",
       "                            OLS Regression Results                            \n",
       "==============================================================================\n",
       "Dep. Variable:                  price   R-squared:                       0.887\n",
       "Model:                            OLS   Adj. R-squared:                  0.884\n",
       "Method:                 Least Squares   F-statistic:                     265.2\n",
       "Date:                Mon, 15 Jul 2019   Prob (F-statistic):           6.98e-63\n",
       "Time:                        18:56:13   Log-Likelihood:                 182.08\n",
       "No. Observations:                 140   AIC:                            -354.2\n",
       "Df Residuals:                     135   BIC:                            -339.5\n",
       "Df Model:                           4                                         \n",
       "Covariance Type:            nonrobust                                         \n",
       "==================================================================================\n",
       "                     coef    std err          t      P>|t|      [0.025      0.975]\n",
       "----------------------------------------------------------------------------------\n",
       "const             -0.0994      0.013     -7.936      0.000      -0.124      -0.075\n",
       "enginelocation     0.4398      0.051      8.587      0.000       0.339       0.541\n",
       "carwidth           0.3688      0.042      8.871      0.000       0.287       0.451\n",
       "enginesize         0.6168      0.057     10.890      0.000       0.505       0.729\n",
       "Com_bmw            0.1880      0.032      5.917      0.000       0.125       0.251\n",
       "==============================================================================\n",
       "Omnibus:                        1.855   Durbin-Watson:                   1.894\n",
       "Prob(Omnibus):                  0.396   Jarque-Bera (JB):                1.893\n",
       "Skew:                           0.268   Prob(JB):                        0.388\n",
       "Kurtosis:                       2.808   Cond. No.                         14.0\n",
       "==============================================================================\n",
       "\n",
       "Warnings:\n",
       "[1] Standard Errors assume that the covariance matrix of the errors is correctly specified.\n",
       "\"\"\""
      ]
     },
     "execution_count": 103,
     "metadata": {},
     "output_type": "execute_result"
    }
   ],
   "source": [
    "lm.summary()"
   ]
  },
  {
   "cell_type": "code",
   "execution_count": 104,
   "metadata": {
    "scrolled": false
   },
   "outputs": [
    {
     "name": "stderr",
     "output_type": "stream",
     "text": [
      "C:\\Users\\admin\\Anaconda3\\lib\\site-packages\\sklearn\\preprocessing\\data.py:323: DataConversionWarning: Data with input dtype int64, float64 were all converted to float64 by MinMaxScaler.\n",
      "  return self.partial_fit(X, y)\n"
     ]
    },
    {
     "name": "stdout",
     "output_type": "stream",
     "text": [
      "                            OLS Regression Results                            \n",
      "==============================================================================\n",
      "Dep. Variable:                  price   R-squared:                       0.894\n",
      "Model:                            OLS   Adj. R-squared:                  0.891\n",
      "Method:                 Least Squares   F-statistic:                     283.9\n",
      "Date:                Mon, 15 Jul 2019   Prob (F-statistic):           1.17e-64\n",
      "Time:                        18:56:15   Log-Likelihood:                 171.39\n",
      "No. Observations:                 140   AIC:                            -332.8\n",
      "Df Residuals:                     135   BIC:                            -318.1\n",
      "Df Model:                           4                                         \n",
      "Covariance Type:            nonrobust                                         \n",
      "==================================================================================\n",
      "                     coef    std err          t      P>|t|      [0.025      0.975]\n",
      "----------------------------------------------------------------------------------\n",
      "const             -0.1222      0.013     -9.064      0.000      -0.149      -0.096\n",
      "enginelocation     0.5727      0.075      7.613      0.000       0.424       0.721\n",
      "carwidth           0.5110      0.048     10.746      0.000       0.417       0.605\n",
      "enginesize         0.5865      0.060      9.797      0.000       0.468       0.705\n",
      "Com_bmw            0.2249      0.031      7.290      0.000       0.164       0.286\n",
      "==============================================================================\n",
      "Omnibus:                        2.179   Durbin-Watson:                   1.996\n",
      "Prob(Omnibus):                  0.336   Jarque-Bera (JB):                1.834\n",
      "Skew:                           0.275   Prob(JB):                        0.400\n",
      "Kurtosis:                       3.111   Cond. No.                         15.0\n",
      "==============================================================================\n",
      "\n",
      "Warnings:\n",
      "[1] Standard Errors assume that the covariance matrix of the errors is correctly specified.\n"
     ]
    },
    {
     "name": "stderr",
     "output_type": "stream",
     "text": [
      "C:\\Users\\admin\\Anaconda3\\lib\\site-packages\\sklearn\\preprocessing\\data.py:323: DataConversionWarning: Data with input dtype int64, float64 were all converted to float64 by MinMaxScaler.\n",
      "  return self.partial_fit(X, y)\n"
     ]
    },
    {
     "name": "stdout",
     "output_type": "stream",
     "text": [
      "                            OLS Regression Results                            \n",
      "==============================================================================\n",
      "Dep. Variable:                  price   R-squared:                       0.887\n",
      "Model:                            OLS   Adj. R-squared:                  0.884\n",
      "Method:                 Least Squares   F-statistic:                     265.2\n",
      "Date:                Mon, 15 Jul 2019   Prob (F-statistic):           6.98e-63\n",
      "Time:                        18:56:17   Log-Likelihood:                 182.08\n",
      "No. Observations:                 140   AIC:                            -354.2\n",
      "Df Residuals:                     135   BIC:                            -339.5\n",
      "Df Model:                           4                                         \n",
      "Covariance Type:            nonrobust                                         \n",
      "==================================================================================\n",
      "                     coef    std err          t      P>|t|      [0.025      0.975]\n",
      "----------------------------------------------------------------------------------\n",
      "const             -0.0994      0.013     -7.936      0.000      -0.124      -0.075\n",
      "enginelocation     0.4398      0.051      8.587      0.000       0.339       0.541\n",
      "carwidth           0.3688      0.042      8.871      0.000       0.287       0.451\n",
      "enginesize         0.6168      0.057     10.890      0.000       0.505       0.729\n",
      "Com_bmw            0.1880      0.032      5.917      0.000       0.125       0.251\n",
      "==============================================================================\n",
      "Omnibus:                        1.855   Durbin-Watson:                   1.894\n",
      "Prob(Omnibus):                  0.396   Jarque-Bera (JB):                1.893\n",
      "Skew:                           0.268   Prob(JB):                        0.388\n",
      "Kurtosis:                       2.808   Cond. No.                         14.0\n",
      "==============================================================================\n",
      "\n",
      "Warnings:\n",
      "[1] Standard Errors assume that the covariance matrix of the errors is correctly specified.\n"
     ]
    },
    {
     "name": "stderr",
     "output_type": "stream",
     "text": [
      "C:\\Users\\admin\\Anaconda3\\lib\\site-packages\\sklearn\\preprocessing\\data.py:323: DataConversionWarning: Data with input dtype int64, float64 were all converted to float64 by MinMaxScaler.\n",
      "  return self.partial_fit(X, y)\n"
     ]
    },
    {
     "name": "stdout",
     "output_type": "stream",
     "text": [
      "                            OLS Regression Results                            \n",
      "==============================================================================\n",
      "Dep. Variable:                  price   R-squared:                       0.895\n",
      "Model:                            OLS   Adj. R-squared:                  0.892\n",
      "Method:                 Least Squares   F-statistic:                     288.6\n",
      "Date:                Mon, 15 Jul 2019   Prob (F-statistic):           4.36e-65\n",
      "Time:                        18:56:20   Log-Likelihood:                 179.35\n",
      "No. Observations:                 140   AIC:                            -348.7\n",
      "Df Residuals:                     135   BIC:                            -334.0\n",
      "Df Model:                           4                                         \n",
      "Covariance Type:            nonrobust                                         \n",
      "==================================================================================\n",
      "                     coef    std err          t      P>|t|      [0.025      0.975]\n",
      "----------------------------------------------------------------------------------\n",
      "const             -0.1721      0.016    -10.746      0.000      -0.204      -0.140\n",
      "enginelocation     0.4094      0.071      5.758      0.000       0.269       0.550\n",
      "carwidth           0.4414      0.050      8.862      0.000       0.343       0.540\n",
      "enginesize         0.6129      0.059     10.420      0.000       0.497       0.729\n",
      "Com_bmw            0.3004      0.042      7.203      0.000       0.218       0.383\n",
      "==============================================================================\n",
      "Omnibus:                        6.130   Durbin-Watson:                   2.128\n",
      "Prob(Omnibus):                  0.047   Jarque-Bera (JB):                5.817\n",
      "Skew:                           0.491   Prob(JB):                       0.0546\n",
      "Kurtosis:                       3.181   Cond. No.                         16.0\n",
      "==============================================================================\n",
      "\n",
      "Warnings:\n",
      "[1] Standard Errors assume that the covariance matrix of the errors is correctly specified.\n"
     ]
    },
    {
     "name": "stderr",
     "output_type": "stream",
     "text": [
      "C:\\Users\\admin\\Anaconda3\\lib\\site-packages\\sklearn\\preprocessing\\data.py:323: DataConversionWarning: Data with input dtype int64, float64 were all converted to float64 by MinMaxScaler.\n",
      "  return self.partial_fit(X, y)\n"
     ]
    },
    {
     "name": "stdout",
     "output_type": "stream",
     "text": [
      "                            OLS Regression Results                            \n",
      "==============================================================================\n",
      "Dep. Variable:                  price   R-squared:                       0.880\n",
      "Model:                            OLS   Adj. R-squared:                  0.876\n",
      "Method:                 Least Squares   F-statistic:                     247.1\n",
      "Date:                Mon, 15 Jul 2019   Prob (F-statistic):           4.63e-61\n",
      "Time:                        18:56:22   Log-Likelihood:                 178.19\n",
      "No. Observations:                 140   AIC:                            -346.4\n",
      "Df Residuals:                     135   BIC:                            -331.7\n",
      "Df Model:                           4                                         \n",
      "Covariance Type:            nonrobust                                         \n",
      "==================================================================================\n",
      "                     coef    std err          t      P>|t|      [0.025      0.975]\n",
      "----------------------------------------------------------------------------------\n",
      "const             -0.1805      0.017    -10.808      0.000      -0.213      -0.147\n",
      "enginelocation     0.4815      0.072      6.726      0.000       0.340       0.623\n",
      "carwidth           0.4611      0.049      9.354      0.000       0.364       0.559\n",
      "enginesize         0.6187      0.057     10.864      0.000       0.506       0.731\n",
      "Com_bmw            0.2438      0.036      6.856      0.000       0.173       0.314\n",
      "==============================================================================\n",
      "Omnibus:                        5.430   Durbin-Watson:                   2.070\n",
      "Prob(Omnibus):                  0.066   Jarque-Bera (JB):                5.086\n",
      "Skew:                           0.460   Prob(JB):                       0.0786\n",
      "Kurtosis:                       3.161   Cond. No.                         15.6\n",
      "==============================================================================\n",
      "\n",
      "Warnings:\n",
      "[1] Standard Errors assume that the covariance matrix of the errors is correctly specified.\n"
     ]
    },
    {
     "name": "stderr",
     "output_type": "stream",
     "text": [
      "C:\\Users\\admin\\Anaconda3\\lib\\site-packages\\sklearn\\preprocessing\\data.py:323: DataConversionWarning: Data with input dtype int64, float64 were all converted to float64 by MinMaxScaler.\n",
      "  return self.partial_fit(X, y)\n"
     ]
    },
    {
     "name": "stdout",
     "output_type": "stream",
     "text": [
      "                            OLS Regression Results                            \n",
      "==============================================================================\n",
      "Dep. Variable:                  price   R-squared:                       0.894\n",
      "Model:                            OLS   Adj. R-squared:                  0.891\n",
      "Method:                 Least Squares   F-statistic:                     284.1\n",
      "Date:                Mon, 15 Jul 2019   Prob (F-statistic):           1.11e-64\n",
      "Time:                        18:56:25   Log-Likelihood:                 185.03\n",
      "No. Observations:                 140   AIC:                            -360.1\n",
      "Df Residuals:                     135   BIC:                            -345.3\n",
      "Df Model:                           4                                         \n",
      "Covariance Type:            nonrobust                                         \n",
      "==================================================================================\n",
      "                     coef    std err          t      P>|t|      [0.025      0.975]\n",
      "----------------------------------------------------------------------------------\n",
      "const             -0.0993      0.012     -8.352      0.000      -0.123      -0.076\n",
      "enginelocation     0.4547      0.050      9.050      0.000       0.355       0.554\n",
      "carwidth           0.4179      0.042      9.850      0.000       0.334       0.502\n",
      "enginesize         0.5618      0.056     10.114      0.000       0.452       0.672\n",
      "Com_bmw            0.1990      0.034      5.801      0.000       0.131       0.267\n",
      "==============================================================================\n",
      "Omnibus:                        2.339   Durbin-Watson:                   1.964\n",
      "Prob(Omnibus):                  0.311   Jarque-Bera (JB):                2.034\n",
      "Skew:                           0.293   Prob(JB):                        0.362\n",
      "Kurtosis:                       3.076   Cond. No.                         14.0\n",
      "==============================================================================\n",
      "\n",
      "Warnings:\n",
      "[1] Standard Errors assume that the covariance matrix of the errors is correctly specified.\n"
     ]
    },
    {
     "name": "stderr",
     "output_type": "stream",
     "text": [
      "C:\\Users\\admin\\Anaconda3\\lib\\site-packages\\sklearn\\preprocessing\\data.py:323: DataConversionWarning: Data with input dtype int64, float64 were all converted to float64 by MinMaxScaler.\n",
      "  return self.partial_fit(X, y)\n"
     ]
    },
    {
     "name": "stdout",
     "output_type": "stream",
     "text": [
      "                            OLS Regression Results                            \n",
      "==============================================================================\n",
      "Dep. Variable:                  price   R-squared:                       0.878\n",
      "Model:                            OLS   Adj. R-squared:                  0.875\n",
      "Method:                 Least Squares   F-statistic:                     243.4\n",
      "Date:                Mon, 15 Jul 2019   Prob (F-statistic):           1.15e-60\n",
      "Time:                        18:56:27   Log-Likelihood:                 173.17\n",
      "No. Observations:                 140   AIC:                            -336.3\n",
      "Df Residuals:                     135   BIC:                            -321.6\n",
      "Df Model:                           4                                         \n",
      "Covariance Type:            nonrobust                                         \n",
      "==================================================================================\n",
      "                     coef    std err          t      P>|t|      [0.025      0.975]\n",
      "----------------------------------------------------------------------------------\n",
      "const             -0.1884      0.019    -10.085      0.000      -0.225      -0.151\n",
      "enginelocation     0.4570      0.054      8.396      0.000       0.349       0.565\n",
      "carwidth           0.4738      0.053      8.859      0.000       0.368       0.580\n",
      "enginesize         0.5895      0.060      9.780      0.000       0.470       0.709\n",
      "Com_bmw            0.2246      0.029      7.748      0.000       0.167       0.282\n",
      "==============================================================================\n",
      "Omnibus:                        8.271   Durbin-Watson:                   1.759\n",
      "Prob(Omnibus):                  0.016   Jarque-Bera (JB):                8.082\n",
      "Skew:                           0.569   Prob(JB):                       0.0176\n",
      "Kurtosis:                       3.299   Cond. No.                         15.4\n",
      "==============================================================================\n",
      "\n",
      "Warnings:\n",
      "[1] Standard Errors assume that the covariance matrix of the errors is correctly specified.\n"
     ]
    },
    {
     "name": "stderr",
     "output_type": "stream",
     "text": [
      "C:\\Users\\admin\\Anaconda3\\lib\\site-packages\\sklearn\\preprocessing\\data.py:323: DataConversionWarning: Data with input dtype int64, float64 were all converted to float64 by MinMaxScaler.\n",
      "  return self.partial_fit(X, y)\n"
     ]
    },
    {
     "name": "stdout",
     "output_type": "stream",
     "text": [
      "                            OLS Regression Results                            \n",
      "==============================================================================\n",
      "Dep. Variable:                  price   R-squared:                       0.893\n",
      "Model:                            OLS   Adj. R-squared:                  0.890\n",
      "Method:                 Least Squares   F-statistic:                     280.8\n",
      "Date:                Mon, 15 Jul 2019   Prob (F-statistic):           2.25e-64\n",
      "Time:                        18:56:30   Log-Likelihood:                 181.43\n",
      "No. Observations:                 140   AIC:                            -352.9\n",
      "Df Residuals:                     135   BIC:                            -338.2\n",
      "Df Model:                           4                                         \n",
      "Covariance Type:            nonrobust                                         \n",
      "==================================================================================\n",
      "                     coef    std err          t      P>|t|      [0.025      0.975]\n",
      "----------------------------------------------------------------------------------\n",
      "const             -0.1106      0.013     -8.805      0.000      -0.135      -0.086\n",
      "enginelocation     0.4374      0.052      8.472      0.000       0.335       0.540\n",
      "carwidth           0.4132      0.043      9.522      0.000       0.327       0.499\n",
      "enginesize         0.5790      0.054     10.798      0.000       0.473       0.685\n",
      "Com_bmw            0.1881      0.035      5.372      0.000       0.119       0.257\n",
      "==============================================================================\n",
      "Omnibus:                        1.532   Durbin-Watson:                   1.813\n",
      "Prob(Omnibus):                  0.465   Jarque-Bera (JB):                1.538\n",
      "Skew:                           0.247   Prob(JB):                        0.463\n",
      "Kurtosis:                       2.858   Cond. No.                         13.7\n",
      "==============================================================================\n",
      "\n",
      "Warnings:\n",
      "[1] Standard Errors assume that the covariance matrix of the errors is correctly specified.\n"
     ]
    },
    {
     "name": "stderr",
     "output_type": "stream",
     "text": [
      "C:\\Users\\admin\\Anaconda3\\lib\\site-packages\\sklearn\\preprocessing\\data.py:323: DataConversionWarning: Data with input dtype int64, float64 were all converted to float64 by MinMaxScaler.\n",
      "  return self.partial_fit(X, y)\n"
     ]
    },
    {
     "name": "stdout",
     "output_type": "stream",
     "text": [
      "                            OLS Regression Results                            \n",
      "==============================================================================\n",
      "Dep. Variable:                  price   R-squared:                       0.897\n",
      "Model:                            OLS   Adj. R-squared:                  0.894\n",
      "Method:                 Least Squares   F-statistic:                     293.5\n",
      "Date:                Mon, 15 Jul 2019   Prob (F-statistic):           1.56e-65\n",
      "Time:                        18:56:32   Log-Likelihood:                 167.64\n",
      "No. Observations:                 140   AIC:                            -325.3\n",
      "Df Residuals:                     135   BIC:                            -310.6\n",
      "Df Model:                           4                                         \n",
      "Covariance Type:            nonrobust                                         \n",
      "==================================================================================\n",
      "                     coef    std err          t      P>|t|      [0.025      0.975]\n",
      "----------------------------------------------------------------------------------\n",
      "const             -0.1154      0.014     -8.491      0.000      -0.142      -0.089\n",
      "enginelocation     0.4750      0.077      6.157      0.000       0.322       0.628\n",
      "carwidth           0.4903      0.045     10.859      0.000       0.401       0.580\n",
      "enginesize         0.5979      0.059     10.131      0.000       0.481       0.715\n",
      "Com_bmw            0.2663      0.032      8.238      0.000       0.202       0.330\n",
      "==============================================================================\n",
      "Omnibus:                        4.935   Durbin-Watson:                   1.998\n",
      "Prob(Omnibus):                  0.085   Jarque-Bera (JB):                4.459\n",
      "Skew:                           0.418   Prob(JB):                        0.108\n",
      "Kurtosis:                       3.256   Cond. No.                         14.7\n",
      "==============================================================================\n",
      "\n",
      "Warnings:\n",
      "[1] Standard Errors assume that the covariance matrix of the errors is correctly specified.\n"
     ]
    },
    {
     "name": "stderr",
     "output_type": "stream",
     "text": [
      "C:\\Users\\admin\\Anaconda3\\lib\\site-packages\\sklearn\\preprocessing\\data.py:323: DataConversionWarning: Data with input dtype int64, float64 were all converted to float64 by MinMaxScaler.\n",
      "  return self.partial_fit(X, y)\n"
     ]
    },
    {
     "name": "stdout",
     "output_type": "stream",
     "text": [
      "                            OLS Regression Results                            \n",
      "==============================================================================\n",
      "Dep. Variable:                  price   R-squared:                       0.895\n",
      "Model:                            OLS   Adj. R-squared:                  0.891\n",
      "Method:                 Least Squares   F-statistic:                     286.4\n",
      "Date:                Mon, 15 Jul 2019   Prob (F-statistic):           6.88e-65\n",
      "Time:                        18:56:35   Log-Likelihood:                 179.28\n",
      "No. Observations:                 140   AIC:                            -348.6\n",
      "Df Residuals:                     135   BIC:                            -333.8\n",
      "Df Model:                           4                                         \n",
      "Covariance Type:            nonrobust                                         \n",
      "==================================================================================\n",
      "                     coef    std err          t      P>|t|      [0.025      0.975]\n",
      "----------------------------------------------------------------------------------\n",
      "const             -0.1748      0.017    -10.352      0.000      -0.208      -0.141\n",
      "enginelocation     0.4421      0.052      8.528      0.000       0.340       0.545\n",
      "carwidth           0.4191      0.049      8.538      0.000       0.322       0.516\n",
      "enginesize         0.6362      0.056     11.450      0.000       0.526       0.746\n",
      "Com_bmw            0.2393      0.032      7.406      0.000       0.175       0.303\n",
      "==============================================================================\n",
      "Omnibus:                       10.333   Durbin-Watson:                   1.857\n",
      "Prob(Omnibus):                  0.006   Jarque-Bera (JB):               10.462\n",
      "Skew:                           0.603   Prob(JB):                      0.00535\n",
      "Kurtosis:                       3.584   Cond. No.                         14.8\n",
      "==============================================================================\n",
      "\n",
      "Warnings:\n",
      "[1] Standard Errors assume that the covariance matrix of the errors is correctly specified.\n"
     ]
    },
    {
     "name": "stderr",
     "output_type": "stream",
     "text": [
      "C:\\Users\\admin\\Anaconda3\\lib\\site-packages\\sklearn\\preprocessing\\data.py:323: DataConversionWarning: Data with input dtype int64, float64 were all converted to float64 by MinMaxScaler.\n",
      "  return self.partial_fit(X, y)\n"
     ]
    },
    {
     "name": "stdout",
     "output_type": "stream",
     "text": [
      "                            OLS Regression Results                            \n",
      "==============================================================================\n",
      "Dep. Variable:                  price   R-squared:                       0.883\n",
      "Model:                            OLS   Adj. R-squared:                  0.880\n",
      "Method:                 Least Squares   F-statistic:                     255.2\n",
      "Date:                Mon, 15 Jul 2019   Prob (F-statistic):           6.83e-62\n",
      "Time:                        18:56:37   Log-Likelihood:                 173.28\n",
      "No. Observations:                 140   AIC:                            -336.6\n",
      "Df Residuals:                     135   BIC:                            -321.8\n",
      "Df Model:                           4                                         \n",
      "Covariance Type:            nonrobust                                         \n",
      "==================================================================================\n",
      "                     coef    std err          t      P>|t|      [0.025      0.975]\n",
      "----------------------------------------------------------------------------------\n",
      "const             -0.1698      0.017     -9.984      0.000      -0.203      -0.136\n",
      "enginelocation     0.4239      0.054      7.820      0.000       0.317       0.531\n",
      "carwidth           0.4171      0.052      8.088      0.000       0.315       0.519\n",
      "enginesize         0.6724      0.059     11.346      0.000       0.555       0.790\n",
      "Com_bmw            0.2196      0.033      6.636      0.000       0.154       0.285\n",
      "==============================================================================\n",
      "Omnibus:                        5.578   Durbin-Watson:                   1.890\n",
      "Prob(Omnibus):                  0.061   Jarque-Bera (JB):                5.232\n",
      "Skew:                           0.466   Prob(JB):                       0.0731\n",
      "Kurtosis:                       3.170   Cond. No.                         14.8\n",
      "==============================================================================\n",
      "\n",
      "Warnings:\n",
      "[1] Standard Errors assume that the covariance matrix of the errors is correctly specified.\n"
     ]
    },
    {
     "name": "stderr",
     "output_type": "stream",
     "text": [
      "C:\\Users\\admin\\Anaconda3\\lib\\site-packages\\sklearn\\preprocessing\\data.py:323: DataConversionWarning: Data with input dtype int64, float64 were all converted to float64 by MinMaxScaler.\n",
      "  return self.partial_fit(X, y)\n"
     ]
    },
    {
     "name": "stdout",
     "output_type": "stream",
     "text": [
      "                            OLS Regression Results                            \n",
      "==============================================================================\n",
      "Dep. Variable:                  price   R-squared:                       0.890\n",
      "Model:                            OLS   Adj. R-squared:                  0.887\n",
      "Method:                 Least Squares   F-statistic:                     274.2\n",
      "Date:                Mon, 15 Jul 2019   Prob (F-statistic):           9.33e-64\n",
      "Time:                        18:56:40   Log-Likelihood:                 182.45\n",
      "No. Observations:                 140   AIC:                            -354.9\n",
      "Df Residuals:                     135   BIC:                            -340.2\n",
      "Df Model:                           4                                         \n",
      "Covariance Type:            nonrobust                                         \n",
      "==================================================================================\n",
      "                     coef    std err          t      P>|t|      [0.025      0.975]\n",
      "----------------------------------------------------------------------------------\n",
      "const             -0.1680      0.016    -10.225      0.000      -0.201      -0.136\n",
      "enginelocation     0.4306      0.052      8.330      0.000       0.328       0.533\n",
      "carwidth           0.4011      0.050      7.982      0.000       0.302       0.500\n",
      "enginesize         0.6149      0.059     10.356      0.000       0.497       0.732\n",
      "Com_bmw            0.2190      0.028      7.876      0.000       0.164       0.274\n",
      "==============================================================================\n",
      "Omnibus:                        6.224   Durbin-Watson:                   2.002\n",
      "Prob(Omnibus):                  0.045   Jarque-Bera (JB):                5.781\n",
      "Skew:                           0.438   Prob(JB):                       0.0556\n",
      "Kurtosis:                       3.471   Cond. No.                         15.8\n",
      "==============================================================================\n",
      "\n",
      "Warnings:\n",
      "[1] Standard Errors assume that the covariance matrix of the errors is correctly specified.\n"
     ]
    }
   ],
   "source": [
    "#Run the model 10 times with different set of random_state\n",
    "RunFinalModel(10)"
   ]
  },
  {
   "cell_type": "code",
   "execution_count": 105,
   "metadata": {},
   "outputs": [
    {
     "name": "stdout",
     "output_type": "stream",
     "text": [
      "Average Training r2 score:  0.8896124149045224\n",
      "Training r2 score Varaince:  3.886535268671099e-05\n",
      "Average Test r2 score:  0.8196283570040575\n",
      "Test r2 score Varaince:  0.0006533376988448486\n"
     ]
    }
   ],
   "source": [
    "print (\"Average Training r2 score: \", np.mean(train_r2_score ))\n",
    "print (\"Training r2 score Varaince: \", np.var(train_r2_score ))\n",
    "print (\"Average Test r2 score: \", np.mean(test_r2_score) )\n",
    "print (\"Test r2 score Varaince: \", np.var(test_r2_score ))"
   ]
  },
  {
   "cell_type": "code",
   "execution_count": null,
   "metadata": {},
   "outputs": [],
   "source": []
  },
  {
   "cell_type": "code",
   "execution_count": 106,
   "metadata": {},
   "outputs": [
    {
     "data": {
      "text/plain": [
       "0.8870913255705535"
      ]
     },
     "execution_count": 106,
     "metadata": {},
     "output_type": "execute_result"
    }
   ],
   "source": [
    "#Get r2 score on train data\n",
    "buildModel(X_train_new, y_train, number_of_rfe_features=n,predict=True,train=True, rsquare_train=True)"
   ]
  },
  {
   "cell_type": "code",
   "execution_count": 107,
   "metadata": {},
   "outputs": [
    {
     "data": {
      "text/plain": [
       "0.8604240183238218"
      ]
     },
     "execution_count": 107,
     "metadata": {},
     "output_type": "execute_result"
    }
   ],
   "source": [
    "#Get r2 sqore on test data\n",
    "r2_score(y_test, y_pred)"
   ]
  },
  {
   "cell_type": "code",
   "execution_count": null,
   "metadata": {},
   "outputs": [],
   "source": []
  }
 ],
 "metadata": {
  "kernelspec": {
   "display_name": "Python 3",
   "language": "python",
   "name": "python3"
  },
  "language_info": {
   "codemirror_mode": {
    "name": "ipython",
    "version": 3
   },
   "file_extension": ".py",
   "mimetype": "text/x-python",
   "name": "python",
   "nbconvert_exporter": "python",
   "pygments_lexer": "ipython3",
   "version": "3.7.1"
  }
 },
 "nbformat": 4,
 "nbformat_minor": 2
}
