{
 "cells": [
  {
   "cell_type": "markdown",
   "metadata": {},
   "source": [
    "# K-Mode Clustering on Bank Marketing Dataset"
   ]
  },
  {
   "cell_type": "markdown",
   "metadata": {},
   "source": [
    "The data is related with direct marketing campaigns of a Portuguese banking institution. The marketing campaigns were based on phone calls. Often, more than one contact to the same client was required, in order to access if the product (bank term deposit) would be ('yes') or not ('no') subscribed. "
   ]
  },
  {
   "cell_type": "markdown",
   "metadata": {},
   "source": [
    "**Attribute Information(Categorical):**\n",
    "\n",
    "- age (numeric)\n",
    "- job : type of job (categorical: 'admin.','blue-collar','entrepreneur','housemaid','management','retired','self-employed','services','student','technician','unemployed','unknown')\n",
    "- marital : marital status (categorical: 'divorced','married','single','unknown'; note: 'divorced' means divorced or widowed)\n",
    "- education (categorical: 'basic.4y','basic.6y','basic.9y','high.school','illiterate','professional.course','university.degree','unknown')\n",
    "- default: has credit in default? (categorical: 'no','yes','unknown')\n",
    "- housing: has housing loan? (categorical: 'no','yes','unknown')\n",
    "- loan: has personal loan? (categorical: 'no','yes','unknown')\n",
    "- contact: contact communication type (categorical: 'cellular','telephone') \n",
    "- month: last contact month of year (categorical: 'jan', 'feb', 'mar', ..., 'nov', 'dec')\n",
    "- day_of_week: last contact day of the week (categorical: 'mon','tue','wed','thu','fri')\n",
    "- poutcome: outcome of the previous marketing campaign (categorical: 'failure','nonexistent','success')\n",
    "- UCI Repository: <https://archive.ics.uci.edu/ml/datasets/bank+marketing>"
   ]
  },
  {
   "cell_type": "code",
   "execution_count": 1,
   "metadata": {},
   "outputs": [
    {
     "name": "stdout",
     "output_type": "stream",
     "text": [
      "Requirement already satisfied: KModes in d:\\users\\admin\\anaconda3\\lib\\site-packages (0.11.0)\n",
      "Requirement already satisfied: scikit-learn>=0.22.0 in c:\\users\\admin\\appdata\\roaming\\python\\python38\\site-packages (from KModes) (0.23.2)\n",
      "Requirement already satisfied: scipy>=0.13.3 in d:\\users\\admin\\anaconda3\\lib\\site-packages (from KModes) (1.7.1)\n",
      "Requirement already satisfied: numpy>=1.10.4 in d:\\users\\admin\\anaconda3\\lib\\site-packages (from KModes) (1.20.3)\n",
      "Requirement already satisfied: joblib>=0.11 in d:\\users\\admin\\anaconda3\\lib\\site-packages (from KModes) (1.0.1)\n",
      "Requirement already satisfied: threadpoolctl>=2.0.0 in d:\\users\\admin\\anaconda3\\lib\\site-packages (from scikit-learn>=0.22.0->KModes) (2.2.0)\n"
     ]
    }
   ],
   "source": [
    "!pip install KModes"
   ]
  },
  {
   "cell_type": "code",
   "execution_count": 2,
   "metadata": {},
   "outputs": [],
   "source": [
    "# Importing Libraries\n",
    "import pandas as pd\n",
    "import numpy as np\n",
    "%matplotlib inline\n",
    "import matplotlib.pyplot as plt\n",
    "import seaborn as sns\n",
    "from kmodes.kmodes import KModes\n",
    "import warnings\n",
    "warnings.filterwarnings(\"ignore\") "
   ]
  },
  {
   "cell_type": "code",
   "execution_count": 2,
   "metadata": {},
   "outputs": [],
   "source": []
  },
  {
   "cell_type": "code",
   "execution_count": 5,
   "metadata": {},
   "outputs": [],
   "source": []
  },
  {
   "cell_type": "code",
   "execution_count": 6,
   "metadata": {},
   "outputs": [],
   "source": []
  },
  {
   "cell_type": "code",
   "execution_count": null,
   "metadata": {},
   "outputs": [],
   "source": []
  },
  {
   "cell_type": "code",
   "execution_count": 4,
   "metadata": {},
   "outputs": [],
   "source": [
    "#help(KModes)"
   ]
  },
  {
   "cell_type": "code",
   "execution_count": 4,
   "metadata": {},
   "outputs": [],
   "source": [
    "bank = pd.read_csv('bankmarketing.csv')"
   ]
  },
  {
   "cell_type": "code",
   "execution_count": 5,
   "metadata": {},
   "outputs": [
    {
     "data": {
      "text/html": [
       "<div>\n",
       "<style scoped>\n",
       "    .dataframe tbody tr th:only-of-type {\n",
       "        vertical-align: middle;\n",
       "    }\n",
       "\n",
       "    .dataframe tbody tr th {\n",
       "        vertical-align: top;\n",
       "    }\n",
       "\n",
       "    .dataframe thead th {\n",
       "        text-align: right;\n",
       "    }\n",
       "</style>\n",
       "<table border=\"1\" class=\"dataframe\">\n",
       "  <thead>\n",
       "    <tr style=\"text-align: right;\">\n",
       "      <th></th>\n",
       "      <th>age</th>\n",
       "      <th>job</th>\n",
       "      <th>marital</th>\n",
       "      <th>education</th>\n",
       "      <th>default</th>\n",
       "      <th>housing</th>\n",
       "      <th>loan</th>\n",
       "      <th>contact</th>\n",
       "      <th>month</th>\n",
       "      <th>day_of_week</th>\n",
       "      <th>...</th>\n",
       "      <th>campaign</th>\n",
       "      <th>pdays</th>\n",
       "      <th>previous</th>\n",
       "      <th>poutcome</th>\n",
       "      <th>emp.var.rate</th>\n",
       "      <th>cons.price.idx</th>\n",
       "      <th>cons.conf.idx</th>\n",
       "      <th>euribor3m</th>\n",
       "      <th>nr.employed</th>\n",
       "      <th>y</th>\n",
       "    </tr>\n",
       "  </thead>\n",
       "  <tbody>\n",
       "    <tr>\n",
       "      <th>0</th>\n",
       "      <td>56</td>\n",
       "      <td>housemaid</td>\n",
       "      <td>married</td>\n",
       "      <td>basic.4y</td>\n",
       "      <td>no</td>\n",
       "      <td>no</td>\n",
       "      <td>no</td>\n",
       "      <td>telephone</td>\n",
       "      <td>may</td>\n",
       "      <td>mon</td>\n",
       "      <td>...</td>\n",
       "      <td>1</td>\n",
       "      <td>999</td>\n",
       "      <td>0</td>\n",
       "      <td>nonexistent</td>\n",
       "      <td>1.1</td>\n",
       "      <td>93.994</td>\n",
       "      <td>-36.4</td>\n",
       "      <td>4.857</td>\n",
       "      <td>5191.0</td>\n",
       "      <td>no</td>\n",
       "    </tr>\n",
       "    <tr>\n",
       "      <th>1</th>\n",
       "      <td>57</td>\n",
       "      <td>services</td>\n",
       "      <td>married</td>\n",
       "      <td>high.school</td>\n",
       "      <td>unknown</td>\n",
       "      <td>no</td>\n",
       "      <td>no</td>\n",
       "      <td>telephone</td>\n",
       "      <td>may</td>\n",
       "      <td>mon</td>\n",
       "      <td>...</td>\n",
       "      <td>1</td>\n",
       "      <td>999</td>\n",
       "      <td>0</td>\n",
       "      <td>nonexistent</td>\n",
       "      <td>1.1</td>\n",
       "      <td>93.994</td>\n",
       "      <td>-36.4</td>\n",
       "      <td>4.857</td>\n",
       "      <td>5191.0</td>\n",
       "      <td>no</td>\n",
       "    </tr>\n",
       "    <tr>\n",
       "      <th>2</th>\n",
       "      <td>37</td>\n",
       "      <td>services</td>\n",
       "      <td>married</td>\n",
       "      <td>high.school</td>\n",
       "      <td>no</td>\n",
       "      <td>yes</td>\n",
       "      <td>no</td>\n",
       "      <td>telephone</td>\n",
       "      <td>may</td>\n",
       "      <td>mon</td>\n",
       "      <td>...</td>\n",
       "      <td>1</td>\n",
       "      <td>999</td>\n",
       "      <td>0</td>\n",
       "      <td>nonexistent</td>\n",
       "      <td>1.1</td>\n",
       "      <td>93.994</td>\n",
       "      <td>-36.4</td>\n",
       "      <td>4.857</td>\n",
       "      <td>5191.0</td>\n",
       "      <td>no</td>\n",
       "    </tr>\n",
       "    <tr>\n",
       "      <th>3</th>\n",
       "      <td>40</td>\n",
       "      <td>admin.</td>\n",
       "      <td>married</td>\n",
       "      <td>basic.6y</td>\n",
       "      <td>no</td>\n",
       "      <td>no</td>\n",
       "      <td>no</td>\n",
       "      <td>telephone</td>\n",
       "      <td>may</td>\n",
       "      <td>mon</td>\n",
       "      <td>...</td>\n",
       "      <td>1</td>\n",
       "      <td>999</td>\n",
       "      <td>0</td>\n",
       "      <td>nonexistent</td>\n",
       "      <td>1.1</td>\n",
       "      <td>93.994</td>\n",
       "      <td>-36.4</td>\n",
       "      <td>4.857</td>\n",
       "      <td>5191.0</td>\n",
       "      <td>no</td>\n",
       "    </tr>\n",
       "    <tr>\n",
       "      <th>4</th>\n",
       "      <td>56</td>\n",
       "      <td>services</td>\n",
       "      <td>married</td>\n",
       "      <td>high.school</td>\n",
       "      <td>no</td>\n",
       "      <td>no</td>\n",
       "      <td>yes</td>\n",
       "      <td>telephone</td>\n",
       "      <td>may</td>\n",
       "      <td>mon</td>\n",
       "      <td>...</td>\n",
       "      <td>1</td>\n",
       "      <td>999</td>\n",
       "      <td>0</td>\n",
       "      <td>nonexistent</td>\n",
       "      <td>1.1</td>\n",
       "      <td>93.994</td>\n",
       "      <td>-36.4</td>\n",
       "      <td>4.857</td>\n",
       "      <td>5191.0</td>\n",
       "      <td>no</td>\n",
       "    </tr>\n",
       "  </tbody>\n",
       "</table>\n",
       "<p>5 rows × 21 columns</p>\n",
       "</div>"
      ],
      "text/plain": [
       "   age        job  marital    education  default housing loan    contact  \\\n",
       "0   56  housemaid  married     basic.4y       no      no   no  telephone   \n",
       "1   57   services  married  high.school  unknown      no   no  telephone   \n",
       "2   37   services  married  high.school       no     yes   no  telephone   \n",
       "3   40     admin.  married     basic.6y       no      no   no  telephone   \n",
       "4   56   services  married  high.school       no      no  yes  telephone   \n",
       "\n",
       "  month day_of_week  ...  campaign  pdays  previous     poutcome emp.var.rate  \\\n",
       "0   may         mon  ...         1    999         0  nonexistent          1.1   \n",
       "1   may         mon  ...         1    999         0  nonexistent          1.1   \n",
       "2   may         mon  ...         1    999         0  nonexistent          1.1   \n",
       "3   may         mon  ...         1    999         0  nonexistent          1.1   \n",
       "4   may         mon  ...         1    999         0  nonexistent          1.1   \n",
       "\n",
       "   cons.price.idx  cons.conf.idx  euribor3m  nr.employed   y  \n",
       "0          93.994          -36.4      4.857       5191.0  no  \n",
       "1          93.994          -36.4      4.857       5191.0  no  \n",
       "2          93.994          -36.4      4.857       5191.0  no  \n",
       "3          93.994          -36.4      4.857       5191.0  no  \n",
       "4          93.994          -36.4      4.857       5191.0  no  \n",
       "\n",
       "[5 rows x 21 columns]"
      ]
     },
     "execution_count": 5,
     "metadata": {},
     "output_type": "execute_result"
    }
   ],
   "source": [
    "bank.head()"
   ]
  },
  {
   "cell_type": "code",
   "execution_count": 18,
   "metadata": {},
   "outputs": [
    {
     "name": "stdout",
     "output_type": "stream",
     "text": [
      "age 78 [56 57 37 40 45 59 41 24 25 29 35 54 46 50 39 30 55 49 34 52 58 32 38 44\n",
      " 42 60 53 47 51 48 33 31 43 36 28 27 26 22 23 20 21 61 19 18 70 66 76 67\n",
      " 73 88 95 77 68 75 63 80 62 65 72 82 64 71 69 78 85 79 83 81 74 17 87 91\n",
      " 86 98 94 84 92 89]\n",
      "job 12 ['housemaid' 'services' 'admin.' 'blue-collar' 'technician' 'retired'\n",
      " 'management' 'unemployed' 'self-employed' 'unknown' 'entrepreneur'\n",
      " 'student']\n",
      "marital 4 ['married' 'single' 'divorced' 'unknown']\n",
      "education 8 ['basic.4y' 'high.school' 'basic.6y' 'basic.9y' 'professional.course'\n",
      " 'unknown' 'university.degree' 'illiterate']\n",
      "default 3 ['no' 'unknown' 'yes']\n",
      "housing 3 ['no' 'yes' 'unknown']\n",
      "loan 3 ['no' 'yes' 'unknown']\n",
      "contact 2 ['telephone' 'cellular']\n",
      "month 10 ['may' 'jun' 'jul' 'aug' 'oct' 'nov' 'dec' 'mar' 'apr' 'sep']\n",
      "day_of_week 5 ['mon' 'tue' 'wed' 'thu' 'fri']\n",
      "duration 1544 [ 261  149  226 ... 1246 1556 1868]\n",
      "campaign 42 [ 1  2  3  4  5  6  7  8  9 10 11 12 13 19 18 23 14 22 25 16 17 15 20 56\n",
      " 39 35 42 28 26 27 32 21 24 29 31 30 41 37 40 33 34 43]\n",
      "pdays 27 [999   6   4   3   5   1   0  10   7   8   9  11   2  12  13  14  15  16\n",
      "  21  17  18  22  25  26  19  27  20]\n",
      "previous 8 [0 1 2 3 4 5 6 7]\n",
      "poutcome 3 ['nonexistent' 'failure' 'success']\n",
      "emp.var.rate 10 [ 1.1  1.4 -0.1 -0.2 -1.8 -2.9 -3.4 -3.  -1.7 -1.1]\n",
      "cons.price.idx 26 [93.994 94.465 93.918 93.444 93.798 93.2   92.756 92.843 93.075 92.893\n",
      " 92.963 92.469 92.201 92.379 92.431 92.649 92.713 93.369 93.749 93.876\n",
      " 94.055 94.215 94.027 94.199 94.601 94.767]\n",
      "cons.conf.idx 26 [-36.4 -41.8 -42.7 -36.1 -40.4 -42.  -45.9 -50.  -47.1 -46.2 -40.8 -33.6\n",
      " -31.4 -29.8 -26.9 -30.1 -33.  -34.8 -34.6 -40.  -39.8 -40.3 -38.3 -37.5\n",
      " -49.5 -50.8]\n",
      "euribor3m 316 [4.857 4.856 4.855 4.859 4.86  4.858 4.864 4.865 4.866 4.967 4.961 4.959\n",
      " 4.958 4.96  4.962 4.955 4.947 4.956 4.966 4.963 4.957 4.968 4.97  4.965\n",
      " 4.964 5.045 5.    4.936 4.921 4.918 4.912 4.827 4.794 4.76  4.733 4.7\n",
      " 4.663 4.592 4.474 4.406 4.343 4.286 4.245 4.223 4.191 4.153 4.12  4.076\n",
      " 4.021 3.901 3.879 3.853 3.816 3.743 3.669 3.563 3.488 3.428 3.329 3.282\n",
      " 3.053 1.811 1.799 1.778 1.757 1.726 1.703 1.687 1.663 1.65  1.64  1.629\n",
      " 1.614 1.602 1.584 1.574 1.56  1.556 1.548 1.538 1.531 1.52  1.51  1.498\n",
      " 1.483 1.479 1.466 1.453 1.445 1.435 1.423 1.415 1.41  1.405 1.406 1.4\n",
      " 1.392 1.384 1.372 1.365 1.354 1.344 1.334 1.327 1.313 1.299 1.291 1.281\n",
      " 1.266 1.25  1.244 1.259 1.264 1.27  1.262 1.26  1.268 1.286 1.252 1.235\n",
      " 1.224 1.215 1.206 1.099 1.085 1.072 1.059 1.048 1.044 1.029 1.018 1.007\n",
      " 0.996 0.979 0.969 0.944 0.937 0.933 0.927 0.921 0.914 0.908 0.903 0.899\n",
      " 0.884 0.883 0.881 0.879 0.873 0.869 0.861 0.859 0.854 0.851 0.849 0.843\n",
      " 0.838 0.834 0.829 0.825 0.821 0.819 0.813 0.809 0.803 0.797 0.788 0.781\n",
      " 0.778 0.773 0.771 0.77  0.768 0.766 0.762 0.755 0.749 0.743 0.741 0.739\n",
      " 0.75  0.753 0.754 0.752 0.744 0.74  0.742 0.737 0.735 0.733 0.73  0.731\n",
      " 0.728 0.724 0.722 0.72  0.719 0.716 0.715 0.714 0.718 0.721 0.717 0.712\n",
      " 0.71  0.709 0.708 0.706 0.707 0.7   0.655 0.654 0.653 0.652 0.651 0.65\n",
      " 0.649 0.646 0.644 0.643 0.639 0.637 0.635 0.636 0.634 0.638 0.64  0.642\n",
      " 0.645 0.659 0.663 0.668 0.672 0.677 0.682 0.683 0.684 0.685 0.688 0.69\n",
      " 0.692 0.695 0.697 0.699 0.701 0.702 0.704 0.711 0.713 0.723 0.727 0.729\n",
      " 0.732 0.748 0.761 0.767 0.782 0.79  0.793 0.802 0.81  0.822 0.827 0.835\n",
      " 0.84  0.846 0.87  0.876 0.885 0.889 0.893 0.896 0.898 0.9   0.904 0.905\n",
      " 0.895 0.894 0.891 0.89  0.888 0.886 0.882 0.88  0.878 0.877 0.942 0.953\n",
      " 0.956 0.959 0.965 0.972 0.977 0.982 0.985 0.987 0.993 1.    1.008 1.016\n",
      " 1.025 1.032 1.037 1.043 1.045 1.047 1.05  1.049 1.046 1.041 1.04  1.039\n",
      " 1.035 1.03  1.031 1.028]\n",
      "nr.employed 11 [5191.  5228.1 5195.8 5176.3 5099.1 5076.2 5017.5 5023.5 5008.7 4991.6\n",
      " 4963.6]\n",
      "y 2 ['no' 'yes']\n"
     ]
    }
   ],
   "source": []
  },
  {
   "cell_type": "code",
   "execution_count": 7,
   "metadata": {},
   "outputs": [
    {
     "data": {
      "text/plain": [
       "Index(['age', 'job', 'marital', 'education', 'default', 'housing', 'loan',\n",
       "       'contact', 'month', 'day_of_week', 'duration', 'campaign', 'pdays',\n",
       "       'previous', 'poutcome', 'emp.var.rate', 'cons.price.idx',\n",
       "       'cons.conf.idx', 'euribor3m', 'nr.employed', 'y'],\n",
       "      dtype='object')"
      ]
     },
     "execution_count": 7,
     "metadata": {},
     "output_type": "execute_result"
    }
   ],
   "source": [
    "bank.columns"
   ]
  },
  {
   "cell_type": "code",
   "execution_count": 8,
   "metadata": {},
   "outputs": [
    {
     "data": {
      "text/html": [
       "<div>\n",
       "<style scoped>\n",
       "    .dataframe tbody tr th:only-of-type {\n",
       "        vertical-align: middle;\n",
       "    }\n",
       "\n",
       "    .dataframe tbody tr th {\n",
       "        vertical-align: top;\n",
       "    }\n",
       "\n",
       "    .dataframe thead th {\n",
       "        text-align: right;\n",
       "    }\n",
       "</style>\n",
       "<table border=\"1\" class=\"dataframe\">\n",
       "  <thead>\n",
       "    <tr style=\"text-align: right;\">\n",
       "      <th></th>\n",
       "      <th>age</th>\n",
       "      <th>duration</th>\n",
       "      <th>campaign</th>\n",
       "      <th>pdays</th>\n",
       "      <th>previous</th>\n",
       "      <th>emp.var.rate</th>\n",
       "      <th>cons.price.idx</th>\n",
       "      <th>cons.conf.idx</th>\n",
       "      <th>euribor3m</th>\n",
       "      <th>nr.employed</th>\n",
       "    </tr>\n",
       "  </thead>\n",
       "  <tbody>\n",
       "    <tr>\n",
       "      <th>count</th>\n",
       "      <td>41188.00000</td>\n",
       "      <td>41188.000000</td>\n",
       "      <td>41188.000000</td>\n",
       "      <td>41188.000000</td>\n",
       "      <td>41188.000000</td>\n",
       "      <td>41188.000000</td>\n",
       "      <td>41188.000000</td>\n",
       "      <td>41188.000000</td>\n",
       "      <td>41188.000000</td>\n",
       "      <td>41188.000000</td>\n",
       "    </tr>\n",
       "    <tr>\n",
       "      <th>mean</th>\n",
       "      <td>40.02406</td>\n",
       "      <td>258.285010</td>\n",
       "      <td>2.567593</td>\n",
       "      <td>962.475454</td>\n",
       "      <td>0.172963</td>\n",
       "      <td>0.081886</td>\n",
       "      <td>93.575664</td>\n",
       "      <td>-40.502600</td>\n",
       "      <td>3.621291</td>\n",
       "      <td>5167.035911</td>\n",
       "    </tr>\n",
       "    <tr>\n",
       "      <th>std</th>\n",
       "      <td>10.42125</td>\n",
       "      <td>259.279249</td>\n",
       "      <td>2.770014</td>\n",
       "      <td>186.910907</td>\n",
       "      <td>0.494901</td>\n",
       "      <td>1.570960</td>\n",
       "      <td>0.578840</td>\n",
       "      <td>4.628198</td>\n",
       "      <td>1.734447</td>\n",
       "      <td>72.251528</td>\n",
       "    </tr>\n",
       "    <tr>\n",
       "      <th>min</th>\n",
       "      <td>17.00000</td>\n",
       "      <td>0.000000</td>\n",
       "      <td>1.000000</td>\n",
       "      <td>0.000000</td>\n",
       "      <td>0.000000</td>\n",
       "      <td>-3.400000</td>\n",
       "      <td>92.201000</td>\n",
       "      <td>-50.800000</td>\n",
       "      <td>0.634000</td>\n",
       "      <td>4963.600000</td>\n",
       "    </tr>\n",
       "    <tr>\n",
       "      <th>25%</th>\n",
       "      <td>32.00000</td>\n",
       "      <td>102.000000</td>\n",
       "      <td>1.000000</td>\n",
       "      <td>999.000000</td>\n",
       "      <td>0.000000</td>\n",
       "      <td>-1.800000</td>\n",
       "      <td>93.075000</td>\n",
       "      <td>-42.700000</td>\n",
       "      <td>1.344000</td>\n",
       "      <td>5099.100000</td>\n",
       "    </tr>\n",
       "    <tr>\n",
       "      <th>50%</th>\n",
       "      <td>38.00000</td>\n",
       "      <td>180.000000</td>\n",
       "      <td>2.000000</td>\n",
       "      <td>999.000000</td>\n",
       "      <td>0.000000</td>\n",
       "      <td>1.100000</td>\n",
       "      <td>93.749000</td>\n",
       "      <td>-41.800000</td>\n",
       "      <td>4.857000</td>\n",
       "      <td>5191.000000</td>\n",
       "    </tr>\n",
       "    <tr>\n",
       "      <th>75%</th>\n",
       "      <td>47.00000</td>\n",
       "      <td>319.000000</td>\n",
       "      <td>3.000000</td>\n",
       "      <td>999.000000</td>\n",
       "      <td>0.000000</td>\n",
       "      <td>1.400000</td>\n",
       "      <td>93.994000</td>\n",
       "      <td>-36.400000</td>\n",
       "      <td>4.961000</td>\n",
       "      <td>5228.100000</td>\n",
       "    </tr>\n",
       "    <tr>\n",
       "      <th>max</th>\n",
       "      <td>98.00000</td>\n",
       "      <td>4918.000000</td>\n",
       "      <td>56.000000</td>\n",
       "      <td>999.000000</td>\n",
       "      <td>7.000000</td>\n",
       "      <td>1.400000</td>\n",
       "      <td>94.767000</td>\n",
       "      <td>-26.900000</td>\n",
       "      <td>5.045000</td>\n",
       "      <td>5228.100000</td>\n",
       "    </tr>\n",
       "  </tbody>\n",
       "</table>\n",
       "</div>"
      ],
      "text/plain": [
       "               age      duration      campaign         pdays      previous  \\\n",
       "count  41188.00000  41188.000000  41188.000000  41188.000000  41188.000000   \n",
       "mean      40.02406    258.285010      2.567593    962.475454      0.172963   \n",
       "std       10.42125    259.279249      2.770014    186.910907      0.494901   \n",
       "min       17.00000      0.000000      1.000000      0.000000      0.000000   \n",
       "25%       32.00000    102.000000      1.000000    999.000000      0.000000   \n",
       "50%       38.00000    180.000000      2.000000    999.000000      0.000000   \n",
       "75%       47.00000    319.000000      3.000000    999.000000      0.000000   \n",
       "max       98.00000   4918.000000     56.000000    999.000000      7.000000   \n",
       "\n",
       "       emp.var.rate  cons.price.idx  cons.conf.idx     euribor3m   nr.employed  \n",
       "count  41188.000000    41188.000000   41188.000000  41188.000000  41188.000000  \n",
       "mean       0.081886       93.575664     -40.502600      3.621291   5167.035911  \n",
       "std        1.570960        0.578840       4.628198      1.734447     72.251528  \n",
       "min       -3.400000       92.201000     -50.800000      0.634000   4963.600000  \n",
       "25%       -1.800000       93.075000     -42.700000      1.344000   5099.100000  \n",
       "50%        1.100000       93.749000     -41.800000      4.857000   5191.000000  \n",
       "75%        1.400000       93.994000     -36.400000      4.961000   5228.100000  \n",
       "max        1.400000       94.767000     -26.900000      5.045000   5228.100000  "
      ]
     },
     "execution_count": 8,
     "metadata": {},
     "output_type": "execute_result"
    }
   ],
   "source": [
    "bank.describe()"
   ]
  },
  {
   "cell_type": "code",
   "execution_count": 25,
   "metadata": {},
   "outputs": [],
   "source": [
    "bank_cust = bank[\n",
    "            ['job', 'marital', 'education', 'default', 'housing', 'loan','contact','month','day_of_week','poutcome',\n",
    "            'age','duration','euribor3m', 'y'] ]"
   ]
  },
  {
   "cell_type": "code",
   "execution_count": 26,
   "metadata": {},
   "outputs": [
    {
     "data": {
      "text/html": [
       "<div>\n",
       "<style scoped>\n",
       "    .dataframe tbody tr th:only-of-type {\n",
       "        vertical-align: middle;\n",
       "    }\n",
       "\n",
       "    .dataframe tbody tr th {\n",
       "        vertical-align: top;\n",
       "    }\n",
       "\n",
       "    .dataframe thead th {\n",
       "        text-align: right;\n",
       "    }\n",
       "</style>\n",
       "<table border=\"1\" class=\"dataframe\">\n",
       "  <thead>\n",
       "    <tr style=\"text-align: right;\">\n",
       "      <th></th>\n",
       "      <th>job</th>\n",
       "      <th>marital</th>\n",
       "      <th>education</th>\n",
       "      <th>default</th>\n",
       "      <th>housing</th>\n",
       "      <th>loan</th>\n",
       "      <th>contact</th>\n",
       "      <th>month</th>\n",
       "      <th>day_of_week</th>\n",
       "      <th>poutcome</th>\n",
       "      <th>age</th>\n",
       "      <th>duration</th>\n",
       "      <th>euribor3m</th>\n",
       "      <th>y</th>\n",
       "    </tr>\n",
       "  </thead>\n",
       "  <tbody>\n",
       "    <tr>\n",
       "      <th>0</th>\n",
       "      <td>housemaid</td>\n",
       "      <td>married</td>\n",
       "      <td>basic.4y</td>\n",
       "      <td>no</td>\n",
       "      <td>no</td>\n",
       "      <td>no</td>\n",
       "      <td>telephone</td>\n",
       "      <td>may</td>\n",
       "      <td>mon</td>\n",
       "      <td>nonexistent</td>\n",
       "      <td>56</td>\n",
       "      <td>261</td>\n",
       "      <td>4.857</td>\n",
       "      <td>no</td>\n",
       "    </tr>\n",
       "    <tr>\n",
       "      <th>1</th>\n",
       "      <td>services</td>\n",
       "      <td>married</td>\n",
       "      <td>high.school</td>\n",
       "      <td>unknown</td>\n",
       "      <td>no</td>\n",
       "      <td>no</td>\n",
       "      <td>telephone</td>\n",
       "      <td>may</td>\n",
       "      <td>mon</td>\n",
       "      <td>nonexistent</td>\n",
       "      <td>57</td>\n",
       "      <td>149</td>\n",
       "      <td>4.857</td>\n",
       "      <td>no</td>\n",
       "    </tr>\n",
       "    <tr>\n",
       "      <th>2</th>\n",
       "      <td>services</td>\n",
       "      <td>married</td>\n",
       "      <td>high.school</td>\n",
       "      <td>no</td>\n",
       "      <td>yes</td>\n",
       "      <td>no</td>\n",
       "      <td>telephone</td>\n",
       "      <td>may</td>\n",
       "      <td>mon</td>\n",
       "      <td>nonexistent</td>\n",
       "      <td>37</td>\n",
       "      <td>226</td>\n",
       "      <td>4.857</td>\n",
       "      <td>no</td>\n",
       "    </tr>\n",
       "    <tr>\n",
       "      <th>3</th>\n",
       "      <td>admin.</td>\n",
       "      <td>married</td>\n",
       "      <td>basic.6y</td>\n",
       "      <td>no</td>\n",
       "      <td>no</td>\n",
       "      <td>no</td>\n",
       "      <td>telephone</td>\n",
       "      <td>may</td>\n",
       "      <td>mon</td>\n",
       "      <td>nonexistent</td>\n",
       "      <td>40</td>\n",
       "      <td>151</td>\n",
       "      <td>4.857</td>\n",
       "      <td>no</td>\n",
       "    </tr>\n",
       "    <tr>\n",
       "      <th>4</th>\n",
       "      <td>services</td>\n",
       "      <td>married</td>\n",
       "      <td>high.school</td>\n",
       "      <td>no</td>\n",
       "      <td>no</td>\n",
       "      <td>yes</td>\n",
       "      <td>telephone</td>\n",
       "      <td>may</td>\n",
       "      <td>mon</td>\n",
       "      <td>nonexistent</td>\n",
       "      <td>56</td>\n",
       "      <td>307</td>\n",
       "      <td>4.857</td>\n",
       "      <td>no</td>\n",
       "    </tr>\n",
       "  </tbody>\n",
       "</table>\n",
       "</div>"
      ],
      "text/plain": [
       "         job  marital    education  default housing loan    contact month  \\\n",
       "0  housemaid  married     basic.4y       no      no   no  telephone   may   \n",
       "1   services  married  high.school  unknown      no   no  telephone   may   \n",
       "2   services  married  high.school       no     yes   no  telephone   may   \n",
       "3     admin.  married     basic.6y       no      no   no  telephone   may   \n",
       "4   services  married  high.school       no      no  yes  telephone   may   \n",
       "\n",
       "  day_of_week     poutcome  age  duration  euribor3m   y  \n",
       "0         mon  nonexistent   56       261      4.857  no  \n",
       "1         mon  nonexistent   57       149      4.857  no  \n",
       "2         mon  nonexistent   37       226      4.857  no  \n",
       "3         mon  nonexistent   40       151      4.857  no  \n",
       "4         mon  nonexistent   56       307      4.857  no  "
      ]
     },
     "execution_count": 26,
     "metadata": {},
     "output_type": "execute_result"
    }
   ],
   "source": [
    "bank_cust.head()"
   ]
  },
  {
   "cell_type": "raw",
   "metadata": {},
   "source": [
    "bank_cust['age_bin'] = pd.cut(bank_cust['age'], [0, 20, 30, 40, 50, 60, 70, 80, 90, 100], \n",
    "                              labels=['0-20', '20-30', '30-40', '40-50','50-60','60-70','70-80', '80-90','90-100'])"
   ]
  },
  {
   "cell_type": "code",
   "execution_count": 11,
   "metadata": {},
   "outputs": [
    {
     "data": {
      "text/html": [
       "<div>\n",
       "<style scoped>\n",
       "    .dataframe tbody tr th:only-of-type {\n",
       "        vertical-align: middle;\n",
       "    }\n",
       "\n",
       "    .dataframe tbody tr th {\n",
       "        vertical-align: top;\n",
       "    }\n",
       "\n",
       "    .dataframe thead th {\n",
       "        text-align: right;\n",
       "    }\n",
       "</style>\n",
       "<table border=\"1\" class=\"dataframe\">\n",
       "  <thead>\n",
       "    <tr style=\"text-align: right;\">\n",
       "      <th></th>\n",
       "      <th>job</th>\n",
       "      <th>marital</th>\n",
       "      <th>education</th>\n",
       "      <th>default</th>\n",
       "      <th>housing</th>\n",
       "      <th>loan</th>\n",
       "      <th>contact</th>\n",
       "      <th>month</th>\n",
       "      <th>day_of_week</th>\n",
       "      <th>poutcome</th>\n",
       "      <th>age</th>\n",
       "      <th>duration</th>\n",
       "      <th>euribor3m</th>\n",
       "    </tr>\n",
       "  </thead>\n",
       "  <tbody>\n",
       "    <tr>\n",
       "      <th>0</th>\n",
       "      <td>housemaid</td>\n",
       "      <td>married</td>\n",
       "      <td>basic.4y</td>\n",
       "      <td>no</td>\n",
       "      <td>no</td>\n",
       "      <td>no</td>\n",
       "      <td>telephone</td>\n",
       "      <td>may</td>\n",
       "      <td>mon</td>\n",
       "      <td>nonexistent</td>\n",
       "      <td>56</td>\n",
       "      <td>261</td>\n",
       "      <td>4.857</td>\n",
       "    </tr>\n",
       "    <tr>\n",
       "      <th>1</th>\n",
       "      <td>services</td>\n",
       "      <td>married</td>\n",
       "      <td>high.school</td>\n",
       "      <td>unknown</td>\n",
       "      <td>no</td>\n",
       "      <td>no</td>\n",
       "      <td>telephone</td>\n",
       "      <td>may</td>\n",
       "      <td>mon</td>\n",
       "      <td>nonexistent</td>\n",
       "      <td>57</td>\n",
       "      <td>149</td>\n",
       "      <td>4.857</td>\n",
       "    </tr>\n",
       "    <tr>\n",
       "      <th>2</th>\n",
       "      <td>services</td>\n",
       "      <td>married</td>\n",
       "      <td>high.school</td>\n",
       "      <td>no</td>\n",
       "      <td>yes</td>\n",
       "      <td>no</td>\n",
       "      <td>telephone</td>\n",
       "      <td>may</td>\n",
       "      <td>mon</td>\n",
       "      <td>nonexistent</td>\n",
       "      <td>37</td>\n",
       "      <td>226</td>\n",
       "      <td>4.857</td>\n",
       "    </tr>\n",
       "    <tr>\n",
       "      <th>3</th>\n",
       "      <td>admin.</td>\n",
       "      <td>married</td>\n",
       "      <td>basic.6y</td>\n",
       "      <td>no</td>\n",
       "      <td>no</td>\n",
       "      <td>no</td>\n",
       "      <td>telephone</td>\n",
       "      <td>may</td>\n",
       "      <td>mon</td>\n",
       "      <td>nonexistent</td>\n",
       "      <td>40</td>\n",
       "      <td>151</td>\n",
       "      <td>4.857</td>\n",
       "    </tr>\n",
       "    <tr>\n",
       "      <th>4</th>\n",
       "      <td>services</td>\n",
       "      <td>married</td>\n",
       "      <td>high.school</td>\n",
       "      <td>no</td>\n",
       "      <td>no</td>\n",
       "      <td>yes</td>\n",
       "      <td>telephone</td>\n",
       "      <td>may</td>\n",
       "      <td>mon</td>\n",
       "      <td>nonexistent</td>\n",
       "      <td>56</td>\n",
       "      <td>307</td>\n",
       "      <td>4.857</td>\n",
       "    </tr>\n",
       "  </tbody>\n",
       "</table>\n",
       "</div>"
      ],
      "text/plain": [
       "         job  marital    education  default housing loan    contact month  \\\n",
       "0  housemaid  married     basic.4y       no      no   no  telephone   may   \n",
       "1   services  married  high.school  unknown      no   no  telephone   may   \n",
       "2   services  married  high.school       no     yes   no  telephone   may   \n",
       "3     admin.  married     basic.6y       no      no   no  telephone   may   \n",
       "4   services  married  high.school       no      no  yes  telephone   may   \n",
       "\n",
       "  day_of_week     poutcome  age  duration  euribor3m  \n",
       "0         mon  nonexistent   56       261      4.857  \n",
       "1         mon  nonexistent   57       149      4.857  \n",
       "2         mon  nonexistent   37       226      4.857  \n",
       "3         mon  nonexistent   40       151      4.857  \n",
       "4         mon  nonexistent   56       307      4.857  "
      ]
     },
     "execution_count": 11,
     "metadata": {},
     "output_type": "execute_result"
    }
   ],
   "source": [
    "bank_cust.head()"
   ]
  },
  {
   "cell_type": "raw",
   "metadata": {},
   "source": [
    "bank_cust  = bank_cust.drop('age',axis = 1)"
   ]
  },
  {
   "cell_type": "code",
   "execution_count": 12,
   "metadata": {},
   "outputs": [
    {
     "data": {
      "text/html": [
       "<div>\n",
       "<style scoped>\n",
       "    .dataframe tbody tr th:only-of-type {\n",
       "        vertical-align: middle;\n",
       "    }\n",
       "\n",
       "    .dataframe tbody tr th {\n",
       "        vertical-align: top;\n",
       "    }\n",
       "\n",
       "    .dataframe thead th {\n",
       "        text-align: right;\n",
       "    }\n",
       "</style>\n",
       "<table border=\"1\" class=\"dataframe\">\n",
       "  <thead>\n",
       "    <tr style=\"text-align: right;\">\n",
       "      <th></th>\n",
       "      <th>job</th>\n",
       "      <th>marital</th>\n",
       "      <th>education</th>\n",
       "      <th>default</th>\n",
       "      <th>housing</th>\n",
       "      <th>loan</th>\n",
       "      <th>contact</th>\n",
       "      <th>month</th>\n",
       "      <th>day_of_week</th>\n",
       "      <th>poutcome</th>\n",
       "      <th>age</th>\n",
       "      <th>duration</th>\n",
       "      <th>euribor3m</th>\n",
       "    </tr>\n",
       "  </thead>\n",
       "  <tbody>\n",
       "    <tr>\n",
       "      <th>0</th>\n",
       "      <td>housemaid</td>\n",
       "      <td>married</td>\n",
       "      <td>basic.4y</td>\n",
       "      <td>no</td>\n",
       "      <td>no</td>\n",
       "      <td>no</td>\n",
       "      <td>telephone</td>\n",
       "      <td>may</td>\n",
       "      <td>mon</td>\n",
       "      <td>nonexistent</td>\n",
       "      <td>56</td>\n",
       "      <td>261</td>\n",
       "      <td>4.857</td>\n",
       "    </tr>\n",
       "    <tr>\n",
       "      <th>1</th>\n",
       "      <td>services</td>\n",
       "      <td>married</td>\n",
       "      <td>high.school</td>\n",
       "      <td>unknown</td>\n",
       "      <td>no</td>\n",
       "      <td>no</td>\n",
       "      <td>telephone</td>\n",
       "      <td>may</td>\n",
       "      <td>mon</td>\n",
       "      <td>nonexistent</td>\n",
       "      <td>57</td>\n",
       "      <td>149</td>\n",
       "      <td>4.857</td>\n",
       "    </tr>\n",
       "    <tr>\n",
       "      <th>2</th>\n",
       "      <td>services</td>\n",
       "      <td>married</td>\n",
       "      <td>high.school</td>\n",
       "      <td>no</td>\n",
       "      <td>yes</td>\n",
       "      <td>no</td>\n",
       "      <td>telephone</td>\n",
       "      <td>may</td>\n",
       "      <td>mon</td>\n",
       "      <td>nonexistent</td>\n",
       "      <td>37</td>\n",
       "      <td>226</td>\n",
       "      <td>4.857</td>\n",
       "    </tr>\n",
       "    <tr>\n",
       "      <th>3</th>\n",
       "      <td>admin.</td>\n",
       "      <td>married</td>\n",
       "      <td>basic.6y</td>\n",
       "      <td>no</td>\n",
       "      <td>no</td>\n",
       "      <td>no</td>\n",
       "      <td>telephone</td>\n",
       "      <td>may</td>\n",
       "      <td>mon</td>\n",
       "      <td>nonexistent</td>\n",
       "      <td>40</td>\n",
       "      <td>151</td>\n",
       "      <td>4.857</td>\n",
       "    </tr>\n",
       "    <tr>\n",
       "      <th>4</th>\n",
       "      <td>services</td>\n",
       "      <td>married</td>\n",
       "      <td>high.school</td>\n",
       "      <td>no</td>\n",
       "      <td>no</td>\n",
       "      <td>yes</td>\n",
       "      <td>telephone</td>\n",
       "      <td>may</td>\n",
       "      <td>mon</td>\n",
       "      <td>nonexistent</td>\n",
       "      <td>56</td>\n",
       "      <td>307</td>\n",
       "      <td>4.857</td>\n",
       "    </tr>\n",
       "  </tbody>\n",
       "</table>\n",
       "</div>"
      ],
      "text/plain": [
       "         job  marital    education  default housing loan    contact month  \\\n",
       "0  housemaid  married     basic.4y       no      no   no  telephone   may   \n",
       "1   services  married  high.school  unknown      no   no  telephone   may   \n",
       "2   services  married  high.school       no     yes   no  telephone   may   \n",
       "3     admin.  married     basic.6y       no      no   no  telephone   may   \n",
       "4   services  married  high.school       no      no  yes  telephone   may   \n",
       "\n",
       "  day_of_week     poutcome  age  duration  euribor3m  \n",
       "0         mon  nonexistent   56       261      4.857  \n",
       "1         mon  nonexistent   57       149      4.857  \n",
       "2         mon  nonexistent   37       226      4.857  \n",
       "3         mon  nonexistent   40       151      4.857  \n",
       "4         mon  nonexistent   56       307      4.857  "
      ]
     },
     "execution_count": 12,
     "metadata": {},
     "output_type": "execute_result"
    }
   ],
   "source": [
    "bank_cust.head()"
   ]
  },
  {
   "cell_type": "code",
   "execution_count": 13,
   "metadata": {},
   "outputs": [
    {
     "name": "stdout",
     "output_type": "stream",
     "text": [
      "<class 'pandas.core.frame.DataFrame'>\n",
      "RangeIndex: 41188 entries, 0 to 41187\n",
      "Data columns (total 13 columns):\n",
      "job            41188 non-null object\n",
      "marital        41188 non-null object\n",
      "education      41188 non-null object\n",
      "default        41188 non-null object\n",
      "housing        41188 non-null object\n",
      "loan           41188 non-null object\n",
      "contact        41188 non-null object\n",
      "month          41188 non-null object\n",
      "day_of_week    41188 non-null object\n",
      "poutcome       41188 non-null object\n",
      "age            41188 non-null int64\n",
      "duration       41188 non-null int64\n",
      "euribor3m      41188 non-null float64\n",
      "dtypes: float64(1), int64(2), object(10)\n",
      "memory usage: 4.1+ MB\n"
     ]
    }
   ],
   "source": [
    "bank_cust.info()"
   ]
  },
  {
   "cell_type": "code",
   "execution_count": 27,
   "metadata": {},
   "outputs": [
    {
     "data": {
      "text/html": [
       "<div>\n",
       "<style scoped>\n",
       "    .dataframe tbody tr th:only-of-type {\n",
       "        vertical-align: middle;\n",
       "    }\n",
       "\n",
       "    .dataframe tbody tr th {\n",
       "        vertical-align: top;\n",
       "    }\n",
       "\n",
       "    .dataframe thead th {\n",
       "        text-align: right;\n",
       "    }\n",
       "</style>\n",
       "<table border=\"1\" class=\"dataframe\">\n",
       "  <thead>\n",
       "    <tr style=\"text-align: right;\">\n",
       "      <th></th>\n",
       "      <th>job</th>\n",
       "      <th>marital</th>\n",
       "      <th>education</th>\n",
       "      <th>default</th>\n",
       "      <th>housing</th>\n",
       "      <th>loan</th>\n",
       "      <th>contact</th>\n",
       "      <th>month</th>\n",
       "      <th>day_of_week</th>\n",
       "      <th>poutcome</th>\n",
       "      <th>age</th>\n",
       "      <th>duration</th>\n",
       "      <th>euribor3m</th>\n",
       "      <th>y</th>\n",
       "    </tr>\n",
       "  </thead>\n",
       "  <tbody>\n",
       "    <tr>\n",
       "      <th>0</th>\n",
       "      <td>3</td>\n",
       "      <td>1</td>\n",
       "      <td>0</td>\n",
       "      <td>0</td>\n",
       "      <td>0</td>\n",
       "      <td>0</td>\n",
       "      <td>1</td>\n",
       "      <td>6</td>\n",
       "      <td>1</td>\n",
       "      <td>1</td>\n",
       "      <td>56</td>\n",
       "      <td>261</td>\n",
       "      <td>4.857</td>\n",
       "      <td>0</td>\n",
       "    </tr>\n",
       "    <tr>\n",
       "      <th>1</th>\n",
       "      <td>7</td>\n",
       "      <td>1</td>\n",
       "      <td>3</td>\n",
       "      <td>1</td>\n",
       "      <td>0</td>\n",
       "      <td>0</td>\n",
       "      <td>1</td>\n",
       "      <td>6</td>\n",
       "      <td>1</td>\n",
       "      <td>1</td>\n",
       "      <td>57</td>\n",
       "      <td>149</td>\n",
       "      <td>4.857</td>\n",
       "      <td>0</td>\n",
       "    </tr>\n",
       "    <tr>\n",
       "      <th>2</th>\n",
       "      <td>7</td>\n",
       "      <td>1</td>\n",
       "      <td>3</td>\n",
       "      <td>0</td>\n",
       "      <td>2</td>\n",
       "      <td>0</td>\n",
       "      <td>1</td>\n",
       "      <td>6</td>\n",
       "      <td>1</td>\n",
       "      <td>1</td>\n",
       "      <td>37</td>\n",
       "      <td>226</td>\n",
       "      <td>4.857</td>\n",
       "      <td>0</td>\n",
       "    </tr>\n",
       "    <tr>\n",
       "      <th>3</th>\n",
       "      <td>0</td>\n",
       "      <td>1</td>\n",
       "      <td>1</td>\n",
       "      <td>0</td>\n",
       "      <td>0</td>\n",
       "      <td>0</td>\n",
       "      <td>1</td>\n",
       "      <td>6</td>\n",
       "      <td>1</td>\n",
       "      <td>1</td>\n",
       "      <td>40</td>\n",
       "      <td>151</td>\n",
       "      <td>4.857</td>\n",
       "      <td>0</td>\n",
       "    </tr>\n",
       "    <tr>\n",
       "      <th>4</th>\n",
       "      <td>7</td>\n",
       "      <td>1</td>\n",
       "      <td>3</td>\n",
       "      <td>0</td>\n",
       "      <td>0</td>\n",
       "      <td>2</td>\n",
       "      <td>1</td>\n",
       "      <td>6</td>\n",
       "      <td>1</td>\n",
       "      <td>1</td>\n",
       "      <td>56</td>\n",
       "      <td>307</td>\n",
       "      <td>4.857</td>\n",
       "      <td>0</td>\n",
       "    </tr>\n",
       "  </tbody>\n",
       "</table>\n",
       "</div>"
      ],
      "text/plain": [
       "   job  marital  education  default  housing  loan  contact  month  \\\n",
       "0    3        1          0        0        0     0        1      6   \n",
       "1    7        1          3        1        0     0        1      6   \n",
       "2    7        1          3        0        2     0        1      6   \n",
       "3    0        1          1        0        0     0        1      6   \n",
       "4    7        1          3        0        0     2        1      6   \n",
       "\n",
       "   day_of_week  poutcome  age  duration  euribor3m  y  \n",
       "0            1         1   56       261      4.857  0  \n",
       "1            1         1   57       149      4.857  0  \n",
       "2            1         1   37       226      4.857  0  \n",
       "3            1         1   40       151      4.857  0  \n",
       "4            1         1   56       307      4.857  0  "
      ]
     },
     "execution_count": 27,
     "metadata": {},
     "output_type": "execute_result"
    }
   ],
   "source": [
    "from sklearn import preprocessing\n",
    "le = preprocessing.LabelEncoder()\n",
    "catVar = ['job', 'marital', 'education', 'default', 'housing', 'loan','contact','month','day_of_week','poutcome','y']\n",
    "\n",
    "bank_cust[catVar] = bank_cust[catVar].apply(le.fit_transform)\n",
    "bank_cust.head()"
   ]
  },
  {
   "cell_type": "code",
   "execution_count": 20,
   "metadata": {},
   "outputs": [
    {
     "data": {
      "text/html": [
       "<div>\n",
       "<style scoped>\n",
       "    .dataframe tbody tr th:only-of-type {\n",
       "        vertical-align: middle;\n",
       "    }\n",
       "\n",
       "    .dataframe tbody tr th {\n",
       "        vertical-align: top;\n",
       "    }\n",
       "\n",
       "    .dataframe thead th {\n",
       "        text-align: right;\n",
       "    }\n",
       "</style>\n",
       "<table border=\"1\" class=\"dataframe\">\n",
       "  <thead>\n",
       "    <tr style=\"text-align: right;\">\n",
       "      <th></th>\n",
       "      <th>job</th>\n",
       "      <th>marital</th>\n",
       "      <th>education</th>\n",
       "      <th>default</th>\n",
       "      <th>housing</th>\n",
       "      <th>loan</th>\n",
       "      <th>contact</th>\n",
       "      <th>month</th>\n",
       "      <th>day_of_week</th>\n",
       "      <th>poutcome</th>\n",
       "      <th>age</th>\n",
       "      <th>duration</th>\n",
       "      <th>euribor3m</th>\n",
       "    </tr>\n",
       "  </thead>\n",
       "  <tbody>\n",
       "    <tr>\n",
       "      <th>0</th>\n",
       "      <td>-0.201579</td>\n",
       "      <td>-0.283741</td>\n",
       "      <td>-1.753925</td>\n",
       "      <td>-0.513600</td>\n",
       "      <td>-1.087707</td>\n",
       "      <td>-0.452491</td>\n",
       "      <td>1.31827</td>\n",
       "      <td>0.762558</td>\n",
       "      <td>-0.718834</td>\n",
       "      <td>0.192622</td>\n",
       "      <td>1.533034</td>\n",
       "      <td>0.010471</td>\n",
       "      <td>0.71246</td>\n",
       "    </tr>\n",
       "    <tr>\n",
       "      <th>1</th>\n",
       "      <td>0.911227</td>\n",
       "      <td>-0.283741</td>\n",
       "      <td>-0.349730</td>\n",
       "      <td>1.945327</td>\n",
       "      <td>-1.087707</td>\n",
       "      <td>-0.452491</td>\n",
       "      <td>1.31827</td>\n",
       "      <td>0.762558</td>\n",
       "      <td>-0.718834</td>\n",
       "      <td>0.192622</td>\n",
       "      <td>1.628993</td>\n",
       "      <td>-0.421501</td>\n",
       "      <td>0.71246</td>\n",
       "    </tr>\n",
       "    <tr>\n",
       "      <th>2</th>\n",
       "      <td>0.911227</td>\n",
       "      <td>-0.283741</td>\n",
       "      <td>-0.349730</td>\n",
       "      <td>-0.513600</td>\n",
       "      <td>0.942127</td>\n",
       "      <td>-0.452491</td>\n",
       "      <td>1.31827</td>\n",
       "      <td>0.762558</td>\n",
       "      <td>-0.718834</td>\n",
       "      <td>0.192622</td>\n",
       "      <td>-0.290186</td>\n",
       "      <td>-0.124520</td>\n",
       "      <td>0.71246</td>\n",
       "    </tr>\n",
       "    <tr>\n",
       "      <th>3</th>\n",
       "      <td>-1.036184</td>\n",
       "      <td>-0.283741</td>\n",
       "      <td>-1.285860</td>\n",
       "      <td>-0.513600</td>\n",
       "      <td>-1.087707</td>\n",
       "      <td>-0.452491</td>\n",
       "      <td>1.31827</td>\n",
       "      <td>0.762558</td>\n",
       "      <td>-0.718834</td>\n",
       "      <td>0.192622</td>\n",
       "      <td>-0.002309</td>\n",
       "      <td>-0.413787</td>\n",
       "      <td>0.71246</td>\n",
       "    </tr>\n",
       "    <tr>\n",
       "      <th>4</th>\n",
       "      <td>0.911227</td>\n",
       "      <td>-0.283741</td>\n",
       "      <td>-0.349730</td>\n",
       "      <td>-0.513600</td>\n",
       "      <td>-1.087707</td>\n",
       "      <td>2.311440</td>\n",
       "      <td>1.31827</td>\n",
       "      <td>0.762558</td>\n",
       "      <td>-0.718834</td>\n",
       "      <td>0.192622</td>\n",
       "      <td>1.533034</td>\n",
       "      <td>0.187888</td>\n",
       "      <td>0.71246</td>\n",
       "    </tr>\n",
       "  </tbody>\n",
       "</table>\n",
       "</div>"
      ],
      "text/plain": [
       "        job   marital  education   default   housing      loan  contact  \\\n",
       "0 -0.201579 -0.283741  -1.753925 -0.513600 -1.087707 -0.452491  1.31827   \n",
       "1  0.911227 -0.283741  -0.349730  1.945327 -1.087707 -0.452491  1.31827   \n",
       "2  0.911227 -0.283741  -0.349730 -0.513600  0.942127 -0.452491  1.31827   \n",
       "3 -1.036184 -0.283741  -1.285860 -0.513600 -1.087707 -0.452491  1.31827   \n",
       "4  0.911227 -0.283741  -0.349730 -0.513600 -1.087707  2.311440  1.31827   \n",
       "\n",
       "      month  day_of_week  poutcome       age  duration  euribor3m  \n",
       "0  0.762558    -0.718834  0.192622  1.533034  0.010471    0.71246  \n",
       "1  0.762558    -0.718834  0.192622  1.628993 -0.421501    0.71246  \n",
       "2  0.762558    -0.718834  0.192622 -0.290186 -0.124520    0.71246  \n",
       "3  0.762558    -0.718834  0.192622 -0.002309 -0.413787    0.71246  \n",
       "4  0.762558    -0.718834  0.192622  1.533034  0.187888    0.71246  "
      ]
     },
     "execution_count": 20,
     "metadata": {},
     "output_type": "execute_result"
    }
   ],
   "source": [
    "bank_cust.head()"
   ]
  },
  {
   "cell_type": "code",
   "execution_count": 28,
   "metadata": {},
   "outputs": [],
   "source": [
    "#Standardize All Columns\n",
    "\n",
    "#columns_to_normalize     = ['age','duration','euribor3m']\n",
    "\n",
    "#bank_cust[columns_to_normalize] = bank_cust[columns_to_normalize].apply(lambda x: (x-x.mean())/  np.std(x))\n",
    "bank_cust = bank_cust.apply(lambda x: (x-x.mean())/  np.std(x))\n"
   ]
  },
  {
   "cell_type": "code",
   "execution_count": 16,
   "metadata": {},
   "outputs": [],
   "source": [
    "# Converting the dataset into matrix\n",
    "bank_matrix = bank_cust.as_matrix()"
   ]
  },
  {
   "cell_type": "code",
   "execution_count": 29,
   "metadata": {},
   "outputs": [
    {
     "data": {
      "text/html": [
       "<div>\n",
       "<style scoped>\n",
       "    .dataframe tbody tr th:only-of-type {\n",
       "        vertical-align: middle;\n",
       "    }\n",
       "\n",
       "    .dataframe tbody tr th {\n",
       "        vertical-align: top;\n",
       "    }\n",
       "\n",
       "    .dataframe thead th {\n",
       "        text-align: right;\n",
       "    }\n",
       "</style>\n",
       "<table border=\"1\" class=\"dataframe\">\n",
       "  <thead>\n",
       "    <tr style=\"text-align: right;\">\n",
       "      <th></th>\n",
       "      <th>job</th>\n",
       "      <th>marital</th>\n",
       "      <th>education</th>\n",
       "      <th>default</th>\n",
       "      <th>housing</th>\n",
       "      <th>loan</th>\n",
       "      <th>contact</th>\n",
       "      <th>month</th>\n",
       "      <th>day_of_week</th>\n",
       "      <th>poutcome</th>\n",
       "      <th>age</th>\n",
       "      <th>duration</th>\n",
       "      <th>euribor3m</th>\n",
       "      <th>y</th>\n",
       "    </tr>\n",
       "  </thead>\n",
       "  <tbody>\n",
       "    <tr>\n",
       "      <th>0</th>\n",
       "      <td>-0.201579</td>\n",
       "      <td>-0.283741</td>\n",
       "      <td>-1.753925</td>\n",
       "      <td>-0.513600</td>\n",
       "      <td>-1.087707</td>\n",
       "      <td>-0.452491</td>\n",
       "      <td>1.31827</td>\n",
       "      <td>0.762558</td>\n",
       "      <td>-0.718834</td>\n",
       "      <td>0.192622</td>\n",
       "      <td>1.533034</td>\n",
       "      <td>0.010471</td>\n",
       "      <td>0.71246</td>\n",
       "      <td>-0.356309</td>\n",
       "    </tr>\n",
       "    <tr>\n",
       "      <th>1</th>\n",
       "      <td>0.911227</td>\n",
       "      <td>-0.283741</td>\n",
       "      <td>-0.349730</td>\n",
       "      <td>1.945327</td>\n",
       "      <td>-1.087707</td>\n",
       "      <td>-0.452491</td>\n",
       "      <td>1.31827</td>\n",
       "      <td>0.762558</td>\n",
       "      <td>-0.718834</td>\n",
       "      <td>0.192622</td>\n",
       "      <td>1.628993</td>\n",
       "      <td>-0.421501</td>\n",
       "      <td>0.71246</td>\n",
       "      <td>-0.356309</td>\n",
       "    </tr>\n",
       "    <tr>\n",
       "      <th>2</th>\n",
       "      <td>0.911227</td>\n",
       "      <td>-0.283741</td>\n",
       "      <td>-0.349730</td>\n",
       "      <td>-0.513600</td>\n",
       "      <td>0.942127</td>\n",
       "      <td>-0.452491</td>\n",
       "      <td>1.31827</td>\n",
       "      <td>0.762558</td>\n",
       "      <td>-0.718834</td>\n",
       "      <td>0.192622</td>\n",
       "      <td>-0.290186</td>\n",
       "      <td>-0.124520</td>\n",
       "      <td>0.71246</td>\n",
       "      <td>-0.356309</td>\n",
       "    </tr>\n",
       "    <tr>\n",
       "      <th>3</th>\n",
       "      <td>-1.036184</td>\n",
       "      <td>-0.283741</td>\n",
       "      <td>-1.285860</td>\n",
       "      <td>-0.513600</td>\n",
       "      <td>-1.087707</td>\n",
       "      <td>-0.452491</td>\n",
       "      <td>1.31827</td>\n",
       "      <td>0.762558</td>\n",
       "      <td>-0.718834</td>\n",
       "      <td>0.192622</td>\n",
       "      <td>-0.002309</td>\n",
       "      <td>-0.413787</td>\n",
       "      <td>0.71246</td>\n",
       "      <td>-0.356309</td>\n",
       "    </tr>\n",
       "    <tr>\n",
       "      <th>4</th>\n",
       "      <td>0.911227</td>\n",
       "      <td>-0.283741</td>\n",
       "      <td>-0.349730</td>\n",
       "      <td>-0.513600</td>\n",
       "      <td>-1.087707</td>\n",
       "      <td>2.311440</td>\n",
       "      <td>1.31827</td>\n",
       "      <td>0.762558</td>\n",
       "      <td>-0.718834</td>\n",
       "      <td>0.192622</td>\n",
       "      <td>1.533034</td>\n",
       "      <td>0.187888</td>\n",
       "      <td>0.71246</td>\n",
       "      <td>-0.356309</td>\n",
       "    </tr>\n",
       "  </tbody>\n",
       "</table>\n",
       "</div>"
      ],
      "text/plain": [
       "        job   marital  education   default   housing      loan  contact  \\\n",
       "0 -0.201579 -0.283741  -1.753925 -0.513600 -1.087707 -0.452491  1.31827   \n",
       "1  0.911227 -0.283741  -0.349730  1.945327 -1.087707 -0.452491  1.31827   \n",
       "2  0.911227 -0.283741  -0.349730 -0.513600  0.942127 -0.452491  1.31827   \n",
       "3 -1.036184 -0.283741  -1.285860 -0.513600 -1.087707 -0.452491  1.31827   \n",
       "4  0.911227 -0.283741  -0.349730 -0.513600 -1.087707  2.311440  1.31827   \n",
       "\n",
       "      month  day_of_week  poutcome       age  duration  euribor3m         y  \n",
       "0  0.762558    -0.718834  0.192622  1.533034  0.010471    0.71246 -0.356309  \n",
       "1  0.762558    -0.718834  0.192622  1.628993 -0.421501    0.71246 -0.356309  \n",
       "2  0.762558    -0.718834  0.192622 -0.290186 -0.124520    0.71246 -0.356309  \n",
       "3  0.762558    -0.718834  0.192622 -0.002309 -0.413787    0.71246 -0.356309  \n",
       "4  0.762558    -0.718834  0.192622  1.533034  0.187888    0.71246 -0.356309  "
      ]
     },
     "execution_count": 29,
     "metadata": {},
     "output_type": "execute_result"
    }
   ],
   "source": [
    "bank_cust.head()"
   ]
  },
  {
   "cell_type": "code",
   "execution_count": 18,
   "metadata": {},
   "outputs": [],
   "source": [
    "from kmodes.kprototypes import KPrototypes"
   ]
  },
  {
   "cell_type": "code",
   "execution_count": 31,
   "metadata": {},
   "outputs": [],
   "source": [
    "# Running K-Prototype clustering\n",
    "kproto = KPrototypes(n_clusters=5, init='Cao')\n",
    "clusters = kproto.fit_predict(bank_matrix, categorical=[12])"
   ]
  },
  {
   "cell_type": "code",
   "execution_count": 32,
   "metadata": {},
   "outputs": [
    {
     "data": {
      "text/plain": [
       "[array([[-4.93059659e-02, -7.13421397e-02, -4.05108728e-02,\n",
       "         -5.13599691e-01, -1.27497212e-01, -1.13487023e-02,\n",
       "          1.31806678e+00,  3.96418399e-01, -2.15005924e-02,\n",
       "          2.12301935e-01, -9.80049050e-02, -4.66394095e-02],\n",
       "        [ 1.96048071e-01,  8.24504342e-01,  4.70934667e-01,\n",
       "         -4.67019312e-01,  9.57578265e-02,  1.55334006e-02,\n",
       "         -7.06987752e-01, -3.03825288e-01,  7.68221535e-02,\n",
       "          3.77941487e-01, -7.72848424e-01,  5.99936445e-02],\n",
       "        [-9.44936243e-02, -6.30161356e-01, -1.16678219e-01,\n",
       "         -5.13599691e-01,  4.56953461e-02,  1.38649323e-03,\n",
       "         -7.39610523e-01, -2.38808247e-01, -2.10526896e-02,\n",
       "          3.71384276e-01,  5.98673880e-01,  2.60779397e-02],\n",
       "        [ 3.67077250e-03,  5.92328336e-02,  2.39032175e-02,\n",
       "         -2.23152440e-01,  6.33956620e-02,  4.24678024e-03,\n",
       "         -6.17268315e-01,  3.07287879e-01, -4.80955626e-02,\n",
       "         -2.56309793e+00, -1.25553130e-02, -3.95561054e-02],\n",
       "        [-6.24433627e-02, -1.87939533e-01, -3.88322031e-01,\n",
       "          1.94625815e+00, -3.79340367e-02, -7.88866126e-03,\n",
       "          3.46455720e-01, -3.06119948e-02, -1.39614821e-02,\n",
       "          2.05843961e-01,  3.56604293e-01, -2.12982661e-02]]),\n",
       " array([[ 0.71245988],\n",
       "        [ 0.77357519],\n",
       "        [ 0.77299863],\n",
       "        [-1.27782354],\n",
       "        [ 0.71245988]])]"
      ]
     },
     "execution_count": 32,
     "metadata": {},
     "output_type": "execute_result"
    }
   ],
   "source": [
    "kproto.cluster_centroids_"
   ]
  },
  {
   "cell_type": "code",
   "execution_count": 33,
   "metadata": {},
   "outputs": [
    {
     "data": {
      "text/plain": [
       "384980.93797823344"
      ]
     },
     "execution_count": 33,
     "metadata": {},
     "output_type": "execute_result"
    }
   ],
   "source": [
    "kproto.cost_"
   ]
  },
  {
   "cell_type": "code",
   "execution_count": 34,
   "metadata": {},
   "outputs": [],
   "source": [
    "# Adding the predicted clusters to the main dataset\n",
    "bank_cust['cluster_id'] = clusters"
   ]
  },
  {
   "cell_type": "code",
   "execution_count": 35,
   "metadata": {},
   "outputs": [
    {
     "data": {
      "text/html": [
       "<div>\n",
       "<style scoped>\n",
       "    .dataframe tbody tr th:only-of-type {\n",
       "        vertical-align: middle;\n",
       "    }\n",
       "\n",
       "    .dataframe tbody tr th {\n",
       "        vertical-align: top;\n",
       "    }\n",
       "\n",
       "    .dataframe thead th {\n",
       "        text-align: right;\n",
       "    }\n",
       "</style>\n",
       "<table border=\"1\" class=\"dataframe\">\n",
       "  <thead>\n",
       "    <tr style=\"text-align: right;\">\n",
       "      <th></th>\n",
       "      <th>cluster_id</th>\n",
       "    </tr>\n",
       "  </thead>\n",
       "  <tbody>\n",
       "    <tr>\n",
       "      <th>0</th>\n",
       "      <td>10222</td>\n",
       "    </tr>\n",
       "    <tr>\n",
       "      <th>1</th>\n",
       "      <td>9502</td>\n",
       "    </tr>\n",
       "    <tr>\n",
       "      <th>2</th>\n",
       "      <td>9311</td>\n",
       "    </tr>\n",
       "    <tr>\n",
       "      <th>4</th>\n",
       "      <td>7920</td>\n",
       "    </tr>\n",
       "    <tr>\n",
       "      <th>3</th>\n",
       "      <td>4233</td>\n",
       "    </tr>\n",
       "  </tbody>\n",
       "</table>\n",
       "</div>"
      ],
      "text/plain": [
       "   cluster_id\n",
       "0       10222\n",
       "1        9502\n",
       "2        9311\n",
       "4        7920\n",
       "3        4233"
      ]
     },
     "execution_count": 35,
     "metadata": {},
     "output_type": "execute_result"
    }
   ],
   "source": [
    "bankdf = pd.DataFrame(bank_cust['cluster_id'].value_counts())\n",
    "bankdf"
   ]
  },
  {
   "cell_type": "code",
   "execution_count": 36,
   "metadata": {},
   "outputs": [
    {
     "data": {
      "text/plain": [
       "<matplotlib.axes._subplots.AxesSubplot at 0x2223914b0b8>"
      ]
     },
     "execution_count": 36,
     "metadata": {},
     "output_type": "execute_result"
    },
    {
     "data": {
      "image/png": "[encoded data removed]",
      "text/plain": [
       "<Figure size 432x288 with 1 Axes>"
      ]
     },
     "metadata": {
      "needs_background": "light"
     },
     "output_type": "display_data"
    }
   ],
   "source": [
    "sns.barplot(x=bankdf.index, y=bankdf['cluster_id'],)"
   ]
  },
  {
   "cell_type": "code",
   "execution_count": 39,
   "metadata": {},
   "outputs": [
    {
     "data": {
      "text/plain": [
       "[<matplotlib.lines.Line2D at 0x22237a68320>]"
      ]
     },
     "execution_count": 39,
     "metadata": {},
     "output_type": "execute_result"
    },
    {
     "data": {
      "image/png": "[encoded data removed]",
      "text/plain": [
       "<Figure size 432x288 with 1 Axes>"
      ]
     },
     "metadata": {
      "needs_background": "light"
     },
     "output_type": "display_data"
    }
   ],
   "source": [
    "#Choosing optimal K\n",
    "cost = []\n",
    "for num_clusters in list(range(1,8)):\n",
    "    kproto = KPrototypes(n_clusters=num_clusters, init='Cao')\n",
    "    kproto.fit_predict(bank_matrix, categorical=[12])\n",
    "    kproto.cost_\n",
    "    cost.append(kproto.cost_)\n",
    "    \n",
    "plt.plot(cost)"
   ]
  },
  {
   "cell_type": "code",
   "execution_count": null,
   "metadata": {},
   "outputs": [],
   "source": []
  },
  {
   "cell_type": "code",
   "execution_count": 14,
   "metadata": {},
   "outputs": [
    {
     "data": {
      "text/html": [
       "<div>\n",
       "<style scoped>\n",
       "    .dataframe tbody tr th:only-of-type {\n",
       "        vertical-align: middle;\n",
       "    }\n",
       "\n",
       "    .dataframe tbody tr th {\n",
       "        vertical-align: top;\n",
       "    }\n",
       "\n",
       "    .dataframe thead th {\n",
       "        text-align: right;\n",
       "    }\n",
       "</style>\n",
       "<table border=\"1\" class=\"dataframe\">\n",
       "  <thead>\n",
       "    <tr style=\"text-align: right;\">\n",
       "      <th></th>\n",
       "      <th>job</th>\n",
       "      <th>marital</th>\n",
       "      <th>education</th>\n",
       "      <th>default</th>\n",
       "      <th>housing</th>\n",
       "      <th>loan</th>\n",
       "      <th>contact</th>\n",
       "      <th>month</th>\n",
       "      <th>day_of_week</th>\n",
       "      <th>poutcome</th>\n",
       "      <th>age</th>\n",
       "      <th>duration</th>\n",
       "      <th>euribor3m</th>\n",
       "    </tr>\n",
       "  </thead>\n",
       "  <tbody>\n",
       "    <tr>\n",
       "      <th>0</th>\n",
       "      <td>-0.201579</td>\n",
       "      <td>-0.283741</td>\n",
       "      <td>-1.753925</td>\n",
       "      <td>-0.513600</td>\n",
       "      <td>-1.087707</td>\n",
       "      <td>-0.452491</td>\n",
       "      <td>1.31827</td>\n",
       "      <td>0.762558</td>\n",
       "      <td>-0.718834</td>\n",
       "      <td>0.192622</td>\n",
       "      <td>1.533034</td>\n",
       "      <td>0.010471</td>\n",
       "      <td>0.71246</td>\n",
       "    </tr>\n",
       "    <tr>\n",
       "      <th>1</th>\n",
       "      <td>0.911227</td>\n",
       "      <td>-0.283741</td>\n",
       "      <td>-0.349730</td>\n",
       "      <td>1.945327</td>\n",
       "      <td>-1.087707</td>\n",
       "      <td>-0.452491</td>\n",
       "      <td>1.31827</td>\n",
       "      <td>0.762558</td>\n",
       "      <td>-0.718834</td>\n",
       "      <td>0.192622</td>\n",
       "      <td>1.628993</td>\n",
       "      <td>-0.421501</td>\n",
       "      <td>0.71246</td>\n",
       "    </tr>\n",
       "    <tr>\n",
       "      <th>2</th>\n",
       "      <td>0.911227</td>\n",
       "      <td>-0.283741</td>\n",
       "      <td>-0.349730</td>\n",
       "      <td>-0.513600</td>\n",
       "      <td>0.942127</td>\n",
       "      <td>-0.452491</td>\n",
       "      <td>1.31827</td>\n",
       "      <td>0.762558</td>\n",
       "      <td>-0.718834</td>\n",
       "      <td>0.192622</td>\n",
       "      <td>-0.290186</td>\n",
       "      <td>-0.124520</td>\n",
       "      <td>0.71246</td>\n",
       "    </tr>\n",
       "    <tr>\n",
       "      <th>3</th>\n",
       "      <td>-1.036184</td>\n",
       "      <td>-0.283741</td>\n",
       "      <td>-1.285860</td>\n",
       "      <td>-0.513600</td>\n",
       "      <td>-1.087707</td>\n",
       "      <td>-0.452491</td>\n",
       "      <td>1.31827</td>\n",
       "      <td>0.762558</td>\n",
       "      <td>-0.718834</td>\n",
       "      <td>0.192622</td>\n",
       "      <td>-0.002309</td>\n",
       "      <td>-0.413787</td>\n",
       "      <td>0.71246</td>\n",
       "    </tr>\n",
       "    <tr>\n",
       "      <th>4</th>\n",
       "      <td>0.911227</td>\n",
       "      <td>-0.283741</td>\n",
       "      <td>-0.349730</td>\n",
       "      <td>-0.513600</td>\n",
       "      <td>-1.087707</td>\n",
       "      <td>2.311440</td>\n",
       "      <td>1.31827</td>\n",
       "      <td>0.762558</td>\n",
       "      <td>-0.718834</td>\n",
       "      <td>0.192622</td>\n",
       "      <td>1.533034</td>\n",
       "      <td>0.187888</td>\n",
       "      <td>0.71246</td>\n",
       "    </tr>\n",
       "  </tbody>\n",
       "</table>\n",
       "</div>"
      ],
      "text/plain": [
       "        job   marital  education   default   housing      loan  contact  \\\n",
       "0 -0.201579 -0.283741  -1.753925 -0.513600 -1.087707 -0.452491  1.31827   \n",
       "1  0.911227 -0.283741  -0.349730  1.945327 -1.087707 -0.452491  1.31827   \n",
       "2  0.911227 -0.283741  -0.349730 -0.513600  0.942127 -0.452491  1.31827   \n",
       "3 -1.036184 -0.283741  -1.285860 -0.513600 -1.087707 -0.452491  1.31827   \n",
       "4  0.911227 -0.283741  -0.349730 -0.513600 -1.087707  2.311440  1.31827   \n",
       "\n",
       "      month  day_of_week  poutcome       age  duration  euribor3m  \n",
       "0  0.762558    -0.718834  0.192622  1.533034  0.010471    0.71246  \n",
       "1  0.762558    -0.718834  0.192622  1.628993 -0.421501    0.71246  \n",
       "2  0.762558    -0.718834  0.192622 -0.290186 -0.124520    0.71246  \n",
       "3  0.762558    -0.718834  0.192622 -0.002309 -0.413787    0.71246  \n",
       "4  0.762558    -0.718834  0.192622  1.533034  0.187888    0.71246  "
      ]
     },
     "execution_count": 14,
     "metadata": {},
     "output_type": "execute_result"
    }
   ],
   "source": [
    "bank_cust.head()"
   ]
  },
  {
   "cell_type": "code",
   "execution_count": 15,
   "metadata": {},
   "outputs": [],
   "source": [
    "# Checking the count per category\n",
    "job_df = pd.DataFrame(bank_cust['job'].value_counts())"
   ]
  },
  {
   "cell_type": "code",
   "execution_count": 16,
   "metadata": {},
   "outputs": [
    {
     "data": {
      "text/plain": [
       "<matplotlib.axes._subplots.AxesSubplot at 0x1d90e0d94a8>"
      ]
     },
     "execution_count": 16,
     "metadata": {},
     "output_type": "execute_result"
    },
    {
     "data": {
      "image/png": "[encoded data removed]",
      "text/plain": [
       "<Figure size 432x288 with 1 Axes>"
      ]
     },
     "metadata": {
      "needs_background": "light"
     },
     "output_type": "display_data"
    }
   ],
   "source": [
    "sns.barplot(x=job_df.index, y=job_df['job'])"
   ]
  },
  {
   "cell_type": "code",
   "execution_count": 17,
   "metadata": {},
   "outputs": [
    {
     "data": {
      "text/html": [
       "<div>\n",
       "<style scoped>\n",
       "    .dataframe tbody tr th:only-of-type {\n",
       "        vertical-align: middle;\n",
       "    }\n",
       "\n",
       "    .dataframe tbody tr th {\n",
       "        vertical-align: top;\n",
       "    }\n",
       "\n",
       "    .dataframe thead th {\n",
       "        text-align: right;\n",
       "    }\n",
       "</style>\n",
       "<table border=\"1\" class=\"dataframe\">\n",
       "  <thead>\n",
       "    <tr style=\"text-align: right;\">\n",
       "      <th></th>\n",
       "      <th>job</th>\n",
       "    </tr>\n",
       "  </thead>\n",
       "  <tbody>\n",
       "    <tr>\n",
       "      <th>-1.036184</th>\n",
       "      <td>10422</td>\n",
       "    </tr>\n",
       "    <tr>\n",
       "      <th>-0.757982</th>\n",
       "      <td>9254</td>\n",
       "    </tr>\n",
       "    <tr>\n",
       "      <th>1.467630</th>\n",
       "      <td>6743</td>\n",
       "    </tr>\n",
       "    <tr>\n",
       "      <th>0.911227</th>\n",
       "      <td>3969</td>\n",
       "    </tr>\n",
       "    <tr>\n",
       "      <th>0.076622</th>\n",
       "      <td>2924</td>\n",
       "    </tr>\n",
       "  </tbody>\n",
       "</table>\n",
       "</div>"
      ],
      "text/plain": [
       "             job\n",
       "-1.036184  10422\n",
       "-0.757982   9254\n",
       " 1.467630   6743\n",
       " 0.911227   3969\n",
       " 0.076622   2924"
      ]
     },
     "execution_count": 17,
     "metadata": {},
     "output_type": "execute_result"
    }
   ],
   "source": [
    "job_df.head(5)"
   ]
  },
  {
   "cell_type": "raw",
   "metadata": {},
   "source": [
    "# Checking the count per category\n",
    "age_df = pd.DataFrame(bank_cust['age_bin'].value_counts())"
   ]
  },
  {
   "cell_type": "raw",
   "metadata": {
    "scrolled": true
   },
   "source": [
    "sns.barplot(x=age_df.index, y=age_df['age_bin'])"
   ]
  },
  {
   "cell_type": "markdown",
   "metadata": {},
   "source": [
    "## Using K-Mode with \"Cao\" initialization"
   ]
  },
  {
   "cell_type": "code",
   "execution_count": 19,
   "metadata": {
    "scrolled": true
   },
   "outputs": [
    {
     "name": "stdout",
     "output_type": "stream",
     "text": [
      "Init: initializing centroids\n",
      "Init: initializing clusters\n",
      "Starting iterations...\n",
      "Run 1, iteration: 1/100, moves: 994, cost: 264535.0\n",
      "Run 1, iteration: 2/100, moves: 0, cost: 264535.0\n"
     ]
    }
   ],
   "source": [
    "km_cao = KModes(n_clusters=5, init = \"Cao\", n_init = 1, verbose=1)\n",
    "fitClusters_cao = km_cao.fit_predict(bank_cust)"
   ]
  },
  {
   "cell_type": "code",
   "execution_count": 20,
   "metadata": {},
   "outputs": [
    {
     "data": {
      "text/plain": [
       "array([4, 4, 4, ..., 0, 2, 0], dtype=uint16)"
      ]
     },
     "execution_count": 20,
     "metadata": {},
     "output_type": "execute_result"
    }
   ],
   "source": [
    "# Predicted Clusters\n",
    "fitClusters_cao"
   ]
  },
  {
   "cell_type": "code",
   "execution_count": 21,
   "metadata": {},
   "outputs": [
    {
     "data": {
      "text/html": [
       "<div>\n",
       "<style scoped>\n",
       "    .dataframe tbody tr th:only-of-type {\n",
       "        vertical-align: middle;\n",
       "    }\n",
       "\n",
       "    .dataframe tbody tr th {\n",
       "        vertical-align: top;\n",
       "    }\n",
       "\n",
       "    .dataframe thead th {\n",
       "        text-align: right;\n",
       "    }\n",
       "</style>\n",
       "<table border=\"1\" class=\"dataframe\">\n",
       "  <thead>\n",
       "    <tr style=\"text-align: right;\">\n",
       "      <th></th>\n",
       "      <th>0</th>\n",
       "      <th>1</th>\n",
       "      <th>2</th>\n",
       "      <th>3</th>\n",
       "      <th>4</th>\n",
       "      <th>5</th>\n",
       "      <th>6</th>\n",
       "      <th>7</th>\n",
       "      <th>8</th>\n",
       "      <th>9</th>\n",
       "      <th>10</th>\n",
       "      <th>11</th>\n",
       "      <th>12</th>\n",
       "    </tr>\n",
       "  </thead>\n",
       "  <tbody>\n",
       "    <tr>\n",
       "      <th>0</th>\n",
       "      <td>-1.036184</td>\n",
       "      <td>-0.283741</td>\n",
       "      <td>1.054464</td>\n",
       "      <td>-0.5136</td>\n",
       "      <td>0.942127</td>\n",
       "      <td>-0.452491</td>\n",
       "      <td>-0.75857</td>\n",
       "      <td>0.762558</td>\n",
       "      <td>-0.003301</td>\n",
       "      <td>0.192622</td>\n",
       "      <td>-0.674021</td>\n",
       "      <td>-0.587347</td>\n",
       "      <td>0.773575</td>\n",
       "    </tr>\n",
       "    <tr>\n",
       "      <th>1</th>\n",
       "      <td>-0.757982</td>\n",
       "      <td>1.358578</td>\n",
       "      <td>-0.349730</td>\n",
       "      <td>-0.5136</td>\n",
       "      <td>-1.087707</td>\n",
       "      <td>-0.452491</td>\n",
       "      <td>1.31827</td>\n",
       "      <td>-0.530547</td>\n",
       "      <td>-1.434368</td>\n",
       "      <td>0.192622</td>\n",
       "      <td>-0.386145</td>\n",
       "      <td>-0.568062</td>\n",
       "      <td>0.773575</td>\n",
       "    </tr>\n",
       "    <tr>\n",
       "      <th>2</th>\n",
       "      <td>1.467630</td>\n",
       "      <td>-0.283741</td>\n",
       "      <td>-0.349730</td>\n",
       "      <td>-0.5136</td>\n",
       "      <td>-1.087707</td>\n",
       "      <td>-0.452491</td>\n",
       "      <td>-0.75857</td>\n",
       "      <td>-1.392618</td>\n",
       "      <td>-0.718834</td>\n",
       "      <td>0.192622</td>\n",
       "      <td>-0.578062</td>\n",
       "      <td>-0.691483</td>\n",
       "      <td>0.774728</td>\n",
       "    </tr>\n",
       "    <tr>\n",
       "      <th>3</th>\n",
       "      <td>-0.757982</td>\n",
       "      <td>-0.283741</td>\n",
       "      <td>-0.817795</td>\n",
       "      <td>-0.5136</td>\n",
       "      <td>0.942127</td>\n",
       "      <td>-0.452491</td>\n",
       "      <td>1.31827</td>\n",
       "      <td>-0.099512</td>\n",
       "      <td>1.427767</td>\n",
       "      <td>0.192622</td>\n",
       "      <td>-0.865939</td>\n",
       "      <td>-0.676055</td>\n",
       "      <td>0.772999</td>\n",
       "    </tr>\n",
       "    <tr>\n",
       "      <th>4</th>\n",
       "      <td>0.911227</td>\n",
       "      <td>-0.283741</td>\n",
       "      <td>0.586399</td>\n",
       "      <td>-0.5136</td>\n",
       "      <td>-1.087707</td>\n",
       "      <td>-0.452491</td>\n",
       "      <td>1.31827</td>\n",
       "      <td>0.762558</td>\n",
       "      <td>0.712233</td>\n",
       "      <td>0.192622</td>\n",
       "      <td>-0.098268</td>\n",
       "      <td>-0.232513</td>\n",
       "      <td>0.712460</td>\n",
       "    </tr>\n",
       "  </tbody>\n",
       "</table>\n",
       "</div>"
      ],
      "text/plain": [
       "         0         1         2       3         4         5        6   \\\n",
       "0 -1.036184 -0.283741  1.054464 -0.5136  0.942127 -0.452491 -0.75857   \n",
       "1 -0.757982  1.358578 -0.349730 -0.5136 -1.087707 -0.452491  1.31827   \n",
       "2  1.467630 -0.283741 -0.349730 -0.5136 -1.087707 -0.452491 -0.75857   \n",
       "3 -0.757982 -0.283741 -0.817795 -0.5136  0.942127 -0.452491  1.31827   \n",
       "4  0.911227 -0.283741  0.586399 -0.5136 -1.087707 -0.452491  1.31827   \n",
       "\n",
       "         7         8         9         10        11        12  \n",
       "0  0.762558 -0.003301  0.192622 -0.674021 -0.587347  0.773575  \n",
       "1 -0.530547 -1.434368  0.192622 -0.386145 -0.568062  0.773575  \n",
       "2 -1.392618 -0.718834  0.192622 -0.578062 -0.691483  0.774728  \n",
       "3 -0.099512  1.427767  0.192622 -0.865939 -0.676055  0.772999  \n",
       "4  0.762558  0.712233  0.192622 -0.098268 -0.232513  0.712460  "
      ]
     },
     "execution_count": 21,
     "metadata": {},
     "output_type": "execute_result"
    }
   ],
   "source": [
    "pd.DataFrame(km_cao.cluster_centroids_)"
   ]
  },
  {
   "cell_type": "code",
   "execution_count": 22,
   "metadata": {},
   "outputs": [
    {
     "data": {
      "text/plain": [
       "Index(['job', 'marital', 'education', 'default', 'housing', 'loan', 'contact',\n",
       "       'month', 'day_of_week', 'poutcome', 'age', 'duration', 'euribor3m'],\n",
       "      dtype='object')"
      ]
     },
     "execution_count": 22,
     "metadata": {},
     "output_type": "execute_result"
    }
   ],
   "source": [
    "bank_cust.columns"
   ]
  },
  {
   "cell_type": "code",
   "execution_count": 23,
   "metadata": {},
   "outputs": [],
   "source": [
    "clusterCentroidsDf = pd.DataFrame(km_cao.cluster_centroids_)\n",
    "clusterCentroidsDf.columns = bank_cust.columns"
   ]
  },
  {
   "cell_type": "code",
   "execution_count": 24,
   "metadata": {},
   "outputs": [
    {
     "data": {
      "text/html": [
       "<div>\n",
       "<style scoped>\n",
       "    .dataframe tbody tr th:only-of-type {\n",
       "        vertical-align: middle;\n",
       "    }\n",
       "\n",
       "    .dataframe tbody tr th {\n",
       "        vertical-align: top;\n",
       "    }\n",
       "\n",
       "    .dataframe thead th {\n",
       "        text-align: right;\n",
       "    }\n",
       "</style>\n",
       "<table border=\"1\" class=\"dataframe\">\n",
       "  <thead>\n",
       "    <tr style=\"text-align: right;\">\n",
       "      <th></th>\n",
       "      <th>job</th>\n",
       "      <th>marital</th>\n",
       "      <th>education</th>\n",
       "      <th>default</th>\n",
       "      <th>housing</th>\n",
       "      <th>loan</th>\n",
       "      <th>contact</th>\n",
       "      <th>month</th>\n",
       "      <th>day_of_week</th>\n",
       "      <th>poutcome</th>\n",
       "      <th>age</th>\n",
       "      <th>duration</th>\n",
       "      <th>euribor3m</th>\n",
       "    </tr>\n",
       "  </thead>\n",
       "  <tbody>\n",
       "    <tr>\n",
       "      <th>0</th>\n",
       "      <td>-1.036184</td>\n",
       "      <td>-0.283741</td>\n",
       "      <td>1.054464</td>\n",
       "      <td>-0.5136</td>\n",
       "      <td>0.942127</td>\n",
       "      <td>-0.452491</td>\n",
       "      <td>-0.75857</td>\n",
       "      <td>0.762558</td>\n",
       "      <td>-0.003301</td>\n",
       "      <td>0.192622</td>\n",
       "      <td>-0.674021</td>\n",
       "      <td>-0.587347</td>\n",
       "      <td>0.773575</td>\n",
       "    </tr>\n",
       "    <tr>\n",
       "      <th>1</th>\n",
       "      <td>-0.757982</td>\n",
       "      <td>1.358578</td>\n",
       "      <td>-0.349730</td>\n",
       "      <td>-0.5136</td>\n",
       "      <td>-1.087707</td>\n",
       "      <td>-0.452491</td>\n",
       "      <td>1.31827</td>\n",
       "      <td>-0.530547</td>\n",
       "      <td>-1.434368</td>\n",
       "      <td>0.192622</td>\n",
       "      <td>-0.386145</td>\n",
       "      <td>-0.568062</td>\n",
       "      <td>0.773575</td>\n",
       "    </tr>\n",
       "    <tr>\n",
       "      <th>2</th>\n",
       "      <td>1.467630</td>\n",
       "      <td>-0.283741</td>\n",
       "      <td>-0.349730</td>\n",
       "      <td>-0.5136</td>\n",
       "      <td>-1.087707</td>\n",
       "      <td>-0.452491</td>\n",
       "      <td>-0.75857</td>\n",
       "      <td>-1.392618</td>\n",
       "      <td>-0.718834</td>\n",
       "      <td>0.192622</td>\n",
       "      <td>-0.578062</td>\n",
       "      <td>-0.691483</td>\n",
       "      <td>0.774728</td>\n",
       "    </tr>\n",
       "    <tr>\n",
       "      <th>3</th>\n",
       "      <td>-0.757982</td>\n",
       "      <td>-0.283741</td>\n",
       "      <td>-0.817795</td>\n",
       "      <td>-0.5136</td>\n",
       "      <td>0.942127</td>\n",
       "      <td>-0.452491</td>\n",
       "      <td>1.31827</td>\n",
       "      <td>-0.099512</td>\n",
       "      <td>1.427767</td>\n",
       "      <td>0.192622</td>\n",
       "      <td>-0.865939</td>\n",
       "      <td>-0.676055</td>\n",
       "      <td>0.772999</td>\n",
       "    </tr>\n",
       "    <tr>\n",
       "      <th>4</th>\n",
       "      <td>0.911227</td>\n",
       "      <td>-0.283741</td>\n",
       "      <td>0.586399</td>\n",
       "      <td>-0.5136</td>\n",
       "      <td>-1.087707</td>\n",
       "      <td>-0.452491</td>\n",
       "      <td>1.31827</td>\n",
       "      <td>0.762558</td>\n",
       "      <td>0.712233</td>\n",
       "      <td>0.192622</td>\n",
       "      <td>-0.098268</td>\n",
       "      <td>-0.232513</td>\n",
       "      <td>0.712460</td>\n",
       "    </tr>\n",
       "  </tbody>\n",
       "</table>\n",
       "</div>"
      ],
      "text/plain": [
       "        job   marital  education  default   housing      loan  contact  \\\n",
       "0 -1.036184 -0.283741   1.054464  -0.5136  0.942127 -0.452491 -0.75857   \n",
       "1 -0.757982  1.358578  -0.349730  -0.5136 -1.087707 -0.452491  1.31827   \n",
       "2  1.467630 -0.283741  -0.349730  -0.5136 -1.087707 -0.452491 -0.75857   \n",
       "3 -0.757982 -0.283741  -0.817795  -0.5136  0.942127 -0.452491  1.31827   \n",
       "4  0.911227 -0.283741   0.586399  -0.5136 -1.087707 -0.452491  1.31827   \n",
       "\n",
       "      month  day_of_week  poutcome       age  duration  euribor3m  \n",
       "0  0.762558    -0.003301  0.192622 -0.674021 -0.587347   0.773575  \n",
       "1 -0.530547    -1.434368  0.192622 -0.386145 -0.568062   0.773575  \n",
       "2 -1.392618    -0.718834  0.192622 -0.578062 -0.691483   0.774728  \n",
       "3 -0.099512     1.427767  0.192622 -0.865939 -0.676055   0.772999  \n",
       "4  0.762558     0.712233  0.192622 -0.098268 -0.232513   0.712460  "
      ]
     },
     "execution_count": 24,
     "metadata": {},
     "output_type": "execute_result"
    }
   ],
   "source": [
    "# Mode of the clusters\n",
    "clusterCentroidsDf"
   ]
  },
  {
   "cell_type": "markdown",
   "metadata": {},
   "source": [
    "## Using K-Mode with \"Huang\" initialization"
   ]
  },
  {
   "cell_type": "code",
   "execution_count": 25,
   "metadata": {},
   "outputs": [
    {
     "name": "stdout",
     "output_type": "stream",
     "text": [
      "Init: initializing centroids\n",
      "Init: initializing clusters\n",
      "Starting iterations...\n",
      "Run 1, iteration: 1/100, moves: 12295, cost: 263184.0\n",
      "Run 1, iteration: 2/100, moves: 1301, cost: 263184.0\n"
     ]
    }
   ],
   "source": [
    "km_huang = KModes(n_clusters=5, init = \"Huang\", n_init = 1, verbose=1)\n",
    "fitClusters_huang = km_huang.fit_predict(bank_cust)"
   ]
  },
  {
   "cell_type": "code",
   "execution_count": 26,
   "metadata": {},
   "outputs": [
    {
     "data": {
      "text/plain": [
       "array([0, 0, 3, ..., 2, 2, 2], dtype=uint16)"
      ]
     },
     "execution_count": 26,
     "metadata": {},
     "output_type": "execute_result"
    }
   ],
   "source": [
    "# Predicted clusters\n",
    "fitClusters_huang"
   ]
  },
  {
   "cell_type": "code",
   "execution_count": 27,
   "metadata": {},
   "outputs": [],
   "source": [
    "clusterCentroidsDf = pd.DataFrame(km_huang.cluster_centroids_)\n",
    "clusterCentroidsDf.columns = bank_cust.columns"
   ]
  },
  {
   "cell_type": "code",
   "execution_count": 28,
   "metadata": {},
   "outputs": [
    {
     "data": {
      "text/html": [
       "<div>\n",
       "<style scoped>\n",
       "    .dataframe tbody tr th:only-of-type {\n",
       "        vertical-align: middle;\n",
       "    }\n",
       "\n",
       "    .dataframe tbody tr th {\n",
       "        vertical-align: top;\n",
       "    }\n",
       "\n",
       "    .dataframe thead th {\n",
       "        text-align: right;\n",
       "    }\n",
       "</style>\n",
       "<table border=\"1\" class=\"dataframe\">\n",
       "  <thead>\n",
       "    <tr style=\"text-align: right;\">\n",
       "      <th></th>\n",
       "      <th>job</th>\n",
       "      <th>marital</th>\n",
       "      <th>education</th>\n",
       "      <th>default</th>\n",
       "      <th>housing</th>\n",
       "      <th>loan</th>\n",
       "      <th>contact</th>\n",
       "      <th>month</th>\n",
       "      <th>day_of_week</th>\n",
       "      <th>poutcome</th>\n",
       "      <th>age</th>\n",
       "      <th>duration</th>\n",
       "      <th>euribor3m</th>\n",
       "    </tr>\n",
       "  </thead>\n",
       "  <tbody>\n",
       "    <tr>\n",
       "      <th>0</th>\n",
       "      <td>-0.757982</td>\n",
       "      <td>-0.283741</td>\n",
       "      <td>-0.349730</td>\n",
       "      <td>-0.5136</td>\n",
       "      <td>-1.087707</td>\n",
       "      <td>-0.452491</td>\n",
       "      <td>1.31827</td>\n",
       "      <td>-0.099512</td>\n",
       "      <td>-0.718834</td>\n",
       "      <td>0.192622</td>\n",
       "      <td>-0.386145</td>\n",
       "      <td>-0.641343</td>\n",
       "      <td>0.772422</td>\n",
       "    </tr>\n",
       "    <tr>\n",
       "      <th>1</th>\n",
       "      <td>-1.036184</td>\n",
       "      <td>1.358578</td>\n",
       "      <td>-0.349730</td>\n",
       "      <td>-0.5136</td>\n",
       "      <td>0.942127</td>\n",
       "      <td>-0.452491</td>\n",
       "      <td>-0.75857</td>\n",
       "      <td>-0.530547</td>\n",
       "      <td>-0.003301</td>\n",
       "      <td>0.192622</td>\n",
       "      <td>-1.057857</td>\n",
       "      <td>-0.649057</td>\n",
       "      <td>0.772999</td>\n",
       "    </tr>\n",
       "    <tr>\n",
       "      <th>2</th>\n",
       "      <td>-1.036184</td>\n",
       "      <td>-0.283741</td>\n",
       "      <td>1.054464</td>\n",
       "      <td>-0.5136</td>\n",
       "      <td>0.942127</td>\n",
       "      <td>-0.452491</td>\n",
       "      <td>-0.75857</td>\n",
       "      <td>0.762558</td>\n",
       "      <td>-1.434368</td>\n",
       "      <td>0.192622</td>\n",
       "      <td>-0.482104</td>\n",
       "      <td>-0.475497</td>\n",
       "      <td>0.773575</td>\n",
       "    </tr>\n",
       "    <tr>\n",
       "      <th>3</th>\n",
       "      <td>-0.757982</td>\n",
       "      <td>-0.283741</td>\n",
       "      <td>-0.817795</td>\n",
       "      <td>-0.5136</td>\n",
       "      <td>0.942127</td>\n",
       "      <td>-0.452491</td>\n",
       "      <td>1.31827</td>\n",
       "      <td>0.762558</td>\n",
       "      <td>1.427767</td>\n",
       "      <td>0.192622</td>\n",
       "      <td>0.477486</td>\n",
       "      <td>-0.251797</td>\n",
       "      <td>0.712460</td>\n",
       "    </tr>\n",
       "    <tr>\n",
       "      <th>4</th>\n",
       "      <td>1.467630</td>\n",
       "      <td>1.358578</td>\n",
       "      <td>0.586399</td>\n",
       "      <td>-0.5136</td>\n",
       "      <td>0.942127</td>\n",
       "      <td>-0.452491</td>\n",
       "      <td>-0.75857</td>\n",
       "      <td>-1.823653</td>\n",
       "      <td>1.427767</td>\n",
       "      <td>-2.563098</td>\n",
       "      <td>-0.865939</td>\n",
       "      <td>-0.706911</td>\n",
       "      <td>-1.277824</td>\n",
       "    </tr>\n",
       "  </tbody>\n",
       "</table>\n",
       "</div>"
      ],
      "text/plain": [
       "        job   marital  education  default   housing      loan  contact  \\\n",
       "0 -0.757982 -0.283741  -0.349730  -0.5136 -1.087707 -0.452491  1.31827   \n",
       "1 -1.036184  1.358578  -0.349730  -0.5136  0.942127 -0.452491 -0.75857   \n",
       "2 -1.036184 -0.283741   1.054464  -0.5136  0.942127 -0.452491 -0.75857   \n",
       "3 -0.757982 -0.283741  -0.817795  -0.5136  0.942127 -0.452491  1.31827   \n",
       "4  1.467630  1.358578   0.586399  -0.5136  0.942127 -0.452491 -0.75857   \n",
       "\n",
       "      month  day_of_week  poutcome       age  duration  euribor3m  \n",
       "0 -0.099512    -0.718834  0.192622 -0.386145 -0.641343   0.772422  \n",
       "1 -0.530547    -0.003301  0.192622 -1.057857 -0.649057   0.772999  \n",
       "2  0.762558    -1.434368  0.192622 -0.482104 -0.475497   0.773575  \n",
       "3  0.762558     1.427767  0.192622  0.477486 -0.251797   0.712460  \n",
       "4 -1.823653     1.427767 -2.563098 -0.865939 -0.706911  -1.277824  "
      ]
     },
     "execution_count": 28,
     "metadata": {},
     "output_type": "execute_result"
    }
   ],
   "source": [
    "# Mode of the clusters\n",
    "clusterCentroidsDf"
   ]
  },
  {
   "cell_type": "markdown",
   "metadata": {},
   "source": [
    "## Choosing K by comparing Cost against each K"
   ]
  },
  {
   "cell_type": "code",
   "execution_count": 29,
   "metadata": {},
   "outputs": [
    {
     "name": "stdout",
     "output_type": "stream",
     "text": [
      "Init: initializing centroids\n",
      "Init: initializing clusters\n",
      "Starting iterations...\n",
      "Run 1, iteration: 1/100, moves: 0, cost: 310728.0\n",
      "Init: initializing centroids\n",
      "Init: initializing clusters\n",
      "Starting iterations...\n",
      "Run 1, iteration: 1/100, moves: 7276, cost: 284302.0\n",
      "Run 1, iteration: 2/100, moves: 1057, cost: 284302.0\n",
      "Init: initializing centroids\n",
      "Init: initializing clusters\n",
      "Starting iterations...\n",
      "Run 1, iteration: 1/100, moves: 6717, cost: 273395.0\n",
      "Run 1, iteration: 2/100, moves: 1627, cost: 273395.0\n",
      "Init: initializing centroids\n",
      "Init: initializing clusters\n",
      "Starting iterations...\n",
      "Run 1, iteration: 1/100, moves: 4807, cost: 267820.0\n",
      "Run 1, iteration: 2/100, moves: 476, cost: 267820.0\n"
     ]
    }
   ],
   "source": [
    "cost = []\n",
    "for num_clusters in list(range(1,5)):\n",
    "    kmode = KModes(n_clusters=num_clusters, init = \"Cao\", n_init = 1, verbose=1)\n",
    "    kmode.fit_predict(bank_cust)\n",
    "    cost.append(kmode.cost_)"
   ]
  },
  {
   "cell_type": "code",
   "execution_count": 30,
   "metadata": {},
   "outputs": [
    {
     "data": {
      "text/plain": [
       "[<matplotlib.lines.Line2D at 0x1d90f938b38>]"
      ]
     },
     "execution_count": 30,
     "metadata": {},
     "output_type": "execute_result"
    },
    {
     "data": {
      "image/png": "[encoded data removed]",
      "text/plain": [
       "<Figure size 432x288 with 1 Axes>"
      ]
     },
     "metadata": {
      "needs_background": "light"
     },
     "output_type": "display_data"
    }
   ],
   "source": [
    "y = np.array([i for i in range(1,5,1)])\n",
    "plt.plot(y,cost)"
   ]
  },
  {
   "cell_type": "code",
   "execution_count": 31,
   "metadata": {},
   "outputs": [],
   "source": [
    "## Choosing K=2"
   ]
  },
  {
   "cell_type": "code",
   "execution_count": 32,
   "metadata": {},
   "outputs": [
    {
     "name": "stdout",
     "output_type": "stream",
     "text": [
      "Init: initializing centroids\n",
      "Init: initializing clusters\n",
      "Starting iterations...\n",
      "Run 1, iteration: 1/100, moves: 994, cost: 264535.0\n",
      "Run 1, iteration: 2/100, moves: 0, cost: 264535.0\n"
     ]
    }
   ],
   "source": [
    "km_cao = KModes(n_clusters=5, init = \"Cao\", n_init = 1, verbose=1)\n",
    "fitClusters_cao = km_cao.fit_predict(bank_cust)"
   ]
  },
  {
   "cell_type": "code",
   "execution_count": 33,
   "metadata": {},
   "outputs": [
    {
     "data": {
      "text/plain": [
       "array([4, 4, 4, ..., 0, 2, 0], dtype=uint16)"
      ]
     },
     "execution_count": 33,
     "metadata": {},
     "output_type": "execute_result"
    }
   ],
   "source": [
    "fitClusters_cao"
   ]
  },
  {
   "cell_type": "markdown",
   "metadata": {},
   "source": [
    "### Combining the predicted clusters with the original DF."
   ]
  },
  {
   "cell_type": "code",
   "execution_count": null,
   "metadata": {},
   "outputs": [],
   "source": [
    "bank_cust.info()"
   ]
  },
  {
   "cell_type": "code",
   "execution_count": null,
   "metadata": {},
   "outputs": [],
   "source": [
    "\n",
    "clustersDf.info()"
   ]
  },
  {
   "cell_type": "code",
   "execution_count": 34,
   "metadata": {},
   "outputs": [],
   "source": [
    "bank_cust = bank_cust.reset_index()\n",
    "clustersDf = pd.DataFrame(fitClusters_cao)\n",
    "clustersDf.columns = ['cluster_predicted']\n",
    "combinedDf = pd.concat([bank_cust, clustersDf], axis = 1).reset_index()\n",
    "combinedDf = combinedDf.drop(['index', 'level_0'], axis = 1)"
   ]
  },
  {
   "cell_type": "code",
   "execution_count": 35,
   "metadata": {},
   "outputs": [
    {
     "data": {
      "text/html": [
       "<div>\n",
       "<style scoped>\n",
       "    .dataframe tbody tr th:only-of-type {\n",
       "        vertical-align: middle;\n",
       "    }\n",
       "\n",
       "    .dataframe tbody tr th {\n",
       "        vertical-align: top;\n",
       "    }\n",
       "\n",
       "    .dataframe thead th {\n",
       "        text-align: right;\n",
       "    }\n",
       "</style>\n",
       "<table border=\"1\" class=\"dataframe\">\n",
       "  <thead>\n",
       "    <tr style=\"text-align: right;\">\n",
       "      <th></th>\n",
       "      <th>job</th>\n",
       "      <th>marital</th>\n",
       "      <th>education</th>\n",
       "      <th>default</th>\n",
       "      <th>housing</th>\n",
       "      <th>loan</th>\n",
       "      <th>contact</th>\n",
       "      <th>month</th>\n",
       "      <th>day_of_week</th>\n",
       "      <th>poutcome</th>\n",
       "      <th>age</th>\n",
       "      <th>duration</th>\n",
       "      <th>euribor3m</th>\n",
       "      <th>cluster_predicted</th>\n",
       "    </tr>\n",
       "  </thead>\n",
       "  <tbody>\n",
       "    <tr>\n",
       "      <th>0</th>\n",
       "      <td>-0.201579</td>\n",
       "      <td>-0.283741</td>\n",
       "      <td>-1.753925</td>\n",
       "      <td>-0.513600</td>\n",
       "      <td>-1.087707</td>\n",
       "      <td>-0.452491</td>\n",
       "      <td>1.31827</td>\n",
       "      <td>0.762558</td>\n",
       "      <td>-0.718834</td>\n",
       "      <td>0.192622</td>\n",
       "      <td>1.533034</td>\n",
       "      <td>0.010471</td>\n",
       "      <td>0.71246</td>\n",
       "      <td>4</td>\n",
       "    </tr>\n",
       "    <tr>\n",
       "      <th>1</th>\n",
       "      <td>0.911227</td>\n",
       "      <td>-0.283741</td>\n",
       "      <td>-0.349730</td>\n",
       "      <td>1.945327</td>\n",
       "      <td>-1.087707</td>\n",
       "      <td>-0.452491</td>\n",
       "      <td>1.31827</td>\n",
       "      <td>0.762558</td>\n",
       "      <td>-0.718834</td>\n",
       "      <td>0.192622</td>\n",
       "      <td>1.628993</td>\n",
       "      <td>-0.421501</td>\n",
       "      <td>0.71246</td>\n",
       "      <td>4</td>\n",
       "    </tr>\n",
       "    <tr>\n",
       "      <th>2</th>\n",
       "      <td>0.911227</td>\n",
       "      <td>-0.283741</td>\n",
       "      <td>-0.349730</td>\n",
       "      <td>-0.513600</td>\n",
       "      <td>0.942127</td>\n",
       "      <td>-0.452491</td>\n",
       "      <td>1.31827</td>\n",
       "      <td>0.762558</td>\n",
       "      <td>-0.718834</td>\n",
       "      <td>0.192622</td>\n",
       "      <td>-0.290186</td>\n",
       "      <td>-0.124520</td>\n",
       "      <td>0.71246</td>\n",
       "      <td>4</td>\n",
       "    </tr>\n",
       "    <tr>\n",
       "      <th>3</th>\n",
       "      <td>-1.036184</td>\n",
       "      <td>-0.283741</td>\n",
       "      <td>-1.285860</td>\n",
       "      <td>-0.513600</td>\n",
       "      <td>-1.087707</td>\n",
       "      <td>-0.452491</td>\n",
       "      <td>1.31827</td>\n",
       "      <td>0.762558</td>\n",
       "      <td>-0.718834</td>\n",
       "      <td>0.192622</td>\n",
       "      <td>-0.002309</td>\n",
       "      <td>-0.413787</td>\n",
       "      <td>0.71246</td>\n",
       "      <td>4</td>\n",
       "    </tr>\n",
       "    <tr>\n",
       "      <th>4</th>\n",
       "      <td>0.911227</td>\n",
       "      <td>-0.283741</td>\n",
       "      <td>-0.349730</td>\n",
       "      <td>-0.513600</td>\n",
       "      <td>-1.087707</td>\n",
       "      <td>2.311440</td>\n",
       "      <td>1.31827</td>\n",
       "      <td>0.762558</td>\n",
       "      <td>-0.718834</td>\n",
       "      <td>0.192622</td>\n",
       "      <td>1.533034</td>\n",
       "      <td>0.187888</td>\n",
       "      <td>0.71246</td>\n",
       "      <td>4</td>\n",
       "    </tr>\n",
       "  </tbody>\n",
       "</table>\n",
       "</div>"
      ],
      "text/plain": [
       "        job   marital  education   default   housing      loan  contact  \\\n",
       "0 -0.201579 -0.283741  -1.753925 -0.513600 -1.087707 -0.452491  1.31827   \n",
       "1  0.911227 -0.283741  -0.349730  1.945327 -1.087707 -0.452491  1.31827   \n",
       "2  0.911227 -0.283741  -0.349730 -0.513600  0.942127 -0.452491  1.31827   \n",
       "3 -1.036184 -0.283741  -1.285860 -0.513600 -1.087707 -0.452491  1.31827   \n",
       "4  0.911227 -0.283741  -0.349730 -0.513600 -1.087707  2.311440  1.31827   \n",
       "\n",
       "      month  day_of_week  poutcome       age  duration  euribor3m  \\\n",
       "0  0.762558    -0.718834  0.192622  1.533034  0.010471    0.71246   \n",
       "1  0.762558    -0.718834  0.192622  1.628993 -0.421501    0.71246   \n",
       "2  0.762558    -0.718834  0.192622 -0.290186 -0.124520    0.71246   \n",
       "3  0.762558    -0.718834  0.192622 -0.002309 -0.413787    0.71246   \n",
       "4  0.762558    -0.718834  0.192622  1.533034  0.187888    0.71246   \n",
       "\n",
       "   cluster_predicted  \n",
       "0                  4  \n",
       "1                  4  \n",
       "2                  4  \n",
       "3                  4  \n",
       "4                  4  "
      ]
     },
     "execution_count": 35,
     "metadata": {},
     "output_type": "execute_result"
    }
   ],
   "source": [
    "combinedDf.head()"
   ]
  },
  {
   "cell_type": "code",
   "execution_count": 36,
   "metadata": {},
   "outputs": [
    {
     "data": {
      "text/plain": [
       "array([4, 1, 3, 0, 2], dtype=uint64)"
      ]
     },
     "execution_count": 36,
     "metadata": {},
     "output_type": "execute_result"
    }
   ],
   "source": [
    "combinedDf.cluster_predicted.unique()"
   ]
  },
  {
   "cell_type": "code",
   "execution_count": 42,
   "metadata": {},
   "outputs": [],
   "source": [
    "# Data for Cluster0\n",
    "cluster0 = combinedDf[combinedDf.cluster_predicted==0]"
   ]
  },
  {
   "cell_type": "code",
   "execution_count": 43,
   "metadata": {},
   "outputs": [],
   "source": [
    "# Data for Cluster1\n",
    "cluster1 = combinedDf[combinedDf.cluster_predicted==1]\n",
    "\n",
    "# Data for Cluster2\n",
    "cluster2 = combinedDf[combinedDf.cluster_predicted==2]\n",
    "\n",
    "# Data for Cluster3\n",
    "cluster3 = combinedDf[combinedDf.cluster_predicted==3]\n",
    "\n",
    "# Data for Cluster4\n",
    "cluster4 = combinedDf[combinedDf.cluster_predicted==4]"
   ]
  },
  {
   "cell_type": "code",
   "execution_count": 46,
   "metadata": {},
   "outputs": [
    {
     "data": {
      "text/plain": [
       "(18809, 14)"
      ]
     },
     "execution_count": 46,
     "metadata": {},
     "output_type": "execute_result"
    }
   ],
   "source": [
    "cluster0.shape"
   ]
  },
  {
   "cell_type": "code",
   "execution_count": 47,
   "metadata": {},
   "outputs": [
    {
     "data": {
      "text/plain": [
       "(5640, 14)"
      ]
     },
     "execution_count": 47,
     "metadata": {},
     "output_type": "execute_result"
    }
   ],
   "source": [
    "cluster1.shape"
   ]
  },
  {
   "cell_type": "code",
   "execution_count": 48,
   "metadata": {},
   "outputs": [
    {
     "data": {
      "text/plain": [
       "(6632, 14)"
      ]
     },
     "execution_count": 48,
     "metadata": {},
     "output_type": "execute_result"
    }
   ],
   "source": [
    "cluster2.shape"
   ]
  },
  {
   "cell_type": "code",
   "execution_count": 49,
   "metadata": {},
   "outputs": [
    {
     "data": {
      "text/plain": [
       "(5530, 14)"
      ]
     },
     "execution_count": 49,
     "metadata": {},
     "output_type": "execute_result"
    }
   ],
   "source": [
    "cluster3.shape"
   ]
  },
  {
   "cell_type": "code",
   "execution_count": 50,
   "metadata": {},
   "outputs": [
    {
     "data": {
      "text/plain": [
       "(4577, 14)"
      ]
     },
     "execution_count": 50,
     "metadata": {},
     "output_type": "execute_result"
    }
   ],
   "source": [
    "cluster4.shape"
   ]
  },
  {
   "cell_type": "code",
   "execution_count": null,
   "metadata": {},
   "outputs": [],
   "source": []
  },
  {
   "cell_type": "code",
   "execution_count": 53,
   "metadata": {},
   "outputs": [],
   "source": [
    "# Checking the count per category for JOB\n",
    "job0_df = pd.DataFrame(cluster0['job'].value_counts())\n",
    "job1_df = pd.DataFrame(cluster1['job'].value_counts())\n",
    "job2_df = pd.DataFrame(cluster2['job'].value_counts())\n",
    "job3_df = pd.DataFrame(cluster3['job'].value_counts())\n",
    "job4_df = pd.DataFrame(cluster4['job'].value_counts())\n"
   ]
  },
  {
   "cell_type": "code",
   "execution_count": null,
   "metadata": {},
   "outputs": [],
   "source": []
  },
  {
   "cell_type": "code",
   "execution_count": 64,
   "metadata": {},
   "outputs": [
    {
     "data": {
      "image/png": "[encoded data removed]",
      "text/plain": [
       "<Figure size 1440x576 with 5 Axes>"
      ]
     },
     "metadata": {
      "needs_background": "light"
     },
     "output_type": "display_data"
    }
   ],
   "source": [
    "fig, ax =plt.subplots(figsize=(20,8))\n",
    "plt.subplot(2,3,1)\n",
    "sns.barplot(x=job0_df.index, y=job0_df['job'])\n",
    "plt.subplot(2,3,2)\n",
    "sns.barplot(x=job1_df.index, y=job1_df['job'])\n",
    "plt.subplot(2,3,3)\n",
    "sns.barplot(x=job2_df.index, y=job2_df['job'])\n",
    "plt.subplot(2,3,4)\n",
    "sns.barplot(x=job3_df.index, y=job3_df['job'])\n",
    "plt.subplot(2,3,5)\n",
    "sns.barplot(x=job4_df.index, y=job4_df['job'])\n",
    "\n",
    "fig.show()"
   ]
  },
  {
   "cell_type": "code",
   "execution_count": null,
   "metadata": {},
   "outputs": [],
   "source": [
    "age1_df = pd.DataFrame(cluster1['age_bin'].value_counts())\n",
    "age0_df = pd.DataFrame(cluster0['age_bin'].value_counts())"
   ]
  },
  {
   "cell_type": "code",
   "execution_count": null,
   "metadata": {},
   "outputs": [],
   "source": [
    "fig, ax =plt.subplots(1,2,figsize=(20,5))\n",
    "sns.barplot(x=age1_df.index, y=age1_df['age_bin'], ax=ax[0])\n",
    "sns.barplot(x=age0_df.index, y=age0_df['age_bin'], ax=ax[1])\n",
    "fig.show()"
   ]
  },
  {
   "cell_type": "code",
   "execution_count": null,
   "metadata": {},
   "outputs": [],
   "source": [
    "print(cluster1['marital'].value_counts())\n",
    "print(cluster0['marital'].value_counts())"
   ]
  },
  {
   "cell_type": "code",
   "execution_count": null,
   "metadata": {},
   "outputs": [],
   "source": [
    "print(cluster1['education'].value_counts())\n",
    "print(cluster0['education'].value_counts())"
   ]
  }
 ],
 "metadata": {
  "interpreter": {
   "hash": "d224c99f92f6f44f34c9f500e33fed6926592fd1a26acbb42a1c967abccc8c24"
  },
  "kernelspec": {
   "display_name": "Python 3.8.8 64-bit ('base': conda)",
   "name": "python3"
  },
  "language_info": {
   "codemirror_mode": {
    "name": "ipython",
    "version": 3
   },
   "file_extension": ".py",
   "mimetype": "text/x-python",
   "name": "python",
   "nbconvert_exporter": "python",
   "pygments_lexer": "ipython3",
   "version": "3.8.8"
  }
 },
 "nbformat": 4,
 "nbformat_minor": 2
}
