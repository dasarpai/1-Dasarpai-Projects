{
 "cells": [
  {
   "cell_type": "code",
   "execution_count": 1,
   "metadata": {},
   "outputs": [],
   "source": [
    "# hide warnings\n",
    "import warnings\n",
    "warnings.filterwarnings('ignore')\n",
    "\n",
    "#Number Manupulation & Plotting libraries\n",
    "import numpy as np\n",
    "import pandas as pd\n",
    "import matplotlib.pyplot as plt\n",
    "import seaborn as sns\n",
    "import os\n",
    "import tabula\n",
    "\n",
    "#Model Selection Libraries\n",
    "from sklearn import model_selection\n",
    "from sklearn.model_selection import train_test_split\n",
    "from sklearn.model_selection import cross_val_score\n",
    "from sklearn.model_selection import KFold\n",
    "from sklearn.model_selection import GridSearchCV\n",
    "from sklearn.model_selection import validation_curve\n",
    "\n",
    "#Preprocessing Libraries\n",
    "from sklearn.preprocessing import scale\n",
    "from sklearn.preprocessing import MinMaxScaler\n",
    "from sklearn.preprocessing import StandardScaler\n",
    "from sklearn.preprocessing import PolynomialFeatures\n",
    "\n",
    "#Liner Model Libraries\n",
    "from sklearn import linear_model\n",
    "from sklearn.linear_model import LinearRegression\n",
    "from sklearn.linear_model import LogisticRegression\n",
    "from sklearn.linear_model import Ridge\n",
    "from sklearn.linear_model import Lasso\n",
    "from sklearn.linear_model import ElasticNet\n",
    "\n",
    "#pipeline libraries\n",
    "from sklearn.pipeline import Pipeline\n",
    "from sklearn.pipeline import make_pipeline\n",
    "\n",
    "#Metrics\n",
    "from sklearn import metrics\n",
    "from sklearn.metrics import confusion_matrix\n",
    "\n",
    "import sklearn\n",
    "import sklearn.decomposition\n",
    "\n",
    "from sklearn.svm import SVC\n",
    "from sklearn.feature_selection import RFE\n",
    "\n",
    "import statsmodels.api as sm\n",
    "from statsmodels.stats.outliers_influence import variance_inflation_factor"
   ]
  },
  {
   "cell_type": "code",
   "execution_count": null,
   "metadata": {},
   "outputs": [],
   "source": []
  },
  {
   "cell_type": "code",
   "execution_count": 15,
   "metadata": {},
   "outputs": [],
   "source": [
    "df_teamDetail= pd.read_csv(\"Kabaddi-TeamDetailMetrics.csv\")\n",
    "df_teamDetail.drop([\"BIGGEST WINNING MARGIN\",\"HIGHEST SCORE\",\"TOTAL DEFENCE POINTS\"], inplace=True, axis=1)\n",
    "df_teamDetail = df_teamDetail[~(df_teamDetail.Season == \"OVERALL\")]\n",
    "\n",
    "\n",
    "cols = df_teamDetail.columns\n",
    "raid = list(x for x in cols if \"RAID\" in x)\n",
    "tackles = list(x for x in cols if \"TACKLES\" in x)\n",
    "raid_tackles = raid + tackles\n",
    "other = list(x for x in cols if  x not in raid_tackles)"
   ]
  },
  {
   "cell_type": "code",
   "execution_count": 16,
   "metadata": {},
   "outputs": [],
   "source": [
    "#df_teamDetail.info()"
   ]
  },
  {
   "cell_type": "code",
   "execution_count": 17,
   "metadata": {},
   "outputs": [
    {
     "name": "stdout",
     "output_type": "stream",
     "text": [
      "(68, 23)\n"
     ]
    }
   ],
   "source": [
    "print (df_teamDetail.shape)\n",
    "#print (df_teamSum.shape)\n",
    "#df_teamDetail.head()"
   ]
  },
  {
   "cell_type": "code",
   "execution_count": 18,
   "metadata": {},
   "outputs": [],
   "source": [
    "#df_team_merged.Metrics.unique()"
   ]
  },
  {
   "cell_type": "code",
   "execution_count": 19,
   "metadata": {},
   "outputs": [],
   "source": [
    "#Create a new field\n",
    "df_teamDetail['TOTAL SUPER'] =  df_teamDetail['NO. OF SUPER RAIDS']+ df_teamDetail['NO. OF SUPER TACKLES']\n",
    "cols_to_scale = list(df_teamDetail.select_dtypes([\"int32\",\"int64\",\"float64\"]).columns)\n",
    "#Predict\n",
    "Y= [\"FINISHING POSITION\", 'NO. OF SUPER RAIDS', 'NO. OF SUPER TACKLES', 'TOTAL SUPER',\n",
    "'SUCCESSFUL RAIDS','SUCCESSFUL TACKLES']"
   ]
  },
  {
   "cell_type": "code",
   "execution_count": null,
   "metadata": {},
   "outputs": [],
   "source": [
    "#df_teamDetail['FINISHING POSITION'].head()"
   ]
  },
  {
   "cell_type": "code",
   "execution_count": null,
   "metadata": {},
   "outputs": [],
   "source": [
    "plt.figure(figsize=(15,10))\n",
    "i=1\n",
    "for pred in Y:\n",
    "    plt.subplot(len(Y),3,i)\n",
    "    sns.boxplot( df_teamDetail[pred])\n",
    "    i+=1\n",
    "plt.tight_layout()"
   ]
  },
  {
   "cell_type": "markdown",
   "metadata": {},
   "source": [
    "#### Normalize Predicted Variables"
   ]
  },
  {
   "cell_type": "code",
   "execution_count": null,
   "metadata": {},
   "outputs": [],
   "source": [
    "#sns.boxplot(np.log2(df_teamDetail['SUCCESSFUL TACKLES']))\n",
    "sns.boxplot((df_teamDetail['SUCCESSFUL TACKLES']))"
   ]
  },
  {
   "cell_type": "code",
   "execution_count": 20,
   "metadata": {},
   "outputs": [],
   "source": [
    "####Feature Engieering\n",
    "\n",
    "df_teamDetail = df_teamDetail[np.log2(df_teamDetail['NO. OF SUPER TACKLES'])<5] # Remove Outlier\n",
    "\n",
    "df_teamDetail['NO. OF SUPER RAIDS'] =  np.log2(df_teamDetail['NO. OF SUPER RAIDS'])\n",
    "df_teamDetail['FINISHING POSITION'] =  np.log2(df_teamDetail['FINISHING POSITION'])\n",
    "#df_teamDetail['SUCCESSFUL TACKLES'] =  np.log2(df_teamDetail['SUCCESSFUL TACKLES']) \n",
    "df_teamDetail['TOTAL SUPER']        =  np.log2(df_teamDetail['TOTAL SUPER'])"
   ]
  },
  {
   "cell_type": "code",
   "execution_count": null,
   "metadata": {},
   "outputs": [],
   "source": [
    "plt.figure(figsize=(15,10))\n",
    "i=1\n",
    "for pred in Y:\n",
    "    plt.subplot(len(Y),3,i)\n",
    "    sns.boxplot( df_teamDetail[pred])\n",
    "    i+=1\n",
    "plt.tight_layout()"
   ]
  },
  {
   "cell_type": "markdown",
   "metadata": {},
   "source": [
    "#### Check Distribution Again"
   ]
  },
  {
   "cell_type": "code",
   "execution_count": null,
   "metadata": {},
   "outputs": [],
   "source": [
    "print (cols_to_scale)\n",
    "sns.set_style(\"white\")\n",
    "plt.figure(figsize=(20,100))\n",
    "i=1\n",
    "while i<=len(cols_to_scale):\n",
    "    plt.subplot(40,6,i)\n",
    "    sns.boxplot( x=df_teamDetail[ cols_to_scale[i-1] ])\n",
    "    i+=1\n",
    "plt.tight_layout()\n",
    "plt.show()"
   ]
  },
  {
   "cell_type": "code",
   "execution_count": 21,
   "metadata": {},
   "outputs": [],
   "source": [
    "def get_train_validate_test_dataset(df,Metrics_Name):\n",
    "    print ()\n",
    "    if Metrics_Name==\"\":\n",
    "        df_test2           = df [df.Season==\"7\"]\n",
    "        df_player_Other    = df [df.Season!=\"7\"]\n",
    "        df_train, df_test1 = train_test_split(df_player_Other, test_size=.25, random_state=42)\n",
    "    else:\n",
    "        #df_team_merged_      = df_team_merged  [df_team_merged.Metrics == Metrics_Name]\n",
    "        df_test2             = df [df.Season==\"7\"]\n",
    "        df_team_Other        = df [df.Season!=\"7\"]\n",
    "        df_train, df_test1 = train_test_split(df_team_Other, test_size=.25, random_state=42)\n",
    "        #df_train, df_test1 = train_test_split(df_team_merged, test_size=.25, random_state=42)\n",
    "    return df_train, df_test1, df_test2"
   ]
  },
  {
   "cell_type": "code",
   "execution_count": null,
   "metadata": {},
   "outputs": [],
   "source": []
  },
  {
   "cell_type": "code",
   "execution_count": 58,
   "metadata": {},
   "outputs": [],
   "source": [
    "def PredictMetrics(df,Metrics_Name,cols_to_scale):\n",
    "    #df_train, df_test1, df_test2 =  get_train_validate_test_dataset (df,Metrics_Name)\n",
    "    df_train=df[0]\n",
    "    df_test1=df[1]\n",
    "    df_test2=df[2]\n",
    "    #Scale Data\n",
    "    sc = StandardScaler()\n",
    "    df_train[cols_to_scale] = sc.fit_transform(df_train[cols_to_scale])\n",
    "    df_test1[cols_to_scale] = sc.transform(df_test1[cols_to_scale])\n",
    "    df_test2[cols_to_scale] = sc.transform(df_test2[cols_to_scale])\n",
    "\n",
    "    y_train = df_train.pop(Metrics_Name)\n",
    "\n",
    "    X_df_train = df_train\n",
    "\n",
    "    y_test1 = df_test1.pop(Metrics_Name)\n",
    "    X_df_test1 = df_test1\n",
    "\n",
    "    y_test2 = df_test2.pop(Metrics_Name)\n",
    "    X_df_test2 = df_test2\n",
    "\n",
    "    ##Prepare Model\n",
    "    #lr = LogisticRegression()\n",
    "    lnr = LinearRegression()\n",
    "    \n",
    "    #cols=cols_to_scale.copy()\n",
    "    #cols.remove(Metrics_Name)\n",
    "    \n",
    "    lnr.fit(X_df_train[cols_to_scale],y_train)\n",
    "\n",
    "    y_test1_pred = lnr.predict(X_df_test1[cols_to_scale])\n",
    "\n",
    "    y_test2_pred = lnr.predict(X_df_test2[cols_to_scale])\n",
    "\n",
    "\n",
    "    return ([X_df_test1,X_df_test2],[y_test1,y_test2],[y_test1_pred,y_test2_pred])"
   ]
  },
  {
   "cell_type": "code",
   "execution_count": 56,
   "metadata": {},
   "outputs": [],
   "source": [
    "def showPredictions(df, y_test, y_test_pred, Metrics_Name, pred_what, npfunc):\n",
    "    X_df_test1 = df[0]\n",
    "    X_df_test2 = df[1]\n",
    "    y_test1 = y_test[0]\n",
    "    y_test2 = y_test[1]\n",
    "    y_test1_pred = y_test_pred[0]\n",
    "    y_test2_pred = y_test_pred[1]\n",
    "    \n",
    "    ##Prediction- Validation Data******************************************************\n",
    "    pred_cols={\"Season\": X_df_test1.Season}\n",
    "    if pred_what==\"Player\":\n",
    "        pred_cols[\"Player\"] = X_df_test1.Player                \n",
    "    else:\n",
    "        pred_cols[\"Team\"]= X_df_test1.Team\n",
    "                  \n",
    "    pred_cols[\"Prediction\"]= getMath_ScaledValue (npfunc,y_test1_pred)\n",
    "    pred_cols[\"Actual\"]    = getMath_ScaledValue (npfunc,y_test1)\n",
    "    \n",
    "    pred_total_score = pd.DataFrame(pred_cols)\n",
    "    pred_total_score = pred_total_score.sort_values(\"Prediction\", ascending=True)\n",
    "    print(\"Prediction Results on Test Data\", Metrics_Name)\n",
    "    print(\"r2 score : \", round(metrics.r2_score(y_test1,y_test1_pred),2))\n",
    "    print(pred_total_score)\n",
    "    \n",
    "    ##Prediction- Test Data******************************************************\n",
    "    pred_cols={\"Season\": X_df_test2.Season}\n",
    "    if pred_what==\"Player\":\n",
    "        pred_cols[\"Player\"] = X_df_test2.Player                 \n",
    "    else:\n",
    "        pred_cols[\"Team\"]= X_df_test2.Team\n",
    "                  \n",
    "    pred_cols[\"Prediction\"]= getMath_ScaledValue (npfunc,y_test2_pred)\n",
    "    pred_cols[\"Actual\"]    = getMath_ScaledValue (npfunc,y_test2)\n",
    " \n",
    "\n",
    "    pred_total_score = pd.DataFrame(pred_cols)\n",
    "    pred_total_score = pred_total_score.sort_values(\"Prediction\", ascending=True)\n",
    "    print(\"\\nPrediction Results for Season 7\", Metrics_Name)\n",
    "    print(\"r2 score : \", round(metrics.r2_score(y_test2,y_test2_pred),2))\n",
    "    print(pred_total_score)"
   ]
  },
  {
   "cell_type": "code",
   "execution_count": 54,
   "metadata": {},
   "outputs": [],
   "source": [
    "def getMath_ScaledValue(npfunc, orgval):\n",
    "    if npfunc==\"\":\n",
    "        return orgval\n",
    "    elif npfunc==\"log2\":\n",
    "        return 2**orgval\n",
    "    elif npfunc==\"sqrt\":\n",
    "        return orgval*orgval"
   ]
  },
  {
   "cell_type": "code",
   "execution_count": null,
   "metadata": {},
   "outputs": [],
   "source": [
    "cols_to_scale1=['MATCHES PLAYED',\n",
    " 'WINS',\n",
    " 'DRAWS',\n",
    " 'LOSSES',\n",
    " 'TOTAL RAIDS',\n",
    " 'SUCCESSFUL RAIDS',\n",
    " 'UNSUCCESSFUL RAID',\n",
    " 'EMPTY RAIDS',\n",
    " 'NO. OF SUPER RAIDS',\n",
    " 'RAID TOUCH POINTS',\n",
    " 'RAID BONUS POINTS',\n",
    " 'TOTAL RAID POINTS',\n",
    " 'TOTAL TACKLES',\n",
    " 'SUCCESSFUL TACKLES',\n",
    " 'UNSUCCESFUL TACKLES',\n",
    " 'NO. OF SUPER TACKLES',\n",
    " 'ALL OUTS INFLICTED',\n",
    " 'TOTAL ALL OUT POINTS',\n",
    " 'TOTAL SUPER']"
   ]
  },
  {
   "cell_type": "code",
   "execution_count": 53,
   "metadata": {},
   "outputs": [],
   "source": [
    "#2**df_teamDetail[\"FINISHING POSITION\"]"
   ]
  },
  {
   "cell_type": "code",
   "execution_count": 30,
   "metadata": {},
   "outputs": [],
   "source": []
  },
  {
   "cell_type": "code",
   "execution_count": null,
   "metadata": {},
   "outputs": [],
   "source": []
  },
  {
   "cell_type": "code",
   "execution_count": null,
   "metadata": {},
   "outputs": [],
   "source": []
  },
  {
   "cell_type": "code",
   "execution_count": 59,
   "metadata": {
    "scrolled": true
   },
   "outputs": [
    {
     "name": "stdout",
     "output_type": "stream",
     "text": [
      "\n",
      "Train: (40, 24) Test1: (14, 24) Test2: (11, 24)\n"
     ]
    },
    {
     "name": "stderr",
     "output_type": "stream",
     "text": [
      "C:\\Users\\admin\\Anaconda3\\lib\\site-packages\\sklearn\\preprocessing\\data.py:625: DataConversionWarning: Data with input dtype int64, float64 were all converted to float64 by StandardScaler.\n",
      "  return self.partial_fit(X, y)\n",
      "C:\\Users\\admin\\Anaconda3\\lib\\site-packages\\sklearn\\base.py:462: DataConversionWarning: Data with input dtype int64, float64 were all converted to float64 by StandardScaler.\n",
      "  return self.fit(X, **fit_params).transform(X)\n",
      "C:\\Users\\admin\\Anaconda3\\lib\\site-packages\\ipykernel_launcher.py:9: DataConversionWarning: Data with input dtype int64, float64 were all converted to float64 by StandardScaler.\n",
      "  if __name__ == '__main__':\n",
      "C:\\Users\\admin\\Anaconda3\\lib\\site-packages\\ipykernel_launcher.py:10: DataConversionWarning: Data with input dtype int64, float64 were all converted to float64 by StandardScaler.\n",
      "  # Remove the CWD from sys.path while we load stuff.\n"
     ]
    },
    {
     "name": "stdout",
     "output_type": "stream",
     "text": [
      "Prediction Results on Test Data FINISHING POSITION\n",
      "r2 score :  0.69\n",
      "   Season                  Team  Prediction  Actual\n",
      "73      3              U Mumbai    1.349878     1.0\n",
      "78      6           U.P. Yoddha    2.460568     3.0\n",
      "66      2       Bengaluru Bulls    2.612861     3.0\n",
      "32      4         Patna Pirates    2.909292     1.0\n",
      "72      4              U Mumbai    3.242016     4.0\n",
      "22      2         Telugu Titans    3.287897     2.0\n",
      "30      6         Patna Pirates    3.507285     4.0\n",
      "10      6      Haryana Steelers    4.025089     6.0\n",
      "14      6       Tamil Thalaivas    4.586000     6.0\n",
      "21      3         Telugu Titans    4.688129     5.0\n",
      "50      2  Jaipur Pink Panthers    5.260065     5.0\n",
      "7       1     Dabang Delhi K.C.    5.626415     6.0\n",
      "42      2         Puneri Paltan    8.239384     8.0\n",
      "5       3     Dabang Delhi K.C.    9.121416     8.0\n",
      "\n",
      "Prediction Results for Season 7 FINISHING POSITION\n",
      "r2 score :  0.63\n",
      "   Season                   Team  Prediction  Actual\n",
      "1       7      Dabang Delhi K.C.    0.915513     1.0\n",
      "53      7        Bengal Warriors    1.709564     1.0\n",
      "9       7       Haryana Steelers    2.052616     3.0\n",
      "77      7            U.P. Yoddha    2.347481     4.0\n",
      "61      7        Bengaluru Bulls    2.838908     4.0\n",
      "69      7               U Mumbai    3.031673     5.0\n",
      "17      7          Telugu Titans    4.821023    10.0\n",
      "25      7  Gujarat Fortunegiants    4.917583    10.0\n",
      "37      7          Puneri Paltan    5.467069     8.0\n",
      "13      7        Tamil Thalaivas    5.534382    12.0\n",
      "29      7          Patna Pirates    7.938321     9.0\n"
     ]
    }
   ],
   "source": [
    "cols_to_scale1=cols_to_scale.copy()\n",
    "cols_to_scale1.remove(Y[0])\n",
    "df_train, df_test1, df_test2 =  get_train_validate_test_dataset (df_teamDetail,Y[0])\n",
    "print (\"Train:\",df_train.shape, \"Test1:\",df_test1.shape, \"Test2:\",df_test2.shape )\n",
    "df, y_test, y_test_pred = PredictMetrics([df_train,df_test1,df_test2],Y[0],cols_to_scale1)\n",
    "showPredictions(df, y_test, y_test_pred, Y[0],\"team\",\"log2\")"
   ]
  },
  {
   "cell_type": "code",
   "execution_count": 60,
   "metadata": {},
   "outputs": [
    {
     "name": "stdout",
     "output_type": "stream",
     "text": [
      "\n",
      "Train: (40, 24) Test1: (14, 24) Test2: (11, 24)\n"
     ]
    },
    {
     "name": "stderr",
     "output_type": "stream",
     "text": [
      "C:\\Users\\admin\\Anaconda3\\lib\\site-packages\\sklearn\\preprocessing\\data.py:625: DataConversionWarning: Data with input dtype int64, float64 were all converted to float64 by StandardScaler.\n",
      "  return self.partial_fit(X, y)\n",
      "C:\\Users\\admin\\Anaconda3\\lib\\site-packages\\sklearn\\base.py:462: DataConversionWarning: Data with input dtype int64, float64 were all converted to float64 by StandardScaler.\n",
      "  return self.fit(X, **fit_params).transform(X)\n",
      "C:\\Users\\admin\\Anaconda3\\lib\\site-packages\\ipykernel_launcher.py:9: DataConversionWarning: Data with input dtype int64, float64 were all converted to float64 by StandardScaler.\n",
      "  if __name__ == '__main__':\n",
      "C:\\Users\\admin\\Anaconda3\\lib\\site-packages\\ipykernel_launcher.py:10: DataConversionWarning: Data with input dtype int64, float64 were all converted to float64 by StandardScaler.\n",
      "  # Remove the CWD from sys.path while we load stuff.\n"
     ]
    },
    {
     "name": "stdout",
     "output_type": "stream",
     "text": [
      "Prediction Results on Test Data NO. OF SUPER RAIDS\n",
      "r2 score :  0.83\n",
      "   Season                  Team  Prediction  Actual\n",
      "72      4              U Mumbai    3.718500     4.0\n",
      "21      3         Telugu Titans    3.984178     3.0\n",
      "73      3              U Mumbai    4.611974     7.0\n",
      "7       1     Dabang Delhi K.C.    4.629120     5.0\n",
      "50      2  Jaipur Pink Panthers    5.923736     5.0\n",
      "32      4         Patna Pirates    6.095156     7.0\n",
      "5       3     Dabang Delhi K.C.    6.618113     5.0\n",
      "14      6       Tamil Thalaivas    8.195589     7.0\n",
      "42      2         Puneri Paltan    8.198087     8.0\n",
      "66      2       Bengaluru Bulls    8.351918    10.0\n",
      "78      6           U.P. Yoddha    9.386657    10.0\n",
      "10      6      Haryana Steelers   10.527940    12.0\n",
      "30      6         Patna Pirates   10.660308    11.0\n",
      "22      2         Telugu Titans   17.232698    16.0\n",
      "\n",
      "Prediction Results for Season 7 NO. OF SUPER RAIDS\n",
      "r2 score :  0.74\n",
      "   Season                   Team  Prediction  Actual\n",
      "25      7  Gujarat Fortunegiants    5.398725     4.0\n",
      "77      7            U.P. Yoddha    5.681580     4.0\n",
      "13      7        Tamil Thalaivas    5.755304     4.0\n",
      "1       7      Dabang Delhi K.C.    5.892818     8.0\n",
      "61      7        Bengaluru Bulls    6.889490     8.0\n",
      "17      7          Telugu Titans    7.414285     9.0\n",
      "69      7               U Mumbai    7.692163     7.0\n",
      "37      7          Puneri Paltan    7.867978     6.0\n",
      "9       7       Haryana Steelers   12.111862    12.0\n",
      "29      7          Patna Pirates   12.178821    13.0\n",
      "53      7        Bengal Warriors   15.864303    15.0\n"
     ]
    }
   ],
   "source": [
    "cols_to_scale1=cols_to_scale.copy()\n",
    "cols_to_scale1.remove(Y[1])\n",
    "df_train, df_test1, df_test2 =  get_train_validate_test_dataset (df_teamDetail,Y[1])\n",
    "print (\"Train:\",df_train.shape, \"Test1:\",df_test1.shape, \"Test2:\",df_test2.shape )\n",
    "df, y_test, y_test_pred = PredictMetrics([df_train,df_test1,df_test2],Y[1],cols_to_scale1)\n",
    "showPredictions(df, y_test, y_test_pred, Y[1],\"team\",\"log2\")"
   ]
  },
  {
   "cell_type": "code",
   "execution_count": 61,
   "metadata": {},
   "outputs": [
    {
     "name": "stdout",
     "output_type": "stream",
     "text": [
      "\n",
      "Train: (40, 24) Test1: (14, 24) Test2: (11, 24)\n"
     ]
    },
    {
     "name": "stderr",
     "output_type": "stream",
     "text": [
      "C:\\Users\\admin\\Anaconda3\\lib\\site-packages\\sklearn\\preprocessing\\data.py:625: DataConversionWarning: Data with input dtype int64, float64 were all converted to float64 by StandardScaler.\n",
      "  return self.partial_fit(X, y)\n",
      "C:\\Users\\admin\\Anaconda3\\lib\\site-packages\\sklearn\\base.py:462: DataConversionWarning: Data with input dtype int64, float64 were all converted to float64 by StandardScaler.\n",
      "  return self.fit(X, **fit_params).transform(X)\n",
      "C:\\Users\\admin\\Anaconda3\\lib\\site-packages\\ipykernel_launcher.py:9: DataConversionWarning: Data with input dtype int64, float64 were all converted to float64 by StandardScaler.\n",
      "  if __name__ == '__main__':\n",
      "C:\\Users\\admin\\Anaconda3\\lib\\site-packages\\ipykernel_launcher.py:10: DataConversionWarning: Data with input dtype int64, float64 were all converted to float64 by StandardScaler.\n",
      "  # Remove the CWD from sys.path while we load stuff.\n"
     ]
    },
    {
     "name": "stdout",
     "output_type": "stream",
     "text": [
      "Prediction Results on Test Data NO. OF SUPER TACKLES\n",
      "r2 score :  0.91\n",
      "   Season                  Team  Prediction  Actual\n",
      "73      3              U Mumbai    2.282566       6\n",
      "66      2       Bengaluru Bulls    6.376474       7\n",
      "7       1     Dabang Delhi K.C.    9.195574      10\n",
      "72      4              U Mumbai   10.574085      11\n",
      "42      2         Puneri Paltan   11.234908      11\n",
      "10      6      Haryana Steelers   14.817713      15\n",
      "5       3     Dabang Delhi K.C.   15.373329      13\n",
      "14      6       Tamil Thalaivas   15.821305      15\n",
      "30      6         Patna Pirates   16.012302      16\n",
      "22      2         Telugu Titans   16.547624      16\n",
      "21      3         Telugu Titans   17.297125      15\n",
      "50      2  Jaipur Pink Panthers   19.043694      18\n",
      "32      4         Patna Pirates   23.557677      27\n",
      "78      6           U.P. Yoddha   25.134717      27\n",
      "\n",
      "Prediction Results for Season 7 NO. OF SUPER TACKLES\n",
      "r2 score :  0.85\n",
      "   Season                   Team  Prediction  Actual\n",
      "1       7      Dabang Delhi K.C.    5.678006       8\n",
      "9       7       Haryana Steelers   12.023833      11\n",
      "53      7        Bengal Warriors   12.864819      12\n",
      "13      7        Tamil Thalaivas   15.654230      13\n",
      "69      7               U Mumbai   16.760002      16\n",
      "77      7            U.P. Yoddha   17.091845      14\n",
      "25      7  Gujarat Fortunegiants   17.295752      15\n",
      "17      7          Telugu Titans   18.835145      21\n",
      "29      7          Patna Pirates   21.838212      23\n",
      "61      7        Bengaluru Bulls   22.447834      25\n",
      "37      7          Puneri Paltan   23.784937      22\n"
     ]
    }
   ],
   "source": [
    "cols_to_scale1=cols_to_scale.copy()\n",
    "cols_to_scale1.remove(Y[2])\n",
    "df_train, df_test1, df_test2 =  get_train_validate_test_dataset (df_teamDetail,Y[2])\n",
    "print (\"Train:\",df_train.shape, \"Test1:\",df_test1.shape, \"Test2:\",df_test2.shape )\n",
    "df, y_test, y_test_pred = PredictMetrics([df_train,df_test1,df_test2],Y[2],cols_to_scale1)\n",
    "showPredictions(df, y_test, y_test_pred, Y[2],\"team\",\"\")"
   ]
  },
  {
   "cell_type": "code",
   "execution_count": 62,
   "metadata": {},
   "outputs": [
    {
     "name": "stdout",
     "output_type": "stream",
     "text": [
      "\n",
      "Train: (40, 24) Test1: (14, 24) Test2: (11, 24)\n"
     ]
    },
    {
     "name": "stderr",
     "output_type": "stream",
     "text": [
      "C:\\Users\\admin\\Anaconda3\\lib\\site-packages\\sklearn\\preprocessing\\data.py:625: DataConversionWarning: Data with input dtype int64, float64 were all converted to float64 by StandardScaler.\n",
      "  return self.partial_fit(X, y)\n",
      "C:\\Users\\admin\\Anaconda3\\lib\\site-packages\\sklearn\\base.py:462: DataConversionWarning: Data with input dtype int64, float64 were all converted to float64 by StandardScaler.\n",
      "  return self.fit(X, **fit_params).transform(X)\n",
      "C:\\Users\\admin\\Anaconda3\\lib\\site-packages\\ipykernel_launcher.py:9: DataConversionWarning: Data with input dtype int64, float64 were all converted to float64 by StandardScaler.\n",
      "  if __name__ == '__main__':\n",
      "C:\\Users\\admin\\Anaconda3\\lib\\site-packages\\ipykernel_launcher.py:10: DataConversionWarning: Data with input dtype int64, float64 were all converted to float64 by StandardScaler.\n",
      "  # Remove the CWD from sys.path while we load stuff.\n"
     ]
    },
    {
     "name": "stdout",
     "output_type": "stream",
     "text": [
      "Prediction Results on Test Data TOTAL SUPER\n",
      "r2 score :  0.94\n",
      "   Season                  Team  Prediction  Actual\n",
      "73      3              U Mumbai   15.569725    13.0\n",
      "72      4              U Mumbai   15.591714    15.0\n",
      "7       1     Dabang Delhi K.C.   15.601684    15.0\n",
      "21      3         Telugu Titans   16.074619    18.0\n",
      "5       3     Dabang Delhi K.C.   16.421040    18.0\n",
      "66      2       Bengaluru Bulls   18.032956    17.0\n",
      "42      2         Puneri Paltan   18.819593    19.0\n",
      "50      2  Jaipur Pink Panthers   21.442365    23.0\n",
      "14      6       Tamil Thalaivas   21.458840    22.0\n",
      "30      6         Patna Pirates   27.383900    27.0\n",
      "10      6      Haryana Steelers   28.573994    27.0\n",
      "22      2         Telugu Titans   29.972847    32.0\n",
      "32      4         Patna Pirates   35.827361    34.0\n",
      "78      6           U.P. Yoddha   40.228625    37.0\n",
      "\n",
      "Prediction Results for Season 7 TOTAL SUPER\n",
      "r2 score :  0.91\n",
      "   Season                   Team  Prediction  Actual\n",
      "13      7        Tamil Thalaivas   15.652135    17.0\n",
      "77      7            U.P. Yoddha   16.302054    18.0\n",
      "25      7  Gujarat Fortunegiants   17.504706    19.0\n",
      "1       7      Dabang Delhi K.C.   18.382094    16.0\n",
      "69      7               U Mumbai   22.602909    23.0\n",
      "9       7       Haryana Steelers   22.762431    23.0\n",
      "53      7        Bengal Warriors   25.541670    27.0\n",
      "37      7          Puneri Paltan   25.857421    28.0\n",
      "17      7          Telugu Titans   33.063645    30.0\n",
      "61      7        Bengaluru Bulls   36.450215    33.0\n",
      "29      7          Patna Pirates   36.850909    36.0\n"
     ]
    }
   ],
   "source": [
    "cols_to_scale1=cols_to_scale.copy()\n",
    "cols_to_scale1.remove(Y[3])\n",
    "df_train, df_test1, df_test2 =  get_train_validate_test_dataset (df_teamDetail,Y[3])\n",
    "print (\"Train:\",df_train.shape, \"Test1:\",df_test1.shape, \"Test2:\",df_test2.shape )\n",
    "df, y_test, y_test_pred = PredictMetrics([df_train,df_test1,df_test2],Y[3],cols_to_scale1)\n",
    "showPredictions(df, y_test, y_test_pred, Y[3],\"team\",\"log2\")"
   ]
  },
  {
   "cell_type": "code",
   "execution_count": 63,
   "metadata": {},
   "outputs": [
    {
     "name": "stdout",
     "output_type": "stream",
     "text": [
      "\n",
      "Train: (40, 24) Test1: (14, 24) Test2: (11, 24)\n"
     ]
    },
    {
     "name": "stderr",
     "output_type": "stream",
     "text": [
      "C:\\Users\\admin\\Anaconda3\\lib\\site-packages\\sklearn\\preprocessing\\data.py:625: DataConversionWarning: Data with input dtype int64, float64 were all converted to float64 by StandardScaler.\n",
      "  return self.partial_fit(X, y)\n",
      "C:\\Users\\admin\\Anaconda3\\lib\\site-packages\\sklearn\\base.py:462: DataConversionWarning: Data with input dtype int64, float64 were all converted to float64 by StandardScaler.\n",
      "  return self.fit(X, **fit_params).transform(X)\n",
      "C:\\Users\\admin\\Anaconda3\\lib\\site-packages\\ipykernel_launcher.py:9: DataConversionWarning: Data with input dtype int64, float64 were all converted to float64 by StandardScaler.\n",
      "  if __name__ == '__main__':\n",
      "C:\\Users\\admin\\Anaconda3\\lib\\site-packages\\ipykernel_launcher.py:10: DataConversionWarning: Data with input dtype int64, float64 were all converted to float64 by StandardScaler.\n",
      "  # Remove the CWD from sys.path while we load stuff.\n"
     ]
    },
    {
     "name": "stdout",
     "output_type": "stream",
     "text": [
      "Prediction Results on Test Data SUCCESSFUL RAIDS\n",
      "r2 score :  1.0\n",
      "   Season                  Team  Prediction  Actual\n",
      "42      2         Puneri Paltan       170.0     170\n",
      "5       3     Dabang Delhi K.C.       171.0     171\n",
      "50      2  Jaipur Pink Panthers       183.0     183\n",
      "72      4              U Mumbai       188.0     188\n",
      "66      2       Bengaluru Bulls       194.0     194\n",
      "73      3              U Mumbai       206.0     206\n",
      "21      3         Telugu Titans       206.0     206\n",
      "32      4         Patna Pirates       206.0     206\n",
      "7       1     Dabang Delhi K.C.       246.0     246\n",
      "22      2         Telugu Titans       265.0     265\n",
      "14      6       Tamil Thalaivas       344.0     344\n",
      "78      6           U.P. Yoddha       357.0     357\n",
      "10      6      Haryana Steelers       361.0     361\n",
      "30      6         Patna Pirates       406.0     406\n",
      "\n",
      "Prediction Results for Season 7 SUCCESSFUL RAIDS\n",
      "r2 score :  1.0\n",
      "   Season                   Team  Prediction  Actual\n",
      "77      7            U.P. Yoddha       208.0     208\n",
      "25      7  Gujarat Fortunegiants       226.0     226\n",
      "69      7               U Mumbai       238.0     238\n",
      "13      7        Tamil Thalaivas       248.0     248\n",
      "9       7       Haryana Steelers       259.0     259\n",
      "37      7          Puneri Paltan       272.0     272\n",
      "17      7          Telugu Titans       273.0     273\n",
      "29      7          Patna Pirates       291.0     291\n",
      "61      7        Bengaluru Bulls       309.0     309\n",
      "1       7      Dabang Delhi K.C.       312.0     312\n",
      "53      7        Bengal Warriors       318.0     318\n"
     ]
    }
   ],
   "source": [
    "cols_to_scale1=cols_to_scale.copy()\n",
    "cols_to_scale1.remove(Y[4])\n",
    "df_train, df_test1, df_test2 =  get_train_validate_test_dataset (df_teamDetail,Y[4])\n",
    "print (\"Train:\",df_train.shape, \"Test1:\",df_test1.shape, \"Test2:\",df_test2.shape )\n",
    "df, y_test, y_test_pred = PredictMetrics([df_train,df_test1,df_test2],Y[4],cols_to_scale1)\n",
    "showPredictions(df, y_test, y_test_pred, Y[4],\"team\",\"\")"
   ]
  },
  {
   "cell_type": "code",
   "execution_count": 64,
   "metadata": {},
   "outputs": [
    {
     "name": "stdout",
     "output_type": "stream",
     "text": [
      "\n",
      "Train: (40, 24) Test1: (14, 24) Test2: (11, 24)\n"
     ]
    },
    {
     "name": "stderr",
     "output_type": "stream",
     "text": [
      "C:\\Users\\admin\\Anaconda3\\lib\\site-packages\\sklearn\\preprocessing\\data.py:625: DataConversionWarning: Data with input dtype int64, float64 were all converted to float64 by StandardScaler.\n",
      "  return self.partial_fit(X, y)\n",
      "C:\\Users\\admin\\Anaconda3\\lib\\site-packages\\sklearn\\base.py:462: DataConversionWarning: Data with input dtype int64, float64 were all converted to float64 by StandardScaler.\n",
      "  return self.fit(X, **fit_params).transform(X)\n",
      "C:\\Users\\admin\\Anaconda3\\lib\\site-packages\\ipykernel_launcher.py:9: DataConversionWarning: Data with input dtype int64, float64 were all converted to float64 by StandardScaler.\n",
      "  if __name__ == '__main__':\n",
      "C:\\Users\\admin\\Anaconda3\\lib\\site-packages\\ipykernel_launcher.py:10: DataConversionWarning: Data with input dtype int64, float64 were all converted to float64 by StandardScaler.\n",
      "  # Remove the CWD from sys.path while we load stuff.\n"
     ]
    },
    {
     "name": "stdout",
     "output_type": "stream",
     "text": [
      "Prediction Results on Test Data SUCCESSFUL TACKLES\n",
      "r2 score :  1.0\n",
      "   Season                  Team  Prediction  Actual\n",
      "5       3     Dabang Delhi K.C.        98.0      98\n",
      "21      3         Telugu Titans       101.0     101\n",
      "42      2         Puneri Paltan       104.0     104\n",
      "72      4              U Mumbai       110.0     110\n",
      "7       1     Dabang Delhi K.C.       124.0     124\n",
      "50      2  Jaipur Pink Panthers       124.0     124\n",
      "32      4         Patna Pirates       145.0     145\n",
      "66      2       Bengaluru Bulls       158.0     158\n",
      "22      2         Telugu Titans       158.0     158\n",
      "73      3              U Mumbai       163.0     163\n",
      "14      6       Tamil Thalaivas       174.0     174\n",
      "10      6      Haryana Steelers       180.0     180\n",
      "30      6         Patna Pirates       186.0     186\n",
      "78      6           U.P. Yoddha       240.0     240\n",
      "\n",
      "Prediction Results for Season 7 SUCCESSFUL TACKLES\n",
      "r2 score :  1.0\n",
      "   Season                   Team  Prediction  Actual\n",
      "13      7        Tamil Thalaivas       144.0     144\n",
      "25      7  Gujarat Fortunegiants       160.0     160\n",
      "69      7               U Mumbai       161.0     161\n",
      "17      7          Telugu Titans       162.0     162\n",
      "1       7      Dabang Delhi K.C.       162.0     162\n",
      "9       7       Haryana Steelers       165.0     165\n",
      "77      7            U.P. Yoddha       167.0     167\n",
      "61      7        Bengaluru Bulls       167.0     167\n",
      "29      7          Patna Pirates       168.0     168\n",
      "53      7        Bengal Warriors       174.0     174\n",
      "37      7          Puneri Paltan       197.0     197\n"
     ]
    }
   ],
   "source": [
    "cols_to_scale1=cols_to_scale.copy()\n",
    "cols_to_scale1.remove(Y[5])\n",
    "df_train, df_test1, df_test2 =  get_train_validate_test_dataset (df_teamDetail,Y[5])\n",
    "print (\"Train:\",df_train.shape, \"Test1:\",df_test1.shape, \"Test2:\",df_test2.shape )\n",
    "df, y_test, y_test_pred = PredictMetrics([df_train,df_test1,df_test2],Y[5],cols_to_scale1)\n",
    "showPredictions(df, y_test, y_test_pred, Y[5],\"team\",\"\")"
   ]
  },
  {
   "cell_type": "markdown",
   "metadata": {},
   "source": [
    "<font size=6, color=red>Creating Player Dataset from pdf files</font>"
   ]
  },
  {
   "cell_type": "code",
   "execution_count": 67,
   "metadata": {},
   "outputs": [],
   "source": [
    "folders = [\"Bangalore\",\"Delhi\",\"Bengal\"]\n",
    "folders = [\"Bangalore\"]"
   ]
  },
  {
   "cell_type": "markdown",
   "metadata": {},
   "source": [
    "<font size=5 color=red>__LINE BELOW WILL OVER-WRITE THE EXISTING FILES!!!!__<font/>"
   ]
  },
  {
   "cell_type": "markdown",
   "metadata": {},
   "source": [
    "#Convert all pds files in CSV\n",
    "for folder in folders:\n",
    "    print(folder)\n",
    "    files=os.listdir(\"players\\\\\"+folder)\n",
    "    for f in files:\n",
    "        f1 = f.split(\".\")\n",
    "        print (\"players\\\\folder\\\\\"+f1[0]+\".csv\")\n",
    "        \n",
    "        if f1[1]==\"pdf\":\n",
    "            tabula.convert_into(\"players\\\\\"+folder+\"\\\\\"+f, \"players\\\\\"+folder+\"\\\\\"+f1[0]+\".csv\", output_format=\"csv\")"
   ]
  },
  {
   "cell_type": "code",
   "execution_count": 65,
   "metadata": {},
   "outputs": [],
   "source": [
    "def massage_ds(df1):\n",
    "    df1.SEASONS [df1.SEASONS==\"EARNED\"] =\"TOTAL POINTS EARNED\"\n",
    "    df1.SEASONS [ (df1.SEASONS==\"MATCH\") & (df1.index<6) ] = \"MOST POINTS IN A MATCH\"\n",
    "    df1.SEASONS [df1.SEASONS==\"MATCH\"] = \"AVERAGE TACKLE / MATCH\"\n",
    "    df1.SEASONS [df1.SEASONS==\"%\"] = \"SUCCESSFUL RAIDS %\"\n",
    "    df1.SEASONS [df1.SEASONS==\"POINTS / MATCH\"] = \"AVERAGE RAID POINTS / MATCH\"\n",
    "    df1.SEASONS [df1.SEASONS==\"TACKLES\"] = \"NO OF SUPER TACKLES\"\n",
    "    df1.SEASONS [df1.SEASONS==\"POINTS\"] = \"TOTAL TACKLE POINTS\"\n",
    "    df1.SEASONS [df1.SEASONS==\"TACKLE STRIKE RATE\"] =\"TACKLE STRIKE RATE %\"\n",
    "    df1=df1[~df1.OVERALL.isna()]\n",
    "    return df1"
   ]
  },
  {
   "cell_type": "code",
   "execution_count": 68,
   "metadata": {},
   "outputs": [
    {
     "name": "stdout",
     "output_type": "stream",
     "text": [
      "Bangalore\n",
      "players\\Bangalore\\ajay-profile-2353.csv\n",
      "players\\Bangalore\\aman-profile-2501.csv\n",
      "players\\Bangalore\\amit-sheoran-profile-794.csv\n",
      "players\\Bangalore\\ankit-profile-2471.csv\n",
      "players\\Bangalore\\ashish-kumar-profile-202.csv\n",
      "players\\Bangalore\\banty-profile-2503.csv\n",
      "players\\Bangalore\\lbanty-profile-2503.csv\n",
      "players\\Bangalore\\mahender-singh-profile-769.csv\n",
      "players\\Bangalore\\mohit-sehrawat-profile-2502.csv\n",
      "players\\Bangalore\\pawan-sehrawat-profile-318.csv\n",
      "players\\Bangalore\\raju-lal-choudhary-profile-87.csv\n",
      "players\\Bangalore\\rohit-kumar-profile-326.csv\n",
      "players\\Bangalore\\sandeep-profile-299.csv\n",
      "players\\Bangalore\\sanjay-shrestha-profile-15.csv\n",
      "players\\Bangalore\\saurabh-nandal-profile-2670.csv\n",
      "players\\Bangalore\\sumit-singh-profile-363.csv\n",
      "players\\Bangalore\\vijay-kumar-profile-768.csv\n",
      "players\\Bangalore\\vinod-kumar-profile-387.csv\n"
     ]
    }
   ],
   "source": [
    "### Read all CSV files into dataset. Massage all dataset. Put datasets in array datasets\n",
    "dfs=[]\n",
    "for folder in folders:\n",
    "    print(folder)\n",
    "    files=os.listdir(\"players\\\\\"+folder)\n",
    "    for f in files:\n",
    "        f1 = f.split(\".\")\n",
    "      \n",
    "        if f1[1]==\"csv\":\n",
    "            file=\"players\\\\\"+folder+\"\\\\\"+f1[0]+\".csv\"\n",
    "            \n",
    "            print(file)\n",
    "            df= pd.read_csv(file)\n",
    "            df = massage_ds(df)\n",
    "            \n",
    "            df[\"Player\"]=f1[0]\n",
    "            df[\"Team\"]=folder\n",
    "            \n",
    "            dfs.append(df)"
   ]
  },
  {
   "cell_type": "code",
   "execution_count": 69,
   "metadata": {},
   "outputs": [],
   "source": [
    "###Merge All Datasets\n",
    "First=True\n",
    "for d in dfs:\n",
    "    if First:\n",
    "        df=d\n",
    "        First=False\n",
    "    else: \n",
    "        df = pd.concat([df, d])\n",
    "        \n",
    "df.drop(columns=[\"Unnamed: 4\",\"Unnamed: 5\",\"Unnamed: 6\",\"Unnamed: 7\",\"Unnamed: 8\",\"Unnamed: 9\"], inplace=True)"
   ]
  },
  {
   "cell_type": "code",
   "execution_count": null,
   "metadata": {},
   "outputs": [],
   "source": []
  },
  {
   "cell_type": "code",
   "execution_count": 70,
   "metadata": {},
   "outputs": [],
   "source": [
    "#Reduce Dataset Columns Season 1, Season 2 etc to Season.\n",
    "col1= ['Player', 'SEASONS', 'Team']\n",
    "i=1\n",
    "while i<=7:\n",
    "    s=\"SEASON \"+str(i)\n",
    "    col2=col1.copy()\n",
    "    col2.append(s)\n",
    "    if i==1:\n",
    "        df2 = df[col2]\n",
    "        df2= df2.rename(columns = { s : \"Score\"})\n",
    "        df2['Season']=i\n",
    "\n",
    "    else:\n",
    "        df_temp=df[col2]\n",
    "        df_temp= df_temp.rename(columns = { s : \"Score\"})\n",
    "        df_temp['Season']=i\n",
    "        \n",
    "        df2 = pd.concat( [df2, df_temp ], axis=0)\n",
    "    i+=1"
   ]
  },
  {
   "cell_type": "code",
   "execution_count": null,
   "metadata": {},
   "outputs": [],
   "source": []
  },
  {
   "cell_type": "code",
   "execution_count": 71,
   "metadata": {},
   "outputs": [],
   "source": [
    "#Transform the final dataset\n",
    "df2=df2[~df2.Score.isna()]\n",
    "\n",
    "df2= df2.rename(columns = { \"SEASONS\" : \"Metrics\"})\n",
    "df2.index = np.arange(len(df2))\n",
    "df2[ ['Score','Junk'] ] = df2.Score.str.split(\" \", expand=True)\n",
    "df2.Metrics = df2.Metrics.str.replace(\"?\",\"\")\n",
    "df2.drop(columns=\"Junk\", inplace=True)\n",
    "\n",
    "df2=df2[~df2.Score.isna()]"
   ]
  },
  {
   "cell_type": "code",
   "execution_count": null,
   "metadata": {},
   "outputs": [],
   "source": [
    "df2.head()"
   ]
  },
  {
   "cell_type": "code",
   "execution_count": null,
   "metadata": {},
   "outputs": [],
   "source": []
  },
  {
   "cell_type": "code",
   "execution_count": 72,
   "metadata": {},
   "outputs": [],
   "source": [
    "###Transorm Players Dataset\n",
    "metrics_list = list(df2.Metrics.unique())\n",
    "df2.index = df2.Player+\"|\"+df2.Season.astype(str)\n",
    "\n",
    "i=0\n",
    "while i< len(metrics_list):\n",
    "\n",
    "    df_temp = df2[df2.Metrics==metrics_list[i]]\n",
    "    df_temp = df_temp.rename(columns={\"Score\":metrics_list[i]})\n",
    "    \n",
    "    if i==0:\n",
    "        df_temp.drop(columns=[\"Metrics\",\"Player\",\"Season\"],inplace=True)\n",
    "        df_players = df_temp\n",
    "    else:\n",
    "        df_temp.drop(columns=[\"Metrics\",\"Player\",\"Season\",\"Team\"],inplace=True)\n",
    "        df_players = pd.concat([df_players,df_temp], axis=1)\n",
    "    i+=1\n",
    "    \n",
    "df_players = df_players.reset_index()\n",
    "df_players= df_players.rename(columns={\"index\":\"id\"})\n",
    "df_players[ ['Player','Season'] ] = df_players.id.str.split(\"|\", expand=True)\n",
    "df_players.drop(columns=[\"id\"],inplace=True)"
   ]
  },
  {
   "cell_type": "code",
   "execution_count": null,
   "metadata": {},
   "outputs": [],
   "source": [
    "#df_players.info()"
   ]
  },
  {
   "cell_type": "code",
   "execution_count": null,
   "metadata": {},
   "outputs": [],
   "source": [
    "#df_players.head()"
   ]
  },
  {
   "cell_type": "code",
   "execution_count": 73,
   "metadata": {},
   "outputs": [],
   "source": [
    "#Change Datatypes\n",
    "df_players['MATCHES PLAYED']           =df_players['MATCHES PLAYED'].astype(int)\n",
    "df_players[ 'TOTAL POINTS EARNED']     =df_players[ 'TOTAL POINTS EARNED'].astype(int)\n",
    "df_players[ 'MOST POINTS IN A MATCH']  =df_players[ 'MOST POINTS IN A MATCH'].astype(int)\n",
    "df_players[ 'NOT OUT % ']              =df_players[ 'NOT OUT % '].astype(float)\n",
    "df_players[ 'TOTAL RAIDS']             =df_players[ 'TOTAL RAIDS'].astype(int)\n",
    "df_players[ 'SUCCESSFUL RAIDS %']      =df_players[ 'SUCCESSFUL RAIDS %'].astype(float)\n",
    "df_players[ 'NO OF SUPER RAIDS']       =df_players[ 'NO OF SUPER RAIDS'] .astype(int)\n",
    "df_players[ 'SUPER 10S ']              =df_players[ 'SUPER 10S '].astype(int)\n",
    "df_players[ 'TOTAL RAID POINTS']       =df_players[ 'TOTAL RAID POINTS'].astype(int)\n",
    "df_players[ 'AVERAGE RAID POINTS / MATCH'] =df_players[ 'AVERAGE RAID POINTS / MATCH'].astype(float)\n",
    "df_players[ 'NO OF SUPER TACKLES']     =df_players[ 'NO OF SUPER TACKLES'].astype(int)\n",
    "df_players[ 'HIGH 5S ']                =df_players[ 'HIGH 5S '].astype(int)\n",
    "df_players[ 'TOTAL TACKLE POINTS']     =df_players[ 'TOTAL TACKLE POINTS'].astype(int)\n",
    "df_players[ 'AVERAGE TACKLE / MATCH']  =df_players[ 'AVERAGE TACKLE / MATCH'].astype(float)\n",
    "df_players[ 'TOTAL TACKLES']           =df_players[ 'TOTAL TACKLES'].astype(int)\n",
    "df_players[ 'TACKLE STRIKE RATE %']    =df_players[ 'TACKLE STRIKE RATE %'].astype(float)"
   ]
  },
  {
   "cell_type": "code",
   "execution_count": 74,
   "metadata": {},
   "outputs": [],
   "source": [
    "cols_to_scale = list(df_players.select_dtypes([\"int32\",\"float64\"]).columns)"
   ]
  },
  {
   "cell_type": "code",
   "execution_count": null,
   "metadata": {},
   "outputs": [],
   "source": [
    "plt.figure(figsize=(20,20))\n",
    "i=1\n",
    "for f in cols_to_scale:\n",
    "    plt.subplot(len(cols_to_scale), 5,i)\n",
    "    sns.boxplot((df_players[f]))\n",
    "    i+=1\n",
    "    \n",
    "plt.tight_layout()"
   ]
  },
  {
   "cell_type": "markdown",
   "metadata": {},
   "source": [
    "## Feature Engineering"
   ]
  },
  {
   "cell_type": "code",
   "execution_count": 75,
   "metadata": {},
   "outputs": [],
   "source": [
    "#These columns has too much abnormal data and by any meant it cannot be normalzied\n",
    "df_players.drop(columns=[\"NO OF SUPER RAIDS\", \"SUPER 10S \"], inplace=True)\n",
    "cols_to_scale = list(df_players.select_dtypes([\"int32\",\"float64\"]).columns)"
   ]
  },
  {
   "cell_type": "code",
   "execution_count": 76,
   "metadata": {},
   "outputs": [],
   "source": [
    "#Normal : No change required\n",
    "#Matches player\n",
    "#Tacle strike rate\n",
    "\n",
    "\n",
    "#TOTAL TACKLE POINTS\tAVERAGE TACKLE / MATCH\tTOTAL TACKLES\n",
    "#TOTAL POINTS EARNED\tMOST POINTS IN A MATCH\tNOT OUT %\tTOTAL RAIDS\n",
    "\n",
    "\n",
    "#SQRT -(If create log2 data get normalized but they get -inf)\n",
    "df_players[ 'TOTAL POINTS EARNED']   = np.sqrt(np.sqrt(df_players[ 'TOTAL POINTS EARNED']))\n",
    "df_players[ 'MOST POINTS IN A MATCH'] = np.sqrt(df_players[ 'MOST POINTS IN A MATCH'])\n",
    "df_players[ 'NOT OUT % ']            = np.sqrt(df_players[ 'NOT OUT % ']) \n",
    "df_players[ 'TOTAL RAIDS']            = np.sqrt(np.sqrt(df_players[ 'TOTAL RAIDS']))\n",
    "df_players[ 'TOTAL TACKLE POINTS']    = (np.sqrt(df_players[ 'TOTAL TACKLE POINTS']))\n",
    "df_players[ 'AVERAGE TACKLE / MATCH'] =  (np.sqrt(df_players[ 'AVERAGE TACKLE / MATCH']))\n",
    "df_players[ 'TOTAL TACKLES']          = (np.sqrt(df_players[ 'TOTAL TACKLES']))\n",
    "\n",
    "#**.5\n",
    "df_players[ 'SUCCESSFUL RAIDS %'] = df_players[ 'SUCCESSFUL RAIDS %']**.5\n",
    "df_players[ 'HIGH 5S ']           = df_players[ 'HIGH 5S ']**.5\n",
    "\n",
    "##sine\n",
    "df_players[ 'AVERAGE RAID POINTS / MATCH'] = np.sin(df_players[ 'AVERAGE RAID POINTS / MATCH'])\n",
    "df_players[\"TOTAL RAID POINTS\"] = np.sin(df_players[\"TOTAL RAID POINTS\"])"
   ]
  },
  {
   "cell_type": "code",
   "execution_count": null,
   "metadata": {},
   "outputs": [],
   "source": [
    "plt.figure(figsize=(20,20))\n",
    "i=1\n",
    "for f in cols_to_scale:\n",
    "    plt.subplot(len(cols_to_scale), 5,i)\n",
    "    sns.boxplot(( (df_players[f])) )\n",
    "    i+=1\n",
    "    \n",
    "plt.tight_layout()"
   ]
  },
  {
   "cell_type": "code",
   "execution_count": null,
   "metadata": {},
   "outputs": [],
   "source": []
  },
  {
   "cell_type": "code",
   "execution_count": null,
   "metadata": {},
   "outputs": [],
   "source": [
    "df_players.describe()"
   ]
  },
  {
   "cell_type": "code",
   "execution_count": 78,
   "metadata": {},
   "outputs": [],
   "source": [
    "Y=[\"SUCCESSFUL RAIDS %\",\"TOTAL TACKLE POINTS\"]"
   ]
  },
  {
   "cell_type": "code",
   "execution_count": 80,
   "metadata": {},
   "outputs": [
    {
     "name": "stdout",
     "output_type": "stream",
     "text": [
      "\n",
      "Train: (22, 17) Test1: (8, 17) Test2: (13, 17)\n"
     ]
    },
    {
     "name": "stderr",
     "output_type": "stream",
     "text": [
      "C:\\Users\\admin\\Anaconda3\\lib\\site-packages\\sklearn\\preprocessing\\data.py:625: DataConversionWarning: Data with input dtype int32, float64 were all converted to float64 by StandardScaler.\n",
      "  return self.partial_fit(X, y)\n",
      "C:\\Users\\admin\\Anaconda3\\lib\\site-packages\\sklearn\\base.py:462: DataConversionWarning: Data with input dtype int32, float64 were all converted to float64 by StandardScaler.\n",
      "  return self.fit(X, **fit_params).transform(X)\n",
      "C:\\Users\\admin\\Anaconda3\\lib\\site-packages\\ipykernel_launcher.py:9: DataConversionWarning: Data with input dtype int32, float64 were all converted to float64 by StandardScaler.\n",
      "  if __name__ == '__main__':\n",
      "C:\\Users\\admin\\Anaconda3\\lib\\site-packages\\ipykernel_launcher.py:10: DataConversionWarning: Data with input dtype int32, float64 were all converted to float64 by StandardScaler.\n",
      "  # Remove the CWD from sys.path while we load stuff.\n"
     ]
    },
    {
     "name": "stdout",
     "output_type": "stream",
     "text": [
      "Prediction Results on Test Data SUCCESSFUL RAIDS %\n",
      "r2 score :  0.15\n",
      "   Season       Team  Prediction  Actual\n",
      "27      6  Bangalore    2.802895    0.00\n",
      "28      6  Bangalore    5.176775   40.74\n",
      "8       4  Bangalore    7.202027   33.33\n",
      "9       4  Bangalore   14.581869   39.74\n",
      "23      6  Bangalore   25.200390    0.00\n",
      "17      5  Bangalore   26.292626   33.33\n",
      "15      5  Bangalore   44.550136   52.39\n",
      "24      6  Bangalore   78.772137   72.26\n",
      "\n",
      "Prediction Results for Season 7 SUCCESSFUL RAIDS %\n",
      "r2 score :  0.42\n",
      "   Season       Team  Prediction  Actual\n",
      "31      7  Bangalore    0.233836    0.00\n",
      "32      7  Bangalore    1.822058    0.00\n",
      "35      7  Bangalore   12.428467   40.00\n",
      "41      7  Bangalore   14.557947   39.13\n",
      "33      7  Bangalore   14.607618    0.00\n",
      "37      7  Bangalore   17.215082   11.11\n",
      "42      7  Bangalore   19.733556    0.00\n",
      "36      7  Bangalore   26.086073    0.00\n",
      "34      7  Bangalore   34.860904    8.33\n",
      "39      7  Bangalore   45.086571   38.26\n",
      "38      7  Bangalore   48.097467   70.55\n",
      "30      7  Bangalore   56.377480   50.00\n",
      "40      7  Bangalore   61.349523  100.00\n"
     ]
    }
   ],
   "source": [
    "cols_to_scale1=cols_to_scale.copy()\n",
    "cols_to_scale1.remove(Y[0])\n",
    "df_train, df_test1, df_test2 =  get_train_validate_test_dataset (df_players,Y[0])\n",
    "print (\"Train:\",df_train.shape, \"Test1:\",df_test1.shape, \"Test2:\",df_test2.shape )\n",
    "df, y_test, y_test_pred = PredictMetrics([df_train,df_test1,df_test2],Y[0],cols_to_scale1)\n",
    "showPredictions(df, y_test, y_test_pred, Y[0],\"team\",\"sqrt\")"
   ]
  },
  {
   "cell_type": "code",
   "execution_count": 79,
   "metadata": {},
   "outputs": [
    {
     "name": "stdout",
     "output_type": "stream",
     "text": [
      "\n",
      "Train: (22, 17) Test1: (8, 17) Test2: (13, 17)\n"
     ]
    },
    {
     "name": "stderr",
     "output_type": "stream",
     "text": [
      "C:\\Users\\admin\\Anaconda3\\lib\\site-packages\\sklearn\\preprocessing\\data.py:625: DataConversionWarning: Data with input dtype int32, float64 were all converted to float64 by StandardScaler.\n",
      "  return self.partial_fit(X, y)\n",
      "C:\\Users\\admin\\Anaconda3\\lib\\site-packages\\sklearn\\base.py:462: DataConversionWarning: Data with input dtype int32, float64 were all converted to float64 by StandardScaler.\n",
      "  return self.fit(X, **fit_params).transform(X)\n",
      "C:\\Users\\admin\\Anaconda3\\lib\\site-packages\\ipykernel_launcher.py:9: DataConversionWarning: Data with input dtype int32, float64 were all converted to float64 by StandardScaler.\n",
      "  if __name__ == '__main__':\n",
      "C:\\Users\\admin\\Anaconda3\\lib\\site-packages\\ipykernel_launcher.py:10: DataConversionWarning: Data with input dtype int32, float64 were all converted to float64 by StandardScaler.\n",
      "  # Remove the CWD from sys.path while we load stuff.\n"
     ]
    },
    {
     "name": "stdout",
     "output_type": "stream",
     "text": [
      "Prediction Results on Test Data TOTAL TACKLE POINTS\n",
      "r2 score :  0.96\n",
      "   Season       Team  Prediction  Actual\n",
      "8       4  Bangalore    0.544678     0.0\n",
      "28      6  Bangalore    1.849911     4.0\n",
      "9       4  Bangalore    4.334638     7.0\n",
      "17      5  Bangalore    5.701021     5.0\n",
      "15      5  Bangalore   10.021723    12.0\n",
      "24      6  Bangalore   13.041674    11.0\n",
      "27      6  Bangalore   15.162244    16.0\n",
      "23      6  Bangalore   67.377645    63.0\n",
      "\n",
      "Prediction Results for Season 7 TOTAL TACKLE POINTS\n",
      "r2 score :  0.97\n",
      "   Season       Team  Prediction  Actual\n",
      "31      7  Bangalore    0.979662     1.0\n",
      "35      7  Bangalore    1.564973     3.0\n",
      "41      7  Bangalore    1.774117     3.0\n",
      "30      7  Bangalore    3.827397     2.0\n",
      "39      7  Bangalore    5.099394     4.0\n",
      "42      7  Bangalore    6.642725     5.0\n",
      "34      7  Bangalore    6.760424     5.0\n",
      "33      7  Bangalore    7.430962     6.0\n",
      "38      7  Bangalore    9.979309    14.0\n",
      "37      7  Bangalore   13.250621    12.0\n",
      "32      7  Bangalore   44.133807    43.0\n",
      "40      7  Bangalore   48.351128    47.0\n",
      "36      7  Bangalore   49.804439    46.0\n"
     ]
    }
   ],
   "source": [
    "cols_to_scale1=cols_to_scale.copy()\n",
    "cols_to_scale1.remove(Y[1])\n",
    "df_train, df_test1, df_test2 =  get_train_validate_test_dataset (df_players,Y[1])\n",
    "print (\"Train:\",df_train.shape, \"Test1:\",df_test1.shape, \"Test2:\",df_test2.shape )\n",
    "df, y_test, y_test_pred = PredictMetrics([df_train,df_test1,df_test2],Y[1],cols_to_scale1)\n",
    "showPredictions(df, y_test, y_test_pred, Y[1],\"team\",\"sqrt\")"
   ]
  },
  {
   "cell_type": "code",
   "execution_count": null,
   "metadata": {},
   "outputs": [],
   "source": []
  }
 ],
 "metadata": {
  "kernelspec": {
   "display_name": "Python 3",
   "language": "python",
   "name": "python3"
  },
  "language_info": {
   "codemirror_mode": {
    "name": "ipython",
    "version": 3
   },
   "file_extension": ".py",
   "mimetype": "text/x-python",
   "name": "python",
   "nbconvert_exporter": "python",
   "pygments_lexer": "ipython3",
   "version": "3.7.1"
  }
 },
 "nbformat": 4,
 "nbformat_minor": 2
}
