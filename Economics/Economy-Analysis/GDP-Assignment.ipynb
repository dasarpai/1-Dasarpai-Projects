{
 "cells": [
  {
   "cell_type": "raw",
   "metadata": {},
   "source": [
    "### Definitions\n",
    "GSDP => Gross State Domestic Product (This is also called GDP of a state)\n",
    "Sectors => Primary (agriculture), secondary (industry), tertiary (services)\n",
    "Union Territories => Delhi, Chandigarh, Andaman & Nicobar, Puducherry, Dadara & Nagar Haveli, Daman & Diu\n",
    "\n",
    "### Datasets Purpose & Name\n",
    "Dataset Data IA: Contains the data for the states and union territories. This data will go into dataframe df1A_SomeNameBasedOnNeed\n",
    "\n",
    "1. Dataset Data IB: Contains the data related to distribution of GSDP among three sectors. \n",
    "2. This dataset also contains taxes and subsidies. This data will go into dataframe df1B_SomeNamedBasedOnNeed\n",
    "3. Dataframe df1B_Final_SomeNameBasedOnNeed is master dataframe of all the data of IB of different states. This is transformed dataframe\n",
    "\n",
    "Dataset Data II: \n",
    "Contains the data for the Education dropout rates. This data will go in dataframe df2_SomeNameBasedOnNeed"
   ]
  },
  {
   "cell_type": "raw",
   "metadata": {},
   "source": [
    "Part I-A: Tasks\n",
    "\n",
    "1. Remove the rows: '(% Growth over the previous year)' and 'GSDP - CURRENT PRICES (` in Crore)' for the year 2016-17.\n",
    "2. Calculate the average growth of states over the duration 2013-14, 2014-15 and 2015-16 by taking the mean of the row '(% Growth over previous year)'. Compare the calculated value and plot it for the states. Make appropriate transformations if necessary to plot the data. Report the average growth rates of the various states:\n",
    "3. Which states have been growing consistently fast, and which ones have been struggling?\n",
    "4. Curiosity exercise - what has been the average growth rate of your home state, and how does it compare to the national average over this duration?\n",
    "5. Plot the total GDP of the states for the year 2015-16:\n",
    "6. Identify the top-5 and the bottom-5 states based on total GDP"
   ]
  },
  {
   "cell_type": "raw",
   "metadata": {},
   "source": [
    "Part I-B: Tasks\n",
    "\n",
    "1. For the analysis below, use Data I-B. You can also use Data I-B along with Data I-A if required. Also, perform the analysis only for the duration : 2014-15.\n",
    "2. Filter out the Union Territories (Delhi, Chandigarh, Andaman and Nicobar Islands etc.) for further analysis since they are governed directly by the centre, not state governments.\n",
    "3. Plot the GDP per capita for all the states.\n",
    "4. Identify the top-5 and the bottom-5 states based on GDP per capita.\n",
    "5. Find the ratio of highest per capita GDP to the lowest per capita GDP.\n",
    "6. Plot the percentage contribution of primary, secondary and tertiary sectors as a percentage of total GDP for all the states.\n",
    "7. Categorise the states into four categories based on GDP per capita (C1, C2, C3, C4 - C1 would have the highest per capita GDP, C4 the lowest). The quantile values are (0.20,0.5, 0.85, 1), i.e. the states lying between the 85th and the 100th percentile are in C1, those between 50th and 85th percentile are in C2 and so on.\n",
    "8. For each category C1, C2, C3, C4: Find the top 3/4/5 sub-sectors (such as agriculture, forestry and fishing, crops, manufacturing etc.) [not primary, secondary and tertiary] which contribute to approx. 80% of the GSDP of each category\n",
    "\n",
    "Note-I: The nomenclature for this project is as follows: primary, secondary and tertiary are named 'sectors', while agriculture, manufacturing etc. are named 'sub-sectors'\n",
    "Note-II: If the top-3 sub-sectors contribute to say 79% of the GDP of some category, you can report 'these top-3 sub-sectors contribute to approx. 80% of the GDP'. This is to simplify the analysis and make the results consumable (remember, the CEO has to present the report to the CMs, and CMs have limited time, so the analysis needs to be very sharp and concise)\n",
    "\n",
    "9. Plot the contribution of the sub-sectors as a percentage of the GSDP of each category.  \n",
    "10. Now that you have summarised the data in the form of plots, tables etc., try to observe non-obvious insights from it. Think about questions such as:\n",
    "    * How does the GDP distribution of the top states (C1) differ from the others?\n",
    "    * Which sub-sectors seem to be correlated with high GDP?\n",
    "    * Which sub-sectors do the various categories need to focus on?\n",
    "    * Etc.\n",
    "11. Ask other such relevant questions which you think are important and write your insights for category separately.\n",
    "12. Finally, provide at least two recommendations for each category to improve the per capita GDP."
   ]
  },
  {
   "cell_type": "raw",
   "metadata": {},
   "source": [
    "Part 2: Tasks\n",
    "1. Analyse if there is any correlation of GDP per capita with dropout rates in education (primary, upper primary and secondary) for the year 2014-2015 for the states. Choose an appropriate plot to conduct this analysis.\n",
    "2. Write the key insights you observe from this data:\n",
    "3. Form at least one reasonable hypothesis for the observations from the data"
   ]
  },
  {
   "cell_type": "markdown",
   "metadata": {},
   "source": [
    "# Part 1 : GDP Analysis of Indian States"
   ]
  },
  {
   "cell_type": "markdown",
   "metadata": {},
   "source": [
    "## Part 1A"
   ]
  },
  {
   "cell_type": "code",
   "execution_count": null,
   "metadata": {},
   "outputs": [],
   "source": [
    "#Load Packages needed for this Project\n",
    "import pandas as pd\n",
    "import numpy as np\n",
    "import matplotlib.pyplot as plt\n",
    "import matplotlib as mpl\n",
    "import seaborn as sns\n",
    "import numpy as np\n",
    "import chardet\n",
    "import glob\n",
    "import os\n",
    "from matplotlib.ticker import PercentFormatter\n",
    "import matplotlib.ticker as mtick\n",
    "sns.set_style(\"white\")\n",
    "\n",
    "UT=['Delhi', 'Chandigarh', 'Andaman_&_Nicobar', 'Puducherry', 'Dadra_&_Nagar_Haveli', 'Daman_&_Diu']"
   ]
  },
  {
   "cell_type": "code",
   "execution_count": null,
   "metadata": {},
   "outputs": [],
   "source": []
  },
  {
   "cell_type": "code",
   "execution_count": null,
   "metadata": {},
   "outputs": [],
   "source": [
    "df1A=pd.read_csv(\"Data-I-A-Download.csv\")"
   ]
  },
  {
   "cell_type": "code",
   "execution_count": null,
   "metadata": {},
   "outputs": [],
   "source": [
    "df1A.info() #West Bengal1 col has all null values."
   ]
  },
  {
   "cell_type": "code",
   "execution_count": null,
   "metadata": {},
   "outputs": [],
   "source": [
    "df1A.describe() #Does not give any meaningful info because GDP and %Growth in the same col. So ignore below analysis."
   ]
  },
  {
   "cell_type": "code",
   "execution_count": null,
   "metadata": {},
   "outputs": [],
   "source": [
    "df1A.head(3) # To see what kind of data in the dataset"
   ]
  },
  {
   "cell_type": "code",
   "execution_count": null,
   "metadata": {},
   "outputs": [],
   "source": [
    "df1A.tail(3) # To see what kind of data in the dataset"
   ]
  },
  {
   "cell_type": "code",
   "execution_count": null,
   "metadata": {},
   "outputs": [],
   "source": [
    "#This dataset has GDP detail of 33 states/UT and All_India\n",
    "len(list(df1A.columns))-3"
   ]
  },
  {
   "cell_type": "code",
   "execution_count": null,
   "metadata": {},
   "outputs": [],
   "source": [
    "# Colums names which has null values (in %) compare to all the rows of dataset\n",
    "round(pd.Series(df1A.isnull().sum(axis=0)/len(df1A.index)*100),2).sort_values(ascending=False)"
   ]
  },
  {
   "cell_type": "code",
   "execution_count": null,
   "metadata": {},
   "outputs": [],
   "source": []
  },
  {
   "cell_type": "markdown",
   "metadata": {},
   "source": [
    "###### Task1: Remove the rows: '(% Growth over the previous year)' and 'GSDP - CURRENT PRICES (` in Crore)' for the year 2016-17."
   ]
  },
  {
   "cell_type": "code",
   "execution_count": null,
   "metadata": {},
   "outputs": [],
   "source": [
    "#Because there are 22 null values in this row out of 36\n",
    "Cond1=df1A['Items  Description']==\"(% Growth over previous year)\"\n",
    "Cond2=df1A['Duration']=='2016-17'\n",
    "df1A=df1A[~(Cond1 & Cond2)]"
   ]
  },
  {
   "cell_type": "code",
   "execution_count": null,
   "metadata": {},
   "outputs": [],
   "source": [
    "#Check the spread of null data across different column. \n",
    "pd.Series(df1A.isnull().sum(axis=0)/len(df1A.index)*100).sort_values(ascending=False).head(10)"
   ]
  },
  {
   "cell_type": "code",
   "execution_count": null,
   "metadata": {},
   "outputs": [],
   "source": [
    "df1A.isnull().sum(axis=1) #Only GDP data points for last 2 years missing "
   ]
  },
  {
   "cell_type": "code",
   "execution_count": null,
   "metadata": {},
   "outputs": [],
   "source": [
    "#Delete West Bengal1 col because 100% row are blank for this col. We cannot do any analysis for this.\n",
    "df1A=df1A.drop(\"West Bengal1\", axis=1)"
   ]
  },
  {
   "cell_type": "code",
   "execution_count": null,
   "metadata": {},
   "outputs": [],
   "source": [
    "df1A.isnull().sum(axis=1) #Only GDP data points for last 2 years missing "
   ]
  },
  {
   "cell_type": "code",
   "execution_count": null,
   "metadata": {},
   "outputs": [],
   "source": []
  },
  {
   "cell_type": "markdown",
   "metadata": {},
   "source": [
    "###### df1A Transformation starts from Here"
   ]
  },
  {
   "cell_type": "code",
   "execution_count": null,
   "metadata": {},
   "outputs": [],
   "source": [
    "# Part 1 of Transformation\n",
    "#Gel the list of all the state for which we have data\n",
    "All_Cols=df1A.columns\n",
    "All_States = df1A.columns[2:len(All_Cols)-1]\n",
    "\n",
    "#Create 2 dataframes one for GDP & another for GDP Percentage. \n",
    "df1A_GSDP     = df1A.iloc[0:6,0:len(All_Cols)]\n",
    "df1A_GSDP_Per = df1A.iloc[6:11,0:len(All_Cols)]\n",
    "\n",
    "#This data frame will exclude All_India Data\n",
    "#df1A_GSDP = df1A.iloc[0:6,0:len(All_Cols)-1]\n",
    "#df1A_GSDP_Per=df1A.iloc[6:11,0:len(All_Cols)-1]\n",
    "\n"
   ]
  },
  {
   "cell_type": "code",
   "execution_count": null,
   "metadata": {},
   "outputs": [],
   "source": [
    "# Part 2 of Transformation\n",
    "#Impute Null Values for GDP Growth % using mean of that State's GDP Grwoth\n",
    "col=0\n",
    "cols=len(All_States)\n",
    "while col < cols:\n",
    "    col_name=All_States[col]\n",
    "    df1A_GSDP_Per[   col_name  ].fillna( round(df1A_GSDP_Per[ col_name ].mean(),2), inplace=True)\n",
    "    col+=1\n"
   ]
  },
  {
   "cell_type": "code",
   "execution_count": null,
   "metadata": {},
   "outputs": [],
   "source": []
  },
  {
   "cell_type": "code",
   "execution_count": null,
   "metadata": {},
   "outputs": [],
   "source": [
    "# Part 3 of Transformation\n",
    "# Impute NaN values for GDP. For every state we need to get the mean of \n",
    "# GDP % Growth and the increment last years's GDP value by that mean value.\n",
    "\n",
    "col=0\n",
    "cols=len(All_States)\n",
    "rows=len(df1A_GSDP)\n",
    "while col < cols:\n",
    "    col_name=All_States[col]\n",
    "    #print (  df1A_GSDP[df1A_GSDP[ col ].isnull()])\n",
    "    newGDP = 0 #round(df1A_GSDP_Per[    col    ].mean(),2)\n",
    "    row=1\n",
    "    while row<rows:\n",
    "        thisGSDP=float(df1A_GSDP.loc[row,[col_name]])\n",
    "        if np.isnan(thisGSDP):\n",
    "            thisGSDP= round( float(df1A_GSDP.loc[row-1,[col_name]]) * (100 + df1A_GSDP_Per[col_name].mean()) / 100,0)\n",
    "            df1A_GSDP[   col_name  ].fillna( thisGSDP , inplace=True)\n",
    "        row+=1  \n",
    "    col+=1"
   ]
  },
  {
   "cell_type": "code",
   "execution_count": null,
   "metadata": {},
   "outputs": [],
   "source": []
  },
  {
   "cell_type": "code",
   "execution_count": null,
   "metadata": {},
   "outputs": [],
   "source": [
    "# Part 4 of Transformation\n",
    "#Recreate df1A which does not have any null value\n",
    "df1A=pd.DataFrame.append(df1A_GSDP,df1A_GSDP_Per)"
   ]
  },
  {
   "cell_type": "code",
   "execution_count": null,
   "metadata": {},
   "outputs": [],
   "source": [
    "#Check again if any null value in any row\n",
    "df1A.isnull().sum(axis=1)"
   ]
  },
  {
   "cell_type": "code",
   "execution_count": null,
   "metadata": {},
   "outputs": [],
   "source": [
    "# Part 5 of Transformation\n",
    "#Transpose Table : This is Part1 of Transformation\n",
    "df1A2=df1A.transpose()\n",
    "df1A2.reset_index(inplace=True)\n",
    "#df1A2.head(3)"
   ]
  },
  {
   "cell_type": "code",
   "execution_count": null,
   "metadata": {},
   "outputs": [],
   "source": []
  },
  {
   "cell_type": "code",
   "execution_count": null,
   "metadata": {},
   "outputs": [],
   "source": [
    "# Part 6 of Transformation\n",
    "#Generate Column Names\n",
    "Cols=['State']\n",
    "yr=11\n",
    "while yr<=16:\n",
    "    Cols.append(\"GSDP:20\"+str(yr)+\"-\"+str(yr+1))\n",
    "    yr+=1\n",
    "\n",
    "yr=12\n",
    "while yr<=15:\n",
    "    Cols.append(\"Growth%:20\"+str(yr)+\"-\"+str(yr+1))\n",
    "    yr+=1\n",
    "\n",
    "#Rename Columns\n",
    "df1A2.columns=Cols\n",
    "\n",
    "#Remove top 2 Redundant Rows\n",
    "df1A2=df1A2[2:]"
   ]
  },
  {
   "cell_type": "code",
   "execution_count": null,
   "metadata": {},
   "outputs": [],
   "source": []
  },
  {
   "cell_type": "code",
   "execution_count": null,
   "metadata": {},
   "outputs": [],
   "source": [
    "# Part 7 of Transformation\n",
    "#Create Final DataFrame\n",
    "statecol=df1A2[Cols[0]]\n",
    "RepeatTime=len(statecol)\n",
    "First=True\n",
    "\n",
    "i=1\n",
    "while i<=10:\n",
    "    \n",
    "    Data=df1A2[Cols[i]]\n",
    "    Type=[ Cols[i].split(\":\")[0]]*RepeatTime\n",
    "    Duration=[ Cols[i].split(\":\")[1]]*RepeatTime\n",
    "    i+=1\n",
    "    if First:\n",
    "        df1A_Final = pd.DataFrame(  list(zip(statecol,Type,Duration,Data)) ) \n",
    "        First=False\n",
    "    else:\n",
    "        df1A_Final = df1A_Final.append( list(zip(statecol,Type,Duration,Data)) )\n",
    "\n",
    "#Rename columns. Because state names should be consistent for merging purpose.\n",
    "df1A_Final.columns=['State','Type','Duration','Amount']\n",
    "df1A_Final.replace({'State': {'Andhra Pradesh ': 'Andhra_Pradesh'}}, inplace=True) \n",
    "df1A_Final.replace({'State': {'Uttar Pradesh': 'Uttar_Pradesh'}}, inplace=True) \n",
    "df1A_Final.replace({'State': {'Arunachal Pradesh': 'Arunachal_Pradesh'}}, inplace=True) \n",
    "df1A_Final.replace({'State': {'Tamil Nadu': 'Tamil_Nadu'}}, inplace=True) \n",
    "df1A_Final.replace({'State': {'Madhya Pradesh': 'Madhya_Pradesh'}}, inplace=True) \n",
    "df1A_Final.replace({'State': {'Himachal Pradesh': 'Himachal_Pradesh'}}, inplace=True) \n",
    "df1A_Final.replace({'State': {'Jammu & Kashmir': 'Jammu_&_Kashmir'}}, inplace=True) \n",
    "df1A_Final.replace({'State': {'All_India GDP': 'All_India'}}, inplace=True) \n",
    "df1A_Final.replace({'State': {'Andaman & Nicobar Islands': 'Andaman_&_Nicobar_Islands'}}, inplace=True)\n"
   ]
  },
  {
   "cell_type": "code",
   "execution_count": null,
   "metadata": {},
   "outputs": [],
   "source": []
  },
  {
   "cell_type": "code",
   "execution_count": null,
   "metadata": {},
   "outputs": [],
   "source": []
  },
  {
   "cell_type": "code",
   "execution_count": null,
   "metadata": {},
   "outputs": [],
   "source": [
    "#Tranformation is complete. Datframe is ready for all type of querries. check it now.\n",
    "df1A_Final.head(5)"
   ]
  },
  {
   "cell_type": "markdown",
   "metadata": {},
   "source": [
    "###### Task 2: Calculate the average growth of states over the duration 2013-14, 2014-15 and 2015-16"
   ]
  },
  {
   "cell_type": "code",
   "execution_count": null,
   "metadata": {},
   "outputs": [],
   "source": [
    "#Calculate the average growth of states over the duration 2013-14, 2014-15 and 2015-16\n",
    "Cond1 = (df1A_Final.Type=='Growth%')\n",
    "Cond2 = (df1A_Final['Duration']=='2013-14') | \\\n",
    "        (df1A_Final['Duration']=='2014-15') | \\\n",
    "        (df1A_Final['Duration']=='2015-16')\n",
    "df1A_2013_16 = df1A_Final[Cond1 & Cond2]\n",
    "\n",
    "#print(df1A_2013_16.sort_values(['State','Duration']))\n",
    "\n",
    "df1A_2013_16_Group = df1A_2013_16.groupby(\"State\")\n",
    "df1A_2013_16_Group = round(df1A_2013_16_Group.Amount.mean(),2).sort_values(ascending=False)\n",
    "df1A_2013_16_Group = pd.DataFrame(df1A_2013_16_Group)\n",
    "df1A_2013_16_Group.reset_index(inplace=True)\n",
    "df1A_2013_16_Group.columns = ['State', 'Growth% (Mean)']\n",
    "\n",
    "fig= plt.figure(figsize=(15,4))\n",
    "fig.suptitle('Mean GSDP Growth % of the states between 2013-16', fontsize=20)\n",
    "plt.grid()\n",
    "\n",
    "\n",
    "grid=sns.barplot(x='State',y='Growth% (Mean)',data=df1A_2013_16_Group )\n",
    "\n",
    "\n",
    "sns.set_style(\"white\")\n",
    "\n",
    "# Rotate the labels on x-axis\n",
    "for item in grid.get_xticklabels():\n",
    "    item.set_rotation(90)\n",
    "\n",
    "plt.savefig('Mean-GSDP-Growth%-Of-The-States-Between-2013-16.png', dpi=150)"
   ]
  },
  {
   "cell_type": "code",
   "execution_count": null,
   "metadata": {},
   "outputs": [],
   "source": []
  },
  {
   "cell_type": "code",
   "execution_count": null,
   "metadata": {},
   "outputs": [],
   "source": [
    "# This function gives data in required structure format for Plotting 1A data\n",
    "def getGSDP_Data(Years):\n",
    "    Cond1 = ((df1A_Final.Type=='GSDP') & (df1A_Final.State!='All_India'))\n",
    "\n",
    "    if Years==\"2015-16\":\n",
    "        Cond2 = (df1A_Final.Duration=='2015-16')\n",
    "    else:\n",
    "        Cond2 =( (df1A_Final['Duration']=='2013-14') | \\\n",
    "                (df1A_Final['Duration']=='2014-15') | \\\n",
    "                (df1A_Final['Duration']=='2015-16') )\n",
    "\n",
    "    df1A_Avg1 = df1A_Final[Cond1 & Cond2]\n",
    "\n",
    "    df1A_Avg_Group1 = df1A_Avg1.groupby(['State','Duration'])\n",
    "    df1A_Avg_Group1 = round(df1A_Avg_Group1.Amount.mean()/100000,2).sort_values(ascending=False)\n",
    "\n",
    "    df1A_Avg_Group1 = pd.DataFrame(df1A_Avg_Group1)\n",
    "    df1A_Avg_Group1.reset_index(inplace=True)\n",
    "    df1A_Avg_Group1.columns = ['State', 'Duration', 'GSDP (Mean) in Lakh Cr.']\n",
    "    return df1A_Avg_Group1"
   ]
  },
  {
   "cell_type": "code",
   "execution_count": null,
   "metadata": {},
   "outputs": [],
   "source": [
    "# Function to Plot GSDP of the states\n",
    "def plotGSDP(Years):\n",
    "    \n",
    "    #Get the data for plotting\n",
    "    df1A_GSDP=getGSDP_Data(Years)\n",
    "    \n",
    "    fig= plt.figure(figsize=(15,5))\n",
    "    if Years==\"2015-16\":\n",
    "        fig.suptitle('GSDP for the year 2015-16', fontsize=20)\n",
    "    else:\n",
    "        fig.suptitle('Mean GSDP between 2013-16', fontsize=20)\n",
    "\n",
    "    plt.grid()\n",
    "    \n",
    "    grid=sns.barplot(x='State',y='GSDP (Mean) in Lakh Cr.',data=df1A_GSDP, ci=None )\n",
    "    sns.set_style(\"white\")\n",
    "    \n",
    "    # Rotate the labels on x-axis\n",
    "    for item in grid.get_xticklabels():\n",
    "        item.set_rotation(90)\n",
    "\n",
    "    if Years==\"2015-16\":\n",
    "        plt.savefig('GSDP-for-the-year-2015-16.png', dpi=150)\n",
    "    else:\n",
    "        plt.savefig('Mean-GSDP-Between-2013-16.png', dpi=150)"
   ]
  },
  {
   "cell_type": "code",
   "execution_count": null,
   "metadata": {},
   "outputs": [],
   "source": []
  },
  {
   "cell_type": "code",
   "execution_count": null,
   "metadata": {},
   "outputs": [],
   "source": [
    "#Plot the GSDP of State over the duration 2013-16\n",
    "plotGSDP('2013-16')"
   ]
  },
  {
   "cell_type": "markdown",
   "metadata": {},
   "source": [
    "##### Task 3 Which states have been growing consistently fast, and which ones have been struggling?"
   ]
  },
  {
   "cell_type": "code",
   "execution_count": null,
   "metadata": {},
   "outputs": [],
   "source": [
    "#This function gives GDP Growth% data in the required format for plotting purpose\n",
    "def get_gsdpGrowthData():\n",
    "    cond1 = (df1A_Final.Type=='Growth%')\n",
    "    df1A_Avg2 = df1A_Final[cond1]\n",
    "\n",
    "    df1A_Avg_Group2 = df1A_Avg2.groupby(['State','Duration'])\n",
    "    df1A_Avg_Group2 = round(df1A_Avg_Group2.Amount.mean(),2).sort_values(ascending=False)\n",
    "    df1A_Avg_Group2 = pd.DataFrame(df1A_Avg_Group2)\n",
    "    df1A_Avg_Group2.reset_index(inplace=True)\n",
    "    df1A_Avg_Group2.columns = ['State', 'Duration', 'Growth%']\n",
    "    return df1A_Avg_Group2"
   ]
  },
  {
   "cell_type": "code",
   "execution_count": null,
   "metadata": {},
   "outputs": [],
   "source": []
  },
  {
   "cell_type": "code",
   "execution_count": null,
   "metadata": {},
   "outputs": [],
   "source": [
    "#Plot GSDP, Growth% Patterns of All States\n",
    "\n",
    "df1A_gsdpGrowthData = get_gsdpGrowthData()\n",
    "\n",
    "fig= plt.figure(figsize=(25,4))\n",
    "fig.suptitle('GSDP Growth % Pattern of the States for all years', fontsize=20)\n",
    "\n",
    "#Heatmap is much better to show this info\n",
    "pivot = pd.pivot_table(df1A_gsdpGrowthData, values='Growth%', index='Duration', columns='State', aggfunc='mean')\n",
    "sns.heatmap(pivot, annot=True, linewidths=.2, fmt=\"2.2f\", cmap=\"YlGnBu\")\n",
    "sns.set_style(\"white\")\n",
    "\n",
    "plt.savefig('GSDP-Growth%-Pattern-of-the-States-for-All-Years.png', dpi=150)"
   ]
  },
  {
   "cell_type": "code",
   "execution_count": null,
   "metadata": {},
   "outputs": [],
   "source": []
  },
  {
   "cell_type": "markdown",
   "metadata": {},
   "source": [
    "###### Task 4: Curiosity exercise - what has been the average growth rate of your home state, and how does it compare to the national average over this duration?"
   ]
  },
  {
   "cell_type": "markdown",
   "metadata": {},
   "source": [
    "###### Task 5: Plot the total GDP of the states for the year 2015-16:"
   ]
  },
  {
   "cell_type": "code",
   "execution_count": null,
   "metadata": {},
   "outputs": [],
   "source": [
    "#Plot the GSDP of states over the duration 2015-16\n",
    "plotGSDP('2015-16')"
   ]
  },
  {
   "cell_type": "markdown",
   "metadata": {},
   "source": [
    "##### Task 6: Identify the top-5 and the bottom-5 states based on total GDP"
   ]
  },
  {
   "cell_type": "code",
   "execution_count": null,
   "metadata": {},
   "outputs": [],
   "source": [
    "df1A_GSDP=getGSDP_Data(\"2015-16\")\n",
    "plt.figure(figsize=(15,5))\n",
    "fig= plt.subplot(1,2,1)\n",
    "plt.grid()\n",
    "\n",
    "ax= plt.gca()\n",
    "ax.set_title(\"Top 5 State's GSDP : As Per 2015-16 Data\", fontsize=14)\n",
    "grid=sns.barplot(x='State',y='GSDP (Mean) in Lakh Cr.',data=df1A_GSDP.head(5) )\n",
    "\n",
    "# Rotate the labels on x-axis\n",
    "for item in grid.get_xticklabels():\n",
    "    item.set_rotation(90)\n",
    "    \n",
    "######################################################################\n",
    "fig = plt.subplot(1,2,2)\n",
    "plt.grid()\n",
    "\n",
    "ax= plt.gca()\n",
    "ax.set_title(\"Bottom 5 State's GSDP : As Per 2015-16 Data\", fontsize=14)\n",
    "grid=sns.barplot(x='State',y='GSDP (Mean) in Lakh Cr.',data=df1A_GSDP.tail(5) )\n",
    "sns.set_style(\"white\")\n",
    "\n",
    "# Rotate the labels on x-axis\n",
    "for item in grid.get_xticklabels():\n",
    "    item.set_rotation(90)\n",
    "    \n",
    "plt.savefig('Top5-Bottom5-GSDP-as-per-2015-16.png', dpi=150)"
   ]
  },
  {
   "cell_type": "code",
   "execution_count": null,
   "metadata": {},
   "outputs": [],
   "source": []
  },
  {
   "cell_type": "markdown",
   "metadata": {},
   "source": [
    "## Part IB"
   ]
  },
  {
   "cell_type": "markdown",
   "metadata": {},
   "source": [
    "##### Creating IB Dataset"
   ]
  },
  {
   "cell_type": "code",
   "execution_count": null,
   "metadata": {},
   "outputs": [],
   "source": [
    "df1B=pd.read_csv('NAD-Andhra_Pradesh-GSVA_cur_2016-17.csv')\n",
    "#df1B"
   ]
  },
  {
   "cell_type": "code",
   "execution_count": null,
   "metadata": {},
   "outputs": [],
   "source": []
  },
  {
   "cell_type": "markdown",
   "metadata": {},
   "source": [
    "##### Understanding IB dataset\n",
    "#S.No. = 1,2,3,4,5,6,7,8,9,10,11 => Name of the major sectors and their deail GSVA data\n",
    "#S.No. = 1,2 and sub sections are Sub-sector of Primary\n",
    "#S.No. = 3,4,5 are Sub-sector of Secondary\n",
    "#S.No. = 6,7,8,9,10,11 are Sub-sector of Tertiary Sector\n",
    "#==========================================\n",
    "#S.No. = 12 is Total GSVA of a state (Gross State Value Added at basic price)\n",
    "#S.No. = 13 is Total Taxes of a state\n",
    "#S.No. = 14 is Total Subsidies of a state\n",
    "#S.No. = 15 is Total GSDP of a state (GSVA + Taxes - Subsidies)\n",
    "#S.No. = 16 is Total Population of a state\n",
    "#S.No. = 17 is Total Per-Capita-GSDP of a state\n",
    "#=============================================\n",
    "#S.No. =Total => Contains Primary, Secondary & Tertiary industry GSVA data\n",
    "#The data provided for few states is missing for some of the financial year"
   ]
  },
  {
   "cell_type": "markdown",
   "metadata": {},
   "source": [
    "##### Mergning all IB of every states into db1B_Final"
   ]
  },
  {
   "cell_type": "code",
   "execution_count": null,
   "metadata": {},
   "outputs": [],
   "source": []
  },
  {
   "cell_type": "code",
   "execution_count": null,
   "metadata": {},
   "outputs": [],
   "source": []
  },
  {
   "cell_type": "code",
   "execution_count": null,
   "metadata": {},
   "outputs": [],
   "source": [
    "#Create a list of all the files which has GSDP data\n",
    "files=os.listdir()\n",
    "All_State_Files=[]\n",
    "for filename in files:\n",
    "    if filename[0:3]==\"NAD\":\n",
    "        if filename.split(\"-\")[1] not in UT: # Do not add data from union Terretories\n",
    "            All_State_Files.append(filename)\n",
    "\n",
    "#Create a list of all the states for which data is available\n",
    "All_States=[]\n",
    "i=0\n",
    "while i<len(All_State_Files):\n",
    "    All_States.append(All_State_Files[i].split(\"-\")[1])\n",
    "    i+=1\n",
    "\n",
    "#Create a list of all the years for which data is available\n",
    "Durations=[]\n",
    "States=[]\n",
    "i=0\n",
    "while i< len(All_State_Files):\n",
    "    Durations.append(All_State_Files[i].split(\"cur\")[1][1:8])\n",
    "    States.append(All_State_Files[i].split(\"-\")[1])\n",
    "    i+=1\n"
   ]
  },
  {
   "cell_type": "code",
   "execution_count": null,
   "metadata": {},
   "outputs": [],
   "source": []
  },
  {
   "cell_type": "code",
   "execution_count": null,
   "metadata": {},
   "outputs": [],
   "source": [
    "# Generate missing years data summary\n",
    "Durations1=['2011-12','2012-13','2013-14','2014-15','2015-16','2016-17']\n",
    "i=0\n",
    "while i<len(Durations1):\n",
    "    print (\"For year \", Durations1[i], \"Only \" ,Durations.count(Durations1[i]), \" Records\")\n",
    "    i+=1"
   ]
  },
  {
   "cell_type": "code",
   "execution_count": null,
   "metadata": {},
   "outputs": [],
   "source": [
    "#Only 8 States has data upto 2016-17\n",
    "#Only 19 States has data upto 2015-16\n",
    "#All 27 States has data upto 2014-15\n",
    "# UTs are excluded"
   ]
  },
  {
   "cell_type": "code",
   "execution_count": null,
   "metadata": {},
   "outputs": [],
   "source": [
    "def find_encoding(fname):\n",
    "    r_file = open(fname, 'rb').read()\n",
    "    result = chardet.detect(r_file)\n",
    "    charenc = result['encoding']\n",
    "    return charenc"
   ]
  },
  {
   "cell_type": "code",
   "execution_count": null,
   "metadata": {},
   "outputs": [],
   "source": [
    "# Create a List of Dataframe which contains data of all the  states. \n",
    "# In this list every dataframe has one extra column \"State\"\n",
    "i=0\n",
    "List_of_DFs=[]\n",
    "while i< len(All_States):\n",
    "    file=All_State_Files[i]\n",
    "    encode=find_encoding(file)\n",
    "    #if encode==\"ascii\":\n",
    "    #    encode=\"utf-8\"\n",
    "        \n",
    "    df=pd.read_csv(file, sep=\",\" ,encoding=encode)\n",
    "    df['State']=All_States[i]\n",
    "    List_of_DFs.append(df)\n",
    "    i=i+1\n",
    "\n",
    "del (df)\n",
    "\n",
    "#From List o Dataframes create a Master Dataframe which contains data of all the  states\n",
    "df1B_Final=List_of_DFs[0]\n",
    "i=1\n",
    "while i<len(All_States):\n",
    "    df1B_Final=pd.DataFrame.append(df1B_Final,List_of_DFs[i],sort=False)\n",
    "    i+=1\n"
   ]
  },
  {
   "cell_type": "code",
   "execution_count": null,
   "metadata": {},
   "outputs": [],
   "source": []
  },
  {
   "cell_type": "code",
   "execution_count": null,
   "metadata": {},
   "outputs": [],
   "source": [
    "#Treating extra characters in Sno\n",
    "Sno_WithError = list(filter(lambda x: x.rstrip()[-1]=='.', df1B_Final['S.No.']))\n",
    "for Wrong_Sno in Sno_WithError: \n",
    "    #print (df1B_Final['S.No.'] [df1B_Final['S.No.']==Wrong_Sno])\n",
    "    #print (Wrong_Sno.split(\".\")[0])\n",
    "    df1B_Final['S.No.'] [  df1B_Final['S.No.']==Wrong_Sno ] = Wrong_Sno.split(\".\")[0]"
   ]
  },
  {
   "cell_type": "code",
   "execution_count": null,
   "metadata": {},
   "outputs": [],
   "source": [
    "#Convert Year Column data into rows for analysis purpose\n",
    "Durations=['2011-12','2012-13','2013-14','2014-15','2015-16','2016-17']\n",
    "\n",
    "Sno=df1B_Final['S.No.']\n",
    "Item=df1B_Final['Item']\n",
    "State=df1B_Final['State']\n",
    "First=True   \n",
    "for Duration in Durations:\n",
    "    Data=df1B_Final[Duration]\n",
    "    Dur=[Duration]*len(Data)\n",
    "    if First:\n",
    "        StateData=list(zip(Sno, Item, State, Dur, Data))\n",
    "        df1B_Final2 = pd.DataFrame(StateData)\n",
    "        First=False\n",
    "    else:\n",
    "        StateData=list(zip(Sno, Item, State, Dur, Data))\n",
    "        df1B_Final2 = df1B_Final2.append(StateData)\n",
    "        i=1\n",
    "        \n",
    "df1B_Final2.columns=['Sno','Item','State','Duration','Amount']   "
   ]
  },
  {
   "cell_type": "code",
   "execution_count": null,
   "metadata": {},
   "outputs": [],
   "source": []
  },
  {
   "cell_type": "code",
   "execution_count": null,
   "metadata": {},
   "outputs": [],
   "source": [
    "#Null Value Treatment\n",
    "#Two kind of missing data\n",
    "#1. In some of the states there are few line items for which there is NaN \n",
    "#in number data for a particular year.\n",
    "#2. There are few states for which a particular FY no data exists\n",
    "\n",
    "#I am removing all those records where above 2 conditions are true. \n",
    "#They are not going to affect our analysis in any way.\n",
    "\n",
    "#The reason for doing so is.. Considering any kind of mean/mode/average of \n",
    "#nation for any states subsector and year will be gross mis-representation of the data for that year & state & lineItem\n",
    "\n",
    "df1B_Final2 = df1B_Final2[~np.isnan(df1B_Final2['Amount'])]"
   ]
  },
  {
   "cell_type": "code",
   "execution_count": null,
   "metadata": {},
   "outputs": [],
   "source": []
  },
  {
   "cell_type": "code",
   "execution_count": null,
   "metadata": {},
   "outputs": [],
   "source": [
    "# Duplicate Value Treatment\n",
    "# There are some records for which item is suffixed by * or ** because of some unknown \n",
    "# reason(s) to me. I am assuming if I remove * or ** from the end of Item and \n",
    "# merge all the values together then they are not going to affect my analysis. \n",
    "# In fact it is required for us to generate Sub-sector wise report in coming steps.\n",
    "set(list(df1B_Final2 [ df1B_Final2['Item'].str.contains('\\*', regex=True) ].Item))"
   ]
  },
  {
   "cell_type": "code",
   "execution_count": null,
   "metadata": {},
   "outputs": [],
   "source": [
    "#Replace these values\n",
    "df1B_Final2.loc[df1B_Final2.Item == 'Services incidental to transport*', 'Item'] = \"Services incidental to transport\"\n",
    "df1B_Final2.loc[df1B_Final2.Item == 'Trade & repair services*', 'Item'] = \"Trade & repair services\"\n",
    "df1B_Final2.loc[df1B_Final2.Item == 'Road transport**', 'Item'] = \"Road transport\"\n",
    "df1B_Final2.loc[df1B_Final2.Item == 'Road transport*', 'Item'] = \"Road transport\""
   ]
  },
  {
   "cell_type": "code",
   "execution_count": null,
   "metadata": {},
   "outputs": [],
   "source": [
    "# Long Subsector Name Shroting. They problem is plotting a clean graph\n",
    "df1B_Final2.loc[df1B_Final2.Item == 'Real estate, ownership of dwelling & professional services','Item']='Real Estate & Related'\n",
    "df1B_Final2.loc[df1B_Final2.Item == 'Electricity, gas, water supply & other utility services','Item'] = 'Utility Services & Related'\n",
    "df1B_Final2.loc[df1B_Final2.Item == 'Communication & services related to broadcasting','Item'] = 'Communication & Related'\n",
    "df1B_Final2.loc[df1B_Final2.Item == 'Transport, storage, communication & services related to broadcasting','Item'] = 'Transportation & Related'\n",
    "\n",
    "#Data Related to 1B is transformed and ready for Analysis\n",
    "#df1B_Final2 But this this DF contains UT records"
   ]
  },
  {
   "cell_type": "code",
   "execution_count": null,
   "metadata": {},
   "outputs": [],
   "source": []
  },
  {
   "cell_type": "markdown",
   "metadata": {},
   "source": [
    "##### Part1B : Task1: Perform the analysis only for the duration : 2014-15."
   ]
  },
  {
   "cell_type": "code",
   "execution_count": null,
   "metadata": {},
   "outputs": [],
   "source": [
    "df1B_Final2=df1B_Final2[   df1B_Final2['Duration']=='2014-15'  ]"
   ]
  },
  {
   "cell_type": "markdown",
   "metadata": {},
   "source": [
    "###### Part1B : Task2: Filter out the Union Territories (Delhi, Chandigarh, Andaman and Nicobar Islands etc.) for further analysis since they are governed directly by the centre, not state governments."
   ]
  },
  {
   "cell_type": "code",
   "execution_count": null,
   "metadata": {},
   "outputs": [],
   "source": [
    "#Get List of All UT\n",
    "set_UT=set(UT)\n",
    "\n",
    "#Get List of All States from df1B_Final2 Dataframe\n",
    "set_AllStates=set(df1B_Final2['State'])\n",
    "\n",
    "#Get List of All States from df1B_Final2 which are not UT\n",
    "df_States=pd.DataFrame( list(set_AllStates.difference(set_UT)) )\n",
    "df_States.columns=['State']\n",
    "\n",
    "#Create Final dataset which excludes all UT\n",
    "df1B_Final3 = df_States.merge(df1B_Final2,how=\"inner\",on=\"State\")\n",
    "\n",
    "#Data Related to 1B is ready for Analysis. DF df1B_Final3 does not contains UT records"
   ]
  },
  {
   "cell_type": "markdown",
   "metadata": {},
   "source": [
    "###### Part1B : Task3: Plot the GDP per capita for all the states."
   ]
  },
  {
   "cell_type": "code",
   "execution_count": null,
   "metadata": {},
   "outputs": [],
   "source": []
  },
  {
   "cell_type": "code",
   "execution_count": null,
   "metadata": {},
   "outputs": [],
   "source": [
    "#This function gives the data from 1B (df1B_Final3) in the required format for plotting purpose\n",
    "\n",
    "def get_df1B_data(ParamName):\n",
    "    if ParamName==\"GSDP\":\n",
    "        Sno='15' \n",
    "        DivideBy=10000000 # Final Number will be in Lack Crore\n",
    "    elif ParamName==\"Population\":\n",
    "        Sno='16'\n",
    "        DivideBy=100000 # Final Number will be in Crore\n",
    "    elif ParamName==\"Per_Capita_GDP\":\n",
    "        Sno=\"17\"\n",
    "        DivideBy=100000 # final Number will be in Lakhs\n",
    "  \n",
    "\n",
    "    df1B_param=df1B_Final3[df1B_Final3['Sno']==Sno].sort_values(['Amount']) \n",
    "    df1B_param.rename(columns={'Amount': ParamName}, inplace=True)\n",
    "\n",
    "    df1B_param[ParamName] = df1B_param[ParamName] / DivideBy\n",
    "    return df1B_param"
   ]
  },
  {
   "cell_type": "code",
   "execution_count": null,
   "metadata": {},
   "outputs": [],
   "source": [
    "#This function plots a Parameter (of 1B) Passed to this function.\n",
    "def PlotThisParam(ParamName):\n",
    "    #Get the data for plotting purpose\n",
    "    df1B_data = get_df1B_data(ParamName)\n",
    "    \n",
    "    fig= plt.figure(figsize=(15,5))\n",
    "    if ParamName==\"Per_Capita_GDP\":\n",
    "        fig.suptitle('Per Capita GDP 2014-15', fontsize=20)\n",
    "    else:\n",
    "        fig.suptitle(ParamName+' 2014-15', fontsize=20)\n",
    "\n",
    "    ax=plt.gca()\n",
    "    plt.grid()\n",
    "\n",
    "    #ax.yaxis.set_major_formatter(mpl.ticker.StrMethodFormatter('{x:,.0f}'))\n",
    "\n",
    "    grid=sns.barplot(x='State',y=ParamName,data=df1B_data )\n",
    "    sns.set_style(\"white\")\n",
    "    \n",
    "    if ParamName==\"Population\":\n",
    "        plt.ylabel(ParamName+\" (Crore)\")\n",
    "    elif ParamName==\"GSDP\":\n",
    "        plt.ylabel(ParamName+\" (Lakh Crore)\")\n",
    "    elif ParamName==\"Per_Capita_GDP\":\n",
    "        plt.ylabel(\"Per Capita GDP (Lakh)\")\n",
    "\n",
    "    # Rotate the labels on x-axis\n",
    "    for item in grid.get_xticklabels():\n",
    "        item.set_rotation(90)\n",
    "\n",
    "    plt.savefig(ParamName+'-2014-15.png', dpi=150)"
   ]
  },
  {
   "cell_type": "code",
   "execution_count": null,
   "metadata": {},
   "outputs": [],
   "source": [
    "#Plot the Population using a function\n",
    "PlotThisParam(\"Population\")"
   ]
  },
  {
   "cell_type": "code",
   "execution_count": null,
   "metadata": {},
   "outputs": [],
   "source": []
  },
  {
   "cell_type": "code",
   "execution_count": null,
   "metadata": {},
   "outputs": [],
   "source": [
    "#Plot the Per Capita GDP using a function\n",
    "PlotThisParam(\"Per_Capita_GDP\")"
   ]
  },
  {
   "cell_type": "code",
   "execution_count": null,
   "metadata": {},
   "outputs": [],
   "source": []
  },
  {
   "cell_type": "markdown",
   "metadata": {},
   "source": [
    "###### Part 1B: Task 4 : Identify the top-5 and the bottom-5 states based on GDP per capita."
   ]
  },
  {
   "cell_type": "code",
   "execution_count": null,
   "metadata": {},
   "outputs": [],
   "source": []
  },
  {
   "cell_type": "code",
   "execution_count": null,
   "metadata": {},
   "outputs": [],
   "source": [
    "df1B_Temp=df1B_Final3[df1B_Final3['Sno']=='17']#Per Capitcal GDP\n",
    "df1B_Temp.rename(columns={'Amount': 'Per_Capita_GDP'}, inplace=True)\n",
    "\n",
    "df1B_Groupby = df1B_Temp.groupby(\"State\")\n",
    "df1B_Groupby = pd.DataFrame(round(df1B_Groupby[\"Per_Capita_GDP\"].mean().sort_values(ascending=False),2))\n",
    "df1B_Groupby.reset_index(inplace=True)\n",
    "\n",
    "plt.figure(figsize=(15,5))\n",
    "\n",
    "fig= plt.subplot(1,2,1)\n",
    "ax= plt.gca()\n",
    "\n",
    "ax.set_title(\"GDP Per Capita 2014-15: Top 5 States\", fontsize=14)\n",
    "plt.grid()\n",
    "grid=sns.barplot(x='State',y='Per_Capita_GDP',data=df1B_Groupby.head(5) )\n",
    "\n",
    "# Rotate the labels on x-axis\n",
    "for item in grid.get_xticklabels():\n",
    "    item.set_rotation(90)\n",
    "    \n",
    "######################################################################3\n",
    "fig = plt.subplot(1,2,2)\n",
    "ax= plt.gca()\n",
    "ax.set_title(\"GDP Per Capita 2014-15: Bottom 5 States\", fontsize=14)\n",
    "plt.grid()\n",
    "grid=sns.barplot(x='State',y='Per_Capita_GDP',data=df1B_Groupby.tail(5) )\n",
    "sns.set_style(\"white\")\n",
    "\n",
    "# Rotate the labels on x-axis\n",
    "for item in grid.get_xticklabels():\n",
    "    item.set_rotation(90)\n",
    "    \n",
    "plt.savefig('Top5-Bottom5-GDP-Per-Capita-States-as-per-2014-15.png', dpi=150)"
   ]
  },
  {
   "cell_type": "code",
   "execution_count": null,
   "metadata": {},
   "outputs": [],
   "source": []
  },
  {
   "cell_type": "markdown",
   "metadata": {},
   "source": [
    "###### Part 1B: Task 5: Find the ratio of highest per capita GDP to the lowest per capita GDP."
   ]
  },
  {
   "cell_type": "code",
   "execution_count": null,
   "metadata": {},
   "outputs": [],
   "source": [
    "maxPercapita= round(df1B_Groupby[\"Per_Capita_GDP\"].max(),2)\n",
    "minPercapita= round(df1B_Groupby[\"Per_Capita_GDP\"].min(),2)\n",
    "ratio=round(maxPercapita/minPercapita,2)\n",
    "print ('Max Per Capita Income is ', maxPercapita)\n",
    "print ('Min Per Capita Income is ', minPercapita)\n",
    "print ('Ratio of Max/Min Per Capita Income is', ratio)"
   ]
  },
  {
   "cell_type": "markdown",
   "metadata": {},
   "source": [
    "###### Part 1B: Task 6: Plot the percentage contribution of primary, secondary and tertiary sectors as a percentage of total GDP for all the states."
   ]
  },
  {
   "cell_type": "code",
   "execution_count": null,
   "metadata": {},
   "outputs": [],
   "source": [
    "#Preparing data for Plotting GDP Sector %age Contribution Graph\n",
    "def get_1B_gsdp_sw_Data():\n",
    "    Cond1= ((df1B_Final3[\"Sno\"]==\"Total\") | (df1B_Final3[\"Sno\"]==\"15\") | (df1B_Final3[\"Sno\"]==\"12\"))\n",
    "    df1B_Temp= df1B_Final3[Cond1]\n",
    "\n",
    "    df1B_gsdp_sw =df1B_Temp.pivot_table(index=\"State\",values=\"Amount\", columns=\"Item\", aggfunc=\"sum\")\n",
    "\n",
    "    df1B_gsdp_sw.rename(columns={\"Gross State Domestic Product\": \"GSDP\"}, inplace=True)\n",
    "    df1B_gsdp_sw.rename(columns={\"TOTAL GSVA at basic prices\": \"Total_GSVA\"}, inplace=True)\n",
    "    df1B_gsdp_sw.rename(columns={\"Primary\": \"Primary_Sec\"}, inplace=True)\n",
    "    df1B_gsdp_sw.rename(columns={\"Secondary\": \"Secondary_Sec\"}, inplace=True)\n",
    "    df1B_gsdp_sw.rename(columns={\"Tertiary\": \"Tertiary_Sec\"}, inplace=True)\n",
    "\n",
    "    df1B_gsdp_sw['Primary%']=round(df1B_gsdp_sw.Primary_Sec/df1B_gsdp_sw.GSDP*100,0)\n",
    "    df1B_gsdp_sw['Secondary%']=round(df1B_gsdp_sw.Secondary_Sec/df1B_gsdp_sw.GSDP*100,0)\n",
    "    df1B_gsdp_sw['Tertiary%']=round(df1B_gsdp_sw.Tertiary_Sec/df1B_gsdp_sw.GSDP*100,0)\n",
    "\n",
    "    df1B_gsdp_sw.sort_values(by=['Secondary%'], ascending=False, inplace=True)\n",
    "\n",
    "    df1B_gsdp_sw.reset_index(inplace=True)\n",
    "    df1B_gsdp_sw=df1B_gsdp_sw.loc[:,['State','Primary_Sec','Secondary_Sec','Tertiary_Sec',\\\n",
    "                                     'GSDP','Total_GSVA','Primary%','Secondary%','Tertiary%']]\n",
    "    return df1B_gsdp_sw"
   ]
  },
  {
   "cell_type": "code",
   "execution_count": null,
   "metadata": {},
   "outputs": [],
   "source": []
  },
  {
   "cell_type": "code",
   "execution_count": null,
   "metadata": {},
   "outputs": [],
   "source": [
    "#Plotting GDP Sector %age Contribution Stack BarGraph\n",
    "\n",
    "#Get the data for plotting purpose\n",
    "df1B_gsdp_sw = get_1B_gsdp_sw_Data()\n",
    "\n",
    "fig = plt.figure(figsize=(15,5))\n",
    "ax= plt.gca()\n",
    "Title=\"% Contribution of Pimary, Secondary and Tertiary Sectors to total GDP 2014-15\"\n",
    "fig.suptitle(Title,fontsize=20, y=1.01)\n",
    "\n",
    "#sns.set_style(\"white\")\n",
    "sns.set_context({\"figure.figsize\": (12, 8)})\n",
    "\n",
    "#Plot 1 - background - \"Tertiary\" (top) series\n",
    "plt.grid()\n",
    "top_plot=sns.barplot(x = df1B_gsdp_sw.State, y = df1B_gsdp_sw['Primary%']+ \\\n",
    "                     df1B_gsdp_sw['Secondary%']+df1B_gsdp_sw['Tertiary%'], color = \"red\" )\n",
    "\n",
    "\n",
    "\n",
    "#Plot 2 - overlay - \"Secondary\" (middle) series\n",
    "middle_plot = sns.barplot(x = df1B_gsdp_sw.State, y = df1B_gsdp_sw['Primary%']+ \\\n",
    "                          df1B_gsdp_sw['Secondary%'], color = \"green\")\n",
    "\n",
    "#Plot 3 - overlay - \"Primary\" (bottom) series\n",
    "bottom_plot = sns.barplot(x = df1B_gsdp_sw.State, y = df1B_gsdp_sw['Primary%'], color = \"#0000A3\")\n",
    "sns.set_style(\"white\")\n",
    "\n",
    "topbar = plt.Rectangle((0,0),1,1,fc=\"red\", edgecolor = 'none')\n",
    "middlebar = plt.Rectangle((0,0),1,1,fc=\"green\", edgecolor = 'none')\n",
    "bottombar = plt.Rectangle((0,0),1,1,fc='#0000A3',  edgecolor = 'none')\n",
    "\n",
    "l = plt.legend([bottombar, middlebar, topbar], ['Primary','Secondary', 'Tertiary'], loc=1, ncol = 3, prop={'size':16})\n",
    "l.draw_frame(True)\n",
    "\n",
    "#Optional code - Make plot look nicer\n",
    "#sns.despine(left=True)\n",
    "\n",
    "ax.set_ylabel(\"Sector GDP in % of Total GDP of the State GDP\")\n",
    "ax.yaxis.set_major_formatter(mpl.ticker.PercentFormatter())\n",
    "  \n",
    "ax.xaxis.label.set_fontsize(12)\n",
    "ax.yaxis.label.set_fontsize(12)\n",
    "\n",
    "for item in bottom_plot.get_yticklabels() :\n",
    "    item.set_fontsize(10)\n",
    "\n",
    "for item in bottom_plot.get_xticklabels() :\n",
    "    item.set_fontsize(10)\n",
    "    item.set_rotation(90)\n",
    "\n",
    "plt.savefig('%Contribution-of-Pimary-Secondary-Tertiary-Sectors-to-GDP-2014-15.png', dpi=150)"
   ]
  },
  {
   "cell_type": "code",
   "execution_count": null,
   "metadata": {},
   "outputs": [],
   "source": []
  },
  {
   "cell_type": "code",
   "execution_count": null,
   "metadata": {},
   "outputs": [],
   "source": [
    "#Merge 1A & 1B Datasets for analysis. To analyse the relationship between Population, GDP, Per_Capita GDP, Growth Rate\n",
    "df1A1=df1A_Final[ (df1A_Final.Type=='Growth%') & (df1A_Final.Duration=='2014-15')]\n",
    "\n",
    "df1A1=df1A1.loc[:,['State','Amount']]\n",
    "df1A1.rename(columns={'Amount': 'Growth%'}, inplace=True)\n",
    "#df1A1['Growth%']=df1A1['Growth%'] \n",
    "\n",
    "df1B_pop=get_df1B_data('Population')\n",
    "df1B_pop=df1B_pop.loc[:,['State','Population']]\n",
    "#df1B_pop['Population'] = df1B_pop1['Population'] \n",
    "\n",
    "df1B_gsdp=get_df1B_data('GSDP')\n",
    "df1B_gsdp=df1B_gsdp.loc[:,['State','GSDP']] \n",
    "#df1B_gsdp['GSDP']=df1B_gsdp1['GSDP']\n",
    "\n",
    "df1B_PCgdp=get_df1B_data('Per_Capita_GDP')\n",
    "df1B_PCgdp=df1B_PCgdp.loc[:,['State','Per_Capita_GDP']] \n",
    "#df1B_PCgdp['Per_Capita_GDP']=df1B_PCgdp1['Per_Capita_GDP']\n",
    "\n",
    "df1B_1A = df1B_pop.merge(df1B_gsdp, how=\"inner\", on=\"State\")\n",
    "df1B_1A = df1B_1A.merge(df1B_PCgdp, how=\"inner\", on=\"State\")\n",
    "df1B_1A = df1B_1A.merge(df1A1, how=\"inner\", on=\"State\")\n",
    "\n",
    "df1B_1A.sort_values(by=['GSDP'], ascending=False, inplace=True)"
   ]
  },
  {
   "cell_type": "code",
   "execution_count": null,
   "metadata": {},
   "outputs": [],
   "source": []
  },
  {
   "cell_type": "code",
   "execution_count": null,
   "metadata": {},
   "outputs": [],
   "source": [
    "#Plot a Relationship between Population, GDP, Per_Capita GDP, GDP Growth%\n",
    "fig= plt.figure(figsize=(15,5))\n",
    "plt.title(\"GSDP, Population, Per Capita GDP, Growth% Trends 2014-15\")\n",
    "\n",
    "sns.lineplot(x=df1B_1A.State, y=df1B_1A.GSDP)\n",
    "sns.lineplot(x=df1B_1A.State, y=df1B_1A.Population)\n",
    "sns.lineplot(x=df1B_1A.State, y=df1B_1A.Per_Capita_GDP*10)\n",
    "sns.lineplot(x=df1B_1A.State, y=df1B_1A['Growth%'])\n",
    "sns.set_style(\"white\")\n",
    "\n",
    "ax = plt.gca()\n",
    "\n",
    "ax.legend(['GSDP (Lakh Crore)', 'Population (Crore)',  \\\n",
    "           'Per_Capita_GDP (in 10,000)','Growth%'], loc='upper left')\n",
    "plt.ylabel(\"GSDP, Population, Per Capita GDP, Growth%\")\n",
    "\n",
    "plt.grid()\n",
    "ax.xaxis.label.set_fontsize(12)\n",
    "ax.yaxis.label.set_fontsize(12)\n",
    "\n",
    "for item in ax.get_xticklabels() :\n",
    "    item.set_fontsize(10)\n",
    "    item.set_rotation(90)\n",
    "    \n",
    "for item in ax.get_yticklabels() :\n",
    "    item.set_fontsize(10)\n"
   ]
  },
  {
   "cell_type": "code",
   "execution_count": null,
   "metadata": {},
   "outputs": [],
   "source": []
  },
  {
   "cell_type": "markdown",
   "metadata": {},
   "source": [
    "###### Part 1B: Task 7: Categorise the states into four categories based on GDP per capita (C1, C2, C3, C4 - C1 would have the highest per capita GDP, C4 the lowest). The quantile values are (0.20,0.5, 0.85, 1),"
   ]
  },
  {
   "cell_type": "code",
   "execution_count": null,
   "metadata": {},
   "outputs": [],
   "source": [
    "#Select Per Capital GDP Records from Dataframe to create bin\n",
    "\n",
    "df1B_Temp  =  df1B_Final3[ df1B_Final3['Sno']=='17']#Per Capitcal GDP\n",
    "df1B_Temp.rename(columns={'Amount': 'Per Capita GDP'}, inplace=True)\n",
    "df1B_Temp.sort_values('Per Capita GDP', ascending=True, inplace=True)\n",
    "\n",
    "L=len(df1B_Temp)\n",
    "index=list(range(1,L+1))\n",
    "df1B_Temp['Index']=index\n",
    "\n",
    "#Define bin size values in term of percentile\n",
    "bins=[0,int(L*.20) , int(L*.5), int(L*.85), L] \n",
    "\n",
    "Categories=['C4','C3','C2','C1'] \n",
    "\n",
    "#A New 'Category' column is created in df1B_Temp which has category as per the 'bins' conditions\n",
    "df1B_Temp['Category']= pd.cut(df1B_Temp['Index'],bins,labels=Categories)\n",
    "\n",
    "C1 = list(df1B_Temp[ df1B_Temp['Category']=='C1'] .State)\n",
    "C2 = list(df1B_Temp[ df1B_Temp['Category']=='C2'] .State)\n",
    "C3 = list(df1B_Temp[ df1B_Temp['Category']=='C3'] .State)\n",
    "C4 = list(df1B_Temp[ df1B_Temp['Category']=='C4'] .State)\n",
    "\n",
    "#Create a dataframe which has only states and category. I need this in future to merge with \n",
    "#1A or 2 to perform the analysis\n",
    "dfCategory=df1B_Temp[['State','Category']]"
   ]
  },
  {
   "cell_type": "code",
   "execution_count": null,
   "metadata": {},
   "outputs": [],
   "source": [
    "print (\"These subcategories of the states created based on the Given Perentile of Per Capita GDP as of 2014-15\\n\")\n",
    "print (\"C1 Category States: \"+\", \".join(C1) + \"\\n\") \n",
    "print (\"C2 Category States: \"+\", \".join(C2) + \"\\n\")\n",
    "print (\"C3 Category States: \"+\", \".join(C3) + \"\\n\")\n",
    "print (\"C4 Category States: \"+\", \".join(C4) + \"\\n\")"
   ]
  },
  {
   "cell_type": "markdown",
   "metadata": {},
   "source": [
    "###### Part 1B: Task 9: Plot the contribution of the sub-sectors as a percentage of the GSDP of each category. "
   ]
  },
  {
   "cell_type": "code",
   "execution_count": null,
   "metadata": {},
   "outputs": [],
   "source": []
  },
  {
   "cell_type": "code",
   "execution_count": null,
   "metadata": {},
   "outputs": [],
   "source": []
  },
  {
   "cell_type": "code",
   "execution_count": null,
   "metadata": {},
   "outputs": [],
   "source": [
    "#Create a Dataframe which has all 1B data with Category\n",
    "df1B_Temp_cat=df1B_Temp[['State','Category']]\n",
    "df1B_Final4 = df1B_Final3.merge(df1B_Temp_cat, how=\"inner\",on=\"State\")\n",
    "df1B_Final4.rename(columns={'Item':'SubSector'}, inplace=True)\n",
    "\n",
    "#Dataframe containing 1B data without UT but this contains Category information for each state is ready for analysis."
   ]
  },
  {
   "cell_type": "code",
   "execution_count": null,
   "metadata": {},
   "outputs": [],
   "source": [
    "#To avoid duplicate counting we need to remove summary records. \n",
    "#Create categorywise dataframe in dict\n",
    "\n",
    "excludeList = ['1','6','7','12','13','14','15','16','17','Total']\n",
    "\n",
    "Cond1 = ( ~df1B_Final4.Sno.isin(excludeList) )\n",
    "\n",
    "Categories = ['C1','C2','C3','C4']\n",
    "SubSector_Rep ={}\n",
    "for Category in Categories:\n",
    "    Cond2 = (df1B_Final4.Category==Category)\n",
    "    df1B_Final5 = df1B_Final4[ (Cond1 & Cond2) ]\n",
    "    \n",
    "    df1B_Final5['Percent'] = round(100*df1B_Final5.Amount/df1B_Final5.Amount.sum(),2)\n",
    "    df1B_Final5_GroupBy = df1B_Final5.groupby('SubSector')\n",
    "\n",
    "    SubSector_Rep[Category]= pd.DataFrame( \\\n",
    "        df1B_Final5_GroupBy.Percent.sum().sort_values(ascending=False) )\n",
    "    \n",
    "    SubSector_Rep[Category].reset_index(inplace=True)\n",
    "    \n",
    "# SubSector_Rep (SubSector Report is a dictionary wich has 4 keys C1, C2, C3, C4 and each each is indpendent dataframe)"
   ]
  },
  {
   "cell_type": "code",
   "execution_count": null,
   "metadata": {},
   "outputs": [],
   "source": [
    "# Create a function to generate all Categorywise Plots\n",
    "def CreateCategorywisePlot(condition):\n",
    "    font={'family': 'serif','color': 'darkred','weight': 'bold','size': 20}\n",
    "    Categories = ['C1','C2','C3','C4']\n",
    "    fig=plt.figure(figsize=(15,15))\n",
    "\n",
    "    if condition==\"80\":\n",
    "        Title = \"Sub-sectors Contributing approx 80% of GDP: 2014-15\"\n",
    "    elif condition==\"20\":\n",
    "        Title = \"Sub-sectors Contributing approx 20% of GDP: 2014-15\"\n",
    "    else:\n",
    "        Title = \"% Contribution of the Sub-sectors to GSDP for each category: 2014-15\"\n",
    "    \n",
    "    fig.suptitle(Title, fontsize=20, y=1.02)\n",
    "    n=1\n",
    "    for Category in Categories:\n",
    "        df = SubSector_Rep[Category]\n",
    "        df.index = df.SubSector\n",
    "        if condition==\"80\":\n",
    "             df= df[ (df.cumPercentage <= 80) ]\n",
    "        elif condition==\"20\":\n",
    "             df= df[~ (df.cumPercentage <= 80) ]\n",
    "        \n",
    "        df[\"cumPercentage\"] = df[\"Percent\"].cumsum()/df[\"Percent\"].sum()*100\n",
    "           \n",
    "        fig= plt.subplot(2,2,n) #plt.subplots()\n",
    "        ax = plt.gca()\n",
    "        ax2 = ax.twinx()\n",
    "        n+=1\n",
    "\n",
    "        plt.grid()\n",
    "\n",
    "        fmt = '%.0f%%' # Format you want the ticks, e.g. '40%'\n",
    "        xticks = mtick.FormatStrFormatter(fmt)\n",
    "\n",
    "        ax.bar(df.index, df[\"Percent\"], color=\"C0\")\n",
    "        ax.yaxis.set_major_formatter(xticks)\n",
    "        ax.tick_params(axis=\"y\", colors=\"C0\")\n",
    "\n",
    "        for item in ([ax.title, ax.xaxis.label, ax.yaxis.label] + \\\n",
    "                     ax.get_xticklabels() + ax.get_yticklabels()):\n",
    "            item.set_fontsize(12)\n",
    "            item.set_rotation(90)\n",
    "\n",
    "        ax2.plot(df.index, df[\"cumPercentage\"], color=\"b\", marker=\"^\", ms=7)\n",
    "        ax2.yaxis.set_major_formatter(xticks)\n",
    "        ax2.yaxis.font=12\n",
    "        ax2.set_title(\"Category \"+Category + \" Sub-Sectors\",fontdict=font)\n",
    "        ax2.tick_params(axis=\"y\", colors=\"b\")\n",
    "\n",
    "        for item in ([ ax2.xaxis.label, ax2.yaxis.label] + \\\n",
    "                     ax2.get_xticklabels() + ax2.get_yticklabels()):\n",
    "            item.set_fontsize(12)\n",
    "            item.set_rotation(90)\n",
    "\n",
    "    plt.tight_layout()\n",
    "    \n",
    "    if condition==\"80\":\n",
    "        plt.savefig('SubSectors-Contributing-Approx80%of-GDP-2014-15.png', dpi=150)\n",
    "    elif condition==\"20\":\n",
    "        plt.savefig('SubSectors-Contributing-Approx20%of-GDP-2014-15.png', dpi=150)\n",
    "    else:\n",
    "        plt.savefig('%Contribution-of-SubSectors-in-Different-Categories-in-2014-15.png', dpi=150)"
   ]
  },
  {
   "cell_type": "code",
   "execution_count": null,
   "metadata": {},
   "outputs": [],
   "source": [
    "CreateCategorywisePlot(\"All\")"
   ]
  },
  {
   "cell_type": "code",
   "execution_count": null,
   "metadata": {},
   "outputs": [],
   "source": [
    "CreateCategorywisePlot(\"80\")"
   ]
  },
  {
   "cell_type": "code",
   "execution_count": null,
   "metadata": {},
   "outputs": [],
   "source": [
    "CreateCategorywisePlot(\"20\")"
   ]
  },
  {
   "cell_type": "code",
   "execution_count": null,
   "metadata": {},
   "outputs": [],
   "source": []
  },
  {
   "cell_type": "code",
   "execution_count": null,
   "metadata": {},
   "outputs": [],
   "source": [
    "#Function to create plot for multiple sectors\n",
    "def plotGDP_toSector(Sno, SectorName):\n",
    "    df1B_Final4_Sector = df1B_Final4[df1B_Final4.Sno==Sno].sort_values('Amount', ascending=False)\n",
    "    df1B_Final4_Sector = df1B_Final4_Sector.loc[:,['State','Amount','Category']]\n",
    "    df1B_Final4_Sector[\"Percent\"] =  df1B_Final4_Sector[\"Amount\"]/ df1B_Final4_Sector[\"Amount\"].sum()*100\n",
    "    df1B_Final4_Sector[\"cumPercentage\"] = df1B_Final4_Sector[\"Percent\"].cumsum()/df1B_Final4_Sector[\"Percent\"].sum()*100\n",
    "    fig= plt.figure(figsize=(15,5))\n",
    "    fig.suptitle('GDP from ' +SectorName+ ' : 2014-15', fontsize=20)\n",
    "\n",
    "    fig= plt.subplot(111) #plt.subplots()\n",
    "    ax = plt.gca()\n",
    "    ax2 = ax.twinx()\n",
    "\n",
    "    fmt = '%.0f%%' # Format you want the ticks, e.g. '40%'\n",
    "    xticks = mtick.FormatStrFormatter(fmt)\n",
    "\n",
    "    ax.bar(df1B_Final4_Sector.State, df1B_Final4_Sector[\"Percent\"], color=\"C0\")\n",
    "    ax.yaxis.set_major_formatter(xticks)\n",
    "    ax.tick_params(axis=\"y\", colors=\"C0\")\n",
    "\n",
    "    for item in ([ax.title, ax.xaxis.label, ax.yaxis.label] + \\\n",
    "                 ax.get_xticklabels() + ax.get_yticklabels()):\n",
    "        item.set_fontsize(12)\n",
    "        item.set_rotation(90)\n",
    "\n",
    "    ax2.plot(df1B_Final4_Sector.State, df1B_Final4_Sector[\"cumPercentage\"], color=\"b\", marker=\"^\", ms=7)\n",
    "    ax2.yaxis.set_major_formatter(xticks)\n",
    "    #ax2.yaxis.font=12\n",
    "    #ax2.set_title(\"Category \"+Category + \" Sub-Sectors\",fontdict=font)\n",
    "    ax2.tick_params(axis=\"y\", colors=\"b\")\n",
    "\n",
    "    for item in ([ ax2.xaxis.label, ax2.yaxis.label] + \\\n",
    "                 ax2.get_xticklabels() + ax2.get_yticklabels()):\n",
    "        item.set_fontsize(12)\n",
    "        item.set_rotation(90)\n",
    "\n",
    "\n",
    "    # Rotate the labels on x-axis\n",
    "    for item in ax.get_xticklabels():\n",
    "        item.set_rotation(90)\n",
    "\n",
    "    plt.savefig('GDP-from-'+SectorName+'-2014-15.png', dpi=150)"
   ]
  },
  {
   "cell_type": "code",
   "execution_count": null,
   "metadata": {},
   "outputs": [],
   "source": [
    "#Plot Crop GDP for All the States\n",
    "plotGDP_toSector('1.1','Crop')"
   ]
  },
  {
   "cell_type": "code",
   "execution_count": null,
   "metadata": {},
   "outputs": [],
   "source": [
    "#Plot Manufactring GDP for All the States\n",
    "plotGDP_toSector('3','Manufacturing')"
   ]
  },
  {
   "cell_type": "code",
   "execution_count": null,
   "metadata": {},
   "outputs": [],
   "source": [
    "#Plot Construction GDP for All the States\n",
    "plotGDP_toSector('5','Construction')"
   ]
  },
  {
   "cell_type": "code",
   "execution_count": null,
   "metadata": {},
   "outputs": [],
   "source": [
    "#Plot Hotels & Restaurants GDP for All the States\n",
    "plotGDP_toSector('6.2','Hotels & Restaurants')"
   ]
  },
  {
   "cell_type": "code",
   "execution_count": null,
   "metadata": {},
   "outputs": [],
   "source": [
    "#Plot Financial Services GDP for All the States\n",
    "plotGDP_toSector('8','Financial Services')"
   ]
  },
  {
   "cell_type": "code",
   "execution_count": null,
   "metadata": {},
   "outputs": [],
   "source": [
    "#This function provides the data for Categorwise Analysis of multiple paramets like Growth%, Taxes, Subsidy, \n",
    "#GSDP, PCGDP, Population\n",
    "\n",
    "def getData_CategoryAgainstX(Param):\n",
    "    if Param != \"Growth%\":\n",
    "        df1B_groupby = df1B_Final4.groupby([\"Category\",\"Sno\"])\n",
    "        df1B_Cat = df1B_groupby.Amount.mean()\n",
    "        df1B_Cat = pd.DataFrame(df1B_Cat)\n",
    "        df1B_Cat.reset_index(inplace=True)\n",
    "\n",
    "    if Param==\"Taxes\":\n",
    "        df1B_Cat = df1B_Cat[ df1B_Cat.Sno==\"13\"] # Taxes\n",
    "        df1B_Cat.rename(columns = {\"Amount\":\"Taxes (Lakhs)\"}, inplace=True)\n",
    "        df1B_Cat[\"Taxes (Lakhs)\"] = df1B_Cat[\"Taxes (Lakhs)\"] /100000\n",
    "        Param = \"Taxes (Lakhs)\"\n",
    "    elif Param==\"Subsidy\":\n",
    "        df1B_Cat = df1B_Cat[ df1B_Cat.Sno==\"14\"] # Subsidy\n",
    "        df1B_Cat.rename(columns = {\"Amount\":\"Subsidy (Lakhs)\"}, inplace=True)\n",
    "        df1B_Cat[\"Subsidy (Lakhs)\"] = df1B_Cat[\"Subsidy (Lakhs)\"] /100000\n",
    "        Param = \"Subsidy (Lakhs)\"\n",
    "    elif Param==\"GSDP\":\n",
    "        df1B_Cat = df1B_Cat[ df1B_Cat.Sno==\"15\"] # GSDP\n",
    "        df1B_Cat.rename(columns = {\"Amount\":\"GSDP (Lakhs)\"}, inplace=True)\n",
    "        df1B_Cat[\"GSDP (Lakhs)\"] = df1B_Cat[\"GSDP (Lakhs)\"]/100000\n",
    "        Param=\"GSDP (Lakhs)\"\n",
    "    elif Param==\"Population\":\n",
    "        df1B_Cat = df1B_Cat[ df1B_Cat.Sno==\"16\"] # GSDP\n",
    "        df1B_Cat.rename(columns = {\"Amount\":\"Population (Lakhs)\"}, inplace=True)\n",
    "        df1B_Cat[\"Population (Lakhs)\"] = df1B_Cat[\"Population (Lakhs)\"]/100000\n",
    "        Param=\"Population (Lakhs)\"\n",
    "    elif Param==\"PCGDP\":\n",
    "        df1B_Cat = df1B_Cat[ df1B_Cat.Sno==\"17\"] # Subsidy\n",
    "        df1B_Cat.rename(columns = {\"Amount\":\"PCGDP (Lakhs)\"}, inplace=True)\n",
    "        df1B_Cat[\"PCGDP (Lakhs)\"] = df1B_Cat[\"PCGDP (Lakhs)\"]/100000\n",
    "        Param=\"PCGDP (Lakhs)\"\n",
    "    elif Param==\"Growth%\":\n",
    "        df1A_Temp= df1A_Final.loc[ (df1A_Final.Type==\"Growth%\") & (df1A_Final.Duration==\"2014-15\") ].loc [:,['State','Amount']]\n",
    "        df1A_Temp.rename(columns = {\"Amount\":\"Growth%\"}, inplace=True)\n",
    "        df1B_Cat = df1A_Temp.merge(dfCategory, how=\"inner\", on=\"State\")\n",
    "   \n",
    "    return df1B_Cat"
   ]
  },
  {
   "cell_type": "code",
   "execution_count": null,
   "metadata": {},
   "outputs": [],
   "source": [
    "#Plot Growth%, Taxes, Subsidy, #GSDP, PCGDP, Population for all sectors\n",
    "\n",
    "font={'family': 'serif','color': 'darkred','weight': 'bold','size': 12}\n",
    "df_Taxes      =getData_CategoryAgainstX(\"Taxes\")\n",
    "df_Subsidy    =getData_CategoryAgainstX(\"Subsidy\")\n",
    "df_GSDP       =getData_CategoryAgainstX(\"GSDP\")\n",
    "df_Population =getData_CategoryAgainstX(\"Population\")\n",
    "df_PCGDP      =getData_CategoryAgainstX(\"PCGDP\")\n",
    "df_Growth     =getData_CategoryAgainstX(\"Growth%\")\n",
    "\n",
    "plt.figure(figsize=(15,35))\n",
    "\n",
    "plt.subplot(6,3,1)\n",
    "plt.grid()\n",
    "ax= plt.gca()\n",
    "ax.set_title(\"Mean Taxes (Lakhs)\", fontsize=14)\n",
    "sns.barplot(data=df_Taxes, y=\"Taxes (Lakhs)\",x=\"Category\", ci=None)\n",
    "sns.set_style(\"white\")\n",
    "\n",
    "plt.subplot(6,3,2)\n",
    "plt.grid()\n",
    "ax= plt.gca()\n",
    "ax.set_title(\"Mean Subsidy\", fontsize=14)\n",
    "sns.barplot(data=df_Subsidy, y=\"Subsidy (Lakhs)\",x=\"Category\", ci=None)\n",
    "sns.set_style(\"white\")\n",
    "\n",
    "plt.subplot(6,3,3)\n",
    "plt.grid()\n",
    "ax= plt.gca()\n",
    "ax.set_title(\"Mean GSDP\", fontsize=14)\n",
    "sns.barplot(data=df_GSDP, y=\"GSDP (Lakhs)\",x=\"Category\", ci=None)\n",
    "sns.set_style(\"white\")\n",
    "\n",
    "plt.subplot(6,3,4)\n",
    "plt.grid()\n",
    "ax= plt.gca()\n",
    "ax.set_title(\"Mean Population\", fontsize=14)\n",
    "sns.barplot(data=df_Population, y=\"Population (Lakhs)\",x=\"Category\", ci=None)\n",
    "sns.set_style(\"white\")\n",
    "\n",
    "plt.subplot(6,3,5)\n",
    "plt.grid()\n",
    "ax= plt.gca()\n",
    "ax.set_title(\"Mean Per Capita GDP\", fontsize=14)\n",
    "sns.barplot(data=df_PCGDP, y=\"PCGDP (Lakhs)\",x=\"Category\", ci=None) \n",
    "sns.set_style(\"white\")\n",
    "\n",
    "plt.subplot(6,3,6)\n",
    "plt.grid()\n",
    "ax= plt.gca()\n",
    "ax.set_title(\"Mean Growth%\", fontsize=14)\n",
    "sns.barplot(data=df_Growth, y=\"Growth%\",x=\"Category\", ci=None)\n",
    "sns.set_style(\"white\")\n"
   ]
  },
  {
   "cell_type": "code",
   "execution_count": null,
   "metadata": {},
   "outputs": [],
   "source": []
  },
  {
   "cell_type": "markdown",
   "metadata": {},
   "source": [
    "###### Part 1B: Task 10: Now that you have summarised the data in the form of plots, tables etc., try to observe non-obvious insights from it. This Work is part of Presentation"
   ]
  },
  {
   "cell_type": "markdown",
   "metadata": {},
   "source": [
    "##### Part 1B: Task 11: Ask other such relevant questions which you think are important and write your insights for category separately.  This Work is part of Presentation"
   ]
  },
  {
   "cell_type": "markdown",
   "metadata": {},
   "source": [
    "###### Part 1B: Task 12: Finally, provide at least two recommendations for each category to improve the per capita GDP.  This Work is part of Presentation"
   ]
  },
  {
   "cell_type": "code",
   "execution_count": null,
   "metadata": {},
   "outputs": [],
   "source": []
  },
  {
   "cell_type": "code",
   "execution_count": null,
   "metadata": {},
   "outputs": [],
   "source": []
  },
  {
   "cell_type": "markdown",
   "metadata": {},
   "source": [
    "# Part II : GDP and Education Drop-out Rates"
   ]
  },
  {
   "cell_type": "code",
   "execution_count": null,
   "metadata": {},
   "outputs": [],
   "source": [
    "#Creating df2 dataset\n",
    "df2=pd.read_csv(\"Data-II-Download.csv\")"
   ]
  },
  {
   "cell_type": "code",
   "execution_count": null,
   "metadata": {},
   "outputs": [],
   "source": [
    "# Analysing df2 dataset\n",
    "#df2.head(5)\n",
    "\n",
    "#Only 3 year's education dropout data is available 2012-13, 13,-14 & 14-15\n",
    "\n",
    "#Renaming columns. There is one col in org dataset which has duplicate name. \n",
    "#Other names are too long with unnecessary spaces\n",
    "\n",
    "df2=df2.rename(columns = {'Level of Education - State':'State',\n",
    "                          'Primary - 2012-2013': 'Primary:2012-13',\n",
    "                          'Primary - 2014-2015': 'Primary:2013-14',\n",
    "                          'Primary - 2014-2015.1': 'Primary:2014-15',\n",
    "                          'Upper Primary - 2012-2013': 'Upper Primary:2012-13',\n",
    "                          'Upper Primary - 2013-2014': 'Upper Primary:2013-14',\n",
    "                          'Upper Primary - 2014-2015':  'Upper Primary:2014-15',\n",
    "                          'Secondary - 2012-2013': 'Secondary:2012-13',\n",
    "                          'Secondary - 2013-2014': 'Secondary:2013-14',\n",
    "                          'Secondary - 2014-2015': 'Secondary:2014-15',\n",
    "                          'Senior Secondary - 2012-2013':  'Senior Secondary:2012-13',\n",
    "                          'Senior Secondary - 2013-2014': 'Senior Secondary:2013-14',\n",
    "                          'Senior Secondary - 2014-2015': 'Senior Secondary:2014-15' })\n",
    "\n",
    "df2=df2.drop(['Sl. No.'],axis=1)\n",
    "\n",
    "# Remove records for All India\n",
    "df2=df2[df2['State']!='All India'] \n",
    "df2['State']=df2['State'].str.replace(\" \",\"_\")\n",
    "\n",
    "\n",
    "#To Match the name of state in Education and GDP Dataframe\n",
    "df2.replace({'State': {'A_&_N_Islands': 'Andaman_&_Nicobar'}}, inplace=True) \n",
    "df2.replace({'State': {'Chhatisgarh': 'Chhattisgarh'}}, inplace=True) \n",
    "\n",
    "# There is different spelling of this state in this file so standardize this.\n"
   ]
  },
  {
   "cell_type": "code",
   "execution_count": null,
   "metadata": {},
   "outputs": [],
   "source": []
  },
  {
   "cell_type": "code",
   "execution_count": null,
   "metadata": {},
   "outputs": [],
   "source": [
    "# Transform data for analysis purpose\n",
    "# Step 1 of Data Tranformation\n",
    "Durations=['2012-13','2013-14','2014-15']\n",
    "EduLevels=['Primary','Upper Primary','Secondary','Senior Secondary']\n",
    "\n",
    "First=True\n",
    "States=df2['State']\n",
    "for Duration in Durations:\n",
    "    DurCol=[Duration]*len(States)\n",
    "    for EduLevel in EduLevels:\n",
    "        EduCol=[EduLevel]*len(States)\n",
    "        Data=df2[EduLevel+\":\"+Duration]\n",
    "        \n",
    "        EduData=list(zip(States,DurCol,EduCol,Data))\n",
    "        \n",
    "        if First:\n",
    "            df2_Final=pd.DataFrame(EduData)\n",
    "            First=False\n",
    "        else:\n",
    "            df2_Final=df2_Final.append(EduData)\n",
    "\n",
    "df2_Final.columns=['State','Duration','EduLevel','DropOutRate']   \n",
    "\n",
    "#Null Treatment\n",
    "# For any given state and any EduLevel if dropout rate is null for a particular year then \n",
    "# get the mean from other years records of the same state and same edu level \n",
    "for State in States:\n",
    "    for EduLevel in EduLevels:\n",
    "        # To get the dropout rate of same state and same Edulevel from other years\n",
    "        Cond1= (df2_Final.State==State) & (df2_Final.EduLevel==EduLevel) \n",
    "        Mean = round(df2_Final[Cond1].DropOutRate.mean(),2)\n",
    "        \n",
    "        # To count the records of dropout rate of the same state and same Edulevel from other years\n",
    "        Cond2= (df2_Final.State==State) & (df2_Final.EduLevel==EduLevel) & (df2_Final.DropOutRate.isnull())\n",
    "        NaNCount=np.isnan(df2_Final[Cond2].DropOutRate).sum()\n",
    "        \n",
    "        #print (State, EduLevel, NaNCount,Mean) #for debugging purpose\n",
    "\n",
    "        if NaNCount>0: #if Some records has null value for this state & EduLevel\n",
    "            if not np.isnan(Mean): \n",
    "                # Mean of DropOutRate of this state & Edulevel is not null, \n",
    "                # it mean from some other years of the same state & eduLevel this info is available\n",
    "                df2_Final.loc[ Cond2, ['DropOutRate']]=Mean\n",
    "                \n",
    "                #print (df2_Mas.loc[ Cond2, ['DropOutRate']]) #for debugging purpose\n",
    "\n",
    "\n",
    "## Still if some null values are there then get it filled from other years of same eduLevel\n",
    "## In this case info from other states will be considered to get the mean\n",
    "for State in States:\n",
    "    for EduLevel in EduLevels:\n",
    "        # To get the dropout rate the same Edulevel from other years\n",
    "        Cond1= (df2_Final.EduLevel==EduLevel) \n",
    "        Mean = round(df2_Final[Cond1].DropOutRate.mean(),2)\n",
    "        \n",
    "         # To count the records of dropout rate of the same Edulevel from other years\n",
    "        Cond2= (df2_Final.EduLevel==EduLevel) & (df2_Final.DropOutRate.isnull())\n",
    "        NaNCount=np.isnan(df2_Final[Cond2].DropOutRate).sum()\n",
    "        if NaNCount>0: #if Some records has null value for this state & EduLevel\n",
    "            if not np.isnan(Mean): \n",
    "                # Mean of DropOutRate of this Edulevel is not null, \n",
    "                # it mean from some other years this info is available\n",
    "                df2_Final.loc[ Cond2, ['DropOutRate']]=Mean\n",
    "                \n",
    "#Data of Education Drop out is transfomred and ready at this stage for analysis purpose"
   ]
  },
  {
   "cell_type": "code",
   "execution_count": null,
   "metadata": {},
   "outputs": [],
   "source": [
    "# This function provides Education Dropout Data to generate graphs. If you Pass CategoryData as True \n",
    "# then you can generate CategoryWise graph otherwise it will give your data to generate Statewise Graph\n",
    "\n",
    "def getDropOut_Data(Years, DropUT, CategoryData=False):\n",
    "    if Years==\"2014-15\":\n",
    "        df2_EduDropOut = df2_Final[  (df2_Final.Duration==Years)  ]\n",
    "        df2_EduDropOut_Groupby_SE = df2_EduDropOut.groupby([\"State\",\"EduLevel\"])\n",
    "    else:\n",
    "        df2_EduDropOut_Groupby_SE = df2_Final.groupby([\"State\",\"EduLevel\"])\n",
    "    \n",
    "    df2_EduDropOut_SE=df2_EduDropOut_Groupby_SE.DropOutRate.mean()\n",
    "    df2_EduDropOut_SE=pd.DataFrame(df2_EduDropOut_SE).reset_index()\n",
    "    \n",
    "    if CategoryData:\n",
    "        df2_EduDropOut_SE = df2_EduDropOut_SE.merge(dfCategory, how=\"inner\", on=\"State\")\n",
    "    \n",
    "    # Remove all education records of UT\n",
    "    if DropUT==\"Yes\":\n",
    "        for ut_name in UT:\n",
    "            df2_EduDropOut_SE = df2_EduDropOut_SE[ ~(df2_EduDropOut_SE.State == ut_name) ]\n",
    "            \n",
    "    if CategoryData:\n",
    "        df2_EduDropOut_SE = pd.pivot_table(df2_EduDropOut_SE, values='DropOutRate', \\\n",
    "                           index='Category', columns='EduLevel', aggfunc='mean')\n",
    "    else:\n",
    "        df2_EduDropOut_SE = pd.pivot_table(df2_EduDropOut_SE, values='DropOutRate', \\\n",
    "                           index='State', columns='EduLevel', aggfunc='mean')    \n",
    "    \n",
    "    return df2_EduDropOut_SE"
   ]
  },
  {
   "cell_type": "code",
   "execution_count": null,
   "metadata": {},
   "outputs": [],
   "source": []
  },
  {
   "cell_type": "code",
   "execution_count": null,
   "metadata": {},
   "outputs": [],
   "source": [
    "#Plot the dropout rate using heatmap\n",
    "def plotDropOutforStates(Years):\n",
    "    font={'family': 'serif','color': 'darkred','weight': 'bold','size': 12}\n",
    "    if Years==\"2014-15\":\n",
    "        Title=\"-\" +Years\n",
    "    else:\n",
    "        Title=\"-2012-15\"\n",
    "        \n",
    "    df2_EduDropOut_SE = getDropOut_Data(Years, DropUT=\"No\", CategoryData=False)\n",
    "\n",
    "    #Present the data on Heatmap graph\n",
    "    fig=plt.figure(figsize=(13,10))\n",
    "    ax=plt.gca()\n",
    "\n",
    "    #Heatmap is much better to show this info\n",
    "    \n",
    "    sns.heatmap(df2_EduDropOut_SE, annot=True, linewidths=.2, fmt=\"2.2f\", cmap=\"cool\" )\n",
    "\n",
    "    ax.set_title(\"Education Dropout Rate % Across All Indian States \" + Title,fontdict=font)\n",
    "\n",
    "    plt.savefig(\"Education-Dropout-Rate-Across-All-Indian-States\" + Title +\".png\", dpi=150)"
   ]
  },
  {
   "cell_type": "code",
   "execution_count": null,
   "metadata": {},
   "outputs": [],
   "source": [
    "#Plot the dropout rate using heatmap\n",
    "plotDropOutforStates(\"All\")"
   ]
  },
  {
   "cell_type": "code",
   "execution_count": null,
   "metadata": {},
   "outputs": [],
   "source": [
    "#Plot the dropout rate of 2014-15 using heatmap\n",
    "plotDropOutforStates('2014-15')"
   ]
  },
  {
   "cell_type": "code",
   "execution_count": null,
   "metadata": {},
   "outputs": [],
   "source": [
    "#Plot the dropout rate using heatmap\n",
    "def plotDropOutforCategory(Years):\n",
    "    font={'family': 'serif','color': 'darkred','weight': 'bold','size': 10}\n",
    "    if Years==\"2014-15\":\n",
    "        Title=\"-\" +Years\n",
    "    else:\n",
    "        Title=\"-2012-15\"\n",
    "        \n",
    "    df2_EduDropOut_SE = getDropOut_Data(Years, DropUT=\"No\", CategoryData=True)\n",
    "\n",
    "    #Present the data on Heatmap graph\n",
    "    fig=plt.figure(figsize=(8,4))\n",
    "    ax=plt.gca()\n",
    "\n",
    "    #Heatmap is much better to show this info\n",
    "    \n",
    "    sns.heatmap(df2_EduDropOut_SE, cmap=\"cool\" )\n",
    "\n",
    "    ax.set_title(\"Education Dropout Rate % Across All Categories \" + Title,fontdict=font)\n",
    "\n",
    "    plt.savefig(\"Education-Dropout-Rate-Across-All-Categories\" + Title +\".png\", dpi=150)"
   ]
  },
  {
   "cell_type": "code",
   "execution_count": null,
   "metadata": {},
   "outputs": [],
   "source": [
    "#Plot categorywise Dropout Rate\n",
    "plotDropOutforCategory(\"All\")"
   ]
  },
  {
   "cell_type": "markdown",
   "metadata": {},
   "source": [
    "###### Part 2: Task 1: Analyse if there is any correlation of GDP per capita with dropout rates in education (primary, upper primary and secondary) for the year 2014-2015 for the states. Choose an appropriate plot to conduct this analysis."
   ]
  },
  {
   "cell_type": "code",
   "execution_count": null,
   "metadata": {},
   "outputs": [],
   "source": []
  },
  {
   "cell_type": "code",
   "execution_count": null,
   "metadata": {},
   "outputs": [],
   "source": [
    "#This function merges 1A, 1B data provides sectorwise reuired data for plotting purpose\n",
    "def get_1B_1A_Data(Years, Category):\n",
    "    # Not using Years Parameter. As per the instruction I have filtered in only 2014-15 data so this\n",
    "    # fuction return only 2014-15 data\n",
    "    \n",
    "    #Get the data for 1B_GSDP_SectorWise\n",
    "    df1B_1A_gsdp_sw = get_1B_gsdp_sw_Data()\n",
    "    \n",
    "    #Drop following fields from this DS as it is not required for this plotting\n",
    "    df1B_1A_gsdp_sw.drop(['Primary%'], axis=1,inplace=True)\n",
    "    df1B_1A_gsdp_sw.drop(['Secondary%'], axis=1,inplace=True)\n",
    "    df1B_1A_gsdp_sw.drop(['Tertiary%'], axis=1,inplace=True)\n",
    "    df1B_1A_gsdp_sw.drop(['GSDP'], axis=1,inplace=True)\n",
    "\n",
    "    df1B_1A_gsdp_sw = df1B_1A_gsdp_sw.merge(df1B_1A, how=\"inner\", on=\"State\")\n",
    "    df1B_1A_gsdp_sw = df1B_1A_gsdp_sw.merge(dfCategory, how=\"inner\", on=\"State\")\n",
    "    \n",
    "    if Category != \"\":\n",
    "        df1B_1A_gsdp_sw=df1B_1A_gsdp_sw[ df1B_1A_gsdp_sw.Category==Category]\n",
    "    return df1B_1A_gsdp_sw"
   ]
  },
  {
   "cell_type": "code",
   "execution_count": null,
   "metadata": {},
   "outputs": [],
   "source": []
  },
  {
   "cell_type": "code",
   "execution_count": null,
   "metadata": {},
   "outputs": [],
   "source": [
    "#This function plots relationship between Education Dropout & Other Parameters\n",
    "#If you pass Category like C1, C2, C3, C4 then it will plot the graph only for that Category. \n",
    "#Bydefault \"\" is being passed\n",
    "def plotEducationDropoutWithX(Param, Category):\n",
    "    if Category not in ['C1','C2','C3','C4']:\n",
    "        Category=\"\"\n",
    "        \n",
    "    #Get the data of 1B & 1A for ploting\n",
    "    df1B_1A_gsdp_sw = get_1B_1A_Data(Years=\"2014-15\", Category=Category)\n",
    "    #Get the data of dropout but leaving UT for plotting\n",
    "    df2_EduDropOut = getDropOut_Data(Years=\"2014-15\", DropUT=\"Yes\")\n",
    "    \n",
    "    #Merge all the set of information 1A, 1B & 2\n",
    "    df2_1B_1A = df1B_1A_gsdp_sw.loc[:,['State',Param]].merge(df2_EduDropOut , how=\"right\",on=\"State\")\n",
    "    \n",
    "    #Remove that data from the above dataset which is not required as per the input Parameter of This function\n",
    "    df2_1B_1A_Param = df2_1B_1A[ ~np.isnan(df2_1B_1A[Param]) ]\n",
    "    \n",
    "    #Plot Scattered Diagram\n",
    "    font={'family': 'serif','color': 'darkred','weight': 'bold','size': 26}\n",
    "    graph = sns.pairplot(data=df2_1B_1A_Param)\n",
    "    sns.set_style(\"white\")\n",
    "    \n",
    "    if Param==\"Per_Capita_GDP\":\n",
    "        Title=\"Per Capita GDP\"\n",
    "    elif Param==\"Growth%\":\n",
    "        Title='GDP Growth %'\n",
    "    elif Param==\"Population\":\n",
    "        Title=Param\n",
    "    elif Param==\"GSDP\":\n",
    "        Title=Param\n",
    "    elif Param==\"Primary_Sec\":\n",
    "        Title=\"Primary Sector Industries\"\n",
    "    elif Param==\"Secondary_Sec\":\n",
    "        Title='Secondary Sector Industries'\n",
    "    elif Param==\"Tertiary_Sec\":\n",
    "        Title='Tertiary Sector Industries'\n",
    "\n",
    "\n",
    "    graph.fig.suptitle(\"Correlation of \"+ Title+ \" with Education Dropout rates : 2014-15\",\\\n",
    "                       fontdict=font, y=1.02)\n",
    "    graph.savefig(\"Correlation-of-GDP-\" + Title + \"-with-Edu-Dropout-rates-2014-15.png\", dpi=150)\n"
   ]
  },
  {
   "cell_type": "code",
   "execution_count": null,
   "metadata": {},
   "outputs": [],
   "source": [
    "#Plot Relationship between Education Dropout & Per Capita Income\n",
    "plotEducationDropoutWithX('Per_Capita_GDP',Category=\"\")"
   ]
  },
  {
   "cell_type": "code",
   "execution_count": null,
   "metadata": {},
   "outputs": [],
   "source": [
    "#Plot Relationship between Education Dropout & GDP Growth%\n",
    "plotEducationDropoutWithX('Growth%',Category=\"\")"
   ]
  },
  {
   "cell_type": "code",
   "execution_count": null,
   "metadata": {},
   "outputs": [],
   "source": [
    "#Plot Relationship between Education Dropout & Population of State\n",
    "plotEducationDropoutWithX('Population',Category=\"\")"
   ]
  },
  {
   "cell_type": "code",
   "execution_count": null,
   "metadata": {},
   "outputs": [],
   "source": [
    "#Plot Relationship between Education Dropout & GSDP of the States\n",
    "plotEducationDropoutWithX('GSDP',Category=\"\")"
   ]
  },
  {
   "cell_type": "code",
   "execution_count": null,
   "metadata": {},
   "outputs": [],
   "source": [
    "#Plot Relationship between Education Dropout & Primary Sector Industries\n",
    "plotEducationDropoutWithX('Primary_Sec',Category=\"\")"
   ]
  },
  {
   "cell_type": "code",
   "execution_count": null,
   "metadata": {},
   "outputs": [],
   "source": [
    "##Plot Relationship between Education Dropout & Secondary Sector Industries\n",
    "plotEducationDropoutWithX('Secondary_Sec',Category=\"\")"
   ]
  },
  {
   "cell_type": "code",
   "execution_count": null,
   "metadata": {},
   "outputs": [],
   "source": [
    "##Plot Relationship between Education Dropout & Tertiary Sector Industries\n",
    "plotEducationDropoutWithX('Tertiary_Sec',Category=\"\")"
   ]
  },
  {
   "cell_type": "markdown",
   "metadata": {},
   "source": [
    "###### Part 2: Task 2: Write the key insights you observe from this data. This is part of Powerpoint Presentation."
   ]
  },
  {
   "cell_type": "markdown",
   "metadata": {},
   "source": [
    "###### Part 2: Task 3: Form at least one reasonable hypothesis for the observations from the data. This is part of Powerpoint Presentation."
   ]
  },
  {
   "cell_type": "code",
   "execution_count": null,
   "metadata": {},
   "outputs": [],
   "source": []
  }
 ],
 "metadata": {
  "kernelspec": {
   "display_name": "Python 3",
   "language": "python",
   "name": "python3"
  },
  "language_info": {
   "codemirror_mode": {
    "name": "ipython",
    "version": 3
   },
   "file_extension": ".py",
   "mimetype": "text/x-python",
   "name": "python",
   "nbconvert_exporter": "python",
   "pygments_lexer": "ipython3",
   "version": "3.8.8"
  }
 },
 "nbformat": 4,
 "nbformat_minor": 2
}
