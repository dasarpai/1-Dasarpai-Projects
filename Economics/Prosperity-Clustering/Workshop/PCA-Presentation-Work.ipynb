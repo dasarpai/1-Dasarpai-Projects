{
 "cells": [
  {
   "cell_type": "code",
   "execution_count": null,
   "metadata": {},
   "outputs": [],
   "source": [
    "import pandas as pd"
   ]
  },
  {
   "cell_type": "code",
   "execution_count": null,
   "metadata": {},
   "outputs": [],
   "source": [
    "df=pd.DataFrame({'Physics': [30,50,94,44,54,50,46,40,55,30],\n",
    "                 \"Chemistry\":[40,72,76,83,63,89,46,50,49,72],\n",
    "                \"Maths\":[63,50,54,63,63,68,58,72,72,61]})"
   ]
  },
  {
   "cell_type": "code",
   "execution_count": null,
   "metadata": {},
   "outputs": [],
   "source": [
    "pca = PCA(svd_solver=\"randomized\",random_state=100)\n",
    "\n",
    "pca_df = pca.fit_transform(df)\n",
    "pca_df"
   ]
  },
  {
   "cell_type": "code",
   "execution_count": null,
   "metadata": {},
   "outputs": [],
   "source": [
    "print(pca.components_)\n",
    "print(pca.explained_variance_ratio_)"
   ]
  },
  {
   "cell_type": "code",
   "execution_count": null,
   "metadata": {},
   "outputs": [],
   "source": [
    "print( (pca.components_[0][1]*(df.Physics)+pca.components_[0][1]*(df.Chemistry) + pca.components_[0][2]*(df.Maths) )[:2] )"
   ]
  },
  {
   "cell_type": "code",
   "execution_count": null,
   "metadata": {},
   "outputs": [],
   "source": [
    "print( (pca.components_[0][0]*(df.Physics)+pca.components_[0][1]*(df.Chemistry) )[:2] )\n",
    "\n",
    "print( (pca.components_[0][0]*(df.Physics)+pca.components_[1][0]*(df.Chemistry) )[:2] )\n",
    "\n",
    "print( (pca.components_[1][0]*(df.Physics)+pca.components_[0][1]*(df.Chemistry) )[:2] )\n",
    "\n",
    "print( (pca.components_[1][0]*(df.Physics)+pca.components_[1][0]*(df.Chemistry) )[:2] )"
   ]
  },
  {
   "cell_type": "code",
   "execution_count": null,
   "metadata": {},
   "outputs": [],
   "source": [
    "pd.DataFrame({'PC01':pca.components_[0],'PC02':pca.components_[1],\n",
    "                       'Feature':df.columns})"
   ]
  }
 ],
 "metadata": {
  "kernelspec": {
   "display_name": "Python 3",
   "language": "python",
   "name": "python3"
  },
  "language_info": {
   "codemirror_mode": {
    "name": "ipython",
    "version": 3
   },
   "file_extension": ".py",
   "mimetype": "text/x-python",
   "name": "python",
   "nbconvert_exporter": "python",
   "pygments_lexer": "ipython3",
   "version": "3.8.3"
  }
 },
 "nbformat": 4,
 "nbformat_minor": 4
}
